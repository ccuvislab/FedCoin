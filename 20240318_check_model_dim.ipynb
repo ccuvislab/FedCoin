{
 "cells": [
  {
   "cell_type": "code",
   "execution_count": 7,
   "id": "c21032ef",
   "metadata": {},
   "outputs": [],
   "source": [
    "import torch\n",
    "FedMA_backbone_agg_model_name = \"output/FedMA_ck2b_cla8/FedAvg_final.pth\"\n",
    "FedMA_backbone = torch.load(FedMA_backbone_agg_model_name)"
   ]
  },
  {
   "cell_type": "code",
   "execution_count": 8,
   "id": "c9e9f1bb",
   "metadata": {},
   "outputs": [
    {
     "ename": "KeyError",
     "evalue": "'roi_heads.box_predictor.bbox_pred.bias'",
     "output_type": "error",
     "traceback": [
      "\u001b[0;31m---------------------------------------------------------------------------\u001b[0m",
      "\u001b[0;31mKeyError\u001b[0m                                  Traceback (most recent call last)",
      "\u001b[0;32m<ipython-input-8-c5888f327b64>\u001b[0m in \u001b[0;36m<module>\u001b[0;34m\u001b[0m\n\u001b[0;32m----> 1\u001b[0;31m \u001b[0mlen\u001b[0m\u001b[0;34m(\u001b[0m\u001b[0mFedMA_backbone\u001b[0m\u001b[0;34m[\u001b[0m\u001b[0;34m\"roi_heads.box_predictor.bbox_pred.bias\"\u001b[0m\u001b[0;34m]\u001b[0m\u001b[0;34m)\u001b[0m\u001b[0;34m\u001b[0m\u001b[0;34m\u001b[0m\u001b[0m\n\u001b[0m",
      "\u001b[0;31mKeyError\u001b[0m: 'roi_heads.box_predictor.bbox_pred.bias'"
     ]
    }
   ],
   "source": [
    "len(FedMA_backbone[\"roi_heads.box_predictor.bbox_pred.bias\"])"
   ]
  },
  {
   "cell_type": "code",
   "execution_count": 12,
   "id": "f4e8bdbe",
   "metadata": {},
   "outputs": [
    {
     "data": {
      "text/plain": [
       "64"
      ]
     },
     "execution_count": 12,
     "metadata": {},
     "output_type": "execute_result"
    }
   ],
   "source": [
    "\n",
    "PFRCNN_8class = torch.load(\"output/PFRCNN_c2b_8class/model_final.pth\")\n",
    "len(PFRCNN_8class['model'][\"roi_heads.box_predictor.bbox_pred.bias\"])"
   ]
  }
 ],
 "metadata": {
  "kernelspec": {
   "display_name": "detectron2",
   "language": "python",
   "name": "detectron2"
  },
  "language_info": {
   "codemirror_mode": {
    "name": "ipython",
    "version": 3
   },
   "file_extension": ".py",
   "mimetype": "text/x-python",
   "name": "python",
   "nbconvert_exporter": "python",
   "pygments_lexer": "ipython3",
   "version": "3.7.12"
  }
 },
 "nbformat": 4,
 "nbformat_minor": 5
}
