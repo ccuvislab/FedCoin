{
 "cells": [
  {
   "cell_type": "code",
   "execution_count": 1,
   "id": "145e7b3d",
   "metadata": {},
   "outputs": [
    {
     "name": "stderr",
     "output_type": "stream",
     "text": [
      "/home/superorange5/.local/lib/python3.7/site-packages/torchvision/transforms/transforms.py:892: UserWarning: Argument 'interpolation' of type int is deprecated since 0.13 and will be removed in 0.15. Please use InterpolationMode enum.\n",
      "  \"Argument 'interpolation' of type int is deprecated since 0.13 and will be removed in 0.15. \"\n"
     ]
    }
   ],
   "source": [
    "from Nb_utils import *"
   ]
  },
  {
   "cell_type": "markdown",
   "id": "b88bf44a",
   "metadata": {},
   "source": [
    "## set test data"
   ]
  },
  {
   "cell_type": "markdown",
   "id": "96ac18da",
   "metadata": {},
   "source": [
    "### a. bdd"
   ]
  },
  {
   "cell_type": "code",
   "execution_count": 2,
   "id": "78ea0f44",
   "metadata": {},
   "outputs": [],
   "source": [
    "dataset_name = 'VOC2007_bddvalsmall'\n",
    "#dataset_name = 'VOC2007_cityval1'\n",
    "cfg = setup(\"configs/pt/smallc2b.yaml\")\n"
   ]
  },
  {
   "cell_type": "markdown",
   "id": "a72f08f6",
   "metadata": {},
   "source": [
    "### b. cityscape"
   ]
  },
  {
   "cell_type": "code",
   "execution_count": 3,
   "id": "3cf8d50f",
   "metadata": {},
   "outputs": [],
   "source": [
    "cfg = setup(\"configs/pt/final_k2c.yaml\")\n",
    "dataset_name = 'VOC2007_cityval1'"
   ]
  },
  {
   "cell_type": "code",
   "execution_count": null,
   "id": "1b5e75f2",
   "metadata": {},
   "outputs": [],
   "source": []
  },
  {
   "cell_type": "code",
   "execution_count": 4,
   "id": "30a4ad02",
   "metadata": {},
   "outputs": [],
   "source": [
    "\n",
    "data_annotation = DatasetCatalog.get(dataset_name)\n",
    "\n",
    "box_list=[]\n",
    "for ann in data_annotation[0]['annotations']:\n",
    "    box_list.append(ann['bbox'])\n",
    "bboxes_gt = structures.Boxes(torch.Tensor(box_list)).to(\"cuda\")\n"
   ]
  },
  {
   "cell_type": "code",
   "execution_count": 5,
   "id": "5eccabcd",
   "metadata": {},
   "outputs": [],
   "source": [
    "\n",
    "test_data_loader = build_detection_test_loader(cfg, dataset_name)\n",
    "data_loader_iter = iter(test_data_loader)\n",
    "test_data = data_loader_iter.next()\n",
    "target_metadata = MetadataCatalog.get(dataset_name)"
   ]
  },
  {
   "cell_type": "markdown",
   "id": "c109ecac",
   "metadata": {},
   "source": [
    "## pick GT"
   ]
  },
  {
   "cell_type": "code",
   "execution_count": 6,
   "id": "a9947088",
   "metadata": {},
   "outputs": [
    {
     "data": {
      "text/plain": [
       "18"
      ]
     },
     "execution_count": 6,
     "metadata": {},
     "output_type": "execute_result"
    }
   ],
   "source": [
    "len(bboxes_gt)"
   ]
  },
  {
   "cell_type": "code",
   "execution_count": 7,
   "id": "56ee4940",
   "metadata": {},
   "outputs": [],
   "source": [
    "bboxes_to_draw = bboxes_gt[[9,13,14,15],:]"
   ]
  },
  {
   "cell_type": "code",
   "execution_count": 8,
   "id": "5dac10ce",
   "metadata": {},
   "outputs": [
    {
     "data": {
      "text/plain": [
       "Boxes(tensor([[1584.,  264., 2049.,  774.],\n",
       "        [ 764.,  372.,  814.,  438.],\n",
       "        [ 758.,  395.,  779.,  441.],\n",
       "        [ 697.,  368.,  770.,  444.]], device='cuda:0'))"
      ]
     },
     "execution_count": 8,
     "metadata": {},
     "output_type": "execute_result"
    }
   ],
   "source": [
    "bboxes_to_draw"
   ]
  },
  {
   "cell_type": "code",
   "execution_count": 10,
   "id": "4977cdca",
   "metadata": {},
   "outputs": [
    {
     "ename": "ValueError",
     "evalue": "RGBA values should be within 0-1 range",
     "output_type": "error",
     "traceback": [
      "\u001b[0;31m---------------------------------------------------------------------------\u001b[0m",
      "\u001b[0;31mValueError\u001b[0m                                Traceback (most recent call last)",
      "\u001b[0;32m<ipython-input-10-269cab5dc4cb>\u001b[0m in \u001b[0;36m<module>\u001b[0;34m\u001b[0m\n\u001b[0;32m----> 1\u001b[0;31m \u001b[0mdrawbb_text\u001b[0m\u001b[0;34m(\u001b[0m\u001b[0mtest_data\u001b[0m\u001b[0;34m[\u001b[0m\u001b[0;36m0\u001b[0m\u001b[0;34m]\u001b[0m\u001b[0;34m[\u001b[0m\u001b[0;34m'file_name'\u001b[0m\u001b[0;34m]\u001b[0m\u001b[0;34m,\u001b[0m \u001b[0mtarget_metadata\u001b[0m\u001b[0;34m,\u001b[0m \u001b[0mbboxes_to_draw\u001b[0m\u001b[0;34m,\u001b[0m\u001b[0;34m'draw_bb.jpg'\u001b[0m\u001b[0;34m,\u001b[0m\u001b[0mdrawcolor\u001b[0m\u001b[0;34m=\u001b[0m\u001b[0;34m(\u001b[0m\u001b[0;36m255\u001b[0m\u001b[0;34m,\u001b[0m\u001b[0;36m0\u001b[0m\u001b[0;34m,\u001b[0m\u001b[0;36m0\u001b[0m\u001b[0;34m)\u001b[0m\u001b[0;34m)\u001b[0m\u001b[0;34m\u001b[0m\u001b[0;34m\u001b[0m\u001b[0m\n\u001b[0m",
      "\u001b[0;32m~/Research/ProbabilisticTeacher/Nb_utils.py\u001b[0m in \u001b[0;36mdrawbb_text\u001b[0;34m(image_filename, target_metadata, bboxes_to_draw, output_name, drawcolor)\u001b[0m\n\u001b[1;32m    262\u001b[0m             )\n\u001b[1;32m    263\u001b[0m     \u001b[0;32mfor\u001b[0m \u001b[0mbox\u001b[0m \u001b[0;32min\u001b[0m \u001b[0mbboxes_to_draw\u001b[0m\u001b[0;34m.\u001b[0m\u001b[0mto\u001b[0m\u001b[0;34m(\u001b[0m\u001b[0;34m'cpu'\u001b[0m\u001b[0;34m)\u001b[0m\u001b[0;34m:\u001b[0m\u001b[0;34m\u001b[0m\u001b[0;34m\u001b[0m\u001b[0m\n\u001b[0;32m--> 264\u001b[0;31m         \u001b[0mv\u001b[0m\u001b[0;34m.\u001b[0m\u001b[0mdraw_box\u001b[0m\u001b[0;34m(\u001b[0m\u001b[0mbox\u001b[0m\u001b[0;34m,\u001b[0m\u001b[0medge_color\u001b[0m\u001b[0;34m=\u001b[0m\u001b[0mdrawcolor\u001b[0m\u001b[0;34m)\u001b[0m\u001b[0;34m\u001b[0m\u001b[0;34m\u001b[0m\u001b[0m\n\u001b[0m\u001b[1;32m    265\u001b[0m         \u001b[0mv\u001b[0m\u001b[0;34m.\u001b[0m\u001b[0mdraw_text\u001b[0m\u001b[0;34m(\u001b[0m\u001b[0mstr\u001b[0m\u001b[0;34m(\u001b[0m\u001b[0mbox\u001b[0m\u001b[0;34m[\u001b[0m\u001b[0;34m:\u001b[0m\u001b[0;36m2\u001b[0m\u001b[0;34m]\u001b[0m\u001b[0;34m.\u001b[0m\u001b[0mnumpy\u001b[0m\u001b[0;34m(\u001b[0m\u001b[0;34m)\u001b[0m\u001b[0;34m)\u001b[0m\u001b[0;34m,\u001b[0m \u001b[0mtuple\u001b[0m\u001b[0;34m(\u001b[0m\u001b[0mbox\u001b[0m\u001b[0;34m[\u001b[0m\u001b[0;34m:\u001b[0m\u001b[0;36m2\u001b[0m\u001b[0;34m]\u001b[0m\u001b[0;34m.\u001b[0m\u001b[0mnumpy\u001b[0m\u001b[0;34m(\u001b[0m\u001b[0;34m)\u001b[0m\u001b[0;34m)\u001b[0m\u001b[0;34m,\u001b[0m\u001b[0mcolor\u001b[0m\u001b[0;34m=\u001b[0m\u001b[0mdrawcolor\u001b[0m\u001b[0;34m)\u001b[0m\u001b[0;34m\u001b[0m\u001b[0;34m\u001b[0m\u001b[0m\n\u001b[1;32m    266\u001b[0m \u001b[0;34m\u001b[0m\u001b[0m\n",
      "\u001b[0;32m~/Research/ProbabilisticTeacher/detectron2/utils/visualizer.py\u001b[0m in \u001b[0;36mdraw_box\u001b[0;34m(self, box_coord, alpha, edge_color, line_style)\u001b[0m\n\u001b[1;32m    924\u001b[0m                 \u001b[0mlinewidth\u001b[0m\u001b[0;34m=\u001b[0m\u001b[0mlinewidth\u001b[0m \u001b[0;34m*\u001b[0m \u001b[0mself\u001b[0m\u001b[0;34m.\u001b[0m\u001b[0moutput\u001b[0m\u001b[0;34m.\u001b[0m\u001b[0mscale\u001b[0m\u001b[0;34m,\u001b[0m\u001b[0;34m\u001b[0m\u001b[0;34m\u001b[0m\u001b[0m\n\u001b[1;32m    925\u001b[0m                 \u001b[0malpha\u001b[0m\u001b[0;34m=\u001b[0m\u001b[0malpha\u001b[0m\u001b[0;34m,\u001b[0m\u001b[0;34m\u001b[0m\u001b[0;34m\u001b[0m\u001b[0m\n\u001b[0;32m--> 926\u001b[0;31m                 \u001b[0mlinestyle\u001b[0m\u001b[0;34m=\u001b[0m\u001b[0mline_style\u001b[0m\u001b[0;34m,\u001b[0m\u001b[0;34m\u001b[0m\u001b[0;34m\u001b[0m\u001b[0m\n\u001b[0m\u001b[1;32m    927\u001b[0m             )\n\u001b[1;32m    928\u001b[0m         )\n",
      "\u001b[0;32m~/.local/lib/python3.7/site-packages/matplotlib/patches.py\u001b[0m in \u001b[0;36m__init__\u001b[0;34m(self, xy, width, height, angle, **kwargs)\u001b[0m\n\u001b[1;32m    705\u001b[0m         \"\"\"\n\u001b[1;32m    706\u001b[0m \u001b[0;34m\u001b[0m\u001b[0m\n\u001b[0;32m--> 707\u001b[0;31m         \u001b[0mPatch\u001b[0m\u001b[0;34m.\u001b[0m\u001b[0m__init__\u001b[0m\u001b[0;34m(\u001b[0m\u001b[0mself\u001b[0m\u001b[0;34m,\u001b[0m \u001b[0;34m**\u001b[0m\u001b[0mkwargs\u001b[0m\u001b[0;34m)\u001b[0m\u001b[0;34m\u001b[0m\u001b[0;34m\u001b[0m\u001b[0m\n\u001b[0m\u001b[1;32m    708\u001b[0m \u001b[0;34m\u001b[0m\u001b[0m\n\u001b[1;32m    709\u001b[0m         \u001b[0mself\u001b[0m\u001b[0;34m.\u001b[0m\u001b[0m_x0\u001b[0m \u001b[0;34m=\u001b[0m \u001b[0mxy\u001b[0m\u001b[0;34m[\u001b[0m\u001b[0;36m0\u001b[0m\u001b[0;34m]\u001b[0m\u001b[0;34m\u001b[0m\u001b[0;34m\u001b[0m\u001b[0m\n",
      "\u001b[0;32m~/.local/lib/python3.7/site-packages/matplotlib/patches.py\u001b[0m in \u001b[0;36m__init__\u001b[0;34m(self, edgecolor, facecolor, color, linewidth, linestyle, antialiased, hatch, fill, capstyle, joinstyle, **kwargs)\u001b[0m\n\u001b[1;32m     79\u001b[0m             \u001b[0mself\u001b[0m\u001b[0;34m.\u001b[0m\u001b[0mset_color\u001b[0m\u001b[0;34m(\u001b[0m\u001b[0mcolor\u001b[0m\u001b[0;34m)\u001b[0m\u001b[0;34m\u001b[0m\u001b[0;34m\u001b[0m\u001b[0m\n\u001b[1;32m     80\u001b[0m         \u001b[0;32melse\u001b[0m\u001b[0;34m:\u001b[0m\u001b[0;34m\u001b[0m\u001b[0;34m\u001b[0m\u001b[0m\n\u001b[0;32m---> 81\u001b[0;31m             \u001b[0mself\u001b[0m\u001b[0;34m.\u001b[0m\u001b[0mset_edgecolor\u001b[0m\u001b[0;34m(\u001b[0m\u001b[0medgecolor\u001b[0m\u001b[0;34m)\u001b[0m\u001b[0;34m\u001b[0m\u001b[0;34m\u001b[0m\u001b[0m\n\u001b[0m\u001b[1;32m     82\u001b[0m             \u001b[0mself\u001b[0m\u001b[0;34m.\u001b[0m\u001b[0mset_facecolor\u001b[0m\u001b[0;34m(\u001b[0m\u001b[0mfacecolor\u001b[0m\u001b[0;34m)\u001b[0m\u001b[0;34m\u001b[0m\u001b[0;34m\u001b[0m\u001b[0m\n\u001b[1;32m     83\u001b[0m         \u001b[0;31m# unscaled dashes.  Needed to scale dash patterns by lw\u001b[0m\u001b[0;34m\u001b[0m\u001b[0;34m\u001b[0m\u001b[0;34m\u001b[0m\u001b[0m\n",
      "\u001b[0;32m~/.local/lib/python3.7/site-packages/matplotlib/patches.py\u001b[0m in \u001b[0;36mset_edgecolor\u001b[0;34m(self, color)\u001b[0m\n\u001b[1;32m    299\u001b[0m         \"\"\"\n\u001b[1;32m    300\u001b[0m         \u001b[0mself\u001b[0m\u001b[0;34m.\u001b[0m\u001b[0m_original_edgecolor\u001b[0m \u001b[0;34m=\u001b[0m \u001b[0mcolor\u001b[0m\u001b[0;34m\u001b[0m\u001b[0;34m\u001b[0m\u001b[0m\n\u001b[0;32m--> 301\u001b[0;31m         \u001b[0mself\u001b[0m\u001b[0;34m.\u001b[0m\u001b[0m_set_edgecolor\u001b[0m\u001b[0;34m(\u001b[0m\u001b[0mcolor\u001b[0m\u001b[0;34m)\u001b[0m\u001b[0;34m\u001b[0m\u001b[0;34m\u001b[0m\u001b[0m\n\u001b[0m\u001b[1;32m    302\u001b[0m \u001b[0;34m\u001b[0m\u001b[0m\n\u001b[1;32m    303\u001b[0m     \u001b[0;32mdef\u001b[0m \u001b[0m_set_facecolor\u001b[0m\u001b[0;34m(\u001b[0m\u001b[0mself\u001b[0m\u001b[0;34m,\u001b[0m \u001b[0mcolor\u001b[0m\u001b[0;34m)\u001b[0m\u001b[0;34m:\u001b[0m\u001b[0;34m\u001b[0m\u001b[0;34m\u001b[0m\u001b[0m\n",
      "\u001b[0;32m~/.local/lib/python3.7/site-packages/matplotlib/patches.py\u001b[0m in \u001b[0;36m_set_edgecolor\u001b[0;34m(self, color)\u001b[0m\n\u001b[1;32m    285\u001b[0m                 \u001b[0mset_hatch_color\u001b[0m \u001b[0;34m=\u001b[0m \u001b[0;32mFalse\u001b[0m\u001b[0;34m\u001b[0m\u001b[0;34m\u001b[0m\u001b[0m\n\u001b[1;32m    286\u001b[0m \u001b[0;34m\u001b[0m\u001b[0m\n\u001b[0;32m--> 287\u001b[0;31m         \u001b[0mself\u001b[0m\u001b[0;34m.\u001b[0m\u001b[0m_edgecolor\u001b[0m \u001b[0;34m=\u001b[0m \u001b[0mcolors\u001b[0m\u001b[0;34m.\u001b[0m\u001b[0mto_rgba\u001b[0m\u001b[0;34m(\u001b[0m\u001b[0mcolor\u001b[0m\u001b[0;34m,\u001b[0m \u001b[0mself\u001b[0m\u001b[0;34m.\u001b[0m\u001b[0m_alpha\u001b[0m\u001b[0;34m)\u001b[0m\u001b[0;34m\u001b[0m\u001b[0;34m\u001b[0m\u001b[0m\n\u001b[0m\u001b[1;32m    288\u001b[0m         \u001b[0;32mif\u001b[0m \u001b[0mset_hatch_color\u001b[0m\u001b[0;34m:\u001b[0m\u001b[0;34m\u001b[0m\u001b[0;34m\u001b[0m\u001b[0m\n\u001b[1;32m    289\u001b[0m             \u001b[0mself\u001b[0m\u001b[0;34m.\u001b[0m\u001b[0m_hatch_color\u001b[0m \u001b[0;34m=\u001b[0m \u001b[0mself\u001b[0m\u001b[0;34m.\u001b[0m\u001b[0m_edgecolor\u001b[0m\u001b[0;34m\u001b[0m\u001b[0;34m\u001b[0m\u001b[0m\n",
      "\u001b[0;32m~/.local/lib/python3.7/site-packages/matplotlib/colors.py\u001b[0m in \u001b[0;36mto_rgba\u001b[0;34m(c, alpha)\u001b[0m\n\u001b[1;32m    175\u001b[0m         \u001b[0mrgba\u001b[0m \u001b[0;34m=\u001b[0m \u001b[0;32mNone\u001b[0m\u001b[0;34m\u001b[0m\u001b[0;34m\u001b[0m\u001b[0m\n\u001b[1;32m    176\u001b[0m     \u001b[0;32mif\u001b[0m \u001b[0mrgba\u001b[0m \u001b[0;32mis\u001b[0m \u001b[0;32mNone\u001b[0m\u001b[0;34m:\u001b[0m  \u001b[0;31m# Suppress exception chaining of cache lookup failure.\u001b[0m\u001b[0;34m\u001b[0m\u001b[0;34m\u001b[0m\u001b[0m\n\u001b[0;32m--> 177\u001b[0;31m         \u001b[0mrgba\u001b[0m \u001b[0;34m=\u001b[0m \u001b[0m_to_rgba_no_colorcycle\u001b[0m\u001b[0;34m(\u001b[0m\u001b[0mc\u001b[0m\u001b[0;34m,\u001b[0m \u001b[0malpha\u001b[0m\u001b[0;34m)\u001b[0m\u001b[0;34m\u001b[0m\u001b[0;34m\u001b[0m\u001b[0m\n\u001b[0m\u001b[1;32m    178\u001b[0m         \u001b[0;32mtry\u001b[0m\u001b[0;34m:\u001b[0m\u001b[0;34m\u001b[0m\u001b[0;34m\u001b[0m\u001b[0m\n\u001b[1;32m    179\u001b[0m             \u001b[0m_colors_full_map\u001b[0m\u001b[0;34m.\u001b[0m\u001b[0mcache\u001b[0m\u001b[0;34m[\u001b[0m\u001b[0mc\u001b[0m\u001b[0;34m,\u001b[0m \u001b[0malpha\u001b[0m\u001b[0;34m]\u001b[0m \u001b[0;34m=\u001b[0m \u001b[0mrgba\u001b[0m\u001b[0;34m\u001b[0m\u001b[0;34m\u001b[0m\u001b[0m\n",
      "\u001b[0;32m~/.local/lib/python3.7/site-packages/matplotlib/colors.py\u001b[0m in \u001b[0;36m_to_rgba_no_colorcycle\u001b[0;34m(c, alpha)\u001b[0m\n\u001b[1;32m    248\u001b[0m         \u001b[0mc\u001b[0m \u001b[0;34m=\u001b[0m \u001b[0mc\u001b[0m\u001b[0;34m[\u001b[0m\u001b[0;34m:\u001b[0m\u001b[0;36m3\u001b[0m\u001b[0;34m]\u001b[0m \u001b[0;34m+\u001b[0m \u001b[0;34m(\u001b[0m\u001b[0malpha\u001b[0m\u001b[0;34m,\u001b[0m\u001b[0;34m)\u001b[0m\u001b[0;34m\u001b[0m\u001b[0;34m\u001b[0m\u001b[0m\n\u001b[1;32m    249\u001b[0m     \u001b[0;32mif\u001b[0m \u001b[0many\u001b[0m\u001b[0;34m(\u001b[0m\u001b[0melem\u001b[0m \u001b[0;34m<\u001b[0m \u001b[0;36m0\u001b[0m \u001b[0;32mor\u001b[0m \u001b[0melem\u001b[0m \u001b[0;34m>\u001b[0m \u001b[0;36m1\u001b[0m \u001b[0;32mfor\u001b[0m \u001b[0melem\u001b[0m \u001b[0;32min\u001b[0m \u001b[0mc\u001b[0m\u001b[0;34m)\u001b[0m\u001b[0;34m:\u001b[0m\u001b[0;34m\u001b[0m\u001b[0;34m\u001b[0m\u001b[0m\n\u001b[0;32m--> 250\u001b[0;31m         \u001b[0;32mraise\u001b[0m \u001b[0mValueError\u001b[0m\u001b[0;34m(\u001b[0m\u001b[0;34m\"RGBA values should be within 0-1 range\"\u001b[0m\u001b[0;34m)\u001b[0m\u001b[0;34m\u001b[0m\u001b[0;34m\u001b[0m\u001b[0m\n\u001b[0m\u001b[1;32m    251\u001b[0m     \u001b[0;32mreturn\u001b[0m \u001b[0mc\u001b[0m\u001b[0;34m\u001b[0m\u001b[0;34m\u001b[0m\u001b[0m\n\u001b[1;32m    252\u001b[0m \u001b[0;34m\u001b[0m\u001b[0m\n",
      "\u001b[0;31mValueError\u001b[0m: RGBA values should be within 0-1 range"
     ]
    }
   ],
   "source": [
    "drawbb_text(test_data[0]['file_name'], target_metadata, bboxes_to_draw,'draw_bb.jpg',drawcolor=(255,0,0))"
   ]
  },
  {
   "cell_type": "markdown",
   "id": "be74207b",
   "metadata": {},
   "source": [
    "## prediction"
   ]
  },
  {
   "cell_type": "markdown",
   "id": "84feb62f",
   "metadata": {},
   "source": [
    "### a. ck2b"
   ]
  },
  {
   "cell_type": "code",
   "execution_count": 4,
   "id": "72bce29d",
   "metadata": {},
   "outputs": [
    {
     "name": "stdout",
     "output_type": "stream",
     "text": [
      "keep_experiments/c2b_source-only/cfg.yaml\n",
      "keep_experiments/c2b_source-only/model_0027999.pth\n",
      "-------- pretrained model loaded ---------\n",
      "-------- pretrained model loaded ---------\n",
      "keep_experiments/k2b_source-only/cfg.yaml\n",
      "keep_experiments/k2b_source-only/model_0007999.pth\n",
      "-------- pretrained model loaded ---------\n",
      "-------- pretrained model loaded ---------\n"
     ]
    }
   ],
   "source": [
    "#--------ck2bdd-------\n",
    "# model_c2b = get_model('c2b', 11999)\n",
    "# model_k2b = get_model('k2b', 'final')\n",
    "\n",
    "model_c2b = get_model('c2b_source-only', 27999)\n",
    "model_k2b = get_model('k2b_source-only', 7999)\n",
    "\n",
    "\n",
    "model_list_ck2b=[model_c2b,model_k2b]"
   ]
  },
  {
   "cell_type": "code",
   "execution_count": 9,
   "id": "90fbd0f1",
   "metadata": {},
   "outputs": [],
   "source": [
    "\n",
    "proposals_roih_c2b = get_proposal_roih(test_data,model_c2b)\n",
    "proposals_roih_k2b = get_proposal_roih(test_data,model_k2b)\n",
    "\n",
    "c2b_prediction = scaling(proposals_roih_c2b,1.2)\n",
    "\n",
    "new_boxes = c2b_prediction  #[[9,20,24,25,26,29,30,36],:]\n",
    "\n"
   ]
  },
  {
   "cell_type": "markdown",
   "id": "dbd13de0",
   "metadata": {},
   "source": [
    "### b.skf2c"
   ]
  },
  {
   "cell_type": "code",
   "execution_count": 1,
   "id": "c57f5ec9",
   "metadata": {},
   "outputs": [
    {
     "ename": "NameError",
     "evalue": "name 'setup' is not defined",
     "output_type": "error",
     "traceback": [
      "\u001b[0;31m---------------------------------------------------------------------------\u001b[0m",
      "\u001b[0;31mNameError\u001b[0m                                 Traceback (most recent call last)",
      "\u001b[0;32m/tmp/ipykernel_23553/3112028752.py\u001b[0m in \u001b[0;36m<module>\u001b[0;34m\u001b[0m\n\u001b[0;32m----> 1\u001b[0;31m \u001b[0mcfg\u001b[0m \u001b[0;34m=\u001b[0m \u001b[0msetup\u001b[0m\u001b[0;34m(\u001b[0m\u001b[0;34m\"configs/pt/final_k2c.yaml\"\u001b[0m\u001b[0;34m)\u001b[0m\u001b[0;34m\u001b[0m\u001b[0;34m\u001b[0m\u001b[0m\n\u001b[0m\u001b[1;32m      2\u001b[0m \u001b[0mdataset_name\u001b[0m \u001b[0;34m=\u001b[0m \u001b[0;34m'VOC2007_cityval1'\u001b[0m\u001b[0;34m\u001b[0m\u001b[0;34m\u001b[0m\u001b[0m\n\u001b[1;32m      3\u001b[0m \u001b[0mtest_data_loader\u001b[0m \u001b[0;34m=\u001b[0m \u001b[0mbuild_detection_test_loader\u001b[0m\u001b[0;34m(\u001b[0m\u001b[0mcfg\u001b[0m\u001b[0;34m,\u001b[0m \u001b[0mdataset_name\u001b[0m\u001b[0;34m)\u001b[0m\u001b[0;34m\u001b[0m\u001b[0;34m\u001b[0m\u001b[0m\n\u001b[1;32m      4\u001b[0m \u001b[0;34m\u001b[0m\u001b[0m\n\u001b[1;32m      5\u001b[0m \u001b[0;34m\u001b[0m\u001b[0m\n",
      "\u001b[0;31mNameError\u001b[0m: name 'setup' is not defined"
     ]
    }
   ],
   "source": [
    "cfg = setup(\"configs/pt/final_k2c.yaml\")\n",
    "dataset_name = 'VOC2007_cityval1'\n",
    "test_data_loader = build_detection_test_loader(cfg, dataset_name)\n",
    "\n",
    "\n",
    "#---------skf2c-------\n",
    "model_s2c = get_model('s2c', 15999)\n",
    "model_k2c = get_model('k2c', 19999)\n",
    "model_f2c = get_model('f2c_1class', 11999)\n",
    "#model_f2c = get_model('f2c', 'final') #8class\n",
    "model_list_skf2c=[model_s2c,model_k2c,model_f2c]\n",
    "\n",
    "data_loader_iter = iter(test_data_loader)\n",
    "test_data = data_loader_iter.next()\n",
    "\n",
    "\n",
    "source_list =['sim10k','kitti','foggycityscape']"
   ]
  },
  {
   "cell_type": "code",
   "execution_count": 80,
   "id": "9f14b734",
   "metadata": {},
   "outputs": [],
   "source": [
    "\n",
    "proposals_roih_s2c = get_proposal_roih(test_data,model_s2c)\n",
    "\n"
   ]
  },
  {
   "cell_type": "code",
   "execution_count": 81,
   "id": "8b4ff1cc",
   "metadata": {},
   "outputs": [],
   "source": [
    "s2c_prediction = scaling(proposals_roih_s2c,1.7066)\n"
   ]
  },
  {
   "cell_type": "code",
   "execution_count": 83,
   "id": "8f174aa5",
   "metadata": {},
   "outputs": [
    {
     "data": {
      "text/plain": [
       "Boxes(tensor([[ 146.5384,  385.5361,  448.0758,  536.4097],\n",
       "        [1564.1022,  259.5203, 2047.9199,  777.3470],\n",
       "        [1327.8187,  367.4783, 1659.7887,  568.8662],\n",
       "        [1123.5488,  396.7930, 1204.7117,  453.3259],\n",
       "        [ 836.7457,  392.7574,  934.2112,  448.4383],\n",
       "        [   0.0000,  362.3014,   79.4530,  587.5843],\n",
       "        [ 696.5767,  368.8785,  784.0192,  442.3321],\n",
       "        [1329.2263,  380.3962, 1444.2534,  543.8480],\n",
       "        [1087.3143,  396.1635, 1141.2175,  445.6487],\n",
       "        [ 763.1011,  375.6505,  825.3354,  435.2645],\n",
       "        [ 120.4187,  343.5235,  211.7196,  433.3668],\n",
       "        [1048.0598,  367.9155, 1106.7322,  426.8443],\n",
       "        [1586.8326,  369.5982, 1912.3317,  733.5095]], device='cuda:0'))"
      ]
     },
     "execution_count": 83,
     "metadata": {},
     "output_type": "execute_result"
    }
   ],
   "source": [
    "s2c_prediction[0:13]"
   ]
  },
  {
   "cell_type": "code",
   "execution_count": 1,
   "id": "640a5b4d",
   "metadata": {},
   "outputs": [],
   "source": [
    "def drawbb_byindex(image_filename, target_metadata, bboxes_to_draw, box_index,score):\n",
    "    im = cv2.imread(image_filename, cv2.IMREAD_COLOR)[:, :, ::-1]\n",
    "    v = Visualizer(\n",
    "            im[:, :, ::-1], \n",
    "            metadata=target_metadata, \n",
    "            scale=1,\n",
    "            )\n",
    "    for index_slice in box_index:\n",
    "        \n",
    "\n",
    "        for idx, box in enumerate(bboxes_to_draw[index_slice]):\n",
    "            box = box.to('cpu')\n",
    "            #print(index_slice[idx])\n",
    "            idx_exact = index_slice[idx]\n",
    "        #for idx_np in index_slice:\n",
    "        #    idx = int(idx_np)\n",
    "        #    box = bboxes_to_draw[idx].to('cpu')\n",
    "            #print(box)\n",
    "            v.draw_box(box,edge_color='r')\n",
    "            v.draw_text(\"{}: score={:.2f}\".format(idx_exact,score[idx_exact]), tuple(box[:2].numpy()),color='r')\n",
    "\n",
    "    v = v.get_output()\n",
    "    img =  v.get_image()[:, :, ::-1]\n",
    "    cv2.imwrite('showbb.jpg', img)"
   ]
  },
  {
   "cell_type": "code",
   "execution_count": 133,
   "id": "f6c8ef1e",
   "metadata": {},
   "outputs": [],
   "source": [
    "box_index = [np.arange(11,13),np.arange(15,25),[27,29,30,31,33,42]]\n"
   ]
  },
  {
   "cell_type": "code",
   "execution_count": 136,
   "id": "82e564c8",
   "metadata": {},
   "outputs": [],
   "source": [
    "box_index = [[14,26,28,32]]#np.arange(34,41),np.arange(43,49),]\n"
   ]
  },
  {
   "cell_type": "code",
   "execution_count": 13,
   "id": "43fded47",
   "metadata": {},
   "outputs": [
    {
     "data": {
      "text/plain": [
       "39"
      ]
     },
     "execution_count": 13,
     "metadata": {},
     "output_type": "execute_result"
    }
   ],
   "source": [
    "len(c2b_prediction)"
   ]
  },
  {
   "cell_type": "code",
   "execution_count": 18,
   "id": "632563a9",
   "metadata": {},
   "outputs": [],
   "source": [
    "box_index=[[0,1,2,3,4,5,]]"
   ]
  },
  {
   "cell_type": "code",
   "execution_count": 17,
   "id": "3cefe175",
   "metadata": {},
   "outputs": [
    {
     "data": {
      "text/plain": [
       "[[range(0, 39)]]"
      ]
     },
     "execution_count": 17,
     "metadata": {},
     "output_type": "execute_result"
    }
   ],
   "source": [
    "box_index"
   ]
  },
  {
   "cell_type": "code",
   "execution_count": 19,
   "id": "4664904b",
   "metadata": {},
   "outputs": [],
   "source": [
    "scores = proposals_roih_c2b[0].get('scores')\n",
    "drawbb_byindex(test_data[0]['file_name'], target_metadata, c2b_prediction, box_index,scores)"
   ]
  },
  {
   "cell_type": "code",
   "execution_count": 29,
   "id": "891e9830",
   "metadata": {},
   "outputs": [
    {
     "data": {
      "text/plain": [
       "tensor([0.9896, 0.9788, 0.9741, 0.9658, 0.9640, 0.9374, 0.9211, 0.9134, 0.9056,\n",
       "        0.8670, 0.8262, 0.7647, 0.5630, 0.1342, 0.1194, 0.1167, 0.0587, 0.0585,\n",
       "        0.0536, 0.0536, 0.0522, 0.0448, 0.0442, 0.0348, 0.0340, 0.0339, 0.0326,\n",
       "        0.0323, 0.0317, 0.0304, 0.0275, 0.0264, 0.0256, 0.0249, 0.0196, 0.0190,\n",
       "        0.0184, 0.0180, 0.0177, 0.0174, 0.0167, 0.0156, 0.0147, 0.0129, 0.0123,\n",
       "        0.0106, 0.0096, 0.0094, 0.0084, 0.0052], device='cuda:0')"
      ]
     },
     "execution_count": 29,
     "metadata": {},
     "output_type": "execute_result"
    }
   ],
   "source": [
    "\n",
    "proposals_roih_s2c[0].get('scores')"
   ]
  }
 ],
 "metadata": {
  "kernelspec": {
   "display_name": "detectron2",
   "language": "python",
   "name": "detectron2"
  },
  "language_info": {
   "codemirror_mode": {
    "name": "ipython",
    "version": 3
   },
   "file_extension": ".py",
   "mimetype": "text/x-python",
   "name": "python",
   "nbconvert_exporter": "python",
   "pygments_lexer": "ipython3",
   "version": "3.8.18"
  }
 },
 "nbformat": 4,
 "nbformat_minor": 5
}
