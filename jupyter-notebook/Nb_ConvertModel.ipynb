{
 "cells": [
  {
   "cell_type": "code",
   "execution_count": 1,
   "id": "12d8cb56",
   "metadata": {},
   "outputs": [
    {
     "name": "stdout",
     "output_type": "stream",
     "text": [
      "NOTE! Installing ujson may make loading annotations faster.\n"
     ]
    },
    {
     "name": "stderr",
     "output_type": "stream",
     "text": [
      "/home/superorange5/.local/lib/python3.8/site-packages/torchvision/transforms/transforms.py:803: UserWarning: Argument interpolation should be of type InterpolationMode instead of int. Please, use InterpolationMode enum.\n",
      "  warnings.warn(\n"
     ]
    }
   ],
   "source": [
    "from detectron2.modeling import build_model\n",
    "from detectron2.checkpoint import DetectionCheckpointer\n",
    "from detectron2.engine import DefaultTrainer\n",
    "from detectron2.evaluation import PascalVOCDetectionEvaluator\n",
    "from detectron2.config import get_cfg\n",
    "import torch\n",
    "from pt import add_config\n",
    "from Nb_utils import *"
   ]
  },
  {
   "cell_type": "code",
   "execution_count": 6,
   "id": "ee245cf7",
   "metadata": {},
   "outputs": [],
   "source": [
    "cfg_path = \"configs/FedAvg/bddeval.yaml\"\n",
    "model_path= \"models/multi_ck_FedAvg/faster_rcnn_multi_ck_AVG_2.pth\"\n",
    "cfg = setup(cfg_path)\n",
    "#cfg.defrost()\n",
    "    #cfg.MODEL.WEIGHTS = model_path"
   ]
  },
  {
   "cell_type": "markdown",
   "id": "88cd2ba2",
   "metadata": {},
   "source": [
    "## TS Model architecture"
   ]
  },
  {
   "cell_type": "code",
   "execution_count": 20,
   "id": "f64c824e",
   "metadata": {},
   "outputs": [
    {
     "name": "stdout",
     "output_type": "stream",
     "text": [
      "modelTeacher.backbone.vgg_block1.0.conv1.weight\n",
      "modelTeacher.backbone.vgg_block1.0.conv1.bias\n",
      "modelTeacher.backbone.vgg_block1.0.conv2.weight\n",
      "modelTeacher.backbone.vgg_block1.0.conv2.bias\n",
      "modelTeacher.backbone.vgg_block2.0.conv1.weight\n",
      "modelTeacher.backbone.vgg_block2.0.conv1.bias\n",
      "modelTeacher.backbone.vgg_block2.0.conv2.weight\n",
      "modelTeacher.backbone.vgg_block2.0.conv2.bias\n",
      "modelTeacher.backbone.vgg_block3.0.conv1.weight\n",
      "modelTeacher.backbone.vgg_block3.0.conv1.bias\n",
      "modelTeacher.backbone.vgg_block3.0.conv2.weight\n",
      "modelTeacher.backbone.vgg_block3.0.conv2.bias\n",
      "modelTeacher.backbone.vgg_block3.0.conv3.weight\n",
      "modelTeacher.backbone.vgg_block3.0.conv3.bias\n",
      "modelTeacher.backbone.vgg_block4.0.conv1.weight\n",
      "modelTeacher.backbone.vgg_block4.0.conv1.bias\n",
      "modelTeacher.backbone.vgg_block4.0.conv2.weight\n",
      "modelTeacher.backbone.vgg_block4.0.conv2.bias\n",
      "modelTeacher.backbone.vgg_block4.0.conv3.weight\n",
      "modelTeacher.backbone.vgg_block4.0.conv3.bias\n",
      "modelTeacher.backbone.vgg_block5.0.conv1.weight\n",
      "modelTeacher.backbone.vgg_block5.0.conv1.bias\n",
      "modelTeacher.backbone.vgg_block5.0.conv2.weight\n",
      "modelTeacher.backbone.vgg_block5.0.conv2.bias\n",
      "modelTeacher.backbone.vgg_block5.0.conv3.weight\n",
      "modelTeacher.backbone.vgg_block5.0.conv3.bias\n",
      "modelTeacher.proposal_generator.rpn_head.conv.weight\n",
      "modelTeacher.proposal_generator.rpn_head.conv.bias\n",
      "modelTeacher.proposal_generator.rpn_head.objectness_logits.weight\n",
      "modelTeacher.proposal_generator.rpn_head.objectness_logits.bias\n",
      "modelTeacher.proposal_generator.rpn_head.anchor_deltas.weight\n",
      "modelTeacher.proposal_generator.rpn_head.anchor_deltas.bias\n",
      "modelTeacher.roi_heads.box_head.fc1.weight\n",
      "modelTeacher.roi_heads.box_head.fc1.bias\n",
      "modelTeacher.roi_heads.box_head.fc2.weight\n",
      "modelTeacher.roi_heads.box_head.fc2.bias\n",
      "modelTeacher.roi_heads.box_predictor.cls_score.weight\n",
      "modelTeacher.roi_heads.box_predictor.cls_score.bias\n",
      "modelTeacher.roi_heads.box_predictor.bbox_pred.weight\n",
      "modelTeacher.roi_heads.box_predictor.bbox_pred.bias\n",
      "modelStudent.backbone.vgg_block1.0.conv1.weight\n",
      "modelStudent.backbone.vgg_block1.0.conv1.bias\n",
      "modelStudent.backbone.vgg_block1.0.conv2.weight\n",
      "modelStudent.backbone.vgg_block1.0.conv2.bias\n",
      "modelStudent.backbone.vgg_block2.0.conv1.weight\n",
      "modelStudent.backbone.vgg_block2.0.conv1.bias\n",
      "modelStudent.backbone.vgg_block2.0.conv2.weight\n",
      "modelStudent.backbone.vgg_block2.0.conv2.bias\n",
      "modelStudent.backbone.vgg_block3.0.conv1.weight\n",
      "modelStudent.backbone.vgg_block3.0.conv1.bias\n",
      "modelStudent.backbone.vgg_block3.0.conv2.weight\n",
      "modelStudent.backbone.vgg_block3.0.conv2.bias\n",
      "modelStudent.backbone.vgg_block3.0.conv3.weight\n",
      "modelStudent.backbone.vgg_block3.0.conv3.bias\n",
      "modelStudent.backbone.vgg_block4.0.conv1.weight\n",
      "modelStudent.backbone.vgg_block4.0.conv1.bias\n",
      "modelStudent.backbone.vgg_block4.0.conv2.weight\n",
      "modelStudent.backbone.vgg_block4.0.conv2.bias\n",
      "modelStudent.backbone.vgg_block4.0.conv3.weight\n",
      "modelStudent.backbone.vgg_block4.0.conv3.bias\n",
      "modelStudent.backbone.vgg_block5.0.conv1.weight\n",
      "modelStudent.backbone.vgg_block5.0.conv1.bias\n",
      "modelStudent.backbone.vgg_block5.0.conv2.weight\n",
      "modelStudent.backbone.vgg_block5.0.conv2.bias\n",
      "modelStudent.backbone.vgg_block5.0.conv3.weight\n",
      "modelStudent.backbone.vgg_block5.0.conv3.bias\n",
      "modelStudent.proposal_generator.rpn_head.conv.weight\n",
      "modelStudent.proposal_generator.rpn_head.conv.bias\n",
      "modelStudent.proposal_generator.rpn_head.objectness_logits.weight\n",
      "modelStudent.proposal_generator.rpn_head.objectness_logits.bias\n",
      "modelStudent.proposal_generator.rpn_head.anchor_deltas.weight\n",
      "modelStudent.proposal_generator.rpn_head.anchor_deltas.bias\n",
      "modelStudent.roi_heads.box_head.fc1.weight\n",
      "modelStudent.roi_heads.box_head.fc1.bias\n",
      "modelStudent.roi_heads.box_head.fc2.weight\n",
      "modelStudent.roi_heads.box_head.fc2.bias\n",
      "modelStudent.roi_heads.box_predictor.cls_score.weight\n",
      "modelStudent.roi_heads.box_predictor.cls_score.bias\n",
      "modelStudent.roi_heads.box_predictor.bbox_pred.weight\n",
      "modelStudent.roi_heads.box_predictor.bbox_pred.bias\n"
     ]
    }
   ],
   "source": [
    "fedavgmodel = torch.load(\"keep_experiments/FedPT_ck2b/avg_ck2b/pt_ck2b_AVG_round3.pth\")\n",
    "for key in fedavgmodel:\n",
    "    print(key)"
   ]
  },
  {
   "cell_type": "markdown",
   "id": "5f451cc1",
   "metadata": {},
   "source": [
    "# convert jwyang to detectron2"
   ]
  },
  {
   "cell_type": "code",
   "execution_count": 3,
   "id": "17d858f9",
   "metadata": {},
   "outputs": [
    {
     "name": "stdout",
     "output_type": "stream",
     "text": [
      "RCNN_rpn.RPN_Conv.weight\n",
      "RCNN_rpn.RPN_Conv.bias\n",
      "RCNN_rpn.RPN_cls_score.weight\n",
      "RCNN_rpn.RPN_cls_score.bias\n",
      "RCNN_rpn.RPN_bbox_pred.weight\n",
      "RCNN_rpn.RPN_bbox_pred.bias\n",
      "RCNN_base.0.weight\n",
      "RCNN_base.0.bias\n",
      "RCNN_base.2.weight\n",
      "RCNN_base.2.bias\n",
      "RCNN_base.5.weight\n",
      "RCNN_base.5.bias\n",
      "RCNN_base.7.weight\n",
      "RCNN_base.7.bias\n",
      "RCNN_base.10.weight\n",
      "RCNN_base.10.bias\n",
      "RCNN_base.12.weight\n",
      "RCNN_base.12.bias\n",
      "RCNN_base.14.weight\n",
      "RCNN_base.14.bias\n",
      "RCNN_base.17.weight\n",
      "RCNN_base.17.bias\n",
      "RCNN_base.19.weight\n",
      "RCNN_base.19.bias\n",
      "RCNN_base.21.weight\n",
      "RCNN_base.21.bias\n",
      "RCNN_base.24.weight\n",
      "RCNN_base.24.bias\n",
      "RCNN_base.26.weight\n",
      "RCNN_base.26.bias\n",
      "RCNN_base.28.weight\n",
      "RCNN_base.28.bias\n",
      "RCNN_top.0.weight\n",
      "RCNN_top.0.bias\n",
      "RCNN_top.3.weight\n",
      "RCNN_top.3.bias\n",
      "RCNN_cls_score.weight\n",
      "RCNN_cls_score.bias\n",
      "RCNN_bbox_pred.weight\n",
      "RCNN_bbox_pred.bias\n"
     ]
    }
   ],
   "source": [
    "jwyang_avg_model = torch.load(\"keep_experiments/FedAvg_ck2b/faster_rcnn_multi_ck_AVG_10.pth\")\n",
    "for key in jwyang_avg_model['model']:\n",
    "    print(key)"
   ]
  },
  {
   "cell_type": "code",
   "execution_count": 16,
   "id": "2ed675e6",
   "metadata": {},
   "outputs": [
    {
     "name": "stdout",
     "output_type": "stream",
     "text": [
      "RCNN_base.0.weight\n",
      "RCNN_base.0.bias\n",
      "RCNN_base.2.weight\n",
      "RCNN_base.2.bias\n",
      "RCNN_base.5.weight\n",
      "RCNN_base.5.bias\n",
      "RCNN_base.7.weight\n",
      "RCNN_base.7.bias\n",
      "RCNN_base.10.weight\n",
      "RCNN_base.10.bias\n",
      "RCNN_base.12.weight\n",
      "RCNN_base.12.bias\n",
      "RCNN_base.14.weight\n",
      "RCNN_base.14.bias\n",
      "RCNN_base.17.weight\n",
      "RCNN_base.17.bias\n",
      "RCNN_base.19.weight\n",
      "RCNN_base.19.bias\n",
      "RCNN_base.21.weight\n",
      "RCNN_base.21.bias\n",
      "RCNN_base.24.weight\n",
      "RCNN_base.24.bias\n",
      "RCNN_base.26.weight\n",
      "RCNN_base.26.bias\n",
      "RCNN_base.28.weight\n",
      "RCNN_base.28.bias\n",
      "RCNN_rpn.RPN_Conv.weight\n",
      "RCNN_rpn.RPN_Conv.bias\n",
      "RCNN_rpn.RPN_cls_score.weight\n",
      "RCNN_rpn.RPN_cls_score.bias\n",
      "RCNN_rpn.RPN_bbox_pred.weight\n",
      "RCNN_rpn.RPN_bbox_pred.bias\n",
      "RCNN_top.0.weight\n",
      "RCNN_top.0.bias\n",
      "RCNN_top.3.weight\n",
      "RCNN_top.3.bias\n",
      "RCNN_cls_score.weight\n",
      "RCNN_cls_score.bias\n",
      "RCNN_bbox_pred.weight\n",
      "RCNN_bbox_pred.bias\n"
     ]
    }
   ],
   "source": [
    "\n",
    "convert_old_frcnn(jwyang_avg_model['model'],\"tmp.pth\")"
   ]
  },
  {
   "cell_type": "code",
   "execution_count": 29,
   "id": "0e1a4a1d",
   "metadata": {},
   "outputs": [],
   "source": [
    "FedMA_ck2b_city_model = torch.load('keep_experiments/FedMA_ck2b/FedMA_city_default.pth')"
   ]
  },
  {
   "cell_type": "code",
   "execution_count": 30,
   "id": "6450ce41",
   "metadata": {},
   "outputs": [
    {
     "name": "stdout",
     "output_type": "stream",
     "text": [
      "-------- pretrained model loaded ---------\n"
     ]
    }
   ],
   "source": [
    "from detectron2.engine import DefaultTrainer\n",
    "Trainer =DefaultTrainer\n",
    "cfg = setup(\"configs/General/faster_rcnn_VGG_c2b1.yaml\")\n",
    "initial_backbone = Trainer.build_model(cfg) "
   ]
  },
  {
   "cell_type": "code",
   "execution_count": null,
   "id": "f60cf6e0",
   "metadata": {},
   "outputs": [],
   "source": [
    "initial_backbone.state_dict()['proposal_generator.rpn_head.conv.weight']"
   ]
  },
  {
   "cell_type": "code",
   "execution_count": 33,
   "id": "0a4458dc",
   "metadata": {},
   "outputs": [],
   "source": [
    "my_loaded_model = FedMA_ck2b_city_model"
   ]
  },
  {
   "cell_type": "code",
   "execution_count": 17,
   "id": "481c6ca2",
   "metadata": {},
   "outputs": [
    {
     "data": {
      "text/plain": [
       "odict_keys(['backbone.vgg_block1.0.conv1.weight', 'backbone.vgg_block1.0.conv1.bias', 'backbone.vgg_block1.0.conv2.weight', 'backbone.vgg_block1.0.conv2.bias', 'backbone.vgg_block2.0.conv1.weight', 'backbone.vgg_block2.0.conv1.bias', 'backbone.vgg_block2.0.conv2.weight', 'backbone.vgg_block2.0.conv2.bias', 'backbone.vgg_block3.0.conv1.weight', 'backbone.vgg_block3.0.conv1.bias', 'backbone.vgg_block3.0.conv2.weight', 'backbone.vgg_block3.0.conv2.bias', 'backbone.vgg_block3.0.conv3.weight', 'backbone.vgg_block3.0.conv3.bias', 'backbone.vgg_block4.0.conv1.weight', 'backbone.vgg_block4.0.conv1.bias', 'backbone.vgg_block4.0.conv2.weight', 'backbone.vgg_block4.0.conv2.bias', 'backbone.vgg_block4.0.conv3.weight', 'backbone.vgg_block4.0.conv3.bias', 'backbone.vgg_block5.0.conv1.weight', 'backbone.vgg_block5.0.conv1.bias', 'backbone.vgg_block5.0.conv2.weight', 'backbone.vgg_block5.0.conv2.bias', 'backbone.vgg_block5.0.conv3.weight', 'backbone.vgg_block5.0.conv3.bias', 'proposal_generator.rpn_head.conv.weight', 'proposal_generator.rpn_head.conv.bias', 'proposal_generator.rpn_head.objectness_logits.weight', 'proposal_generator.rpn_head.objectness_logits.bias', 'proposal_generator.rpn_head.anchor_deltas.weight', 'proposal_generator.rpn_head.anchor_deltas.bias', 'roi_heads.box_head.fc1.weight', 'roi_heads.box_head.fc1.bias', 'roi_heads.box_head.fc2.weight', 'roi_heads.box_head.fc2.bias', 'roi_heads.box_predictor.cls_score.weight', 'roi_heads.box_predictor.cls_score.bias', 'roi_heads.box_predictor.bbox_pred.weight', 'roi_heads.box_predictor.bbox_pred.bias'])"
      ]
     },
     "execution_count": 17,
     "metadata": {},
     "output_type": "execute_result"
    }
   ],
   "source": [
    "initial_backbone.state_dict().keys()"
   ]
  },
  {
   "cell_type": "code",
   "execution_count": 34,
   "id": "40fbf175",
   "metadata": {
    "collapsed": true,
    "jupyter": {
     "outputs_hidden": true
    }
   },
   "outputs": [
    {
     "ename": "RuntimeError",
     "evalue": "Error(s) in loading state_dict for GeneralizedRCNN:\n\tsize mismatch for proposal_generator.rpn_head.objectness_logits.weight: copying a param with shape torch.Size([24, 512, 1, 1]) from checkpoint, the shape in current model is torch.Size([9, 512, 1, 1]).\n\tsize mismatch for proposal_generator.rpn_head.objectness_logits.bias: copying a param with shape torch.Size([24]) from checkpoint, the shape in current model is torch.Size([9]).\n\tsize mismatch for proposal_generator.rpn_head.anchor_deltas.weight: copying a param with shape torch.Size([48, 512, 1, 1]) from checkpoint, the shape in current model is torch.Size([36, 512, 1, 1]).\n\tsize mismatch for proposal_generator.rpn_head.anchor_deltas.bias: copying a param with shape torch.Size([48]) from checkpoint, the shape in current model is torch.Size([36]).\n\tsize mismatch for roi_heads.box_head.fc1.weight: copying a param with shape torch.Size([4096, 25088]) from checkpoint, the shape in current model is torch.Size([1024, 25088]).\n\tsize mismatch for roi_heads.box_head.fc1.bias: copying a param with shape torch.Size([4096]) from checkpoint, the shape in current model is torch.Size([1024]).\n\tsize mismatch for roi_heads.box_head.fc2.weight: copying a param with shape torch.Size([4096, 4096]) from checkpoint, the shape in current model is torch.Size([1024, 1024]).\n\tsize mismatch for roi_heads.box_head.fc2.bias: copying a param with shape torch.Size([4096]) from checkpoint, the shape in current model is torch.Size([1024]).\n\tsize mismatch for roi_heads.box_predictor.cls_score.weight: copying a param with shape torch.Size([2, 4096]) from checkpoint, the shape in current model is torch.Size([2, 1024]).\n\tsize mismatch for roi_heads.box_predictor.bbox_pred.weight: copying a param with shape torch.Size([8, 4096]) from checkpoint, the shape in current model is torch.Size([4, 1024]).\n\tsize mismatch for roi_heads.box_predictor.bbox_pred.bias: copying a param with shape torch.Size([8]) from checkpoint, the shape in current model is torch.Size([4]).",
     "output_type": "error",
     "traceback": [
      "\u001b[0;31m---------------------------------------------------------------------------\u001b[0m",
      "\u001b[0;31mRuntimeError\u001b[0m                              Traceback (most recent call last)",
      "\u001b[0;32m/tmp/ipykernel_997/1755081824.py\u001b[0m in \u001b[0;36m<module>\u001b[0;34m\u001b[0m\n\u001b[1;32m      5\u001b[0m \u001b[0;34m\u001b[0m\u001b[0m\n\u001b[1;32m      6\u001b[0m         \u001b[0mnew_student_dict\u001b[0m\u001b[0;34m[\u001b[0m\u001b[0mkey\u001b[0m\u001b[0;34m]\u001b[0m \u001b[0;34m=\u001b[0m \u001b[0mvalue\u001b[0m\u001b[0;34m\u001b[0m\u001b[0;34m\u001b[0m\u001b[0m\n\u001b[0;32m----> 7\u001b[0;31m \u001b[0minitial_backbone\u001b[0m\u001b[0;34m.\u001b[0m\u001b[0mload_state_dict\u001b[0m\u001b[0;34m(\u001b[0m\u001b[0mnew_student_dict\u001b[0m\u001b[0;34m)\u001b[0m\u001b[0;34m\u001b[0m\u001b[0;34m\u001b[0m\u001b[0m\n\u001b[0m",
      "\u001b[0;32m~/.local/lib/python3.8/site-packages/torch/nn/modules/module.py\u001b[0m in \u001b[0;36mload_state_dict\u001b[0;34m(self, state_dict, strict)\u001b[0m\n\u001b[1;32m   1221\u001b[0m \u001b[0;34m\u001b[0m\u001b[0m\n\u001b[1;32m   1222\u001b[0m         \u001b[0;32mif\u001b[0m \u001b[0mlen\u001b[0m\u001b[0;34m(\u001b[0m\u001b[0merror_msgs\u001b[0m\u001b[0;34m)\u001b[0m \u001b[0;34m>\u001b[0m \u001b[0;36m0\u001b[0m\u001b[0;34m:\u001b[0m\u001b[0;34m\u001b[0m\u001b[0;34m\u001b[0m\u001b[0m\n\u001b[0;32m-> 1223\u001b[0;31m             raise RuntimeError('Error(s) in loading state_dict for {}:\\n\\t{}'.format(\n\u001b[0m\u001b[1;32m   1224\u001b[0m                                self.__class__.__name__, \"\\n\\t\".join(error_msgs)))\n\u001b[1;32m   1225\u001b[0m         \u001b[0;32mreturn\u001b[0m \u001b[0m_IncompatibleKeys\u001b[0m\u001b[0;34m(\u001b[0m\u001b[0mmissing_keys\u001b[0m\u001b[0;34m,\u001b[0m \u001b[0munexpected_keys\u001b[0m\u001b[0;34m)\u001b[0m\u001b[0;34m\u001b[0m\u001b[0;34m\u001b[0m\u001b[0m\n",
      "\u001b[0;31mRuntimeError\u001b[0m: Error(s) in loading state_dict for GeneralizedRCNN:\n\tsize mismatch for proposal_generator.rpn_head.objectness_logits.weight: copying a param with shape torch.Size([24, 512, 1, 1]) from checkpoint, the shape in current model is torch.Size([9, 512, 1, 1]).\n\tsize mismatch for proposal_generator.rpn_head.objectness_logits.bias: copying a param with shape torch.Size([24]) from checkpoint, the shape in current model is torch.Size([9]).\n\tsize mismatch for proposal_generator.rpn_head.anchor_deltas.weight: copying a param with shape torch.Size([48, 512, 1, 1]) from checkpoint, the shape in current model is torch.Size([36, 512, 1, 1]).\n\tsize mismatch for proposal_generator.rpn_head.anchor_deltas.bias: copying a param with shape torch.Size([48]) from checkpoint, the shape in current model is torch.Size([36]).\n\tsize mismatch for roi_heads.box_head.fc1.weight: copying a param with shape torch.Size([4096, 25088]) from checkpoint, the shape in current model is torch.Size([1024, 25088]).\n\tsize mismatch for roi_heads.box_head.fc1.bias: copying a param with shape torch.Size([4096]) from checkpoint, the shape in current model is torch.Size([1024]).\n\tsize mismatch for roi_heads.box_head.fc2.weight: copying a param with shape torch.Size([4096, 4096]) from checkpoint, the shape in current model is torch.Size([1024, 1024]).\n\tsize mismatch for roi_heads.box_head.fc2.bias: copying a param with shape torch.Size([4096]) from checkpoint, the shape in current model is torch.Size([1024]).\n\tsize mismatch for roi_heads.box_predictor.cls_score.weight: copying a param with shape torch.Size([2, 4096]) from checkpoint, the shape in current model is torch.Size([2, 1024]).\n\tsize mismatch for roi_heads.box_predictor.bbox_pred.weight: copying a param with shape torch.Size([8, 4096]) from checkpoint, the shape in current model is torch.Size([4, 1024]).\n\tsize mismatch for roi_heads.box_predictor.bbox_pred.bias: copying a param with shape torch.Size([8]) from checkpoint, the shape in current model is torch.Size([4])."
     ]
    }
   ],
   "source": [
    "from collections import OrderedDict\n",
    "new_student_dict = OrderedDict()\n",
    "for key, value in my_loaded_model.items():    \n",
    "    if key in initial_backbone.state_dict().keys(): \n",
    "        \n",
    "        new_student_dict[key] = value\n",
    "initial_backbone.load_state_dict(new_student_dict)  "
   ]
  },
  {
   "cell_type": "markdown",
   "id": "ed039808",
   "metadata": {},
   "source": [
    "# FedMA"
   ]
  },
  {
   "cell_type": "code",
   "execution_count": 35,
   "id": "5bb8fc8e",
   "metadata": {},
   "outputs": [],
   "source": [
    "FedMA_ck2b_city_model = torch.load('keep_experiments/FedMA_ck2b/faster_rcnn_multi_ck_cityscape_2007_trainval.pth')"
   ]
  },
  {
   "cell_type": "code",
   "execution_count": null,
   "id": "21654004",
   "metadata": {},
   "outputs": [],
   "source": [
    "FedMA_ck2b_city_model['model']"
   ]
  },
  {
   "cell_type": "code",
   "execution_count": 26,
   "id": "c4804089",
   "metadata": {},
   "outputs": [
    {
     "name": "stdout",
     "output_type": "stream",
     "text": [
      "RCNN_rpn.RPN_Conv.weight\n",
      "RCNN_rpn.RPN_Conv.bias\n",
      "RCNN_rpn.RPN_cls_score.weight\n",
      "RCNN_rpn.RPN_cls_score.bias\n",
      "RCNN_rpn.RPN_bbox_pred.weight\n",
      "RCNN_rpn.RPN_bbox_pred.bias\n",
      "features.0.weight\n",
      "features.0.bias\n",
      "features.2.weight\n",
      "features.2.bias\n",
      "features.5.weight\n",
      "features.5.bias\n",
      "features.7.weight\n",
      "features.7.bias\n",
      "features.10.weight\n",
      "features.10.bias\n",
      "features.12.weight\n",
      "features.12.bias\n",
      "features.14.weight\n",
      "features.14.bias\n",
      "features.17.weight\n",
      "features.17.bias\n",
      "features.19.weight\n",
      "features.19.bias\n",
      "features.21.weight\n",
      "features.21.bias\n",
      "features.24.weight\n",
      "features.24.bias\n",
      "features.26.weight\n",
      "features.26.bias\n",
      "features.28.weight\n",
      "features.28.bias\n",
      "RCNN_top.0.weight\n",
      "RCNN_top.0.bias\n",
      "RCNN_top.3.weight\n",
      "RCNN_top.3.bias\n",
      "RCNN_cls_score.weight\n",
      "RCNN_cls_score.bias\n",
      "RCNN_bbox_pred.weight\n",
      "RCNN_bbox_pred.bias\n"
     ]
    }
   ],
   "source": [
    "for key, value in FedMA_ck2b_city_model['model'].items():    \n",
    "    print(key)"
   ]
  },
  {
   "cell_type": "code",
   "execution_count": null,
   "id": "0596e0c0",
   "metadata": {},
   "outputs": [],
   "source": []
  },
  {
   "cell_type": "code",
   "execution_count": 28,
   "id": "dee3e82a",
   "metadata": {},
   "outputs": [
    {
     "name": "stdout",
     "output_type": "stream",
     "text": [
      "features.0.weight\n",
      "features.0.bias\n",
      "features.2.weight\n",
      "features.2.bias\n",
      "features.5.weight\n",
      "features.5.bias\n",
      "features.7.weight\n",
      "features.7.bias\n",
      "features.10.weight\n",
      "features.10.bias\n",
      "features.12.weight\n",
      "features.12.bias\n",
      "features.14.weight\n",
      "features.14.bias\n",
      "features.17.weight\n",
      "features.17.bias\n",
      "features.19.weight\n",
      "features.19.bias\n",
      "features.21.weight\n",
      "features.21.bias\n",
      "features.24.weight\n",
      "features.24.bias\n",
      "features.26.weight\n",
      "features.26.bias\n",
      "features.28.weight\n",
      "features.28.bias\n",
      "RCNN_rpn.RPN_Conv.weight\n",
      "RCNN_rpn.RPN_Conv.bias\n",
      "RCNN_rpn.RPN_cls_score.weight\n",
      "RCNN_rpn.RPN_cls_score.bias\n",
      "RCNN_rpn.RPN_bbox_pred.weight\n",
      "RCNN_rpn.RPN_bbox_pred.bias\n",
      "RCNN_top.0.weight\n",
      "RCNN_top.0.bias\n",
      "RCNN_top.3.weight\n",
      "RCNN_top.3.bias\n",
      "RCNN_cls_score.weight\n",
      "RCNN_cls_score.bias\n",
      "RCNN_bbox_pred.weight\n",
      "RCNN_bbox_pred.bias\n"
     ]
    }
   ],
   "source": [
    "convert_old_fedma(FedMA_ck2b_city_model['model'],'keep_experiments/FedMA_ck2b/FedMA_city_default.pth')"
   ]
  },
  {
   "cell_type": "code",
   "execution_count": 50,
   "id": "1f7e2d60",
   "metadata": {},
   "outputs": [
    {
     "data": {
      "text/plain": [
       "VGGBlock(\n",
       "  (conv1): Conv2d(3, 64, kernel_size=(3, 3), stride=(1, 1), padding=(1, 1))\n",
       "  (conv2): Conv2d(64, 64, kernel_size=(3, 3), stride=(1, 1), padding=(1, 1))\n",
       "  (maxpool): MaxPool2d(kernel_size=2, stride=2, padding=0, dilation=1, ceil_mode=False)\n",
       ")"
      ]
     },
     "execution_count": 50,
     "metadata": {},
     "output_type": "execute_result"
    }
   ],
   "source": [
    "model.backbone.vgg_block1[0]"
   ]
  },
  {
   "cell_type": "code",
   "execution_count": null,
   "id": "29f34ef7",
   "metadata": {},
   "outputs": [],
   "source": [
    "vgg_caffe_model['backbone.vgg_block1.0.conv1.weight']"
   ]
  },
  {
   "cell_type": "code",
   "execution_count": 40,
   "id": "f225e01a",
   "metadata": {},
   "outputs": [],
   "source": [
    "model=vgg_caffe_model"
   ]
  },
  {
   "cell_type": "code",
   "execution_count": 41,
   "id": "15ee8e8e",
   "metadata": {},
   "outputs": [
    {
     "ename": "AttributeError",
     "evalue": "'dict' object has no attribute 'proposal_generator'",
     "output_type": "error",
     "traceback": [
      "\u001b[0;31m---------------------------------------------------------------------------\u001b[0m",
      "\u001b[0;31mAttributeError\u001b[0m                            Traceback (most recent call last)",
      "\u001b[0;32m/tmp/ipykernel_35912/1856396469.py\u001b[0m in \u001b[0;36m<module>\u001b[0;34m\u001b[0m\n\u001b[0;32m----> 1\u001b[0;31m \u001b[0mmodel\u001b[0m\u001b[0;34m.\u001b[0m\u001b[0mproposal_generator\u001b[0m\u001b[0;34m.\u001b[0m\u001b[0mrpn_head\u001b[0m\u001b[0;34m.\u001b[0m\u001b[0mconv\u001b[0m\u001b[0;34m.\u001b[0m\u001b[0mweight\u001b[0m\u001b[0;34m\u001b[0m\u001b[0;34m\u001b[0m\u001b[0m\n\u001b[0m",
      "\u001b[0;31mAttributeError\u001b[0m: 'dict' object has no attribute 'proposal_generator'"
     ]
    }
   ],
   "source": [
    "model.proposal_generator.rpn_head.conv.weight"
   ]
  },
  {
   "cell_type": "code",
   "execution_count": 4,
   "id": "15641d45",
   "metadata": {},
   "outputs": [
    {
     "name": "stdout",
     "output_type": "stream",
     "text": [
      "features.0.weight\n",
      "features.0.bias\n",
      "features.2.weight\n",
      "features.2.bias\n",
      "features.5.weight\n",
      "features.5.bias\n",
      "features.7.weight\n",
      "features.7.bias\n",
      "features.10.weight\n",
      "features.10.bias\n",
      "features.12.weight\n",
      "features.12.bias\n",
      "features.14.weight\n",
      "features.14.bias\n",
      "features.17.weight\n",
      "features.17.bias\n",
      "features.19.weight\n",
      "features.19.bias\n",
      "features.21.weight\n",
      "features.21.bias\n",
      "features.24.weight\n",
      "features.24.bias\n",
      "features.26.weight\n",
      "features.26.bias\n",
      "features.28.weight\n",
      "features.28.bias\n",
      "classifier.6.weight\n",
      "classifier.6.bias\n",
      "classifier.0.weight\n",
      "classifier.0.bias\n",
      "classifier.3.weight\n",
      "classifier.3.bias\n"
     ]
    }
   ],
   "source": [
    "pretrain_model = torch.load(\"vgg16_caffe.pth\")\n",
    "for key in pretrain_model:\n",
    "    print(key)"
   ]
  },
  {
   "cell_type": "code",
   "execution_count": null,
   "id": "ccfcaea6",
   "metadata": {},
   "outputs": [],
   "source": [
    "pretrain_model['features.10.weight']"
   ]
  },
  {
   "cell_type": "code",
   "execution_count": 3,
   "id": "201e0a51",
   "metadata": {},
   "outputs": [
    {
     "ename": "NameError",
     "evalue": "name 'model_path' is not defined",
     "output_type": "error",
     "traceback": [
      "\u001b[0;31m---------------------------------------------------------------------------\u001b[0m",
      "\u001b[0;31mNameError\u001b[0m                                 Traceback (most recent call last)",
      "\u001b[0;32m/tmp/ipykernel_4741/2212625458.py\u001b[0m in \u001b[0;36m<module>\u001b[0;34m\u001b[0m\n\u001b[0;32m----> 1\u001b[0;31m \u001b[0mload_avgmodel\u001b[0m \u001b[0;34m=\u001b[0m \u001b[0mtorch\u001b[0m\u001b[0;34m.\u001b[0m\u001b[0mload\u001b[0m\u001b[0;34m(\u001b[0m\u001b[0mmodel_path\u001b[0m\u001b[0;34m)\u001b[0m\u001b[0;34m\u001b[0m\u001b[0;34m\u001b[0m\u001b[0m\n\u001b[0m\u001b[1;32m      2\u001b[0m \u001b[0;32mfor\u001b[0m \u001b[0mkey\u001b[0m \u001b[0;32min\u001b[0m \u001b[0mload_avgmodel\u001b[0m\u001b[0;34m[\u001b[0m\u001b[0;34m'model'\u001b[0m\u001b[0;34m]\u001b[0m\u001b[0;34m:\u001b[0m\u001b[0;34m\u001b[0m\u001b[0;34m\u001b[0m\u001b[0m\n\u001b[1;32m      3\u001b[0m     \u001b[0mprint\u001b[0m\u001b[0;34m(\u001b[0m\u001b[0mkey\u001b[0m\u001b[0;34m)\u001b[0m\u001b[0;34m\u001b[0m\u001b[0;34m\u001b[0m\u001b[0m\n\u001b[1;32m      4\u001b[0m \u001b[0;31m#load_avgmodel['modelStudent.proposal_generator.rpn_head.anchor_deltas.bias']\u001b[0m\u001b[0;34m\u001b[0m\u001b[0;34m\u001b[0m\u001b[0;34m\u001b[0m\u001b[0m\n",
      "\u001b[0;31mNameError\u001b[0m: name 'model_path' is not defined"
     ]
    }
   ],
   "source": [
    "load_avgmodel = torch.load(model_path)\n",
    "for key in load_avgmodel['model']:\n",
    "    print(key)\n",
    "#load_avgmodel['modelStudent.proposal_generator.rpn_head.anchor_deltas.bias']"
   ]
  },
  {
   "cell_type": "markdown",
   "id": "4c3a890a",
   "metadata": {},
   "source": [
    "## convert"
   ]
  },
  {
   "cell_type": "code",
   "execution_count": 27,
   "id": "8edf2166",
   "metadata": {},
   "outputs": [
    {
     "name": "stdout",
     "output_type": "stream",
     "text": [
      "-------- pretrained model loaded ---------\n"
     ]
    }
   ],
   "source": [
    "state_dict = torch.load('vgg16_caffe.pth')\n",
    "dict_map_pth = ['features.0.weight', 'features.0.bias', 'features.2.weight', 'features.2.bias',\n",
    "                'features.5.weight', 'features.5.bias', 'features.7.weight', 'features.7.bias',\n",
    "                'features.10.weight', 'features.10.bias', 'features.12.weight', 'features.12.bias',\n",
    "                'features.14.weight', 'features.14.bias', 'features.17.weight', 'features.17.bias',\n",
    "                'features.19.weight', 'features.19.bias', 'features.21.weight', 'features.21.bias',\n",
    "                'features.24.weight', 'features.24.bias', 'features.26.weight', 'features.26.bias',\n",
    "                'features.28.weight', 'features.28.bias',\n",
    "               ]\n",
    "dict_map_model = ['vgg_block1.0.conv1.weight', 'vgg_block1.0.conv1.bias', 'vgg_block1.0.conv2.weight',\n",
    "                  'vgg_block1.0.conv2.bias', 'vgg_block2.0.conv1.weight', 'vgg_block2.0.conv1.bias',\n",
    "                  'vgg_block2.0.conv2.weight', 'vgg_block2.0.conv2.bias', 'vgg_block3.0.conv1.weight',\n",
    "                  'vgg_block3.0.conv1.bias', 'vgg_block3.0.conv2.weight', 'vgg_block3.0.conv2.bias',\n",
    "                  'vgg_block3.0.conv3.weight', 'vgg_block3.0.conv3.bias', 'vgg_block4.0.conv1.weight',\n",
    "                  'vgg_block4.0.conv1.bias', 'vgg_block4.0.conv2.weight', 'vgg_block4.0.conv2.bias',\n",
    "                  'vgg_block4.0.conv3.weight', 'vgg_block4.0.conv3.bias', 'vgg_block5.0.conv1.weight',\n",
    "                  'vgg_block5.0.conv1.bias', 'vgg_block5.0.conv2.weight', 'vgg_block5.0.conv2.bias',\n",
    "                  'vgg_block5.0.conv3.weight', 'vgg_block5.0.conv3.bias']\n",
    "assert len(dict_map_pth) == len(dict_map_model)\n",
    "state_dict_new = {}\n",
    "for i in range(len(dict_map_pth)):\n",
    "    state_dict_new['{}'.format(dict_map_model[i])] = state_dict['{}'.format(dict_map_pth[i])]\n",
    "#torch.nn.Module.load_state_dict({k: v for k, v in state_dict_new.items() if\n",
    "#                      k in torch.nn.Module.state_dict()}, strict=False)\n",
    "print('-------- pretrained model loaded ---------')"
   ]
  },
  {
   "cell_type": "code",
   "execution_count": 38,
   "id": "f7a49ed8",
   "metadata": {},
   "outputs": [],
   "source": [
    "torch.save(state_dict_new, \"tmp.pth\")"
   ]
  },
  {
   "cell_type": "code",
   "execution_count": 64,
   "id": "a90c81b7",
   "metadata": {},
   "outputs": [
    {
     "name": "stdout",
     "output_type": "stream",
     "text": [
      "backbone.vgg_block1.0.conv1.weight\n",
      "backbone.vgg_block1.0.conv1.bias\n",
      "backbone.vgg_block1.0.conv2.weight\n",
      "backbone.vgg_block1.0.conv2.bias\n",
      "backbone.vgg_block2.0.conv1.weight\n",
      "backbone.vgg_block2.0.conv1.bias\n",
      "backbone.vgg_block2.0.conv2.weight\n",
      "backbone.vgg_block2.0.conv2.bias\n",
      "backbone.vgg_block3.0.conv1.weight\n",
      "backbone.vgg_block3.0.conv1.bias\n",
      "backbone.vgg_block3.0.conv2.weight\n",
      "backbone.vgg_block3.0.conv2.bias\n",
      "backbone.vgg_block3.0.conv3.weight\n",
      "backbone.vgg_block3.0.conv3.bias\n",
      "backbone.vgg_block4.0.conv1.weight\n",
      "backbone.vgg_block4.0.conv1.bias\n",
      "backbone.vgg_block4.0.conv2.weight\n",
      "backbone.vgg_block4.0.conv2.bias\n",
      "backbone.vgg_block4.0.conv3.weight\n",
      "backbone.vgg_block4.0.conv3.bias\n",
      "backbone.vgg_block5.0.conv1.weight\n",
      "backbone.vgg_block5.0.conv1.bias\n",
      "backbone.vgg_block5.0.conv2.weight\n",
      "backbone.vgg_block5.0.conv2.bias\n",
      "backbone.vgg_block5.0.conv3.weight\n",
      "backbone.vgg_block5.0.conv3.bias\n",
      "proposal_generator.rpn_head.conv.weight\n",
      "proposal_generator.rpn_head.conv.bias\n",
      "proposal_generator.rpn_head.objectness_logits.weight\n",
      "proposal_generator.rpn_head.objectness_logits.bias\n",
      "proposal_generator.rpn_head.anchor_deltas.weight\n",
      "proposal_generator.rpn_head.anchor_deltas.bias\n",
      "roi_heads.box_head.fc1.weight\n",
      "roi_heads.box_head.fc1.bias\n",
      "roi_heads.box_head.fc2.weight\n",
      "roi_heads.box_head.fc2.bias\n",
      "roi_heads.box_predictor.cls_score.weight\n",
      "roi_heads.box_predictor.cls_score.bias\n",
      "roi_heads.box_predictor.bbox_pred.weight\n",
      "roi_heads.box_predictor.bbox_pred.bias\n"
     ]
    }
   ],
   "source": [
    "load_avgmodel = torch.load(\"tmp.pth\")\n",
    "for key in load_avgmodel:\n",
    "    print(key)"
   ]
  },
  {
   "cell_type": "code",
   "execution_count": 27,
   "id": "8297bc6c",
   "metadata": {},
   "outputs": [],
   "source": [
    "def convert_old_fedma(state_dict,new_path):\n",
    "    dict_map_pth = ['features.0.weight', 'features.0.bias', 'features.2.weight', 'features.2.bias',\n",
    "                    'features.5.weight', 'features.5.bias', 'features.7.weight', 'features.7.bias',\n",
    "                    'features.10.weight', 'features.10.bias', 'features.12.weight', 'features.12.bias',\n",
    "                    'features.14.weight', 'features.14.bias', 'features.17.weight', 'features.17.bias',\n",
    "                    'features.19.weight', 'features.19.bias', 'features.21.weight', 'features.21.bias',\n",
    "                    'features.24.weight', 'features.24.bias', 'features.26.weight', 'features.26.bias',\n",
    "                    'features.28.weight', 'features.28.bias',\n",
    "                   'RCNN_rpn.RPN_Conv.weight','RCNN_rpn.RPN_Conv.bias',\n",
    "                    'RCNN_rpn.RPN_cls_score.weight','RCNN_rpn.RPN_cls_score.bias',\n",
    "                    'RCNN_rpn.RPN_bbox_pred.weight','RCNN_rpn.RPN_bbox_pred.bias',\n",
    "                   'RCNN_top.0.weight','RCNN_top.0.bias','RCNN_top.3.weight','RCNN_top.3.bias',\n",
    "                    'RCNN_cls_score.weight','RCNN_cls_score.bias',\n",
    "                    'RCNN_bbox_pred.weight','RCNN_bbox_pred.bias']\n",
    "    dict_map_model = ['backbone.vgg_block1.0.conv1.weight', 'backbone.vgg_block1.0.conv1.bias', 'backbone.vgg_block1.0.conv2.weight',\n",
    "                      'backbone.vgg_block1.0.conv2.bias', 'backbone.vgg_block2.0.conv1.weight', 'backbone.vgg_block2.0.conv1.bias',\n",
    "                      'backbone.vgg_block2.0.conv2.weight', 'backbone.vgg_block2.0.conv2.bias', 'backbone.vgg_block3.0.conv1.weight',\n",
    "                      'backbone.vgg_block3.0.conv1.bias', 'backbone.vgg_block3.0.conv2.weight', 'backbone.vgg_block3.0.conv2.bias',\n",
    "                      'backbone.vgg_block3.0.conv3.weight', 'backbone.vgg_block3.0.conv3.bias', 'backbone.vgg_block4.0.conv1.weight',\n",
    "                      'backbone.vgg_block4.0.conv1.bias', 'backbone.vgg_block4.0.conv2.weight', 'backbone.vgg_block4.0.conv2.bias',\n",
    "                      'backbone.vgg_block4.0.conv3.weight', 'backbone.vgg_block4.0.conv3.bias', 'backbone.vgg_block5.0.conv1.weight',\n",
    "                      'backbone.vgg_block5.0.conv1.bias', 'backbone.vgg_block5.0.conv2.weight', 'backbone.vgg_block5.0.conv2.bias',\n",
    "                      'backbone.vgg_block5.0.conv3.weight', 'backbone.vgg_block5.0.conv3.bias',\n",
    "                     'proposal_generator.rpn_head.conv.weight','proposal_generator.rpn_head.conv.bias',\n",
    "                    'proposal_generator.rpn_head.objectness_logits.weight','proposal_generator.rpn_head.objectness_logits.bias',\n",
    "                    'proposal_generator.rpn_head.anchor_deltas.weight','proposal_generator.rpn_head.anchor_deltas.bias',\n",
    "                    'roi_heads.box_head.fc1.weight','roi_heads.box_head.fc1.bias',\n",
    "                    'roi_heads.box_head.fc2.weight','roi_heads.box_head.fc2.bias',\n",
    "                    'roi_heads.box_predictor.cls_score.weight','roi_heads.box_predictor.cls_score.bias',\n",
    "                    'roi_heads.box_predictor.bbox_pred.weight','roi_heads.box_predictor.bbox_pred.bias']\n",
    "    assert len(dict_map_pth) == len(dict_map_model)\n",
    "    state_dict_new = {}\n",
    "    for i in range(len(dict_map_pth)):\n",
    "        print(dict_map_pth[i])\n",
    "        #print(state_dict[dict_map_pth[i]])\n",
    "        state_dict_new['{}'.format(dict_map_model[i])] = state_dict['{}'.format(dict_map_pth[i])]\n",
    "#     self.load_state_dict({k: v for k, v in state_dict_new.items() if\n",
    "#                           k in self.state_dict()}, strict=False)\n",
    "    torch.save(state_dict_new, new_path)\n",
    "    "
   ]
  },
  {
   "cell_type": "code",
   "execution_count": 20,
   "id": "65796481",
   "metadata": {},
   "outputs": [],
   "source": [
    "def convert_old_frcnn(state_dict,new_path):\n",
    "    dict_map_pth = ['RCNN_base.0.weight', 'RCNN_base.0.bias', 'RCNN_base.2.weight', 'RCNN_base.2.bias',\n",
    "                    'RCNN_base.5.weight', 'RCNN_base.5.bias', 'RCNN_base.7.weight', 'RCNN_base.7.bias',\n",
    "                    'RCNN_base.10.weight', 'RCNN_base.10.bias', 'RCNN_base.12.weight', 'RCNN_base.12.bias',\n",
    "                    'RCNN_base.14.weight', 'RCNN_base.14.bias', 'RCNN_base.17.weight', 'RCNN_base.17.bias',\n",
    "                    'RCNN_base.19.weight', 'RCNN_base.19.bias', 'RCNN_base.21.weight', 'RCNN_base.21.bias',\n",
    "                    'RCNN_base.24.weight', 'RCNN_base.24.bias', 'RCNN_base.26.weight', 'RCNN_base.26.bias',\n",
    "                    'RCNN_base.28.weight', 'RCNN_base.28.bias',\n",
    "                   'RCNN_rpn.RPN_Conv.weight','RCNN_rpn.RPN_Conv.bias',\n",
    "                    'RCNN_rpn.RPN_cls_score.weight','RCNN_rpn.RPN_cls_score.bias',\n",
    "                    'RCNN_rpn.RPN_bbox_pred.weight','RCNN_rpn.RPN_bbox_pred.bias',\n",
    "                   'RCNN_top.0.weight','RCNN_top.0.bias','RCNN_top.3.weight','RCNN_top.3.bias',\n",
    "                    'RCNN_cls_score.weight','RCNN_cls_score.bias',\n",
    "                    'RCNN_bbox_pred.weight','RCNN_bbox_pred.bias']\n",
    "    dict_map_model = ['backbone.vgg_block1.0.conv1.weight', 'backbone.vgg_block1.0.conv1.bias', 'backbone.vgg_block1.0.conv2.weight',\n",
    "                      'backbone.vgg_block1.0.conv2.bias', 'backbone.vgg_block2.0.conv1.weight', 'backbone.vgg_block2.0.conv1.bias',\n",
    "                      'backbone.vgg_block2.0.conv2.weight', 'backbone.vgg_block2.0.conv2.bias', 'backbone.vgg_block3.0.conv1.weight',\n",
    "                      'backbone.vgg_block3.0.conv1.bias', 'backbone.vgg_block3.0.conv2.weight', 'backbone.vgg_block3.0.conv2.bias',\n",
    "                      'backbone.vgg_block3.0.conv3.weight', 'backbone.vgg_block3.0.conv3.bias', 'backbone.vgg_block4.0.conv1.weight',\n",
    "                      'backbone.vgg_block4.0.conv1.bias', 'backbone.vgg_block4.0.conv2.weight', 'backbone.vgg_block4.0.conv2.bias',\n",
    "                      'backbone.vgg_block4.0.conv3.weight', 'backbone.vgg_block4.0.conv3.bias', 'backbone.vgg_block5.0.conv1.weight',\n",
    "                      'backbone.vgg_block5.0.conv1.bias', 'backbone.vgg_block5.0.conv2.weight', 'backbone.vgg_block5.0.conv2.bias',\n",
    "                      'backbone.vgg_block5.0.conv3.weight', 'backbone.vgg_block5.0.conv3.bias',\n",
    "                     'proposal_generator.rpn_head.conv.weight','proposal_generator.rpn_head.conv.bias',\n",
    "                    'proposal_generator.rpn_head.objectness_logits.weight','proposal_generator.rpn_head.objectness_logits.bias',\n",
    "                    'proposal_generator.rpn_head.anchor_deltas.weight','proposal_generator.rpn_head.anchor_deltas.bias',\n",
    "                    'roi_heads.box_head.fc1.weight','roi_heads.box_head.fc1.bias',\n",
    "                    'roi_heads.box_head.fc2.weight','roi_heads.box_head.fc2.bias',\n",
    "                    'roi_heads.box_predictor.cls_score.weight','roi_heads.box_predictor.cls_score.bias',\n",
    "                    'roi_heads.box_predictor.bbox_pred.weight','roi_heads.box_predictor.bbox_pred.bias']\n",
    "    assert len(dict_map_pth) == len(dict_map_model)\n",
    "    state_dict_new = {}\n",
    "    for i in range(len(dict_map_pth)):\n",
    "        print(dict_map_pth[i])\n",
    "        #print(state_dict[dict_map_pth[i]])\n",
    "        state_dict_new['{}'.format(dict_map_model[i])] = state_dict['{}'.format(dict_map_pth[i])]\n",
    "#     self.load_state_dict({k: v for k, v in state_dict_new.items() if\n",
    "#                           k in self.state_dict()}, strict=False)\n",
    "    torch.save(state_dict_new, new_path)\n",
    "    "
   ]
  },
  {
   "cell_type": "raw",
   "id": "e81ec006",
   "metadata": {},
   "source": [
    "model_path= \"models/multi_ck_FedAvg/faster_rcnn_multi_ck_AVG_2.pth\"\n",
    "old_model = torch.load(model_path)\n",
    "my_old_model = old_model['model']\n",
    "convert_old_frcnn(my_old_model,\"tmp.pth\")\n",
    "\n",
    "#old_model['model']['RCNN_base.0.weight']"
   ]
  },
  {
   "cell_type": "code",
   "execution_count": null,
   "id": "656bb61b",
   "metadata": {},
   "outputs": [],
   "source": [
    "model = Trainer.build_model(cfg)\n",
    "DetectionCheckpointer(model, save_dir=cfg.OUTPUT_DIR).resume_or_load(\n",
    "                cfg.MODEL.WEIGHTS, resume=args.resume\n",
    "    )\n",
    "res = Trainer.test(cfg, model)"
   ]
  },
  {
   "cell_type": "code",
   "execution_count": null,
   "id": "a881cc64",
   "metadata": {},
   "outputs": [],
   "source": []
  }
 ],
 "metadata": {
  "kernelspec": {
   "display_name": "detectron2",
   "language": "python",
   "name": "detectron2"
  },
  "language_info": {
   "codemirror_mode": {
    "name": "ipython",
    "version": 3
   },
   "file_extension": ".py",
   "mimetype": "text/x-python",
   "name": "python",
   "nbconvert_exporter": "python",
   "pygments_lexer": "ipython3",
   "version": "3.8.10"
  }
 },
 "nbformat": 4,
 "nbformat_minor": 5
}
