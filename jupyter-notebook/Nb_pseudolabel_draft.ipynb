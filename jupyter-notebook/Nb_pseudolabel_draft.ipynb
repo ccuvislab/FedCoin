{
 "cells": [
  {
   "cell_type": "markdown",
   "id": "e19e9687",
   "metadata": {},
   "source": [
    "## pseudo label"
   ]
  },
  {
   "cell_type": "code",
   "execution_count": 3,
   "id": "361d300b",
   "metadata": {},
   "outputs": [
    {
     "name": "stderr",
     "output_type": "stream",
     "text": [
      "/home/superorange5/.local/lib/python3.8/site-packages/torchvision/transforms/transforms.py:803: UserWarning: Argument interpolation should be of type InterpolationMode instead of int. Please, use InterpolationMode enum.\n",
      "  warnings.warn(\n"
     ]
    }
   ],
   "source": [
    "# to register\n",
    "from pt.modeling.meta_arch.rcnn import GuassianGeneralizedRCNN\n",
    "from pt.modeling.proposal_generator.rpn import GuassianRPN\n",
    "from pt.modeling.roi_heads.roi_heads import GuassianROIHead\n",
    "import pt.data.datasets.builtin\n",
    "from pt.modeling.backbone.vgg import build_vgg_backbone\n",
    "from pt.modeling.anchor_generator import DifferentiableAnchorGenerator\n",
    "from pt.modeling.meta_arch.ts_ensemble import EnsembleTSModel\n",
    "\n",
    "import torch\n"
   ]
  },
  {
   "cell_type": "code",
   "execution_count": 4,
   "id": "4f31943c",
   "metadata": {},
   "outputs": [],
   "source": [
    "from detectron2.config import get_cfg\n",
    "from pt import add_config\n",
    "\n",
    "def setup(config_file):\n",
    "    \"\"\"\n",
    "    Create configs and perform basic setups.\n",
    "    \"\"\"\n",
    "    cfg = get_cfg()\n",
    "    add_config(cfg)\n",
    "    cfg.merge_from_file(config_file)\n",
    "    #cfg.merge_from_list(args.opts)\n",
    "    \n",
    "    #default_setup(cfg, args)\n",
    "#     cfg.SOLVER.IMG_PER_BATCH_LABEL = 64\n",
    "#     cfg.SOLVER.IMG_PER_BATCH_UNLABEL = 64\n",
    "\n",
    "    cfg.freeze()\n",
    "    return cfg"
   ]
  },
  {
   "cell_type": "markdown",
   "id": "882af013",
   "metadata": {},
   "source": [
    "### load model"
   ]
  },
  {
   "cell_type": "code",
   "execution_count": 5,
   "id": "e451dcb3",
   "metadata": {},
   "outputs": [
    {
     "name": "stdout",
     "output_type": "stream",
     "text": [
      "NOTE! Installing ujson may make loading annotations faster.\n"
     ]
    }
   ],
   "source": [
    "from detectron2.modeling import build_model\n",
    "from pt.engine.trainer import PTrainer\n",
    "from detectron2.checkpoint import DetectionCheckpointer\n",
    "\n",
    "def load_TSmodel(cfg_path, model_path):\n",
    "    cfg = setup(cfg_path)\n",
    "    #cfg.defrost()\n",
    "    #cfg.MODEL.WEIGHTS = model_path\n",
    "    \n",
    "    Trainer =PTrainer\n",
    "    model = Trainer.build_model(cfg)\n",
    "    model_teacher = Trainer.build_model(cfg)\n",
    "    ensem_ts_model = EnsembleTSModel(model_teacher, model)    \n",
    "    \n",
    "    \n",
    "    DetectionCheckpointer(ensem_ts_model).resume_or_load(model_path, resume=False)\n",
    "    \n",
    "    return ensem_ts_model"
   ]
  },
  {
   "cell_type": "code",
   "execution_count": 6,
   "id": "ea46f565",
   "metadata": {},
   "outputs": [],
   "source": [
    "import os\n",
    "model_folder = 'keep_experiments'\n",
    "\n",
    "def get_model(dataset_name,model_num):\n",
    "    if model_num =='final':\n",
    "        model_name ='model_final.pth'\n",
    "    else:\n",
    "        model_name = 'model_{0:07d}.pth'.format(model_num)\n",
    "    model_path = os.path.join(model_folder,dataset_name,model_name)\n",
    "    cfg_path = os.path.join(model_folder,dataset_name,'cfg.yaml')\n",
    "    print(cfg_path)\n",
    "    print(model_path)\n",
    "    return load_TSmodel(cfg_path, model_path)"
   ]
  },
  {
   "cell_type": "code",
   "execution_count": 7,
   "id": "be192cbe",
   "metadata": {},
   "outputs": [
    {
     "name": "stdout",
     "output_type": "stream",
     "text": [
      "keep_experiments/c2b/cfg.yaml\n",
      "keep_experiments/c2b/model_0011999.pth\n",
      "-------- pretrained model loaded ---------\n",
      "-------- pretrained model loaded ---------\n",
      "keep_experiments/k2b/cfg.yaml\n",
      "keep_experiments/k2b/model_final.pth\n",
      "-------- pretrained model loaded ---------\n",
      "-------- pretrained model loaded ---------\n"
     ]
    }
   ],
   "source": [
    "#--------ck2bdd-------\n",
    "model_c2b = get_model('c2b', 11999)\n",
    "model_k2b = get_model('k2b', 'final')\n",
    "model_list_ck2b=[model_c2b,model_k2b]\n",
    "\n"
   ]
  },
  {
   "cell_type": "markdown",
   "id": "82d83b3d",
   "metadata": {},
   "source": [
    "### load dataset"
   ]
  },
  {
   "cell_type": "markdown",
   "id": "f9bc80d2",
   "metadata": {},
   "source": [
    "* test dataset"
   ]
  },
  {
   "cell_type": "code",
   "execution_count": 8,
   "id": "ab25b7f3",
   "metadata": {},
   "outputs": [],
   "source": [
    "from detectron2.data import build_detection_test_loader\n",
    "\n",
    "cfg = setup(\"configs/pt/smallc2b.yaml\")\n",
    "\n",
    "dataset_name = 'VOC2007_bddvalsmall'\n",
    "test_data_loader = build_detection_test_loader(cfg, dataset_name)"
   ]
  },
  {
   "cell_type": "code",
   "execution_count": 9,
   "id": "9af39238",
   "metadata": {},
   "outputs": [
    {
     "data": {
      "text/plain": [
       "'data/VOC2007_bddval/JPEGImages/b1c66a42-6f7d68ca.jpg'"
      ]
     },
     "execution_count": 9,
     "metadata": {},
     "output_type": "execute_result"
    }
   ],
   "source": [
    "data_loader_iter = iter(test_data_loader)\n",
    "test_data = data_loader_iter.next()\n",
    "test_data[0]['file_name']"
   ]
  },
  {
   "cell_type": "code",
   "execution_count": 10,
   "id": "97020899",
   "metadata": {},
   "outputs": [
    {
     "data": {
      "text/plain": [
       "5"
      ]
     },
     "execution_count": 10,
     "metadata": {},
     "output_type": "execute_result"
    }
   ],
   "source": [
    "len(data_loader_iter)"
   ]
  },
  {
   "cell_type": "markdown",
   "id": "a49d163c",
   "metadata": {},
   "source": [
    "## load annotation"
   ]
  },
  {
   "cell_type": "code",
   "execution_count": 11,
   "id": "0422adca",
   "metadata": {},
   "outputs": [
    {
     "name": "stdout",
     "output_type": "stream",
     "text": [
      "data/VOC2007_bddval/JPEGImages/b1c66a42-6f7d68ca.jpg\n"
     ]
    },
    {
     "data": {
      "text/plain": [
       "19"
      ]
     },
     "execution_count": 11,
     "metadata": {},
     "output_type": "execute_result"
    }
   ],
   "source": [
    "from detectron2.data import DatasetCatalog\n",
    "\n",
    "data_annotation = DatasetCatalog.get(dataset_name)\n",
    "print(data_annotation[0]['file_name'])\n",
    "len(data_annotation[0]['annotations'])"
   ]
  },
  {
   "cell_type": "code",
   "execution_count": 12,
   "id": "98a26671",
   "metadata": {},
   "outputs": [
    {
     "name": "stdout",
     "output_type": "stream",
     "text": [
      "0\n",
      "[206.0, 338.0, 283.0, 389.0]\n"
     ]
    }
   ],
   "source": [
    "print (data_annotation[0]['annotations'][0]['category_id'])\n",
    "print (data_annotation[0]['annotations'][0]['bbox'])"
   ]
  },
  {
   "cell_type": "markdown",
   "id": "1187bc3c",
   "metadata": {},
   "source": [
    "### feed to different model"
   ]
  },
  {
   "cell_type": "code",
   "execution_count": 13,
   "id": "4719bef9",
   "metadata": {},
   "outputs": [],
   "source": [
    "def get_proposal_roih(data,model):\n",
    "    with torch.no_grad():\n",
    "        (_,  proposals_rpn_unsup_k, proposals_roih_unsup_k, _,) =model.modelStudent(\n",
    "            data, branch=\"unsup_data_weak\")\n",
    "    return proposals_roih_unsup_k"
   ]
  },
  {
   "cell_type": "code",
   "execution_count": 785,
   "id": "13dc5cbe",
   "metadata": {},
   "outputs": [],
   "source": [
    "proposals_roih_c2b = get_proposal_roih(test_data,model_c2b)\n",
    "proposals_roih_k2b = get_proposal_roih(test_data,model_k2b)"
   ]
  },
  {
   "cell_type": "markdown",
   "id": "e42b8023",
   "metadata": {},
   "source": [
    "## analyze TN and FP"
   ]
  },
  {
   "cell_type": "code",
   "execution_count": 788,
   "id": "be0950d7",
   "metadata": {},
   "outputs": [],
   "source": [
    "def TNFP_analysis(proposals_roih_s1, proposals_roih_s2, gt):\n",
    "    #gt = data_annotation[0]['annotations']\n",
    "    box_list=[]\n",
    "    for ann in gt:\n",
    "        box_list.append(ann['bbox'])\n",
    "    bboxes_gt = structures.Boxes(torch.Tensor(box_list)).to(\"cuda\")\n",
    "    \n",
    "    s1_prediction = scaling(proposals_roih_s1)\n",
    "    s2_prediction = scaling(proposals_roih_s2)\n",
    "    \n",
    "    pairwise_gt_s1 = structures.pairwise_iou(bboxes_gt,s1_prediction)\n",
    "    pairwise_gt_s2 = structures.pairwise_iou(bboxes_gt,s2_prediction)\n",
    "    \n",
    "    \n",
    "    \n",
    "    match_array_gt_s1 = get_match_array(pairwise_gt_s1)\n",
    "    print(match_array_gt_s1)    \n",
    "    match_array_gt_s2 = get_match_array(pairwise_gt_s2)\n",
    "    \n",
    "    TN_s1=TN_s2=TN_3=TP = 0\n",
    "    \n",
    "    for i in range(len(match_array_gt_s1)):\n",
    "        # nobody found it\n",
    "        if match_array_gt_s1[i]==False and match_array_gt_s2[i]==False:\n",
    "            #print(i)\n",
    "            TN_3+=1\n",
    "        elif match_array_gt_s1[i]==False:\n",
    "                TN_s1+=1\n",
    "        elif match_array_gt_s2[i]==False:\n",
    "                TN_s2+=1\n",
    "        else:\n",
    "            TP+=1\n",
    "        \n",
    "    pairwise_s1_gt = structures.pairwise_iou(s1_prediction,bboxes_gt)\n",
    "    pairwise_s2_gt = structures.pairwise_iou(s2_prediction,bboxes_gt)\n",
    "    pairwise_s1_s2 = structures.pairwise_iou(s1_prediction,s2_prediction)\n",
    "    pairwise_s2_s1 = structures.pairwise_iou(s2_prediction,s1_prediction)\n",
    "                \n",
    "    \n",
    "    match_array_s1_gt = get_match_array(pairwise_s1_gt)\n",
    "    match_array_s1_s2 = get_match_array(pairwise_s1_s2)\n",
    "    \n",
    "    FP_s1= FP_s2= FP_3 = 0\n",
    "    for i in range(len(match_array_s1_gt)):\n",
    "        if not match_array_s1_gt[i]:\n",
    "            if not match_array_s1_s2[i]:\n",
    "                FP_s1+=1\n",
    "            else:\n",
    "                FP_3+=1\n",
    "\n",
    "    match_array_s2_gt = get_match_array(pairwise_s2_gt)\n",
    "    match_array_s2_s1 = get_match_array(pairwise_s2_s1)\n",
    "\n",
    "    for i in range(len(match_array_s2_gt)):\n",
    "        if not match_array_s2_gt[i]:\n",
    "            if not match_array_s2_s1[i]:\n",
    "                FP_s2+=1\n",
    "            else:\n",
    "                FP_3+=1\n",
    "\n",
    "    return TN_s1,TN_s2, TN_3, TP, FP_s1, FP_s2, FP_3"
   ]
  },
  {
   "cell_type": "code",
   "execution_count": 783,
   "id": "fd0ceca6",
   "metadata": {},
   "outputs": [],
   "source": [
    "def get_match_array_all(proposals_roih, gt):\n",
    "    source_num = len(proposals_roih)\n",
    "    #proposals_roih: array\n",
    "    #gt = data_annotation[0]['annotations']\n",
    "    box_list=[]\n",
    "    for ann in gt:\n",
    "        box_list.append(ann['bbox'])\n",
    "    bboxes_gt = structures.Boxes(torch.Tensor(box_list)).to(\"cuda\")\n",
    "    \n",
    "    source_prediction = []\n",
    "    for proposals_roih_n in proposals_roih:\n",
    "        prediction_temp = scaling(proposals_roih_n)\n",
    "        source_prediction.append(prediction_temp)\n",
    "        \n",
    "    #pairwise_gt_list = []\n",
    "    match_array_gt =[]\n",
    "    for source_prediction_n in source_prediction:\n",
    "        pairwise_gt_src = structures.pairwise_iou(bboxes_gt,source_prediction_n)\n",
    "        match_gt_src = get_match_array(pairwise_gt_src)\n",
    "        print(pairwise_gt_src)\n",
    "        #pairwise_gt_list.append(pairwise_gt_src)\n",
    "        match_array_gt.append(match_gt_src)\n",
    "    \n",
    "    #pairwise_src2others = []\n",
    "    match_array_source = []\n",
    "    for i, source_prediction_n in enumerate(source_prediction):\n",
    "        match_array_source_n =[]\n",
    "        #gt\n",
    "        source_n_match_gt = structures.pairwise_iou(source_prediction_n,bboxes_gt)\n",
    "        #pairwise_src2gt.append(source_n_match_gt)\n",
    "        match_array_source_n.append(get_match_array(source_n_match_gt))\n",
    "        # others\n",
    "        #pairwise_sa_sb = []        \n",
    "        for j in range(source_num):\n",
    "            if j!=i:\n",
    "                sourcen_n_match_other = structures.pairwise_iou(source_prediction_n,source_prediction[j])\n",
    "                #pairwise_sa_sb.append(sourcen_n_match_other)\n",
    "                match_array_source_n.append(get_match_array(sourcen_n_match_other))\n",
    "        match_array_source.append(match_array_source_n)                                                            \n",
    "                                                              \n",
    "        \n",
    "    return  match_array_gt, match_array_source\n"
   ]
  },
  {
   "cell_type": "code",
   "execution_count": 784,
   "id": "6810c4fb",
   "metadata": {},
   "outputs": [
    {
     "name": "stdout",
     "output_type": "stream",
     "text": [
      "tensor([[0.0000, 0.1287, 0.0000, 0.0000, 0.0343, 0.0000, 0.0000, 0.0000, 0.0000,\n",
      "         0.0000, 0.0208, 0.0220, 0.0000, 0.0000, 0.0000, 0.0000, 0.0000, 0.0000,\n",
      "         0.0000, 0.0000, 0.0000, 0.0000, 0.0000, 0.0000, 0.0000, 0.0000],\n",
      "        [0.0000, 0.0000, 0.0000, 0.0000, 0.0722, 0.0000, 0.0000, 0.0000, 0.0000,\n",
      "         0.0000, 0.0258, 0.1048, 0.0000, 0.0000, 0.0000, 0.0000, 0.0000, 0.0000,\n",
      "         0.0000, 0.0000, 0.0000, 0.0000, 0.0000, 0.0000, 0.0000, 0.0000],\n",
      "        [0.0000, 0.1755, 0.0000, 0.0000, 0.0040, 0.0000, 0.0000, 0.0000, 0.0000,\n",
      "         0.0000, 0.0283, 0.0000, 0.0000, 0.0000, 0.0000, 0.0000, 0.0000, 0.0000,\n",
      "         0.0000, 0.0000, 0.0000, 0.0000, 0.0000, 0.0000, 0.0000, 0.0000],\n",
      "        [0.0000, 0.0000, 0.0000, 0.0000, 0.0495, 0.0000, 0.0000, 0.0000, 0.0000,\n",
      "         0.0000, 0.0072, 0.0785, 0.0000, 0.0000, 0.0000, 0.0000, 0.0000, 0.0000,\n",
      "         0.0000, 0.0000, 0.0000, 0.0000, 0.0000, 0.0000, 0.0000, 0.0000],\n",
      "        [0.0690, 0.0000, 0.0000, 0.0000, 0.0000, 0.0000, 0.0000, 0.0000, 0.0000,\n",
      "         0.0000, 0.0000, 0.0000, 0.0000, 0.0000, 0.0000, 0.0000, 0.0000, 0.0000,\n",
      "         0.0000, 0.0000, 0.0000, 0.0000, 0.0000, 0.0000, 0.0000, 0.0000],\n",
      "        [0.0413, 0.0000, 0.0000, 0.0000, 0.0000, 0.0000, 0.0000, 0.0000, 0.0000,\n",
      "         0.0000, 0.0000, 0.0000, 0.0000, 0.0000, 0.0000, 0.0000, 0.0000, 0.0000,\n",
      "         0.0000, 0.0000, 0.0000, 0.0000, 0.0000, 0.0000, 0.0000, 0.0000],\n",
      "        [0.0449, 0.0000, 0.0000, 0.0000, 0.0000, 0.0000, 0.0000, 0.0000, 0.0000,\n",
      "         0.0000, 0.0000, 0.0000, 0.0000, 0.0000, 0.0000, 0.0000, 0.0000, 0.0000,\n",
      "         0.0000, 0.0000, 0.0000, 0.0000, 0.0000, 0.0000, 0.0000, 0.0000],\n",
      "        [0.0635, 0.0000, 0.0000, 0.0000, 0.0000, 0.0000, 0.0000, 0.0000, 0.0000,\n",
      "         0.0000, 0.0000, 0.0000, 0.0000, 0.0000, 0.0000, 0.0000, 0.0000, 0.0000,\n",
      "         0.0000, 0.0000, 0.0000, 0.0000, 0.0000, 0.0000, 0.0000, 0.0000],\n",
      "        [0.0087, 0.0000, 0.0000, 0.0000, 0.0000, 0.0000, 0.0000, 0.0000, 0.0000,\n",
      "         0.0000, 0.0000, 0.0000, 0.0000, 0.0000, 0.0000, 0.0000, 0.0000, 0.0000,\n",
      "         0.0000, 0.0000, 0.0000, 0.0000, 0.0000, 0.0000, 0.0000, 0.0000],\n",
      "        [0.0000, 0.0000, 0.0000, 0.0000, 0.0000, 0.0000, 0.0496, 0.0000, 0.0000,\n",
      "         0.0000, 0.0000, 0.0000, 0.0000, 0.0000, 0.0000, 0.0000, 0.0000, 0.0000,\n",
      "         0.0000, 0.0000, 0.0000, 0.0000, 0.0000, 0.0000, 0.0145, 0.0000],\n",
      "        [0.0000, 0.0000, 0.0000, 0.0000, 0.0000, 0.0000, 0.1132, 0.0000, 0.0000,\n",
      "         0.0000, 0.0000, 0.0000, 0.0000, 0.0101, 0.0084, 0.0000, 0.0000, 0.0000,\n",
      "         0.0000, 0.0572, 0.0000, 0.0000, 0.0000, 0.0000, 0.1249, 0.0000],\n",
      "        [0.0000, 0.0000, 0.0000, 0.0000, 0.0000, 0.0000, 0.0000, 0.0000, 0.0166,\n",
      "         0.0000, 0.0000, 0.0000, 0.0000, 0.0000, 0.0000, 0.0000, 0.0000, 0.0000,\n",
      "         0.0000, 0.0000, 0.0316, 0.0000, 0.0000, 0.0000, 0.0000, 0.0000],\n",
      "        [0.0000, 0.0000, 0.0033, 0.0000, 0.0000, 0.0000, 0.0000, 0.0000, 0.0000,\n",
      "         0.0000, 0.0010, 0.0000, 0.0000, 0.0000, 0.0000, 0.0000, 0.0000, 0.0000,\n",
      "         0.0000, 0.0000, 0.0000, 0.0000, 0.0000, 0.0000, 0.0000, 0.0000],\n",
      "        [0.0000, 0.0000, 0.0043, 0.0000, 0.0000, 0.0000, 0.0000, 0.0000, 0.0000,\n",
      "         0.0000, 0.0012, 0.0000, 0.0000, 0.0000, 0.0000, 0.0000, 0.0000, 0.0000,\n",
      "         0.0000, 0.0000, 0.0000, 0.0000, 0.0000, 0.0000, 0.0000, 0.0000],\n",
      "        [0.0000, 0.0000, 0.0073, 0.0000, 0.0000, 0.0000, 0.0000, 0.0000, 0.0000,\n",
      "         0.0000, 0.0021, 0.0000, 0.0000, 0.0000, 0.0000, 0.0000, 0.0000, 0.0000,\n",
      "         0.0000, 0.0000, 0.0000, 0.0000, 0.0000, 0.0000, 0.0000, 0.0000],\n",
      "        [0.0019, 0.0000, 0.0264, 0.0000, 0.0000, 0.0000, 0.0000, 0.0000, 0.0000,\n",
      "         0.0000, 0.0076, 0.0000, 0.0000, 0.0000, 0.0000, 0.0000, 0.0000, 0.0000,\n",
      "         0.0000, 0.0000, 0.0000, 0.0000, 0.0000, 0.0000, 0.0000, 0.0000],\n",
      "        [0.0000, 0.0000, 0.0043, 0.0000, 0.0000, 0.0000, 0.0000, 0.0000, 0.0000,\n",
      "         0.0000, 0.0012, 0.0000, 0.0000, 0.0000, 0.0000, 0.0000, 0.0000, 0.0000,\n",
      "         0.0000, 0.0000, 0.0000, 0.0000, 0.0000, 0.0000, 0.0000, 0.0000],\n",
      "        [0.0000, 0.0000, 0.0047, 0.0000, 0.0000, 0.0000, 0.0000, 0.0000, 0.0000,\n",
      "         0.0000, 0.0013, 0.0000, 0.0000, 0.0000, 0.0000, 0.0000, 0.0000, 0.0000,\n",
      "         0.0000, 0.0000, 0.0000, 0.0000, 0.0000, 0.0000, 0.0000, 0.0000],\n",
      "        [0.0000, 0.0000, 0.0104, 0.0000, 0.0000, 0.0000, 0.0000, 0.0000, 0.0000,\n",
      "         0.0000, 0.0030, 0.0000, 0.0000, 0.0000, 0.0000, 0.0000, 0.0000, 0.0000,\n",
      "         0.0000, 0.0000, 0.0000, 0.0000, 0.0000, 0.0000, 0.0000, 0.0000]],\n",
      "       device='cuda:0')\n",
      "tensor([[0.0000, 0.1577, 0.0000, 0.0000, 0.0293, 0.0000, 0.0207, 0.0000, 0.0000],\n",
      "        [0.0000, 0.0000, 0.0000, 0.0000, 0.0818, 0.0000, 0.0257, 0.0000, 0.0000],\n",
      "        [0.0000, 0.1843, 0.0000, 0.0000, 0.0000, 0.0000, 0.0282, 0.0000, 0.0000],\n",
      "        [0.0000, 0.0000, 0.0000, 0.0000, 0.0556, 0.0000, 0.0187, 0.0000, 0.0000],\n",
      "        [0.0752, 0.0000, 0.0000, 0.0000, 0.0000, 0.0000, 0.0000, 0.0000, 0.0000],\n",
      "        [0.0437, 0.0000, 0.0000, 0.0000, 0.0000, 0.0000, 0.0000, 0.0000, 0.0000],\n",
      "        [0.0465, 0.0000, 0.0000, 0.0000, 0.0000, 0.0000, 0.0000, 0.0000, 0.0000],\n",
      "        [0.0548, 0.0000, 0.0000, 0.0000, 0.0000, 0.0000, 0.0000, 0.0000, 0.0000],\n",
      "        [0.0000, 0.0000, 0.0000, 0.0000, 0.0000, 0.0000, 0.0000, 0.0000, 0.0000],\n",
      "        [0.0000, 0.0000, 0.0000, 0.0000, 0.0000, 0.0000, 0.0000, 0.0000, 0.0000],\n",
      "        [0.0000, 0.0000, 0.0000, 0.0000, 0.0000, 0.0000, 0.0000, 0.0000, 0.0000],\n",
      "        [0.0000, 0.0000, 0.0000, 0.0000, 0.0000, 0.0000, 0.0000, 0.0000, 0.0000],\n",
      "        [0.0000, 0.0000, 0.0041, 0.0000, 0.0000, 0.0000, 0.0010, 0.0000, 0.0000],\n",
      "        [0.0000, 0.0000, 0.0052, 0.0000, 0.0000, 0.0000, 0.0012, 0.0000, 0.0000],\n",
      "        [0.0000, 0.0000, 0.0088, 0.0000, 0.0000, 0.0000, 0.0021, 0.0000, 0.0000],\n",
      "        [0.0000, 0.0000, 0.0320, 0.0000, 0.0000, 0.0000, 0.0076, 0.0000, 0.0000],\n",
      "        [0.0000, 0.0000, 0.0052, 0.0000, 0.0000, 0.0000, 0.0012, 0.0000, 0.0000],\n",
      "        [0.0000, 0.0000, 0.0057, 0.0000, 0.0000, 0.0000, 0.0013, 0.0000, 0.0000],\n",
      "        [0.0000, 0.0000, 0.0127, 0.0000, 0.0000, 0.0000, 0.0030, 0.0000, 0.0000]],\n",
      "       device='cuda:0')\n"
     ]
    }
   ],
   "source": [
    "proposals_roih_c2b = get_proposal_roih(test_data,model_c2b)\n",
    "proposals_roih_k2b = get_proposal_roih(test_data,model_k2b)\n",
    "\n",
    "proposals_roih_multiple =[proposals_roih_k2b,proposals_roih_c2b]\n",
    "ma_gt, ma_src = get_match_array_all(proposals_roih_multiple, data_annotation[0]['annotations'])"
   ]
  },
  {
   "cell_type": "code",
   "execution_count": 778,
   "id": "76f3588f",
   "metadata": {},
   "outputs": [
    {
     "data": {
      "text/plain": [
       "[[True,\n",
       "  True,\n",
       "  True,\n",
       "  True,\n",
       "  True,\n",
       "  True,\n",
       "  True,\n",
       "  True,\n",
       "  True,\n",
       "  True,\n",
       "  True,\n",
       "  True,\n",
       "  True,\n",
       "  True,\n",
       "  True,\n",
       "  True,\n",
       "  True,\n",
       "  True,\n",
       "  True],\n",
       " [True,\n",
       "  True,\n",
       "  True,\n",
       "  True,\n",
       "  True,\n",
       "  True,\n",
       "  True,\n",
       "  True,\n",
       "  False,\n",
       "  False,\n",
       "  False,\n",
       "  False,\n",
       "  True,\n",
       "  True,\n",
       "  True,\n",
       "  True,\n",
       "  True,\n",
       "  True,\n",
       "  True]]"
      ]
     },
     "execution_count": 778,
     "metadata": {},
     "output_type": "execute_result"
    }
   ],
   "source": [
    "ma_gt"
   ]
  },
  {
   "cell_type": "code",
   "execution_count": 775,
   "id": "53d61219",
   "metadata": {},
   "outputs": [],
   "source": [
    "proposals_roih_s2c = get_proposal_roih(test_data,model_s2c)\n",
    "proposals_roih_k2c = get_proposal_roih(test_data,model_k2c)\n",
    "proposals_roih_f2c = get_proposal_roih(test_data,model_f2c)\n",
    "\n",
    "proposals_roih_multiple =[proposals_roih_s2c,proposals_roih_f2c,proposals_roih_k2c]\n",
    "ma_gt, ma_src = get_match_array_all(proposals_roih_multiple, data_annotation[0]['annotations'])"
   ]
  },
  {
   "cell_type": "code",
   "execution_count": 776,
   "id": "3f70bda9",
   "metadata": {},
   "outputs": [
    {
     "data": {
      "text/plain": [
       "[[True,\n",
       "  True,\n",
       "  True,\n",
       "  True,\n",
       "  True,\n",
       "  True,\n",
       "  True,\n",
       "  True,\n",
       "  True,\n",
       "  True,\n",
       "  True,\n",
       "  True,\n",
       "  True,\n",
       "  True,\n",
       "  True,\n",
       "  True,\n",
       "  True,\n",
       "  True,\n",
       "  True],\n",
       " [True,\n",
       "  True,\n",
       "  True,\n",
       "  True,\n",
       "  True,\n",
       "  True,\n",
       "  True,\n",
       "  True,\n",
       "  True,\n",
       "  True,\n",
       "  True,\n",
       "  True,\n",
       "  True,\n",
       "  True,\n",
       "  True,\n",
       "  True,\n",
       "  True,\n",
       "  True,\n",
       "  True],\n",
       " [True,\n",
       "  True,\n",
       "  True,\n",
       "  True,\n",
       "  True,\n",
       "  True,\n",
       "  True,\n",
       "  True,\n",
       "  True,\n",
       "  True,\n",
       "  True,\n",
       "  True,\n",
       "  True,\n",
       "  True,\n",
       "  True,\n",
       "  True,\n",
       "  True,\n",
       "  True,\n",
       "  True]]"
      ]
     },
     "execution_count": 776,
     "metadata": {},
     "output_type": "execute_result"
    }
   ],
   "source": [
    "ma_gt"
   ]
  },
  {
   "cell_type": "code",
   "execution_count": 762,
   "id": "1c9ac38b",
   "metadata": {},
   "outputs": [
    {
     "data": {
      "text/plain": [
       "9"
      ]
     },
     "execution_count": 762,
     "metadata": {},
     "output_type": "execute_result"
    }
   ],
   "source": [
    "len(ma_src[1][0])"
   ]
  },
  {
   "cell_type": "code",
   "execution_count": 789,
   "id": "b89bda72",
   "metadata": {},
   "outputs": [
    {
     "name": "stdout",
     "output_type": "stream",
     "text": [
      "[True, True, True, True, True, True, True, True, True, True, True, True, True, True, True, True, True, True, True]\n",
      "0 1 0 18 13 0 0\n"
     ]
    }
   ],
   "source": [
    "TN_s1,TN_s2, TN_3, TP, FP_s1, FP_s2, FP_3 = TNFP_analysis(proposals_roih_k2b , proposals_roih_c2b, data_annotation[0]['annotations'])\n",
    "print(TN_s1,TN_s2, TN_3, TP, FP_s1, FP_s2, FP_3)"
   ]
  },
  {
   "cell_type": "markdown",
   "id": "cba97fbd",
   "metadata": {},
   "source": [
    "## c2b"
   ]
  },
  {
   "cell_type": "code",
   "execution_count": 576,
   "id": "b1e16d35",
   "metadata": {},
   "outputs": [],
   "source": [
    "from detectron2.data import build_detection_test_loader\n",
    "\n",
    "cfg = setup(\"configs/pt/k2bdd.yaml\")\n",
    "dataset_name = 'VOC2007_bddval1'\n",
    "test_data_loader = build_detection_test_loader(cfg, dataset_name)\n",
    "\n",
    "model_c2b = get_model('c2b', 11999)\n",
    "model_k2b = get_model('k2b', 'final')\n",
    "model_list_ck2b=[model_k2b,model_c2b]\n",
    "\n",
    "\n",
    "eval_metric_summary(test_data_loader,model_list_ck2b)"
   ]
  },
  {
   "cell_type": "markdown",
   "id": "28bd1494",
   "metadata": {},
   "source": [
    "## skf2c"
   ]
  },
  {
   "cell_type": "code",
   "execution_count": 740,
   "id": "3a23dbb9",
   "metadata": {},
   "outputs": [
    {
     "name": "stdout",
     "output_type": "stream",
     "text": [
      "keep_experiments/s2c/cfg.yaml\n",
      "keep_experiments/s2c/model_0015999.pth\n",
      "-------- pretrained model loaded ---------\n",
      "-------- pretrained model loaded ---------\n",
      "keep_experiments/k2c/cfg.yaml\n",
      "keep_experiments/k2c/model_0019999.pth\n",
      "-------- pretrained model loaded ---------\n",
      "-------- pretrained model loaded ---------\n",
      "keep_experiments/f2c/cfg.yaml\n",
      "keep_experiments/f2c/model_final.pth\n",
      "-------- pretrained model loaded ---------\n",
      "-------- pretrained model loaded ---------\n"
     ]
    }
   ],
   "source": [
    "\n",
    "cfg = setup(\"configs/pt/final_k2c.yaml\")\n",
    "dataset_name = 'VOC2007_cityval1'\n",
    "test_data_loader = build_detection_test_loader(cfg, dataset_name)\n",
    "\n",
    "\n",
    "#---------skf2c-------\n",
    "model_s2c = get_model('s2c', 15999)\n",
    "model_k2c = get_model('k2c', 19999)\n",
    "model_f2c = get_model('f2c', 'final') #8class\n",
    "model_list_skf2c=[model_k2c,model_f2c]\n",
    "\n",
    "\n",
    "eval_metric_summary(test_data_loader,model_list_skf2c,'eval_metric_kf2c.csv')"
   ]
  },
  {
   "cell_type": "code",
   "execution_count": 712,
   "id": "f63dc130",
   "metadata": {},
   "outputs": [],
   "source": [
    "#data_loader_iter = iter(test_data_loader)\n",
    "def eval_metric_summary(test_data_loader, model_list,output_file):\n",
    "    f = open(output_file, \"a\")\n",
    "\n",
    "    for test_data in test_data_loader:\n",
    "        file_name = os.path.basename(test_data[0]['file_name'])\n",
    "        \n",
    "        proposals_roih_k2b = get_proposal_roih(test_data,model_list[0])\n",
    "        proposals_roih_c2b = get_proposal_roih(test_data,model_list[1])\n",
    "        \n",
    "        TN_s1,TN_s2, TN_3, TP, FP_s1, FP_s2, FP_3 = TNFP_analysis(proposals_roih_k2b , proposals_roih_c2b, data_annotation[0]['annotations'])\n",
    "        f.write(\"{},{},{},{},{},{},{},{}\\n\".format(os.path.splitext(file_name)[0], TN_s1,TN_s2, TN_3, TP, FP_s1, FP_s2, FP_3))\n",
    "    f.close()"
   ]
  },
  {
   "cell_type": "markdown",
   "id": "ca16ef69",
   "metadata": {},
   "source": [
    "# statistic from file"
   ]
  },
  {
   "cell_type": "code",
   "execution_count": null,
   "id": "80a5ff4e",
   "metadata": {},
   "outputs": [],
   "source": []
  },
  {
   "cell_type": "code",
   "execution_count": 727,
   "id": "247dcbf6",
   "metadata": {},
   "outputs": [],
   "source": [
    "import pandas as pd\n",
    "\n",
    "def add_ratio_cols(input_file):\n",
    "    colnames=['filename','TN_s1','TN_s2', 'TN_3', 'TP', 'FP_s1', 'FP_s2', 'FP_3' ] \n",
    "\n",
    "    eval_ck2b = pd.read_csv(input_file,names = colnames)\n",
    "    #len(eval_ck2b.index)\n",
    "    #list(eval_ck2b.columns.values)\n",
    "\n",
    "    eval_ck2b['total'] = eval_ck2b.loc[:, eval_ck2b.columns != 'filename'].sum(axis = 1)\n",
    "    eval_ck2b['TN_s1_ratio'] = eval_ck2b['TN_s1']/eval_ck2b['total']\n",
    "    eval_ck2b['TN_s2_ratio'] = eval_ck2b['TN_s2']/eval_ck2b['total']\n",
    "    eval_ck2b['FP_s1_ratio'] = eval_ck2b['FP_s1']/eval_ck2b['total']\n",
    "    eval_ck2b['FP_s2_ratio'] = eval_ck2b['FP_s2']/eval_ck2b['total']\n",
    "    eval_ck2b['TN_comb_ratio'] = (eval_ck2b['TN_s1']+eval_ck2b['TN_s2'])/eval_ck2b['total']\n",
    "    eval_ck2b['FP_comb_ratio'] = (eval_ck2b['FP_s1']+eval_ck2b['FP_s2'])/eval_ck2b['total']\n",
    "    eval_ck2b['TN_3_ratio'] = eval_ck2b['TN_3']/eval_ck2b['total']\n",
    "    eval_ck2b['FP_3_ratio'] = eval_ck2b['FP_3']/eval_ck2b['total']\n",
    "    eval_ck2b['TP_ratio'] = eval_ck2b['TP']/eval_ck2b['total']\n",
    "    \n",
    "    return eval_ck2b\n",
    "    \n",
    "    "
   ]
  },
  {
   "cell_type": "code",
   "execution_count": 728,
   "id": "ea9a94ac",
   "metadata": {},
   "outputs": [],
   "source": [
    "def gen_pie_chart_list_all(eval_ck2b):\n",
    "    pie_chart_list = [ eval_ck2b['TN_s1_ratio'].mean(),\n",
    "                  eval_ck2b['TN_s2_ratio'].mean(),\n",
    "                  eval_ck2b['TN_3_ratio'].mean(),\n",
    "                  eval_ck2b['TP_ratio'].mean(),\n",
    "                  eval_ck2b['FP_s1_ratio'].mean(),\n",
    "                  eval_ck2b['FP_s2_ratio'].mean(),\n",
    "                  eval_ck2b['FP_3_ratio'].mean()]\n",
    "    labels =['TN_s1','TN_s2','TN_3','TP','FP_s1','FP_s2','FP_3']\n",
    "    return pie_chart_list,labels"
   ]
  },
  {
   "cell_type": "code",
   "execution_count": 732,
   "id": "1502e353",
   "metadata": {},
   "outputs": [],
   "source": [
    "def gen_pie_chart_list_combine(eval_ck2b):\n",
    "    pie_chart_list2 = [ eval_ck2b['TN_comb_ratio'].mean(),                  \n",
    "      eval_ck2b['TN_3_ratio'].mean(),\n",
    "      eval_ck2b['TP_ratio'].mean(),\n",
    "      eval_ck2b['FP_comb_ratio'].mean(),                  \n",
    "      eval_ck2b['FP_3_ratio'].mean()]\n",
    "    labels =['TN_combined','TN_3','TP','FP_combined','FP_3']\n",
    "    return pie_chart_list2,labels\n"
   ]
  },
  {
   "cell_type": "code",
   "execution_count": 730,
   "id": "4aeade20",
   "metadata": {},
   "outputs": [
    {
     "data": {
      "image/png": "[encoded data removed]",
      "text/plain": [
       "<Figure size 720x360 with 1 Axes>"
      ]
     },
     "metadata": {},
     "output_type": "display_data"
    }
   ],
   "source": [
    "eval_ck2b  = add_ratio_cols(\"eval_metric_ck2b.txt\")\n",
    "pie_chart_list,labels = gen_pie_chart_list_all(eval_ck2b)\n",
    "draw_pie_chart(pie_chart_list, labels,'ck2b')\n"
   ]
  },
  {
   "cell_type": "code",
   "execution_count": 733,
   "id": "f51b9e97",
   "metadata": {},
   "outputs": [
    {
     "data": {
      "image/png": "[encoded data removed]",
      "text/plain": [
       "<Figure size 720x360 with 1 Axes>"
      ]
     },
     "metadata": {},
     "output_type": "display_data"
    }
   ],
   "source": [
    "eval_ck2b  = add_ratio_cols(\"eval_metric_ck2b.txt\")\n",
    "pie_chart_list,labels = gen_pie_chart_list_combine(eval_ck2b)\n",
    "draw_pie_chart(pie_chart_list, labels,'ck2b')\n",
    "\n"
   ]
  },
  {
   "cell_type": "code",
   "execution_count": 734,
   "id": "acb8d693",
   "metadata": {},
   "outputs": [
    {
     "data": {
      "image/png": "[encoded data removed]",
      "text/plain": [
       "<Figure size 720x360 with 1 Axes>"
      ]
     },
     "metadata": {},
     "output_type": "display_data"
    }
   ],
   "source": [
    "eval_ck2b  = add_ratio_cols(\"eval_metric_sk2c.csv\")\n",
    "pie_chart_list,labels = gen_pie_chart_list_all(eval_ck2b)\n",
    "draw_pie_chart(pie_chart_list, labels,'sk2c')\n"
   ]
  },
  {
   "cell_type": "code",
   "execution_count": 736,
   "id": "49967140",
   "metadata": {},
   "outputs": [
    {
     "data": {
      "image/png": "[encoded data removed]",
      "text/plain": [
       "<Figure size 720x360 with 1 Axes>"
      ]
     },
     "metadata": {},
     "output_type": "display_data"
    }
   ],
   "source": [
    "eval_ck2b  = add_ratio_cols(\"eval_metric_sk2c.csv\")\n",
    "pie_chart_list,labels = gen_pie_chart_list_combine(eval_ck2b)\n",
    "draw_pie_chart(pie_chart_list, labels,'sk2c')"
   ]
  },
  {
   "cell_type": "code",
   "execution_count": 741,
   "id": "7d038485",
   "metadata": {},
   "outputs": [
    {
     "data": {
      "image/png": "[encoded data removed]",
      "text/plain": [
       "<Figure size 720x360 with 1 Axes>"
      ]
     },
     "metadata": {},
     "output_type": "display_data"
    }
   ],
   "source": [
    "eval_ck2b  = add_ratio_cols(\"eval_metric_kf2c.csv\")\n",
    "pie_chart_list,labels = gen_pie_chart_list_all(eval_ck2b)\n",
    "draw_pie_chart(pie_chart_list, labels,'kf2c')"
   ]
  },
  {
   "cell_type": "markdown",
   "id": "26a6aadf",
   "metadata": {},
   "source": [
    "# pie chart"
   ]
  },
  {
   "cell_type": "code",
   "execution_count": 706,
   "id": "9beea38d",
   "metadata": {},
   "outputs": [],
   "source": [
    "import matplotlib.pyplot as plt\n",
    "def draw_pie_chart(pie_chart_list, labels,title):\n",
    "#labels =['TN_s1','TN_s2','TN_3','TP','FP_s1','FP_s2','FP_3']\n",
    "    fig, ax = plt.subplots(figsize=(10, 5), subplot_kw=dict(aspect=\"equal\"))\n",
    "    wedges, texts, autotexts =ax.pie(pie_chart_list,\n",
    "            labels=labels,\n",
    "            #radius=1.5,\n",
    "            textprops={'color':'black',  'size':12},  # 設定文字樣式\n",
    "            pctdistance=0.8,\n",
    "            autopct=lambda i: f'{i:.1f}%' ,\n",
    "            wedgeprops={'linewidth':3,'edgecolor':'w'})   # 繪製每個扇形的外框\n",
    "    \n",
    "    ax.legend(          \n",
    "          loc=\"center left\",\n",
    "          bbox_to_anchor=(1.5, 0, 0.5, 1))\n",
    "    plt.setp(autotexts, size=12,color='white', weight=\"bold\")\n",
    "    ax.set_title(\"{} FP/TN analysis\".format(title),size=18)\n",
    "    plt.show()"
   ]
  },
  {
   "cell_type": "code",
   "execution_count": 379,
   "id": "b30bed29",
   "metadata": {},
   "outputs": [
    {
     "data": {
      "text/plain": [
       "tensor([0.9708, 0.9707, 0.9612, 0.9462, 0.9312, 0.8988, 0.8963, 0.8774, 0.8749,\n",
       "        0.8527, 0.7561, 0.7531, 0.6275, 0.5939, 0.5390, 0.4565, 0.4178, 0.2566,\n",
       "        0.1998, 0.1848, 0.1812, 0.1348, 0.1121, 0.0759, 0.0390, 0.0331, 0.0330,\n",
       "        0.0310, 0.0206, 0.0180, 0.0171, 0.0161, 0.0135, 0.0127, 0.0123, 0.0106,\n",
       "        0.0099, 0.0094], device='cuda:0')"
      ]
     },
     "execution_count": 379,
     "metadata": {},
     "output_type": "execute_result"
    }
   ],
   "source": [
    "proposals_roih_c2b[0].get('scores')"
   ]
  },
  {
   "cell_type": "code",
   "execution_count": 382,
   "id": "7e370ad2",
   "metadata": {},
   "outputs": [
    {
     "data": {
      "text/plain": [
       "38"
      ]
     },
     "execution_count": 382,
     "metadata": {},
     "output_type": "execute_result"
    }
   ],
   "source": [
    "len(proposals_roih_c2b[0].get('scores'))"
   ]
  },
  {
   "cell_type": "code",
   "execution_count": 353,
   "id": "3772fb31",
   "metadata": {},
   "outputs": [
    {
     "data": {
      "text/plain": [
       "Boxes(tensor([[1278.2928,   10.8888, 1280.4000,   71.5135]], device='cuda:0'))"
      ]
     },
     "execution_count": 353,
     "metadata": {},
     "output_type": "execute_result"
    }
   ],
   "source": [
    "proposals_roih_c2b[0].get('pred_boxes')[9]"
   ]
  },
  {
   "cell_type": "code",
   "execution_count": 408,
   "id": "a9ff7d8c",
   "metadata": {},
   "outputs": [],
   "source": [
    "def print_pred_box(proposals_roih):\n",
    "    for proposal in proposals_roih:\n",
    "        print(proposal.cpu().numpy())"
   ]
  },
  {
   "cell_type": "code",
   "execution_count": 310,
   "id": "03a28dcc",
   "metadata": {},
   "outputs": [
    {
     "data": {
      "text/plain": [
       "51"
      ]
     },
     "execution_count": 310,
     "metadata": {},
     "output_type": "execute_result"
    }
   ],
   "source": [
    "len(proposals_roih_k2b[0].get('scores'))"
   ]
  },
  {
   "cell_type": "markdown",
   "id": "9ca98240",
   "metadata": {},
   "source": [
    "## compute IoU"
   ]
  },
  {
   "cell_type": "code",
   "execution_count": 210,
   "id": "ed2d6a11",
   "metadata": {},
   "outputs": [],
   "source": [
    "from detectron2 import structures "
   ]
  },
  {
   "cell_type": "code",
   "execution_count": 211,
   "id": "df241f39",
   "metadata": {},
   "outputs": [
    {
     "data": {
      "text/plain": [
       "[[206.0, 338.0, 283.0, 389.0],\n",
       " [47.0, 344.0, 131.0, 402.0],\n",
       " [247.0, 344.0, 348.0, 397.0],\n",
       " [0.0, 337.0, 53.0, 404.0],\n",
       " [684.0, 357.0, 722.0, 394.0],\n",
       " [706.0, 364.0, 735.0, 392.0],\n",
       " [727.0, 366.0, 762.0, 402.0],\n",
       " [749.0, 362.0, 810.0, 410.0],\n",
       " [787.0, 358.0, 907.0, 426.0],\n",
       " [880.0, 376.0, 961.0, 453.0],\n",
       " [936.0, 336.0, 1213.0, 485.0],\n",
       " [1204.0, 416.0, 1280.0, 531.0],\n",
       " [552.0, 356.0, 566.0, 369.0],\n",
       " [574.0, 352.0, 587.0, 370.0],\n",
       " [581.0, 357.0, 599.0, 379.0],\n",
       " [596.0, 352.0, 637.0, 387.0],\n",
       " [518.0, 356.0, 536.0, 369.0],\n",
       " [502.0, 357.0, 519.0, 372.0],\n",
       " [453.0, 353.0, 480.0, 374.0]]"
      ]
     },
     "execution_count": 211,
     "metadata": {},
     "output_type": "execute_result"
    }
   ],
   "source": [
    "box_list=[]\n",
    "for ann in data_annotation[0]['annotations']:\n",
    "    box_list.append(ann['bbox'])\n",
    "    \n",
    "box_list"
   ]
  },
  {
   "cell_type": "code",
   "execution_count": 212,
   "id": "8cb5fea8",
   "metadata": {},
   "outputs": [],
   "source": [
    "bboxes_gt = structures.Boxes(torch.Tensor(box_list)).to(\"cuda\")\n"
   ]
  },
  {
   "cell_type": "markdown",
   "id": "30a27b12",
   "metadata": {},
   "source": [
    "### scaling"
   ]
  },
  {
   "cell_type": "code",
   "execution_count": 383,
   "id": "25261588",
   "metadata": {},
   "outputs": [],
   "source": [
    "def scaling(proposal_roih):\n",
    "    scale_pred = proposal_roih[0].get('pred_boxes')\n",
    "    scale_pred.scale(1.2,1.2)\n",
    "    return scale_pred"
   ]
  },
  {
   "cell_type": "markdown",
   "id": "fab61966",
   "metadata": {},
   "source": [
    "* c2b"
   ]
  },
  {
   "cell_type": "code",
   "execution_count": 388,
   "id": "8525b47e",
   "metadata": {},
   "outputs": [
    {
     "data": {
      "text/plain": [
       "38"
      ]
     },
     "execution_count": 388,
     "metadata": {},
     "output_type": "execute_result"
    }
   ],
   "source": [
    "c2b_prediction = scaling(proposals_roih_c2b)\n",
    "len(c2b_prediction)"
   ]
  },
  {
   "cell_type": "code",
   "execution_count": 389,
   "id": "b61097cf",
   "metadata": {},
   "outputs": [
    {
     "data": {
      "text/plain": [
       "Boxes(tensor([[ 932.3957,  338.5221, 1221.3375,  481.6961]], device='cuda:0'))"
      ]
     },
     "execution_count": 389,
     "metadata": {},
     "output_type": "execute_result"
    }
   ],
   "source": [
    "c2b_prediction[0]"
   ]
  },
  {
   "cell_type": "code",
   "execution_count": 390,
   "id": "c03f6078",
   "metadata": {},
   "outputs": [
    {
     "data": {
      "text/plain": [
       "Boxes(tensor([[1278.2928,   10.8888, 1280.4000,   71.5135]], device='cuda:0'))"
      ]
     },
     "execution_count": 390,
     "metadata": {},
     "output_type": "execute_result"
    }
   ],
   "source": [
    "c2b_prediction[9]"
   ]
  },
  {
   "cell_type": "markdown",
   "id": "6727cd42",
   "metadata": {},
   "source": [
    "* k2b"
   ]
  },
  {
   "cell_type": "code",
   "execution_count": 385,
   "id": "3887ce4f",
   "metadata": {},
   "outputs": [
    {
     "data": {
      "text/plain": [
       "51"
      ]
     },
     "execution_count": 385,
     "metadata": {},
     "output_type": "execute_result"
    }
   ],
   "source": [
    "k2b_prediction = scaling(proposals_roih_k2b)\n",
    "len(k2b_prediction)"
   ]
  },
  {
   "cell_type": "code",
   "execution_count": 459,
   "id": "3c3d9213",
   "metadata": {},
   "outputs": [
    {
     "data": {
      "text/plain": [
       "Boxes(tensor([[635.0712, 226.5593, 684.0731, 297.1222]], device='cuda:0'))"
      ]
     },
     "execution_count": 459,
     "metadata": {},
     "output_type": "execute_result"
    }
   ],
   "source": [
    "k2b_prediction[22]"
   ]
  },
  {
   "cell_type": "markdown",
   "id": "fcbbf66a",
   "metadata": {},
   "source": [
    "## pariwise"
   ]
  },
  {
   "cell_type": "code",
   "execution_count": 337,
   "id": "768702ec",
   "metadata": {},
   "outputs": [
    {
     "data": {
      "text/plain": [
       "Boxes(tensor([[ 206.,  338.,  283.,  389.],\n",
       "        [  47.,  344.,  131.,  402.],\n",
       "        [ 247.,  344.,  348.,  397.],\n",
       "        [   0.,  337.,   53.,  404.],\n",
       "        [ 684.,  357.,  722.,  394.],\n",
       "        [ 706.,  364.,  735.,  392.],\n",
       "        [ 727.,  366.,  762.,  402.],\n",
       "        [ 749.,  362.,  810.,  410.],\n",
       "        [ 787.,  358.,  907.,  426.],\n",
       "        [ 880.,  376.,  961.,  453.],\n",
       "        [ 936.,  336., 1213.,  485.],\n",
       "        [1204.,  416., 1280.,  531.],\n",
       "        [ 552.,  356.,  566.,  369.],\n",
       "        [ 574.,  352.,  587.,  370.],\n",
       "        [ 581.,  357.,  599.,  379.],\n",
       "        [ 596.,  352.,  637.,  387.],\n",
       "        [ 518.,  356.,  536.,  369.],\n",
       "        [ 502.,  357.,  519.,  372.],\n",
       "        [ 453.,  353.,  480.,  374.]], device='cuda:0'))"
      ]
     },
     "execution_count": 337,
     "metadata": {},
     "output_type": "execute_result"
    }
   ],
   "source": [
    "bboxes_gt"
   ]
  },
  {
   "cell_type": "code",
   "execution_count": 792,
   "id": "a1a8fcce",
   "metadata": {},
   "outputs": [],
   "source": [
    "pairwise_gt_c2b = structures.pairwise_iou(bboxes_gt,c2b_prediction)"
   ]
  },
  {
   "cell_type": "code",
   "execution_count": 448,
   "id": "5116948d",
   "metadata": {},
   "outputs": [],
   "source": [
    "pairwise_gt_k2b = structures.pairwise_iou(bboxes_gt,k2b_prediction)"
   ]
  },
  {
   "cell_type": "code",
   "execution_count": 395,
   "id": "c4ca6e24",
   "metadata": {},
   "outputs": [],
   "source": [
    "pairwise_c2b_gt = structures.pairwise_iou(c2b_prediction,bboxes_gt)"
   ]
  },
  {
   "cell_type": "code",
   "execution_count": 396,
   "id": "58ef1747",
   "metadata": {},
   "outputs": [
    {
     "data": {
      "text/plain": [
       "torch.Size([38, 19])"
      ]
     },
     "execution_count": 396,
     "metadata": {},
     "output_type": "execute_result"
    }
   ],
   "source": [
    "pairwise_c2b_gt.size()"
   ]
  },
  {
   "cell_type": "code",
   "execution_count": 398,
   "id": "19fd4072",
   "metadata": {},
   "outputs": [
    {
     "ename": "AttributeError",
     "evalue": "'Tensor' object has no attribute 'get'",
     "output_type": "error",
     "traceback": [
      "\u001b[0;31m---------------------------------------------------------------------------\u001b[0m",
      "\u001b[0;31mAttributeError\u001b[0m                            Traceback (most recent call last)",
      "\u001b[0;32m/tmp/ipykernel_4621/914737156.py\u001b[0m in \u001b[0;36m<module>\u001b[0;34m\u001b[0m\n\u001b[0;32m----> 1\u001b[0;31m \u001b[0mpairwise_c2b_gt\u001b[0m\u001b[0;34m[\u001b[0m\u001b[0;36m0\u001b[0m\u001b[0;34m]\u001b[0m\u001b[0;34m.\u001b[0m\u001b[0mget\u001b[0m\u001b[0;34m(\u001b[0m\u001b[0;34m'scores'\u001b[0m\u001b[0;34m)\u001b[0m\u001b[0;34m[\u001b[0m\u001b[0;36m8\u001b[0m\u001b[0;34m]\u001b[0m\u001b[0;34m\u001b[0m\u001b[0;34m\u001b[0m\u001b[0m\n\u001b[0m",
      "\u001b[0;31mAttributeError\u001b[0m: 'Tensor' object has no attribute 'get'"
     ]
    }
   ],
   "source": [
    " pairwise_c2b_gt[0].get('scores')[8]"
   ]
  },
  {
   "cell_type": "code",
   "execution_count": 397,
   "id": "e1131564",
   "metadata": {},
   "outputs": [
    {
     "data": {
      "text/plain": [
       "tensor([0.0000, 0.0000, 0.0000, 0.0000, 0.0000, 0.0233, 0.6042, 0.2457, 0.0000,\n",
       "        0.0000, 0.0000, 0.0000, 0.0000, 0.0000, 0.0000, 0.0000, 0.0000, 0.0000,\n",
       "        0.0000], device='cuda:0')"
      ]
     },
     "execution_count": 397,
     "metadata": {},
     "output_type": "execute_result"
    }
   ],
   "source": [
    "pairwise_c2b_gt[8]"
   ]
  },
  {
   "cell_type": "code",
   "execution_count": 419,
   "id": "c85b3d8f",
   "metadata": {},
   "outputs": [],
   "source": [
    "pairwise_c2b_k2b = structures.pairwise_iou(c2b_prediction,k2b_prediction)"
   ]
  },
  {
   "cell_type": "code",
   "execution_count": 432,
   "id": "44740958",
   "metadata": {},
   "outputs": [],
   "source": [
    "pairwise_k2b_c2b = structures.pairwise_iou(k2b_prediction,c2b_prediction)"
   ]
  },
  {
   "cell_type": "markdown",
   "id": "c7a53d6e",
   "metadata": {},
   "source": [
    "### check if no match idx"
   ]
  },
  {
   "cell_type": "code",
   "execution_count": 535,
   "id": "3e983f09",
   "metadata": {},
   "outputs": [],
   "source": [
    "def get_match_array(pairwise_iou_results):\n",
    "    match_array=[None]*len(pairwise_iou_results)\n",
    "    for i in range(len(pairwise_iou_results)):\n",
    "        if torch.sum(pairwise_iou_results[i])==0:\n",
    "            match_array[i] = False\n",
    "            #print(\"{} no match index\".format(i))\n",
    "        else:\n",
    "            match_array[i] = True\n",
    "    return match_array\n",
    "    "
   ]
  },
  {
   "cell_type": "code",
   "execution_count": 550,
   "id": "3c39b7d3",
   "metadata": {},
   "outputs": [
    {
     "name": "stdout",
     "output_type": "stream",
     "text": [
      "[True, True, True, True, True, True, True, True, True, True, True, True, False, True, True, True, False, False, True]\n"
     ]
    }
   ],
   "source": [
    "print(get_match_array(pairwise_gt_c2b))"
   ]
  },
  {
   "cell_type": "code",
   "execution_count": 537,
   "id": "2c3dbf84",
   "metadata": {},
   "outputs": [],
   "source": [
    "def check_match_idx(pairwise_iou_results):\n",
    "    for i in range(len(pairwise_iou_results)):\n",
    "        if torch.sum(pairwise_iou_results[i])==0:\n",
    "            print(\"{} no match index\".format(i))\n",
    "    "
   ]
  },
  {
   "cell_type": "code",
   "execution_count": 449,
   "id": "fc8e909d",
   "metadata": {},
   "outputs": [
    {
     "name": "stdout",
     "output_type": "stream",
     "text": [
      "12 no match index\n",
      "16 no match index\n",
      "17 no match index\n"
     ]
    }
   ],
   "source": [
    "check_match_idx(pairwise_gt_c2b)"
   ]
  },
  {
   "cell_type": "code",
   "execution_count": 450,
   "id": "9f3a9ad2",
   "metadata": {},
   "outputs": [
    {
     "name": "stdout",
     "output_type": "stream",
     "text": [
      "12 no match index\n"
     ]
    }
   ],
   "source": [
    "check_match_idx(pairwise_gt_k2b)"
   ]
  },
  {
   "cell_type": "code",
   "execution_count": 458,
   "id": "7405324c",
   "metadata": {},
   "outputs": [],
   "source": [
    "check_match_idx(pairwise_c2b_k2b)"
   ]
  },
  {
   "cell_type": "code",
   "execution_count": 437,
   "id": "39d8f974",
   "metadata": {},
   "outputs": [
    {
     "name": "stdout",
     "output_type": "stream",
     "text": [
      "22 no match index\n",
      "31 no match index\n",
      "35 no match index\n",
      "43 no match index\n",
      "45 no match index\n",
      "46 no match index\n",
      "48 no match index\n",
      "49 no match index\n",
      "50 no match index\n"
     ]
    }
   ],
   "source": [
    "check_match_idx(pairwise_k2b_c2b)"
   ]
  },
  {
   "cell_type": "code",
   "execution_count": 452,
   "id": "e6f180f6",
   "metadata": {},
   "outputs": [
    {
     "name": "stdout",
     "output_type": "stream",
     "text": [
      "9 no match index\n",
      "20 no match index\n",
      "24 no match index\n",
      "25 no match index\n",
      "26 no match index\n",
      "29 no match index\n",
      "30 no match index\n",
      "36 no match index\n"
     ]
    }
   ],
   "source": [
    "check_match_idx(pairwise_c2b_gt)"
   ]
  },
  {
   "cell_type": "code",
   "execution_count": 453,
   "id": "05fa64d7",
   "metadata": {},
   "outputs": [
    {
     "name": "stdout",
     "output_type": "stream",
     "text": [
      "14 no match index\n",
      "17 no match index\n",
      "18 no match index\n",
      "19 no match index\n",
      "20 no match index\n",
      "22 no match index\n",
      "28 no match index\n",
      "29 no match index\n",
      "30 no match index\n",
      "31 no match index\n",
      "35 no match index\n",
      "41 no match index\n",
      "45 no match index\n",
      "46 no match index\n"
     ]
    }
   ],
   "source": [
    "check_match_idx(pairwise_k2b_gt)"
   ]
  },
  {
   "cell_type": "code",
   "execution_count": 412,
   "id": "ff266dee",
   "metadata": {},
   "outputs": [
    {
     "data": {
      "text/plain": [
       "tensor([0.9708, 0.9707, 0.9612, 0.9462, 0.9312, 0.8988, 0.8963, 0.8774, 0.8749,\n",
       "        0.8527, 0.7561, 0.7531, 0.6275, 0.5939, 0.5390, 0.4565, 0.4178, 0.2566,\n",
       "        0.1998, 0.1848, 0.1812, 0.1348, 0.1121, 0.0759, 0.0390, 0.0331, 0.0330,\n",
       "        0.0310, 0.0206, 0.0180, 0.0171, 0.0161, 0.0135, 0.0127, 0.0123, 0.0106,\n",
       "        0.0099, 0.0094], device='cuda:0')"
      ]
     },
     "execution_count": 412,
     "metadata": {},
     "output_type": "execute_result"
    }
   ],
   "source": [
    "proposals_roih_c2b[0].get('scores')"
   ]
  },
  {
   "cell_type": "code",
   "execution_count": 505,
   "id": "0b4d3764",
   "metadata": {},
   "outputs": [
    {
     "data": {
      "text/plain": [
       "Boxes(tensor([[610.5521, 313.7825, 643.9567, 357.8959]], device='cuda:0'))"
      ]
     },
     "execution_count": 505,
     "metadata": {},
     "output_type": "execute_result"
    }
   ],
   "source": [
    "proposals_roih_k2b[0].get('pred_boxes')[33]"
   ]
  },
  {
   "cell_type": "markdown",
   "id": "fdc8ac8a",
   "metadata": {},
   "source": [
    "* print match result"
   ]
  },
  {
   "cell_type": "code",
   "execution_count": 426,
   "id": "0d8e0cbb",
   "metadata": {},
   "outputs": [],
   "source": [
    "def pair_match_idx(pairwise_iou_results):\n",
    "    meet_gt_idx = torch.argmax(pairwise_iou_results,dim=1)\n",
    "    return meet_gt_idx\n",
    "    "
   ]
  },
  {
   "cell_type": "code",
   "execution_count": 517,
   "id": "24794ee6",
   "metadata": {},
   "outputs": [],
   "source": [
    "pmi_gt_k2b = pair_match_idx(pairwise_gt_k2b)\n",
    "pmi_gt_c2b = pair_match_idx(pairwise_gt_c2b)\n",
    "pmi_c2b_gt = pair_match_idx(pairwise_c2b_gt)\n",
    "pmi_k2b_gt = pair_match_idx(pairwise_k2b_gt)\n",
    "pmi = pair_match_idx(pairwise_c2b_k2b)\n",
    "pmi_51 = pair_match_idx(pairwise_k2b_c2b)"
   ]
  },
  {
   "cell_type": "code",
   "execution_count": 518,
   "id": "3f30ba42",
   "metadata": {},
   "outputs": [
    {
     "name": "stdout",
     "output_type": "stream",
     "text": [
      "8\n",
      "10\n",
      "7\n",
      "1\n",
      "15\n",
      "6\n",
      "4\n",
      "9\n",
      "2\n",
      "3\n",
      "0\n",
      "5\n",
      "11\n",
      "18\n",
      "0\n",
      "0\n",
      "2\n",
      "0\n",
      "0\n",
      "0\n",
      "0\n",
      "2\n",
      "0\n",
      "14\n",
      "4\n",
      "14\n",
      "10\n",
      "11\n",
      "0\n",
      "0\n",
      "0\n",
      "0\n",
      "10\n",
      "15\n",
      "10\n",
      "0\n",
      "2\n",
      "18\n",
      "18\n",
      "10\n",
      "18\n",
      "0\n",
      "18\n",
      "17\n",
      "18\n",
      "0\n",
      "0\n",
      "17\n",
      "16\n",
      "16\n",
      "16\n"
     ]
    }
   ],
   "source": [
    "for idx in pmi_k2b_gt:\n",
    "    print(idx.cpu().numpy())"
   ]
  },
  {
   "cell_type": "code",
   "execution_count": 434,
   "id": "36b0bad3",
   "metadata": {},
   "outputs": [],
   "source": [
    "def get_match_list(pmi):\n",
    "# c2b 38  k2b 51  c2b->k2b\n",
    "    match_list={}\n",
    "    for i,pair_idx in enumerate(pmi.cpu().numpy()):\n",
    "        if pair_idx in match_list:        \n",
    "            match_list[pair_idx].append(i)\n",
    "        else:\n",
    "            match_list[pair_idx]= [i]\n",
    "\n",
    "    return match_list"
   ]
  },
  {
   "cell_type": "code",
   "execution_count": null,
   "id": "11f2d3f8",
   "metadata": {},
   "outputs": [],
   "source": []
  },
  {
   "cell_type": "code",
   "execution_count": 442,
   "id": "5284d3b7",
   "metadata": {},
   "outputs": [],
   "source": [
    "def print_match_list(match_list,proposal_len):\n",
    "    for i in range(proposal_len):\n",
    "        if i in match_list:   \n",
    "            print(\"{}: {}\".format(i,match_list[i]))\n",
    "        else:\n",
    "            print(\"{} no match idx\".format(i))"
   ]
  },
  {
   "cell_type": "code",
   "execution_count": 446,
   "id": "9a429f4d",
   "metadata": {},
   "outputs": [
    {
     "name": "stdout",
     "output_type": "stream",
     "text": [
      "0: [1, 22, 26, 31, 32, 35, 39, 43, 45, 46, 48, 49, 50]\n",
      "1: [0]\n",
      "2: [2]\n",
      "3: [3]\n",
      "4: [7]\n",
      "5: [8]\n",
      "6: [4, 33]\n",
      "7: [9]\n",
      "8: [5]\n",
      "9: [28]\n",
      "10: [6, 24]\n",
      "11 no match idx\n",
      "12 no match idx\n",
      "13: [15]\n",
      "14: [11]\n",
      "15 no match idx\n",
      "16: [12, 27]\n",
      "17 no match idx\n",
      "18: [23]\n",
      "19 no match idx\n",
      "20: [18]\n",
      "21: [25]\n",
      "22 no match idx\n",
      "23 no match idx\n",
      "24: [14, 20, 30]\n",
      "25: [34]\n",
      "26: [19, 29]\n",
      "27 no match idx\n",
      "28 no match idx\n",
      "29: [41]\n",
      "30 no match idx\n",
      "31: [16, 36]\n",
      "32: [13, 37, 40, 42, 44, 47]\n",
      "33 no match idx\n",
      "34: [10, 21]\n",
      "35: [38]\n",
      "36: [17]\n",
      "37 no match idx\n"
     ]
    }
   ],
   "source": [
    "\n",
    "print_match_list(get_match_list(pmi_51),len(proposals_roih_c2b[0].get('scores')))"
   ]
  },
  {
   "cell_type": "code",
   "execution_count": 444,
   "id": "53590c47",
   "metadata": {},
   "outputs": [
    {
     "name": "stdout",
     "output_type": "stream",
     "text": [
      "0: [1]\n",
      "1: [0]\n",
      "2: [2]\n",
      "3: [3, 17]\n",
      "4: [6, 19]\n",
      "5: [8]\n",
      "6: [10, 15, 27]\n",
      "7: [4]\n",
      "8: [5, 23]\n",
      "9: [7, 11, 22]\n",
      "10: [12, 37]\n",
      "11: [14, 28]\n",
      "12: [16]\n",
      "13: [32]\n",
      "14 no match idx\n",
      "15: [13, 33]\n",
      "16: [31]\n",
      "17: [36]\n",
      "18: [20, 25]\n",
      "19: [26, 30]\n",
      "20: [24]\n",
      "21: [34]\n",
      "22 no match idx\n",
      "23: [18]\n",
      "24 no match idx\n",
      "25: [21]\n",
      "26 no match idx\n",
      "27 no match idx\n",
      "28: [9]\n",
      "29 no match idx\n",
      "30 no match idx\n",
      "31 no match idx\n",
      "32 no match idx\n",
      "33 no match idx\n",
      "34 no match idx\n",
      "35 no match idx\n",
      "36 no match idx\n",
      "37 no match idx\n",
      "38: [35]\n",
      "39 no match idx\n",
      "40 no match idx\n",
      "41: [29]\n",
      "42 no match idx\n",
      "43 no match idx\n",
      "44 no match idx\n",
      "45 no match idx\n",
      "46 no match idx\n",
      "47 no match idx\n",
      "48 no match idx\n",
      "49 no match idx\n",
      "50 no match idx\n"
     ]
    }
   ],
   "source": [
    "print_match_list(get_match_list(pmi),len(proposals_roih_k2b[0].get('scores')))"
   ]
  },
  {
   "cell_type": "code",
   "execution_count": 414,
   "id": "06762c6f",
   "metadata": {},
   "outputs": [],
   "source": [
    "from detectron2.structures.boxes import pairwise_intersection\n",
    "xx = pairwise_intersection(proposals_roih_c2b[0].get('pred_boxes'),bboxes_gt)\n"
   ]
  },
  {
   "cell_type": "markdown",
   "id": "0f41da1e",
   "metadata": {},
   "source": [
    "## filter"
   ]
  },
  {
   "cell_type": "code",
   "execution_count": 174,
   "id": "e890cd27",
   "metadata": {},
   "outputs": [],
   "source": [
    "instances = proposals_roih_c2b[0]\n",
    "confident_detections = instances[instances.scores > 0]\n"
   ]
  },
  {
   "cell_type": "code",
   "execution_count": 175,
   "id": "ff6ed3b2",
   "metadata": {},
   "outputs": [
    {
     "data": {
      "text/plain": [
       "38"
      ]
     },
     "execution_count": 175,
     "metadata": {},
     "output_type": "execute_result"
    }
   ],
   "source": [
    "len(confident_detections.pred_boxes)"
   ]
  },
  {
   "cell_type": "code",
   "execution_count": 202,
   "id": "c2239472",
   "metadata": {},
   "outputs": [
    {
     "data": {
      "text/plain": [
       "tensor([0.9708, 0.9707, 0.9612, 0.9462, 0.9312, 0.8988, 0.8963, 0.8774, 0.8749,\n",
       "        0.8527, 0.7561, 0.7531, 0.6275, 0.5939, 0.5390, 0.4565, 0.4178, 0.2566,\n",
       "        0.1998, 0.1848, 0.1812, 0.1348, 0.1121, 0.0759, 0.0390, 0.0331, 0.0330,\n",
       "        0.0310, 0.0206, 0.0180, 0.0171, 0.0161, 0.0135, 0.0127, 0.0123, 0.0106,\n",
       "        0.0099, 0.0094], device='cuda:0')"
      ]
     },
     "execution_count": 202,
     "metadata": {},
     "output_type": "execute_result"
    }
   ],
   "source": [
    "confident_detections.scores"
   ]
  },
  {
   "cell_type": "code",
   "execution_count": 176,
   "id": "a2f03eed",
   "metadata": {},
   "outputs": [],
   "source": [
    "c2b_th9_box = confident_detections.pred_boxes"
   ]
  },
  {
   "cell_type": "code",
   "execution_count": 177,
   "id": "1f4e95bf",
   "metadata": {},
   "outputs": [
    {
     "data": {
      "text/plain": [
       "Boxes(tensor([[7.7700e+02, 2.8210e+02, 1.0178e+03, 4.0141e+02],\n",
       "        [6.6268e+02, 3.0204e+02, 7.5483e+02, 3.5835e+02],\n",
       "        [6.2529e+02, 3.0214e+02, 6.8357e+02, 3.4421e+02],\n",
       "        [3.2344e+01, 2.9166e+02, 1.0653e+02, 3.3348e+02],\n",
       "        [7.3465e+02, 3.1425e+02, 8.0589e+02, 3.7391e+02],\n",
       "        [2.0518e+02, 2.9081e+02, 2.9127e+02, 3.3141e+02],\n",
       "        [4.9912e+02, 2.9502e+02, 5.2996e+02, 3.2110e+02],\n",
       "        [0.0000e+00, 2.8366e+02, 4.8641e+01, 3.3591e+02],\n",
       "        [6.1080e+02, 3.0543e+02, 6.4328e+02, 3.3699e+02],\n",
       "        [1.0652e+03, 9.0740e+00, 1.0670e+03, 5.9595e+01],\n",
       "        [5.6943e+02, 2.9957e+02, 5.9874e+02, 3.2588e+02],\n",
       "        [0.0000e+00, 2.7891e+02, 8.9758e+00, 3.2653e+02],\n",
       "        [1.6999e+02, 2.8603e+02, 2.1518e+02, 3.2170e+02],\n",
       "        [1.7902e+02, 2.9899e+02, 2.5009e+02, 3.7980e+02],\n",
       "        [5.9046e+02, 3.0378e+02, 6.1983e+02, 3.3165e+02],\n",
       "        [5.7619e+02, 3.0080e+02, 6.1450e+02, 3.2935e+02],\n",
       "        [1.0031e+03, 3.4803e+02, 1.0663e+03, 4.3679e+02],\n",
       "        [1.0469e+01, 2.8824e+02, 8.4793e+01, 3.3586e+02],\n",
       "        [4.8875e+02, 2.9170e+02, 5.1074e+02, 3.1408e+02],\n",
       "        [4.9406e+02, 2.9405e+02, 5.1894e+02, 3.1679e+02],\n",
       "        [8.0182e+02, 2.1261e+02, 8.6094e+02, 2.5790e+02],\n",
       "        [4.7279e+02, 2.7946e+02, 5.0672e+02, 3.1084e+02],\n",
       "        [2.2016e-01, 2.8787e+02, 1.9358e+01, 3.3785e+02],\n",
       "        [1.9088e+02, 2.9136e+02, 2.8339e+02, 3.5571e+02],\n",
       "        [3.3539e+02, 2.9734e+02, 3.6525e+02, 3.1391e+02],\n",
       "        [7.9172e+02, 2.0425e+02, 8.7845e+02, 2.7138e+02],\n",
       "        [3.0659e+02, 2.9448e+02, 3.4049e+02, 3.1434e+02],\n",
       "        [5.5938e+02, 3.0090e+02, 5.8343e+02, 3.2293e+02],\n",
       "        [5.8959e+02, 2.9557e+02, 6.3123e+02, 3.2861e+02],\n",
       "        [5.3947e+02, 3.0233e+02, 5.6541e+02, 3.2180e+02],\n",
       "        [3.0237e+02, 2.9223e+02, 3.5775e+02, 3.1655e+02],\n",
       "        [2.7715e+02, 2.9659e+02, 3.1190e+02, 3.1914e+02],\n",
       "        [3.7244e+02, 2.9738e+02, 3.9982e+02, 3.1167e+02],\n",
       "        [1.9348e+02, 3.0345e+02, 2.4816e+02, 3.4822e+02],\n",
       "        [1.6931e+02, 2.8513e+02, 2.5747e+02, 3.3079e+02],\n",
       "        [3.4377e+02, 2.9875e+02, 3.7767e+02, 3.1476e+02],\n",
       "        [2.9397e+02, 2.9137e+02, 3.3012e+02, 3.1223e+02],\n",
       "        [1.3104e+02, 2.7292e+02, 1.9857e+02, 3.1360e+02]], device='cuda:0'))"
      ]
     },
     "execution_count": 177,
     "metadata": {},
     "output_type": "execute_result"
    }
   ],
   "source": [
    "c2b_th9_box"
   ]
  },
  {
   "cell_type": "code",
   "execution_count": 178,
   "id": "663e8412",
   "metadata": {},
   "outputs": [],
   "source": [
    "c2b_th9_box.scale(1.2,1.2)"
   ]
  },
  {
   "cell_type": "code",
   "execution_count": 179,
   "id": "1b41bea5",
   "metadata": {},
   "outputs": [
    {
     "data": {
      "text/plain": [
       "Boxes(tensor([[9.3240e+02, 3.3852e+02, 1.2213e+03, 4.8170e+02],\n",
       "        [7.9522e+02, 3.6244e+02, 9.0580e+02, 4.3002e+02],\n",
       "        [7.5035e+02, 3.6257e+02, 8.2029e+02, 4.1306e+02],\n",
       "        [3.8813e+01, 3.4999e+02, 1.2784e+02, 4.0018e+02],\n",
       "        [8.8157e+02, 3.7710e+02, 9.6706e+02, 4.4869e+02],\n",
       "        [2.4622e+02, 3.4897e+02, 3.4952e+02, 3.9769e+02],\n",
       "        [5.9895e+02, 3.5402e+02, 6.3595e+02, 3.8532e+02],\n",
       "        [0.0000e+00, 3.4040e+02, 5.8369e+01, 4.0309e+02],\n",
       "        [7.3296e+02, 3.6651e+02, 7.7193e+02, 4.0439e+02],\n",
       "        [1.2783e+03, 1.0889e+01, 1.2804e+03, 7.1514e+01],\n",
       "        [6.8331e+02, 3.5948e+02, 7.1848e+02, 3.9106e+02],\n",
       "        [0.0000e+00, 3.3469e+02, 1.0771e+01, 3.9184e+02],\n",
       "        [2.0399e+02, 3.4324e+02, 2.5822e+02, 3.8604e+02],\n",
       "        [2.1483e+02, 3.5879e+02, 3.0010e+02, 4.5576e+02],\n",
       "        [7.0855e+02, 3.6453e+02, 7.4380e+02, 3.9798e+02],\n",
       "        [6.9143e+02, 3.6096e+02, 7.3740e+02, 3.9521e+02],\n",
       "        [1.2037e+03, 4.1763e+02, 1.2796e+03, 5.2414e+02],\n",
       "        [1.2562e+01, 3.4589e+02, 1.0175e+02, 4.0303e+02],\n",
       "        [5.8650e+02, 3.5004e+02, 6.1288e+02, 3.7690e+02],\n",
       "        [5.9287e+02, 3.5286e+02, 6.2272e+02, 3.8014e+02],\n",
       "        [9.6218e+02, 2.5513e+02, 1.0331e+03, 3.0948e+02],\n",
       "        [5.6735e+02, 3.3535e+02, 6.0806e+02, 3.7301e+02],\n",
       "        [2.6419e-01, 3.4545e+02, 2.3229e+01, 4.0542e+02],\n",
       "        [2.2906e+02, 3.4963e+02, 3.4007e+02, 4.2685e+02],\n",
       "        [4.0247e+02, 3.5680e+02, 4.3830e+02, 3.7669e+02],\n",
       "        [9.5007e+02, 2.4510e+02, 1.0541e+03, 3.2565e+02],\n",
       "        [3.6791e+02, 3.5338e+02, 4.0859e+02, 3.7721e+02],\n",
       "        [6.7125e+02, 3.6107e+02, 7.0012e+02, 3.8752e+02],\n",
       "        [7.0751e+02, 3.5469e+02, 7.5747e+02, 3.9433e+02],\n",
       "        [6.4737e+02, 3.6279e+02, 6.7849e+02, 3.8616e+02],\n",
       "        [3.6285e+02, 3.5067e+02, 4.2929e+02, 3.7986e+02],\n",
       "        [3.3258e+02, 3.5591e+02, 3.7428e+02, 3.8297e+02],\n",
       "        [4.4692e+02, 3.5686e+02, 4.7979e+02, 3.7400e+02],\n",
       "        [2.3218e+02, 3.6414e+02, 2.9779e+02, 4.1787e+02],\n",
       "        [2.0317e+02, 3.4216e+02, 3.0896e+02, 3.9695e+02],\n",
       "        [4.1253e+02, 3.5850e+02, 4.5320e+02, 3.7772e+02],\n",
       "        [3.5276e+02, 3.4964e+02, 3.9614e+02, 3.7467e+02],\n",
       "        [1.5724e+02, 3.2750e+02, 2.3829e+02, 3.7633e+02]], device='cuda:0'))"
      ]
     },
     "execution_count": 179,
     "metadata": {},
     "output_type": "execute_result"
    }
   ],
   "source": [
    "c2b_th9_box"
   ]
  },
  {
   "cell_type": "markdown",
   "id": "3eea0b22",
   "metadata": {},
   "source": [
    "# visualizer"
   ]
  },
  {
   "cell_type": "code",
   "execution_count": 795,
   "id": "f033d8c1",
   "metadata": {},
   "outputs": [],
   "source": [
    "from detectron2.utils.visualizer import Visualizer\n",
    "from detectron2.data import DatasetCatalog, MetadataCatalog\n",
    "import cv2"
   ]
  },
  {
   "cell_type": "code",
   "execution_count": 796,
   "id": "c27c4e57",
   "metadata": {},
   "outputs": [],
   "source": [
    "target_metadata = MetadataCatalog.get(dataset_name)"
   ]
  },
  {
   "cell_type": "code",
   "execution_count": 797,
   "id": "a167a7f6",
   "metadata": {},
   "outputs": [],
   "source": [
    "im = cv2.imread(test_data[0]['file_name'], cv2.IMREAD_COLOR)[:, :, ::-1]"
   ]
  },
  {
   "cell_type": "code",
   "execution_count": 800,
   "id": "134c50cd",
   "metadata": {},
   "outputs": [
    {
     "data": {
      "text/plain": [
       "Boxes(tensor([[ 206.,  338.,  283.,  389.],\n",
       "        [  47.,  344.,  131.,  402.],\n",
       "        [ 247.,  344.,  348.,  397.],\n",
       "        [   0.,  337.,   53.,  404.],\n",
       "        [ 684.,  357.,  722.,  394.],\n",
       "        [ 706.,  364.,  735.,  392.],\n",
       "        [ 727.,  366.,  762.,  402.],\n",
       "        [ 749.,  362.,  810.,  410.],\n",
       "        [ 787.,  358.,  907.,  426.],\n",
       "        [ 880.,  376.,  961.,  453.],\n",
       "        [ 936.,  336., 1213.,  485.],\n",
       "        [1204.,  416., 1280.,  531.],\n",
       "        [ 552.,  356.,  566.,  369.],\n",
       "        [ 574.,  352.,  587.,  370.],\n",
       "        [ 581.,  357.,  599.,  379.],\n",
       "        [ 596.,  352.,  637.,  387.],\n",
       "        [ 518.,  356.,  536.,  369.],\n",
       "        [ 502.,  357.,  519.,  372.],\n",
       "        [ 453.,  353.,  480.,  374.]], device='cuda:0'))"
      ]
     },
     "execution_count": 800,
     "metadata": {},
     "output_type": "execute_result"
    }
   ],
   "source": [
    "bboxes_gt"
   ]
  },
  {
   "cell_type": "code",
   "execution_count": 801,
   "id": "3b30bca5",
   "metadata": {},
   "outputs": [],
   "source": [
    "bboxes_gt = bboxes_gt[[0,1,2,3,9,10,11],:]"
   ]
  },
  {
   "cell_type": "code",
   "execution_count": 802,
   "id": "545ba962",
   "metadata": {},
   "outputs": [],
   "source": [
    "v = Visualizer(\n",
    "        im[:, :, ::-1], \n",
    "        metadata=target_metadata, \n",
    "        scale=1,\n",
    "        )\n",
    "for i,box in enumerate(c2b_th9_box.to('cpu')):\n",
    "    v.draw_box(box,edge_color='r')    \n",
    "    #score = confident_detections.scores[i].cpu()    \n",
    "    #v.draw_text(str(score.numpy()),tuple([score.numpy(),score.numpy()]),color='r')\n",
    "for box in bboxes_gt.to('cpu'):\n",
    "    v.draw_box(box,edge_color='b')\n",
    "    #v.draw_text(str(box[:2].numpy()), tuple(box[:2].numpy()),color='b')\n",
    "\n",
    "v = v.get_output()\n",
    "img =  v.get_image()[:, :, ::-1]\n"
   ]
  },
  {
   "cell_type": "code",
   "execution_count": 803,
   "id": "9ec3b007",
   "metadata": {},
   "outputs": [
    {
     "data": {
      "text/plain": [
       "True"
      ]
     },
     "execution_count": 803,
     "metadata": {},
     "output_type": "execute_result"
    }
   ],
   "source": [
    "cv2.imwrite('showbb.jpg', img)"
   ]
  },
  {
   "cell_type": "markdown",
   "id": "8834db31",
   "metadata": {},
   "source": [
    "### draw specific bbox"
   ]
  },
  {
   "cell_type": "code",
   "execution_count": 488,
   "id": "55e94359",
   "metadata": {},
   "outputs": [],
   "source": [
    "from detectron2.structures.boxes import Boxes\n",
    "#k2b fp1\n",
    "#new_boxes = k2b_prediction[[22,31,35,45,46],:]\n",
    "\n",
    "new_boxes = c2b_prediction[[9,20,24,25,26,29,30,36],:]\n",
    "new_boxes2 = k2b_prediction[[14,17,18,19,20,28,29,30,41],:]\n",
    "\n",
    "#new_boxes"
   ]
  },
  {
   "cell_type": "code",
   "execution_count": 493,
   "id": "4cee2011",
   "metadata": {},
   "outputs": [],
   "source": [
    "new_boxes = bboxes_gt[[16,17],:]\n",
    "new_boxes2 = bboxes_gt[[12],:]"
   ]
  },
  {
   "cell_type": "code",
   "execution_count": 527,
   "id": "9ff92e45",
   "metadata": {},
   "outputs": [
    {
     "name": "stdout",
     "output_type": "stream",
     "text": [
      "tensor(0.0043, device='cuda:0')\n",
      "tensor(0.0088, device='cuda:0')\n"
     ]
    }
   ],
   "source": [
    "print(proposals_roih_k2b[0].get('scores')[48])\n",
    "print(proposals_roih_k2b[0].get('scores')[43])\n",
    "\n",
    "new_boxes = bboxes_gt[[16,17],:]\n",
    "new_boxes2 = k2b_prediction[[43,48,49,50],:]"
   ]
  },
  {
   "cell_type": "code",
   "execution_count": 528,
   "id": "aa39dbcf",
   "metadata": {},
   "outputs": [
    {
     "data": {
      "text/plain": [
       "True"
      ]
     },
     "execution_count": 528,
     "metadata": {},
     "output_type": "execute_result"
    }
   ],
   "source": [
    "im = cv2.imread(test_data[0]['file_name'], cv2.IMREAD_COLOR)[:, :, ::-1]\n",
    "v = Visualizer(\n",
    "        im[:, :, ::-1], \n",
    "        metadata=target_metadata, \n",
    "        scale=1,\n",
    "        )\n",
    "for box in new_boxes.to('cpu'):\n",
    "    #print(box)\n",
    "    v.draw_box(box,edge_color='r')    \n",
    "for box in new_boxes2.to('cpu'):\n",
    "    #print(box)\n",
    "    v.draw_box(box,edge_color='g')    \n",
    "    \n",
    "v = v.get_output()\n",
    "img =  v.get_image()[:, :, ::-1]    \n",
    "cv2.imwrite('showbb.jpg', img)"
   ]
  },
  {
   "cell_type": "code",
   "execution_count": 270,
   "id": "2e7f5510",
   "metadata": {},
   "outputs": [
    {
     "data": {
      "image/png": "[encoded data removed]",
      "text/plain": [
       "<Figure size 432x288 with 1 Axes>"
      ]
     },
     "metadata": {
      "needs_background": "light"
     },
     "output_type": "display_data"
    }
   ],
   "source": [
    "from matplotlib import pyplot as plt\n",
    "\n",
    "#Show the image with matplotlib\n",
    "plt.imshow(img)\n",
    "plt.show()"
   ]
  },
  {
   "cell_type": "code",
   "execution_count": null,
   "id": "261e2c13",
   "metadata": {},
   "outputs": [],
   "source": [
    "def score_filter(proposals, th):\n",
    "    score_list = proposals.get('scores')\n",
    "    bbox_list= proposals.get('pred_boxes')\n",
    "    new_proposals =[]\n",
    "    for i in range(len(proposals)):\n",
    "        \n",
    "\n",
    "        score = proposals[i]\n",
    "        if score>th:\n",
    "            proposals\n",
    "            print(score)"
   ]
  },
  {
   "cell_type": "code",
   "execution_count": 57,
   "id": "17d94643",
   "metadata": {},
   "outputs": [
    {
     "name": "stdout",
     "output_type": "stream",
     "text": [
      "tensor(0.9860, device='cuda:0')\n",
      "tensor(0.9813, device='cuda:0')\n",
      "tensor(0.9627, device='cuda:0')\n",
      "tensor(0.9480, device='cuda:0')\n",
      "tensor(0.9304, device='cuda:0')\n",
      "tensor(0.9262, device='cuda:0')\n",
      "tensor(0.8904, device='cuda:0')\n",
      "tensor(0.8686, device='cuda:0')\n",
      "tensor(0.8171, device='cuda:0')\n",
      "tensor(0.7935, device='cuda:0')\n",
      "tensor(0.6872, device='cuda:0')\n"
     ]
    },
    {
     "ename": "IndexError",
     "evalue": "index 26 is out of bounds for dimension 0 with size 26",
     "output_type": "error",
     "traceback": [
      "\u001b[0;31m---------------------------------------------------------------------------\u001b[0m",
      "\u001b[0;31mIndexError\u001b[0m                                Traceback (most recent call last)",
      "\u001b[0;32m/tmp/ipykernel_1961/2553601414.py\u001b[0m in \u001b[0;36m<module>\u001b[0;34m\u001b[0m\n\u001b[0;32m----> 1\u001b[0;31m \u001b[0mscore_filter\u001b[0m\u001b[0;34m(\u001b[0m\u001b[0mproposals_roih_unsup_k\u001b[0m\u001b[0;34m,\u001b[0m\u001b[0;36m0.5\u001b[0m\u001b[0;34m)\u001b[0m\u001b[0;34m\u001b[0m\u001b[0;34m\u001b[0m\u001b[0m\n\u001b[0m",
      "\u001b[0;32m/tmp/ipykernel_1961/1800454573.py\u001b[0m in \u001b[0;36mscore_filter\u001b[0;34m(proposals, th)\u001b[0m\n\u001b[1;32m      2\u001b[0m     \u001b[0;32mfor\u001b[0m \u001b[0mi\u001b[0m \u001b[0;32min\u001b[0m \u001b[0mrange\u001b[0m\u001b[0;34m(\u001b[0m\u001b[0;36m16\u001b[0m\u001b[0;34m)\u001b[0m\u001b[0;34m:\u001b[0m\u001b[0;34m\u001b[0m\u001b[0;34m\u001b[0m\u001b[0m\n\u001b[1;32m      3\u001b[0m         \u001b[0;32mfor\u001b[0m \u001b[0mj\u001b[0m \u001b[0;32min\u001b[0m \u001b[0mrange\u001b[0m\u001b[0;34m(\u001b[0m\u001b[0;36m100\u001b[0m\u001b[0;34m)\u001b[0m\u001b[0;34m:\u001b[0m\u001b[0;34m\u001b[0m\u001b[0;34m\u001b[0m\u001b[0m\n\u001b[0;32m----> 4\u001b[0;31m             \u001b[0mscore\u001b[0m \u001b[0;34m=\u001b[0m \u001b[0mproposals\u001b[0m\u001b[0;34m[\u001b[0m\u001b[0mi\u001b[0m\u001b[0;34m]\u001b[0m\u001b[0;34m.\u001b[0m\u001b[0mget\u001b[0m\u001b[0;34m(\u001b[0m\u001b[0;34m'scores'\u001b[0m\u001b[0;34m)\u001b[0m\u001b[0;34m[\u001b[0m\u001b[0mj\u001b[0m\u001b[0;34m]\u001b[0m\u001b[0;34m\u001b[0m\u001b[0;34m\u001b[0m\u001b[0m\n\u001b[0m\u001b[1;32m      5\u001b[0m             \u001b[0;32mif\u001b[0m \u001b[0mscore\u001b[0m\u001b[0;34m>\u001b[0m\u001b[0mth\u001b[0m\u001b[0;34m:\u001b[0m\u001b[0;34m\u001b[0m\u001b[0;34m\u001b[0m\u001b[0m\n\u001b[1;32m      6\u001b[0m                 \u001b[0mprint\u001b[0m\u001b[0;34m(\u001b[0m\u001b[0mscore\u001b[0m\u001b[0;34m)\u001b[0m\u001b[0;34m\u001b[0m\u001b[0;34m\u001b[0m\u001b[0m\n",
      "\u001b[0;31mIndexError\u001b[0m: index 26 is out of bounds for dimension 0 with size 26"
     ]
    }
   ],
   "source": [
    "score_filter(proposals_roih_c2b[0],0.5)"
   ]
  },
  {
   "cell_type": "code",
   "execution_count": 24,
   "id": "25de9954",
   "metadata": {},
   "outputs": [
    {
     "name": "stdout",
     "output_type": "stream",
     "text": [
      "tensor(0.6534, device='cuda:0')\n"
     ]
    },
    {
     "ename": "IndexError",
     "evalue": "index 15 is out of bounds for dimension 0 with size 15",
     "output_type": "error",
     "traceback": [
      "\u001b[0;31m---------------------------------------------------------------------------\u001b[0m",
      "\u001b[0;31mIndexError\u001b[0m                                Traceback (most recent call last)",
      "\u001b[0;32m/tmp/ipykernel_1961/4080618201.py\u001b[0m in \u001b[0;36m<module>\u001b[0;34m\u001b[0m\n\u001b[1;32m      6\u001b[0m             unlabel_data_k, branch=\"unsup_data_weak\")\n\u001b[1;32m      7\u001b[0m \u001b[0;34m\u001b[0m\u001b[0m\n\u001b[0;32m----> 8\u001b[0;31m         \u001b[0mscore_filter\u001b[0m\u001b[0;34m(\u001b[0m\u001b[0mproposals_roih_unsup_k\u001b[0m\u001b[0;34m,\u001b[0m\u001b[0;36m0.5\u001b[0m\u001b[0;34m)\u001b[0m\u001b[0;34m\u001b[0m\u001b[0;34m\u001b[0m\u001b[0m\n\u001b[0m",
      "\u001b[0;32m/tmp/ipykernel_1961/1800454573.py\u001b[0m in \u001b[0;36mscore_filter\u001b[0;34m(proposals, th)\u001b[0m\n\u001b[1;32m      2\u001b[0m     \u001b[0;32mfor\u001b[0m \u001b[0mi\u001b[0m \u001b[0;32min\u001b[0m \u001b[0mrange\u001b[0m\u001b[0;34m(\u001b[0m\u001b[0;36m16\u001b[0m\u001b[0;34m)\u001b[0m\u001b[0;34m:\u001b[0m\u001b[0;34m\u001b[0m\u001b[0;34m\u001b[0m\u001b[0m\n\u001b[1;32m      3\u001b[0m         \u001b[0;32mfor\u001b[0m \u001b[0mj\u001b[0m \u001b[0;32min\u001b[0m \u001b[0mrange\u001b[0m\u001b[0;34m(\u001b[0m\u001b[0;36m100\u001b[0m\u001b[0;34m)\u001b[0m\u001b[0;34m:\u001b[0m\u001b[0;34m\u001b[0m\u001b[0;34m\u001b[0m\u001b[0m\n\u001b[0;32m----> 4\u001b[0;31m             \u001b[0mscore\u001b[0m \u001b[0;34m=\u001b[0m \u001b[0mproposals\u001b[0m\u001b[0;34m[\u001b[0m\u001b[0mi\u001b[0m\u001b[0;34m]\u001b[0m\u001b[0;34m.\u001b[0m\u001b[0mget\u001b[0m\u001b[0;34m(\u001b[0m\u001b[0;34m'scores'\u001b[0m\u001b[0;34m)\u001b[0m\u001b[0;34m[\u001b[0m\u001b[0mj\u001b[0m\u001b[0;34m]\u001b[0m\u001b[0;34m\u001b[0m\u001b[0;34m\u001b[0m\u001b[0m\n\u001b[0m\u001b[1;32m      5\u001b[0m             \u001b[0;32mif\u001b[0m \u001b[0mscore\u001b[0m\u001b[0;34m>\u001b[0m\u001b[0mth\u001b[0m\u001b[0;34m:\u001b[0m\u001b[0;34m\u001b[0m\u001b[0;34m\u001b[0m\u001b[0m\n\u001b[1;32m      6\u001b[0m                 \u001b[0mprint\u001b[0m\u001b[0;34m(\u001b[0m\u001b[0mscore\u001b[0m\u001b[0;34m)\u001b[0m\u001b[0;34m\u001b[0m\u001b[0;34m\u001b[0m\u001b[0m\n",
      "\u001b[0;31mIndexError\u001b[0m: index 15 is out of bounds for dimension 0 with size 15"
     ]
    }
   ],
   "source": [
    "for i in range(100):\n",
    "    data = next(data_loader_iter_obj)\n",
    "    label_data_q, label_data_k, unlabel_data_q, unlabel_data_k = data\n",
    "    with torch.no_grad():\n",
    "        (_,  proposals_rpn_unsup_k, proposals_roih_unsup_k, _,) =model_c2b.modelStudent(\n",
    "            unlabel_data_k, branch=\"unsup_data_weak\")\n",
    "\n",
    "        score_filter(proposals_roih_unsup_k,0.5)\n"
   ]
  },
  {
   "cell_type": "code",
   "execution_count": null,
   "id": "ce1bda6e",
   "metadata": {},
   "outputs": [],
   "source": [
    "# 100\n",
    "#'pred_boxes' \n",
    "'scores'\n",
    "'pred_classes'\n",
    "'scores_logists'\n",
    "'boxes_sigma'"
   ]
  },
  {
   "cell_type": "code",
   "execution_count": 19,
   "id": "636c1870",
   "metadata": {},
   "outputs": [
    {
     "data": {
      "text/plain": [
       "tensor([0.9838, 0.9832, 0.9797, 0.9756, 0.9673, 0.8527, 0.8314, 0.8230, 0.3675,\n",
       "        0.2064, 0.1819, 0.1548, 0.1441, 0.0712, 0.0578, 0.0454, 0.0381, 0.0380,\n",
       "        0.0380, 0.0349, 0.0281, 0.0250, 0.0185, 0.0173, 0.0163, 0.0140, 0.0133,\n",
       "        0.0114, 0.0108, 0.0086, 0.0075, 0.0067, 0.0064, 0.0063],\n",
       "       device='cuda:0')"
      ]
     },
     "execution_count": 19,
     "metadata": {},
     "output_type": "execute_result"
    }
   ],
   "source": [
    "proposals_roih_unsup_k[0].get('scores')"
   ]
  },
  {
   "cell_type": "code",
   "execution_count": 105,
   "id": "3f4dfc27",
   "metadata": {},
   "outputs": [],
   "source": [
    "\n",
    "#for proposal_bbox_inst in proposals_roih_unsup_k:\n",
    "pesudo_proposals_roih_unsup_k = threshold_bbox(proposals_roih_unsup_k[0], 0.8, \"roih\")\n",
    "    \n",
    "            "
   ]
  },
  {
   "cell_type": "code",
   "execution_count": 106,
   "id": "f11cfed7",
   "metadata": {},
   "outputs": [
    {
     "data": {
      "text/plain": [
       "FreeInstances(num_instances=0, image_height=600, image_width=1200, fields=[pseudo_boxes: Boxes(tensor([], device='cuda:0', size=(0, 4))), scores_logists: tensor([], device='cuda:0', size=(0, 2)), boxes_sigma: tensor([], device='cuda:0', size=(0, 4))])"
      ]
     },
     "execution_count": 106,
     "metadata": {},
     "output_type": "execute_result"
    }
   ],
   "source": [
    "pesudo_proposals_roih_unsup_k"
   ]
  },
  {
   "cell_type": "code",
   "execution_count": 101,
   "id": "849028a2",
   "metadata": {},
   "outputs": [],
   "source": [
    "from pt.structures.instances import FreeInstances\n",
    "from detectron2.structures.boxes import Boxes\n",
    "\n",
    "def threshold_bbox(proposal_bbox_inst, thres=0.7, proposal_type=\"roih\"):\n",
    "    valid_map = proposal_bbox_inst.scores > thres\n",
    "    # ------------ >all -----------\n",
    "    # create instances containing boxes and gt_classes\n",
    "    image_shape = proposal_bbox_inst.image_size\n",
    "    new_proposal_inst = FreeInstances(image_shape)\n",
    "\n",
    "    # ------------ <all -----------\n",
    "    # adapteacher threshold valid_map\n",
    "    new_bbox_loc = proposal_bbox_inst.pred_boxes.tensor[valid_map, :]\n",
    "    pseudo_boxes = Boxes(new_bbox_loc)\n",
    "\n",
    "    # add boxes to instances\n",
    "    new_proposal_inst.pseudo_boxes = pseudo_boxes\n",
    "    # adapteacher threshold valid_map\n",
    "    new_proposal_inst.scores_logists = proposal_bbox_inst.scores_logists[valid_map]\n",
    "    if proposal_bbox_inst.has('boxes_sigma'):\n",
    "        new_proposal_inst.boxes_sigma = proposal_bbox_inst.boxes_sigma[valid_map]\n",
    "    return new_proposal_inst"
   ]
  },
  {
   "cell_type": "markdown",
   "id": "f93d1e87",
   "metadata": {},
   "source": [
    "# Avg"
   ]
  },
  {
   "cell_type": "code",
   "execution_count": 113,
   "id": "8acfa6b0",
   "metadata": {},
   "outputs": [],
   "source": [
    "def avgWeight(model_list,ratio_list):\n",
    "    parties = len(model_list)\n",
    "    model_tmp=[None] * parties\n",
    "    #optims_tmp=[None] * parties\n",
    "\n",
    "    for idx, my_model in enumerate(model_list):\n",
    "        \n",
    "        model_tmp[idx] = my_model.state_dict()\n",
    "\n",
    "\n",
    "    for key in model_tmp[0]:    \n",
    "        print(key)\n",
    "        model_avg = 0\n",
    "\n",
    "        for idx, model_tmp_content in enumerate(model_tmp):     # add each model              \n",
    "            model_avg += ratio_list[idx] * model_tmp_content[key]\n",
    "            \n",
    "        for i in range(len(model_tmp)):  #copy to each model            \n",
    "            model_tmp[i][key] = model_avg\n",
    "    for i in range(len(model_list)):    \n",
    "        model_list[i].load_state_dict(model_tmp[i])\n",
    "        \n",
    "    return model_list  #, optims_tmp\n",
    "    "
   ]
  },
  {
   "cell_type": "code",
   "execution_count": 114,
   "id": "86e320a0",
   "metadata": {},
   "outputs": [],
   "source": [
    "def avg_model_weight(model_list):\n",
    "    balance = 1/len(model_list)\n",
    "    ratio_list= [balance] * len(model_list)\n",
    "    \n",
    "    avg_model=avgWeight(model_list,ratio_list)\n",
    "    return avg_model\n"
   ]
  },
  {
   "cell_type": "code",
   "execution_count": 116,
   "id": "87469e55",
   "metadata": {},
   "outputs": [
    {
     "name": "stdout",
     "output_type": "stream",
     "text": [
      "backbone.vgg_block1.0.conv1.weight\n",
      "backbone.vgg_block1.0.conv1.bias\n",
      "backbone.vgg_block1.0.conv2.weight\n",
      "backbone.vgg_block1.0.conv2.bias\n",
      "backbone.vgg_block2.0.conv1.weight\n",
      "backbone.vgg_block2.0.conv1.bias\n",
      "backbone.vgg_block2.0.conv2.weight\n",
      "backbone.vgg_block2.0.conv2.bias\n",
      "backbone.vgg_block3.0.conv1.weight\n",
      "backbone.vgg_block3.0.conv1.bias\n",
      "backbone.vgg_block3.0.conv2.weight\n",
      "backbone.vgg_block3.0.conv2.bias\n",
      "backbone.vgg_block3.0.conv3.weight\n",
      "backbone.vgg_block3.0.conv3.bias\n",
      "backbone.vgg_block4.0.conv1.weight\n",
      "backbone.vgg_block4.0.conv1.bias\n",
      "backbone.vgg_block4.0.conv2.weight\n",
      "backbone.vgg_block4.0.conv2.bias\n",
      "backbone.vgg_block4.0.conv3.weight\n",
      "backbone.vgg_block4.0.conv3.bias\n",
      "backbone.vgg_block5.0.conv1.weight\n",
      "backbone.vgg_block5.0.conv1.bias\n",
      "backbone.vgg_block5.0.conv2.weight\n",
      "backbone.vgg_block5.0.conv2.bias\n",
      "backbone.vgg_block5.0.conv3.weight\n",
      "backbone.vgg_block5.0.conv3.bias\n",
      "proposal_generator.rpn_head.conv.weight\n",
      "proposal_generator.rpn_head.conv.bias\n",
      "proposal_generator.rpn_head.objectness_logits.weight\n",
      "proposal_generator.rpn_head.objectness_logits.bias\n",
      "proposal_generator.rpn_head.anchor_deltas.weight\n",
      "proposal_generator.rpn_head.anchor_deltas.bias\n",
      "roi_heads.box_head.fc1.weight\n",
      "roi_heads.box_head.fc1.bias\n",
      "roi_heads.box_head.fc2.weight\n",
      "roi_heads.box_head.fc2.bias\n",
      "roi_heads.box_predictor.cls_score.weight\n",
      "roi_heads.box_predictor.cls_score.bias\n",
      "roi_heads.box_predictor.bbox_pred.weight\n",
      "roi_heads.box_predictor.bbox_pred.bias\n"
     ]
    }
   ],
   "source": [
    "mGPUs=False\n",
    "avg_model = avg_model_weight(model_list_ck2b)\n",
    "\n"
   ]
  },
  {
   "cell_type": "code",
   "execution_count": null,
   "id": "941c4f2b",
   "metadata": {},
   "outputs": [],
   "source": [
    "output_dir = 'models/avg_ck2b'\n",
    "save_name = os.path.join(output_dir, 'pt_ck2b_AVG.pth')\n",
    "torch.save(avg_model[0].state_dict(), save_name)"
   ]
  },
  {
   "cell_type": "code",
   "execution_count": null,
   "id": "e21c311e",
   "metadata": {},
   "outputs": [],
   "source": [
    "checkpointer = DetectionCheckpointer(trainer.model, save_dir=cfg.OUTPUT_DIR)"
   ]
  },
  {
   "cell_type": "code",
   "execution_count": null,
   "id": "0c18e034",
   "metadata": {},
   "outputs": [],
   "source": [
    "from pt.engine.trainer import PTrainer\n",
    "from detectron2.checkpoint import DetectionCheckpointer\n",
    "\n",
    "cfg = setup(\"configs/pt/k2bdd.yaml\")\n",
    "cfg.defrost()\n",
    "cfg.MODEL.WEIGHTS = \"keep_experiments/k2b/model_final.pth\"\n",
    "model = PTrainer.build_model(cfg)\n",
    "DetectionCheckpointer(model, save_dir=cfg.OUTPUT_DIR).resume_or_load(\n",
    "                cfg.MODEL.WEIGHTS, resume=False\n",
    "            )\n",
    "res = PTrainer.test(cfg, model)"
   ]
  },
  {
   "cell_type": "code",
   "execution_count": 101,
   "id": "e6f83808",
   "metadata": {},
   "outputs": [],
   "source": [
    "c2bmodel= torch.load(\"keep_experiments/c2b/model_0011999.pth\")"
   ]
  },
  {
   "cell_type": "code",
   "execution_count": 77,
   "id": "109ba7c6",
   "metadata": {},
   "outputs": [],
   "source": [
    "k2bmodel = torch.load(\"keep_experiments/k2b/model_final.pth\")\n"
   ]
  },
  {
   "cell_type": "code",
   "execution_count": 99,
   "id": "82356e59",
   "metadata": {},
   "outputs": [
    {
     "data": {
      "text/plain": [
       "dict_keys(['model', 'optimizer', 'scheduler', 'iteration'])"
      ]
     },
     "execution_count": 99,
     "metadata": {},
     "output_type": "execute_result"
    }
   ],
   "source": [
    "k2bmodel.keys()"
   ]
  },
  {
   "cell_type": "code",
   "execution_count": 100,
   "id": "4d90cf67",
   "metadata": {},
   "outputs": [
    {
     "data": {
      "text/plain": [
       "odict_keys(['modelTeacher.backbone.vgg_block1.0.conv1.weight', 'modelTeacher.backbone.vgg_block1.0.conv1.bias', 'modelTeacher.backbone.vgg_block1.0.conv2.weight', 'modelTeacher.backbone.vgg_block1.0.conv2.bias', 'modelTeacher.backbone.vgg_block2.0.conv1.weight', 'modelTeacher.backbone.vgg_block2.0.conv1.bias', 'modelTeacher.backbone.vgg_block2.0.conv2.weight', 'modelTeacher.backbone.vgg_block2.0.conv2.bias', 'modelTeacher.backbone.vgg_block3.0.conv1.weight', 'modelTeacher.backbone.vgg_block3.0.conv1.bias', 'modelTeacher.backbone.vgg_block3.0.conv2.weight', 'modelTeacher.backbone.vgg_block3.0.conv2.bias', 'modelTeacher.backbone.vgg_block3.0.conv3.weight', 'modelTeacher.backbone.vgg_block3.0.conv3.bias', 'modelTeacher.backbone.vgg_block4.0.conv1.weight', 'modelTeacher.backbone.vgg_block4.0.conv1.bias', 'modelTeacher.backbone.vgg_block4.0.conv2.weight', 'modelTeacher.backbone.vgg_block4.0.conv2.bias', 'modelTeacher.backbone.vgg_block4.0.conv3.weight', 'modelTeacher.backbone.vgg_block4.0.conv3.bias', 'modelTeacher.backbone.vgg_block5.0.conv1.weight', 'modelTeacher.backbone.vgg_block5.0.conv1.bias', 'modelTeacher.backbone.vgg_block5.0.conv2.weight', 'modelTeacher.backbone.vgg_block5.0.conv2.bias', 'modelTeacher.backbone.vgg_block5.0.conv3.weight', 'modelTeacher.backbone.vgg_block5.0.conv3.bias', 'modelTeacher.proposal_generator.rpn_head.conv.weight', 'modelTeacher.proposal_generator.rpn_head.conv.bias', 'modelTeacher.proposal_generator.rpn_head.objectness_logits.weight', 'modelTeacher.proposal_generator.rpn_head.objectness_logits.bias', 'modelTeacher.proposal_generator.rpn_head.anchor_deltas.weight', 'modelTeacher.proposal_generator.rpn_head.anchor_deltas.bias', 'modelTeacher.roi_heads.box_head.fc1.weight', 'modelTeacher.roi_heads.box_head.fc1.bias', 'modelTeacher.roi_heads.box_head.fc2.weight', 'modelTeacher.roi_heads.box_head.fc2.bias', 'modelTeacher.roi_heads.box_predictor.cls_score.weight', 'modelTeacher.roi_heads.box_predictor.cls_score.bias', 'modelTeacher.roi_heads.box_predictor.bbox_pred.weight', 'modelTeacher.roi_heads.box_predictor.bbox_pred.bias', 'modelStudent.backbone.vgg_block1.0.conv1.weight', 'modelStudent.backbone.vgg_block1.0.conv1.bias', 'modelStudent.backbone.vgg_block1.0.conv2.weight', 'modelStudent.backbone.vgg_block1.0.conv2.bias', 'modelStudent.backbone.vgg_block2.0.conv1.weight', 'modelStudent.backbone.vgg_block2.0.conv1.bias', 'modelStudent.backbone.vgg_block2.0.conv2.weight', 'modelStudent.backbone.vgg_block2.0.conv2.bias', 'modelStudent.backbone.vgg_block3.0.conv1.weight', 'modelStudent.backbone.vgg_block3.0.conv1.bias', 'modelStudent.backbone.vgg_block3.0.conv2.weight', 'modelStudent.backbone.vgg_block3.0.conv2.bias', 'modelStudent.backbone.vgg_block3.0.conv3.weight', 'modelStudent.backbone.vgg_block3.0.conv3.bias', 'modelStudent.backbone.vgg_block4.0.conv1.weight', 'modelStudent.backbone.vgg_block4.0.conv1.bias', 'modelStudent.backbone.vgg_block4.0.conv2.weight', 'modelStudent.backbone.vgg_block4.0.conv2.bias', 'modelStudent.backbone.vgg_block4.0.conv3.weight', 'modelStudent.backbone.vgg_block4.0.conv3.bias', 'modelStudent.backbone.vgg_block5.0.conv1.weight', 'modelStudent.backbone.vgg_block5.0.conv1.bias', 'modelStudent.backbone.vgg_block5.0.conv2.weight', 'modelStudent.backbone.vgg_block5.0.conv2.bias', 'modelStudent.backbone.vgg_block5.0.conv3.weight', 'modelStudent.backbone.vgg_block5.0.conv3.bias', 'modelStudent.proposal_generator.rpn_head.conv.weight', 'modelStudent.proposal_generator.rpn_head.conv.bias', 'modelStudent.proposal_generator.rpn_head.objectness_logits.weight', 'modelStudent.proposal_generator.rpn_head.objectness_logits.bias', 'modelStudent.proposal_generator.rpn_head.anchor_deltas.weight', 'modelStudent.proposal_generator.rpn_head.anchor_deltas.bias', 'modelStudent.roi_heads.box_head.fc1.weight', 'modelStudent.roi_heads.box_head.fc1.bias', 'modelStudent.roi_heads.box_head.fc2.weight', 'modelStudent.roi_heads.box_head.fc2.bias', 'modelStudent.roi_heads.box_predictor.cls_score.weight', 'modelStudent.roi_heads.box_predictor.cls_score.bias', 'modelStudent.roi_heads.box_predictor.bbox_pred.weight', 'modelStudent.roi_heads.box_predictor.bbox_pred.bias'])"
      ]
     },
     "execution_count": 100,
     "metadata": {},
     "output_type": "execute_result"
    }
   ],
   "source": [
    "k2bmodel['model'].keys()"
   ]
  },
  {
   "cell_type": "code",
   "execution_count": 96,
   "id": "e311ec22",
   "metadata": {},
   "outputs": [],
   "source": [
    "avg_bdd_model = torch.load(\"models/avg_ck2b/pt_ck2b_AVG.pth\")\n"
   ]
  },
  {
   "cell_type": "code",
   "execution_count": 109,
   "id": "0e5d84f3",
   "metadata": {},
   "outputs": [
    {
     "ename": "AttributeError",
     "evalue": "'collections.OrderedDict' object has no attribute 'load_state_dict'",
     "output_type": "error",
     "traceback": [
      "\u001b[0;31m---------------------------------------------------------------------------\u001b[0m",
      "\u001b[0;31mAttributeError\u001b[0m                            Traceback (most recent call last)",
      "\u001b[0;32m/tmp/ipykernel_20608/3814799425.py\u001b[0m in \u001b[0;36m<module>\u001b[0;34m\u001b[0m\n\u001b[1;32m      1\u001b[0m \u001b[0mmodel_list_loadbdd\u001b[0m \u001b[0;34m=\u001b[0m \u001b[0;34m[\u001b[0m\u001b[0mc2bmodel\u001b[0m\u001b[0;34m,\u001b[0m\u001b[0mk2bmodel\u001b[0m\u001b[0;34m]\u001b[0m\u001b[0;34m\u001b[0m\u001b[0;34m\u001b[0m\u001b[0m\n\u001b[0;32m----> 2\u001b[0;31m \u001b[0mavg_bdd_model_v2\u001b[0m \u001b[0;34m=\u001b[0m \u001b[0mavg_model_weight\u001b[0m\u001b[0;34m(\u001b[0m\u001b[0mmodel_list_loadbdd\u001b[0m\u001b[0;34m)\u001b[0m\u001b[0;34m\u001b[0m\u001b[0;34m\u001b[0m\u001b[0m\n\u001b[0m",
      "\u001b[0;32m/tmp/ipykernel_20608/4273050171.py\u001b[0m in \u001b[0;36mavg_model_weight\u001b[0;34m(model_list)\u001b[0m\n\u001b[1;32m      3\u001b[0m     \u001b[0mratio_list\u001b[0m\u001b[0;34m=\u001b[0m \u001b[0;34m[\u001b[0m\u001b[0mbalance\u001b[0m\u001b[0;34m]\u001b[0m \u001b[0;34m*\u001b[0m \u001b[0mlen\u001b[0m\u001b[0;34m(\u001b[0m\u001b[0mmodel_list\u001b[0m\u001b[0;34m)\u001b[0m\u001b[0;34m\u001b[0m\u001b[0;34m\u001b[0m\u001b[0m\n\u001b[1;32m      4\u001b[0m \u001b[0;34m\u001b[0m\u001b[0m\n\u001b[0;32m----> 5\u001b[0;31m     \u001b[0mavg_model\u001b[0m\u001b[0;34m=\u001b[0m\u001b[0mavgWeight\u001b[0m\u001b[0;34m(\u001b[0m\u001b[0mmodel_list\u001b[0m\u001b[0;34m,\u001b[0m\u001b[0mratio_list\u001b[0m\u001b[0;34m)\u001b[0m\u001b[0;34m\u001b[0m\u001b[0;34m\u001b[0m\u001b[0m\n\u001b[0m\u001b[1;32m      6\u001b[0m     \u001b[0;32mreturn\u001b[0m \u001b[0mavg_model\u001b[0m\u001b[0;34m\u001b[0m\u001b[0;34m\u001b[0m\u001b[0m\n",
      "\u001b[0;32m/tmp/ipykernel_20608/2648827071.py\u001b[0m in \u001b[0;36mavgWeight\u001b[0;34m(model_list, ratio_list)\u001b[0m\n\u001b[1;32m     19\u001b[0m             \u001b[0mmodel_tmp\u001b[0m\u001b[0;34m[\u001b[0m\u001b[0mi\u001b[0m\u001b[0;34m]\u001b[0m\u001b[0;34m[\u001b[0m\u001b[0mkey\u001b[0m\u001b[0;34m]\u001b[0m \u001b[0;34m=\u001b[0m \u001b[0mmodel_avg\u001b[0m\u001b[0;34m\u001b[0m\u001b[0;34m\u001b[0m\u001b[0m\n\u001b[1;32m     20\u001b[0m     \u001b[0;32mfor\u001b[0m \u001b[0mi\u001b[0m \u001b[0;32min\u001b[0m \u001b[0mrange\u001b[0m\u001b[0;34m(\u001b[0m\u001b[0mlen\u001b[0m\u001b[0;34m(\u001b[0m\u001b[0mmodel_list\u001b[0m\u001b[0;34m)\u001b[0m\u001b[0;34m)\u001b[0m\u001b[0;34m:\u001b[0m\u001b[0;34m\u001b[0m\u001b[0;34m\u001b[0m\u001b[0m\n\u001b[0;32m---> 21\u001b[0;31m         \u001b[0mmodel_list\u001b[0m\u001b[0;34m[\u001b[0m\u001b[0mi\u001b[0m\u001b[0;34m]\u001b[0m\u001b[0;34m[\u001b[0m\u001b[0;34m'model'\u001b[0m\u001b[0;34m]\u001b[0m\u001b[0;34m.\u001b[0m\u001b[0mload_state_dict\u001b[0m\u001b[0;34m(\u001b[0m\u001b[0mmodel_tmp\u001b[0m\u001b[0;34m[\u001b[0m\u001b[0mi\u001b[0m\u001b[0;34m]\u001b[0m\u001b[0;34m)\u001b[0m\u001b[0;34m\u001b[0m\u001b[0;34m\u001b[0m\u001b[0m\n\u001b[0m\u001b[1;32m     22\u001b[0m \u001b[0;34m\u001b[0m\u001b[0m\n\u001b[1;32m     23\u001b[0m     \u001b[0;32mreturn\u001b[0m \u001b[0mmodel_list\u001b[0m  \u001b[0;31m#, optims_tmp\u001b[0m\u001b[0;34m\u001b[0m\u001b[0;34m\u001b[0m\u001b[0m\n",
      "\u001b[0;31mAttributeError\u001b[0m: 'collections.OrderedDict' object has no attribute 'load_state_dict'"
     ]
    }
   ],
   "source": [
    "model_list_loadbdd = [c2bmodel,k2bmodel]\n",
    "avg_bdd_model_v2 = avg_model_weight(model_list_loadbdd)"
   ]
  },
  {
   "cell_type": "code",
   "execution_count": 98,
   "id": "240b65ec",
   "metadata": {},
   "outputs": [
    {
     "data": {
      "text/plain": [
       "odict_keys(['backbone.vgg_block1.0.conv1.weight', 'backbone.vgg_block1.0.conv1.bias', 'backbone.vgg_block1.0.conv2.weight', 'backbone.vgg_block1.0.conv2.bias', 'backbone.vgg_block2.0.conv1.weight', 'backbone.vgg_block2.0.conv1.bias', 'backbone.vgg_block2.0.conv2.weight', 'backbone.vgg_block2.0.conv2.bias', 'backbone.vgg_block3.0.conv1.weight', 'backbone.vgg_block3.0.conv1.bias', 'backbone.vgg_block3.0.conv2.weight', 'backbone.vgg_block3.0.conv2.bias', 'backbone.vgg_block3.0.conv3.weight', 'backbone.vgg_block3.0.conv3.bias', 'backbone.vgg_block4.0.conv1.weight', 'backbone.vgg_block4.0.conv1.bias', 'backbone.vgg_block4.0.conv2.weight', 'backbone.vgg_block4.0.conv2.bias', 'backbone.vgg_block4.0.conv3.weight', 'backbone.vgg_block4.0.conv3.bias', 'backbone.vgg_block5.0.conv1.weight', 'backbone.vgg_block5.0.conv1.bias', 'backbone.vgg_block5.0.conv2.weight', 'backbone.vgg_block5.0.conv2.bias', 'backbone.vgg_block5.0.conv3.weight', 'backbone.vgg_block5.0.conv3.bias', 'proposal_generator.rpn_head.conv.weight', 'proposal_generator.rpn_head.conv.bias', 'proposal_generator.rpn_head.objectness_logits.weight', 'proposal_generator.rpn_head.objectness_logits.bias', 'proposal_generator.rpn_head.anchor_deltas.weight', 'proposal_generator.rpn_head.anchor_deltas.bias', 'roi_heads.box_head.fc1.weight', 'roi_heads.box_head.fc1.bias', 'roi_heads.box_head.fc2.weight', 'roi_heads.box_head.fc2.bias', 'roi_heads.box_predictor.cls_score.weight', 'roi_heads.box_predictor.cls_score.bias', 'roi_heads.box_predictor.bbox_pred.weight', 'roi_heads.box_predictor.bbox_pred.bias'])"
      ]
     },
     "execution_count": 98,
     "metadata": {},
     "output_type": "execute_result"
    }
   ],
   "source": [
    "avg_bdd_model.keys()"
   ]
  },
  {
   "cell_type": "code",
   "execution_count": 91,
   "id": "1b136e90",
   "metadata": {},
   "outputs": [
    {
     "data": {
      "text/plain": [
       "odict_keys(['backbone.vgg_block1.0.conv1.weight', 'backbone.vgg_block1.0.conv1.bias', 'backbone.vgg_block1.0.conv2.weight', 'backbone.vgg_block1.0.conv2.bias', 'backbone.vgg_block2.0.conv1.weight', 'backbone.vgg_block2.0.conv1.bias', 'backbone.vgg_block2.0.conv2.weight', 'backbone.vgg_block2.0.conv2.bias', 'backbone.vgg_block3.0.conv1.weight', 'backbone.vgg_block3.0.conv1.bias', 'backbone.vgg_block3.0.conv2.weight', 'backbone.vgg_block3.0.conv2.bias', 'backbone.vgg_block3.0.conv3.weight', 'backbone.vgg_block3.0.conv3.bias', 'backbone.vgg_block4.0.conv1.weight', 'backbone.vgg_block4.0.conv1.bias', 'backbone.vgg_block4.0.conv2.weight', 'backbone.vgg_block4.0.conv2.bias', 'backbone.vgg_block4.0.conv3.weight', 'backbone.vgg_block4.0.conv3.bias', 'backbone.vgg_block5.0.conv1.weight', 'backbone.vgg_block5.0.conv1.bias', 'backbone.vgg_block5.0.conv2.weight', 'backbone.vgg_block5.0.conv2.bias', 'backbone.vgg_block5.0.conv3.weight', 'backbone.vgg_block5.0.conv3.bias', 'proposal_generator.rpn_head.conv.weight', 'proposal_generator.rpn_head.conv.bias', 'proposal_generator.rpn_head.objectness_logits.weight', 'proposal_generator.rpn_head.objectness_logits.bias', 'proposal_generator.rpn_head.anchor_deltas.weight', 'proposal_generator.rpn_head.anchor_deltas.bias', 'roi_heads.box_head.fc1.weight', 'roi_heads.box_head.fc1.bias', 'roi_heads.box_head.fc2.weight', 'roi_heads.box_head.fc2.bias', 'roi_heads.box_predictor.cls_score.weight', 'roi_heads.box_predictor.cls_score.bias', 'roi_heads.box_predictor.bbox_pred.weight', 'roi_heads.box_predictor.bbox_pred.bias'])"
      ]
     },
     "execution_count": 91,
     "metadata": {},
     "output_type": "execute_result"
    }
   ],
   "source": [
    "model_k2b.state_dict().keys()"
   ]
  },
  {
   "cell_type": "code",
   "execution_count": 95,
   "id": "009d430c",
   "metadata": {},
   "outputs": [
    {
     "ename": "AttributeError",
     "evalue": "'dict' object has no attribute 'state_dict'",
     "output_type": "error",
     "traceback": [
      "\u001b[0;31m---------------------------------------------------------------------------\u001b[0m",
      "\u001b[0;31mAttributeError\u001b[0m                            Traceback (most recent call last)",
      "\u001b[0;32m/tmp/ipykernel_20608/3067038914.py\u001b[0m in \u001b[0;36m<module>\u001b[0;34m\u001b[0m\n\u001b[0;32m----> 1\u001b[0;31m \u001b[0mk2bmodel\u001b[0m\u001b[0;34m.\u001b[0m\u001b[0mstate_dict\u001b[0m\u001b[0;34m(\u001b[0m\u001b[0;34m)\u001b[0m\u001b[0;34m\u001b[0m\u001b[0;34m\u001b[0m\u001b[0m\n\u001b[0m",
      "\u001b[0;31mAttributeError\u001b[0m: 'dict' object has no attribute 'state_dict'"
     ]
    }
   ],
   "source": [
    "k2bmodel['.state_dict()']"
   ]
  },
  {
   "cell_type": "code",
   "execution_count": 83,
   "id": "e00d4247",
   "metadata": {},
   "outputs": [
    {
     "data": {
      "text/plain": [
       "['modelStudent.backbone.vgg_block1.0.conv1.bias',\n",
       " 'modelStudent.backbone.vgg_block1.0.conv1.weight',\n",
       " 'modelStudent.backbone.vgg_block1.0.conv2.bias',\n",
       " 'modelStudent.backbone.vgg_block1.0.conv2.weight',\n",
       " 'modelStudent.backbone.vgg_block2.0.conv1.bias',\n",
       " 'modelStudent.backbone.vgg_block2.0.conv1.weight',\n",
       " 'modelStudent.backbone.vgg_block2.0.conv2.bias',\n",
       " 'modelStudent.backbone.vgg_block2.0.conv2.weight',\n",
       " 'modelStudent.backbone.vgg_block3.0.conv1.bias',\n",
       " 'modelStudent.backbone.vgg_block3.0.conv1.weight',\n",
       " 'modelStudent.backbone.vgg_block3.0.conv2.bias',\n",
       " 'modelStudent.backbone.vgg_block3.0.conv2.weight',\n",
       " 'modelStudent.backbone.vgg_block3.0.conv3.bias',\n",
       " 'modelStudent.backbone.vgg_block3.0.conv3.weight',\n",
       " 'modelStudent.backbone.vgg_block4.0.conv1.bias',\n",
       " 'modelStudent.backbone.vgg_block4.0.conv1.weight',\n",
       " 'modelStudent.backbone.vgg_block4.0.conv2.bias',\n",
       " 'modelStudent.backbone.vgg_block4.0.conv2.weight',\n",
       " 'modelStudent.backbone.vgg_block4.0.conv3.bias',\n",
       " 'modelStudent.backbone.vgg_block4.0.conv3.weight',\n",
       " 'modelStudent.backbone.vgg_block5.0.conv1.bias',\n",
       " 'modelStudent.backbone.vgg_block5.0.conv1.weight',\n",
       " 'modelStudent.backbone.vgg_block5.0.conv2.bias',\n",
       " 'modelStudent.backbone.vgg_block5.0.conv2.weight',\n",
       " 'modelStudent.backbone.vgg_block5.0.conv3.bias',\n",
       " 'modelStudent.backbone.vgg_block5.0.conv3.weight',\n",
       " 'modelStudent.proposal_generator.rpn_head.anchor_deltas.bias',\n",
       " 'modelStudent.proposal_generator.rpn_head.anchor_deltas.weight',\n",
       " 'modelStudent.proposal_generator.rpn_head.conv.bias',\n",
       " 'modelStudent.proposal_generator.rpn_head.conv.weight',\n",
       " 'modelStudent.proposal_generator.rpn_head.objectness_logits.bias',\n",
       " 'modelStudent.proposal_generator.rpn_head.objectness_logits.weight',\n",
       " 'modelStudent.roi_heads.box_head.fc1.bias',\n",
       " 'modelStudent.roi_heads.box_head.fc1.weight',\n",
       " 'modelStudent.roi_heads.box_head.fc2.bias',\n",
       " 'modelStudent.roi_heads.box_head.fc2.weight',\n",
       " 'modelStudent.roi_heads.box_predictor.bbox_pred.bias',\n",
       " 'modelStudent.roi_heads.box_predictor.bbox_pred.weight',\n",
       " 'modelStudent.roi_heads.box_predictor.cls_score.bias',\n",
       " 'modelStudent.roi_heads.box_predictor.cls_score.weight',\n",
       " 'modelTeacher.backbone.vgg_block1.0.conv1.bias',\n",
       " 'modelTeacher.backbone.vgg_block1.0.conv1.weight',\n",
       " 'modelTeacher.backbone.vgg_block1.0.conv2.bias',\n",
       " 'modelTeacher.backbone.vgg_block1.0.conv2.weight',\n",
       " 'modelTeacher.backbone.vgg_block2.0.conv1.bias',\n",
       " 'modelTeacher.backbone.vgg_block2.0.conv1.weight',\n",
       " 'modelTeacher.backbone.vgg_block2.0.conv2.bias',\n",
       " 'modelTeacher.backbone.vgg_block2.0.conv2.weight',\n",
       " 'modelTeacher.backbone.vgg_block3.0.conv1.bias',\n",
       " 'modelTeacher.backbone.vgg_block3.0.conv1.weight',\n",
       " 'modelTeacher.backbone.vgg_block3.0.conv2.bias',\n",
       " 'modelTeacher.backbone.vgg_block3.0.conv2.weight',\n",
       " 'modelTeacher.backbone.vgg_block3.0.conv3.bias',\n",
       " 'modelTeacher.backbone.vgg_block3.0.conv3.weight',\n",
       " 'modelTeacher.backbone.vgg_block4.0.conv1.bias',\n",
       " 'modelTeacher.backbone.vgg_block4.0.conv1.weight',\n",
       " 'modelTeacher.backbone.vgg_block4.0.conv2.bias',\n",
       " 'modelTeacher.backbone.vgg_block4.0.conv2.weight',\n",
       " 'modelTeacher.backbone.vgg_block4.0.conv3.bias',\n",
       " 'modelTeacher.backbone.vgg_block4.0.conv3.weight',\n",
       " 'modelTeacher.backbone.vgg_block5.0.conv1.bias',\n",
       " 'modelTeacher.backbone.vgg_block5.0.conv1.weight',\n",
       " 'modelTeacher.backbone.vgg_block5.0.conv2.bias',\n",
       " 'modelTeacher.backbone.vgg_block5.0.conv2.weight',\n",
       " 'modelTeacher.backbone.vgg_block5.0.conv3.bias',\n",
       " 'modelTeacher.backbone.vgg_block5.0.conv3.weight',\n",
       " 'modelTeacher.proposal_generator.rpn_head.anchor_deltas.bias',\n",
       " 'modelTeacher.proposal_generator.rpn_head.anchor_deltas.weight',\n",
       " 'modelTeacher.proposal_generator.rpn_head.conv.bias',\n",
       " 'modelTeacher.proposal_generator.rpn_head.conv.weight',\n",
       " 'modelTeacher.proposal_generator.rpn_head.objectness_logits.bias',\n",
       " 'modelTeacher.proposal_generator.rpn_head.objectness_logits.weight',\n",
       " 'modelTeacher.roi_heads.box_head.fc1.bias',\n",
       " 'modelTeacher.roi_heads.box_head.fc1.weight',\n",
       " 'modelTeacher.roi_heads.box_head.fc2.bias',\n",
       " 'modelTeacher.roi_heads.box_head.fc2.weight',\n",
       " 'modelTeacher.roi_heads.box_predictor.bbox_pred.bias',\n",
       " 'modelTeacher.roi_heads.box_predictor.bbox_pred.weight',\n",
       " 'modelTeacher.roi_heads.box_predictor.cls_score.bias',\n",
       " 'modelTeacher.roi_heads.box_predictor.cls_score.weight']"
      ]
     },
     "execution_count": 83,
     "metadata": {},
     "output_type": "execute_result"
    }
   ],
   "source": [
    "model_keys = sorted(k2bmodel['model'].keys())\n",
    "model_keys"
   ]
  },
  {
   "cell_type": "code",
   "execution_count": 88,
   "id": "ca6e75ae",
   "metadata": {},
   "outputs": [
    {
     "data": {
      "text/plain": [
       "['backbone.vgg_block1.0.conv1.bias',\n",
       " 'backbone.vgg_block1.0.conv1.weight',\n",
       " 'backbone.vgg_block1.0.conv2.bias',\n",
       " 'backbone.vgg_block1.0.conv2.weight',\n",
       " 'backbone.vgg_block2.0.conv1.bias',\n",
       " 'backbone.vgg_block2.0.conv1.weight',\n",
       " 'backbone.vgg_block2.0.conv2.bias',\n",
       " 'backbone.vgg_block2.0.conv2.weight',\n",
       " 'backbone.vgg_block3.0.conv1.bias',\n",
       " 'backbone.vgg_block3.0.conv1.weight',\n",
       " 'backbone.vgg_block3.0.conv2.bias',\n",
       " 'backbone.vgg_block3.0.conv2.weight',\n",
       " 'backbone.vgg_block3.0.conv3.bias',\n",
       " 'backbone.vgg_block3.0.conv3.weight',\n",
       " 'backbone.vgg_block4.0.conv1.bias',\n",
       " 'backbone.vgg_block4.0.conv1.weight',\n",
       " 'backbone.vgg_block4.0.conv2.bias',\n",
       " 'backbone.vgg_block4.0.conv2.weight',\n",
       " 'backbone.vgg_block4.0.conv3.bias',\n",
       " 'backbone.vgg_block4.0.conv3.weight',\n",
       " 'backbone.vgg_block5.0.conv1.bias',\n",
       " 'backbone.vgg_block5.0.conv1.weight',\n",
       " 'backbone.vgg_block5.0.conv2.bias',\n",
       " 'backbone.vgg_block5.0.conv2.weight',\n",
       " 'backbone.vgg_block5.0.conv3.bias',\n",
       " 'backbone.vgg_block5.0.conv3.weight',\n",
       " 'proposal_generator.rpn_head.anchor_deltas.bias',\n",
       " 'proposal_generator.rpn_head.anchor_deltas.weight',\n",
       " 'proposal_generator.rpn_head.conv.bias',\n",
       " 'proposal_generator.rpn_head.conv.weight',\n",
       " 'proposal_generator.rpn_head.objectness_logits.bias',\n",
       " 'proposal_generator.rpn_head.objectness_logits.weight',\n",
       " 'roi_heads.box_head.fc1.bias',\n",
       " 'roi_heads.box_head.fc1.weight',\n",
       " 'roi_heads.box_head.fc2.bias',\n",
       " 'roi_heads.box_head.fc2.weight',\n",
       " 'roi_heads.box_predictor.bbox_pred.bias',\n",
       " 'roi_heads.box_predictor.bbox_pred.weight',\n",
       " 'roi_heads.box_predictor.cls_score.bias',\n",
       " 'roi_heads.box_predictor.cls_score.weight']"
      ]
     },
     "execution_count": 88,
     "metadata": {},
     "output_type": "execute_result"
    }
   ],
   "source": [
    "model_keys = sorted(model.state_dict().keys())\n",
    "model_keys"
   ]
  },
  {
   "cell_type": "code",
   "execution_count": 69,
   "id": "0626420d",
   "metadata": {},
   "outputs": [
    {
     "data": {
      "text/plain": [
       "['backbone.vgg_block1.0.conv1.bias',\n",
       " 'backbone.vgg_block1.0.conv1.weight',\n",
       " 'backbone.vgg_block1.0.conv2.bias',\n",
       " 'backbone.vgg_block1.0.conv2.weight',\n",
       " 'backbone.vgg_block2.0.conv1.bias',\n",
       " 'backbone.vgg_block2.0.conv1.weight',\n",
       " 'backbone.vgg_block2.0.conv2.bias',\n",
       " 'backbone.vgg_block2.0.conv2.weight',\n",
       " 'backbone.vgg_block3.0.conv1.bias',\n",
       " 'backbone.vgg_block3.0.conv1.weight',\n",
       " 'backbone.vgg_block3.0.conv2.bias',\n",
       " 'backbone.vgg_block3.0.conv2.weight',\n",
       " 'backbone.vgg_block3.0.conv3.bias',\n",
       " 'backbone.vgg_block3.0.conv3.weight',\n",
       " 'backbone.vgg_block4.0.conv1.bias',\n",
       " 'backbone.vgg_block4.0.conv1.weight',\n",
       " 'backbone.vgg_block4.0.conv2.bias',\n",
       " 'backbone.vgg_block4.0.conv2.weight',\n",
       " 'backbone.vgg_block4.0.conv3.bias',\n",
       " 'backbone.vgg_block4.0.conv3.weight',\n",
       " 'backbone.vgg_block5.0.conv1.bias',\n",
       " 'backbone.vgg_block5.0.conv1.weight',\n",
       " 'backbone.vgg_block5.0.conv2.bias',\n",
       " 'backbone.vgg_block5.0.conv2.weight',\n",
       " 'backbone.vgg_block5.0.conv3.bias',\n",
       " 'backbone.vgg_block5.0.conv3.weight',\n",
       " 'proposal_generator.rpn_head.anchor_deltas.bias',\n",
       " 'proposal_generator.rpn_head.anchor_deltas.weight',\n",
       " 'proposal_generator.rpn_head.conv.bias',\n",
       " 'proposal_generator.rpn_head.conv.weight',\n",
       " 'proposal_generator.rpn_head.objectness_logits.bias',\n",
       " 'proposal_generator.rpn_head.objectness_logits.weight',\n",
       " 'roi_heads.box_head.fc1.bias',\n",
       " 'roi_heads.box_head.fc1.weight',\n",
       " 'roi_heads.box_head.fc2.bias',\n",
       " 'roi_heads.box_head.fc2.weight',\n",
       " 'roi_heads.box_predictor.bbox_pred.bias',\n",
       " 'roi_heads.box_predictor.bbox_pred.weight',\n",
       " 'roi_heads.box_predictor.cls_score.bias',\n",
       " 'roi_heads.box_predictor.cls_score.weight']"
      ]
     },
     "execution_count": 69,
     "metadata": {},
     "output_type": "execute_result"
    }
   ],
   "source": [
    "model_keys = sorted(model_c2b.state_dict().keys())\n",
    "model_keys"
   ]
  },
  {
   "cell_type": "code",
   "execution_count": null,
   "id": "0ec2e117",
   "metadata": {},
   "outputs": [],
   "source": [
    "from detectron2.checkpoint.c2_model_loading import align_and_update_state_dicts"
   ]
  },
  {
   "cell_type": "markdown",
   "id": "fe36806b",
   "metadata": {},
   "source": [
    "## evaluation (defaults.test)"
   ]
  },
  {
   "cell_type": "code",
   "execution_count": null,
   "id": "ddcb9506",
   "metadata": {},
   "outputs": [],
   "source": []
  },
  {
   "cell_type": "code",
   "execution_count": 16,
   "id": "aae667da",
   "metadata": {},
   "outputs": [
    {
     "name": "stdout",
     "output_type": "stream",
     "text": [
      "NOTE! Installing ujson may make loading annotations faster.\n"
     ]
    }
   ],
   "source": [
    "#results = OrderedDict()\n",
    "from detectron2.data import build_detection_test_loader\n",
    "from detectron2.evaluation import PascalVOCDetectionEvaluator\n",
    "from detectron2.evaluation import inference_on_dataset\n",
    "\n",
    "dataset_name = 'VOC2007_cityval'\n",
    "test_data_loader = build_detection_test_loader(cfg2, dataset_name)\n",
    "evaluator = PascalVOCDetectionEvaluator(dataset_name)\n",
    "\n",
    "\n"
   ]
  },
  {
   "cell_type": "code",
   "execution_count": null,
   "id": "c07f4530",
   "metadata": {},
   "outputs": [],
   "source": []
  },
  {
   "cell_type": "code",
   "execution_count": 19,
   "id": "775d2d6d",
   "metadata": {},
   "outputs": [],
   "source": [
    "model_teacher2.eval()\n",
    "results_i = inference_on_dataset(model_teacher1, test_data_loader, evaluator)\n"
   ]
  },
  {
   "cell_type": "code",
   "execution_count": 18,
   "id": "73877b61",
   "metadata": {},
   "outputs": [
    {
     "data": {
      "text/plain": [
       "OrderedDict([('bbox',\n",
       "              {'AP': 0.0001368769368142992,\n",
       "               'AP50': 0.0004990887084364157,\n",
       "               'AP75': 1.2379902565214852e-05})])"
      ]
     },
     "execution_count": 18,
     "metadata": {},
     "output_type": "execute_result"
    }
   ],
   "source": [
    "results_i"
   ]
  },
  {
   "cell_type": "code",
   "execution_count": null,
   "id": "f41ad033",
   "metadata": {},
   "outputs": [],
   "source": [
    "for idx, inputs in enumerate(test_data_loader):\n",
    "\n",
    "    outputs = model_teacher(inputs)\n",
    "    evaluator.process(inputs, outputs)\n",
    "results = evaluator.evaluate()"
   ]
  },
  {
   "cell_type": "markdown",
   "id": "c0e9370d",
   "metadata": {},
   "source": [
    "## visualization json metrics"
   ]
  },
  {
   "cell_type": "code",
   "execution_count": 10,
   "id": "b66146e5",
   "metadata": {},
   "outputs": [],
   "source": [
    "import json\n",
    "\n",
    "inputfile = 'output/k2c/metrics.json'\n",
    "\n",
    "file1 = open(inputfile, 'r')\n",
    "\n",
    "  \n",
    "data=[]\n",
    "for line in file1:    \n",
    "    #print(\" {}\".format(line.strip()))\n",
    "    data.append(json.loads(line))\n"
   ]
  },
  {
   "cell_type": "code",
   "execution_count": 6,
   "id": "81c2b255",
   "metadata": {},
   "outputs": [
    {
     "data": {
      "text/plain": [
       "3035"
      ]
     },
     "execution_count": 6,
     "metadata": {},
     "output_type": "execute_result"
    }
   ],
   "source": [
    "len(data)"
   ]
  },
  {
   "cell_type": "code",
   "execution_count": 7,
   "id": "881dd0d7",
   "metadata": {},
   "outputs": [
    {
     "data": {
      "text/plain": [
       "{'data_time': 0.9129995629191399,\n",
       " 'eta_seconds': 113084.55374613404,\n",
       " 'iteration': 639,\n",
       " 'loss_box_reg_unsup': 1.1091954708099365,\n",
       " 'loss_cls_unsup': 0.00436224602162838,\n",
       " 'loss_rpn_cls_unsup': 0.01346597634255886,\n",
       " 'loss_rpn_loc_unsup': 0.39616869390010834,\n",
       " 'lr': 0.001,\n",
       " 'roi_head/num_target_bg_samples_unsupervised': 0.0,\n",
       " 'roi_head/num_target_fg_samples_unsupervised': 0.0,\n",
       " 'time': 3.762773280031979,\n",
       " 'total_loss': 1.5815560518531129}"
      ]
     },
     "execution_count": 7,
     "metadata": {},
     "output_type": "execute_result"
    }
   ],
   "source": [
    "data[3034]"
   ]
  },
  {
   "cell_type": "code",
   "execution_count": 8,
   "id": "28e8112e",
   "metadata": {},
   "outputs": [
    {
     "data": {
      "text/plain": [
       "{'data_time': 1.0406247302889824,\n",
       " 'eta_seconds': 122627.56421338767,\n",
       " 'iteration': 19,\n",
       " 'loss_box_reg_unsup': 1.1284323334693909,\n",
       " 'loss_cls_unsup': 0.1518690437078476,\n",
       " 'loss_rpn_cls_unsup': 0.15071675926446915,\n",
       " 'loss_rpn_loc_unsup': 0.7780852317810059,\n",
       " 'lr': 0.0007752400000000001,\n",
       " 'roi_head/num_target_bg_samples_unsupervised': 0.0,\n",
       " 'roi_head/num_target_fg_samples_unsupervised': 0.0,\n",
       " 'time': 4.090312348678708,\n",
       " 'total_loss': 2.23546239733696}"
      ]
     },
     "execution_count": 8,
     "metadata": {},
     "output_type": "execute_result"
    }
   ],
   "source": [
    "data[0]"
   ]
  }
 ],
 "metadata": {
  "kernelspec": {
   "display_name": "detectron2",
   "language": "python",
   "name": "detectron2"
  },
  "language_info": {
   "codemirror_mode": {
    "name": "ipython",
    "version": 3
   },
   "file_extension": ".py",
   "mimetype": "text/x-python",
   "name": "python",
   "nbconvert_exporter": "python",
   "pygments_lexer": "ipython3",
   "version": "3.8.10"
  }
 },
 "nbformat": 4,
 "nbformat_minor": 5
}
