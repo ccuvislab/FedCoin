{
 "cells": [
  {
   "cell_type": "markdown",
   "id": "24011234",
   "metadata": {},
   "source": [
    "* version check"
   ]
  },
  {
   "cell_type": "code",
   "execution_count": 2,
   "id": "8e1c13d0",
   "metadata": {
    "scrolled": true
   },
   "outputs": [
    {
     "name": "stdout",
     "output_type": "stream",
     "text": [
      "1.9.0+cu102\n",
      "0.10.0+cu102\n"
     ]
    }
   ],
   "source": [
    "import torchvision\n",
    "import torch\n",
    "print(torch.__version__)\n",
    "print(torchvision.__version__)"
   ]
  },
  {
   "cell_type": "code",
   "execution_count": 3,
   "id": "b0a51412",
   "metadata": {},
   "outputs": [
    {
     "name": "stdout",
     "output_type": "stream",
     "text": [
      "/home/waue0920/anaconda3/bin/python\r\n"
     ]
    }
   ],
   "source": [
    "!which python"
   ]
  },
  {
   "cell_type": "markdown",
   "id": "6475399b",
   "metadata": {},
   "source": [
    "## import"
   ]
  },
  {
   "cell_type": "code",
   "execution_count": 4,
   "id": "dc36c0ee",
   "metadata": {
    "scrolled": true
   },
   "outputs": [
    {
     "name": "stderr",
     "output_type": "stream",
     "text": [
      "/home/waue0920/.local/lib/python3.8/site-packages/torchvision/transforms/transforms.py:834: UserWarning: Argument interpolation should be of type InterpolationMode instead of int. Please, use InterpolationMode enum.\n",
      "  warnings.warn(\n"
     ]
    }
   ],
   "source": [
    "from Nb_utils import *\n",
    "import copy\n",
    "import random\n",
    "import torch.nn.functional as F"
   ]
  },
  {
   "cell_type": "code",
   "execution_count": 8,
   "id": "45f9e241",
   "metadata": {},
   "outputs": [],
   "source": [
    "    def resize(model, data):\n",
    "        data = copy.deepcopy(data)\n",
    "        bs = len(data)\n",
    "        for i in range(bs):\n",
    "            img = data[i]['image']\n",
    "            h, w = img.shape[-2], img.shape[-1]\n",
    "            ratio = random.uniform(0.5, 1.0)\n",
    "            d_h, d_w = int(h * ratio), int(w * ratio)\n",
    "            x1 = int((w - d_w) / 2)\n",
    "            y1 = int((h - d_h) / 2)\n",
    "            bg = torch.zeros_like(img)\n",
    "            try:\n",
    "                bg += model.pixel_mean.cpu().int()\n",
    "            except:\n",
    "                bg += model.module.pixel_mean.cpu().int()\n",
    "            bg[:, y1:y1 + d_h, x1:x1 + d_w] = F.interpolate(img.unsqueeze(0).float(),\n",
    "                                                            size=(d_h, d_w),\n",
    "                                                            align_corners=False,\n",
    "                                                            mode='bilinear').squeeze(0)\n",
    "            data[i]['image'] = bg\n",
    "            if data[i]['instances'].has('gt_boxes'):\n",
    "                data[i]['instances'].gt_boxes.tensor *= ratio\n",
    "                data[i]['instances'].gt_boxes.tensor[:, 0] += x1\n",
    "                data[i]['instances'].gt_boxes.tensor[:, 2] += x1\n",
    "                data[i]['instances'].gt_boxes.tensor[:, 1] += y1\n",
    "                data[i]['instances'].gt_boxes.tensor[:, 3] += y1\n",
    "\n",
    "            if data[i]['instances'].has('pseudo_boxes'):\n",
    "                data[i]['instances'].pseudo_boxes.tensor *= ratio\n",
    "                data[i]['instances'].pseudo_boxes.tensor[:, 0] += x1\n",
    "                data[i]['instances'].pseudo_boxes.tensor[:, 2] += x1\n",
    "                data[i]['instances'].pseudo_boxes.tensor[:, 1] += y1\n",
    "                data[i]['instances'].pseudo_boxes.tensor[:, 3] += y1\n",
    "        return data"
   ]
  },
  {
   "cell_type": "markdown",
   "id": "c9e452ff",
   "metadata": {},
   "source": [
    "## load model"
   ]
  },
  {
   "cell_type": "markdown",
   "id": "3720aa08",
   "metadata": {},
   "source": [
    "### load local previous"
   ]
  },
  {
   "cell_type": "code",
   "execution_count": 9,
   "id": "d7d35b55",
   "metadata": {},
   "outputs": [
    {
     "name": "stdout",
     "output_type": "stream",
     "text": [
      "keep_experiments/c2b_source-only/cfg.yaml\n",
      "keep_experiments/c2b_source-only/model_final.pth\n"
     ]
    },
    {
     "ename": "AssertionError",
     "evalue": "Config file 'keep_experiments/c2b_source-only/cfg.yaml' does not exist!",
     "output_type": "error",
     "traceback": [
      "\u001b[0;31m---------------------------------------------------------------------------\u001b[0m",
      "\u001b[0;31mAssertionError\u001b[0m                            Traceback (most recent call last)",
      "Cell \u001b[0;32mIn[9], line 4\u001b[0m\n\u001b[1;32m      1\u001b[0m \u001b[38;5;66;03m#LOCAL_PREVIOUS:c2b_source-only \u001b[39;00m\n\u001b[1;32m      2\u001b[0m \u001b[38;5;66;03m#    \"keep_experiments/c2b_source-only/model_final.pth\"\u001b[39;00m\n\u001b[1;32m      3\u001b[0m local_model_previous_path \u001b[38;5;241m=\u001b[39m \u001b[38;5;124m\"\u001b[39m\u001b[38;5;124mc2b_source-only\u001b[39m\u001b[38;5;124m\"\u001b[39m\n\u001b[0;32m----> 4\u001b[0m local_previous_model \u001b[38;5;241m=\u001b[39m \u001b[43mload_sourceonlyModel\u001b[49m\u001b[43m(\u001b[49m\u001b[43mlocal_model_previous_path\u001b[49m\u001b[43m,\u001b[49m\u001b[38;5;124;43m'\u001b[39;49m\u001b[38;5;124;43mfinal\u001b[39;49m\u001b[38;5;124;43m'\u001b[39;49m\u001b[43m)\u001b[49m\n",
      "File \u001b[0;32m~/waue/git/PTbased-Moon/Nb_utils.py:83\u001b[0m, in \u001b[0;36mget_model.<locals>.warp\u001b[0;34m(dataset_name, model_num)\u001b[0m\n\u001b[1;32m     81\u001b[0m \u001b[38;5;28mprint\u001b[39m(cfg_path)\n\u001b[1;32m     82\u001b[0m \u001b[38;5;28mprint\u001b[39m(model_path)\n\u001b[0;32m---> 83\u001b[0m \u001b[38;5;28;01mreturn\u001b[39;00m \u001b[43mfunc\u001b[49m\u001b[43m(\u001b[49m\u001b[43mcfg_path\u001b[49m\u001b[43m,\u001b[49m\u001b[43m \u001b[49m\u001b[43mmodel_path\u001b[49m\u001b[43m)\u001b[49m\n",
      "File \u001b[0;32m~/waue/git/PTbased-Moon/Nb_utils.py:106\u001b[0m, in \u001b[0;36mload_sourceonlyModel\u001b[0;34m(cfg_path, model_path)\u001b[0m\n\u001b[1;32m    104\u001b[0m \u001b[38;5;129m@get_model\u001b[39m\n\u001b[1;32m    105\u001b[0m \u001b[38;5;28;01mdef\u001b[39;00m \u001b[38;5;21mload_sourceonlyModel\u001b[39m(cfg_path,model_path):\n\u001b[0;32m--> 106\u001b[0m     cfg \u001b[38;5;241m=\u001b[39m \u001b[43msetup\u001b[49m\u001b[43m(\u001b[49m\u001b[43mcfg_path\u001b[49m\u001b[43m)\u001b[49m   \n\u001b[1;32m    108\u001b[0m     Trainer \u001b[38;5;241m=\u001b[39mPTrainer_sourceonly\n\u001b[1;32m    109\u001b[0m     model \u001b[38;5;241m=\u001b[39m Trainer\u001b[38;5;241m.\u001b[39mbuild_model(cfg)\n",
      "File \u001b[0;32m~/waue/git/PTbased-Moon/Nb_utils.py:51\u001b[0m, in \u001b[0;36msetup\u001b[0;34m(config_file)\u001b[0m\n\u001b[1;32m     49\u001b[0m     cfg \u001b[38;5;241m=\u001b[39m get_cfg()\n\u001b[1;32m     50\u001b[0m     add_config(cfg)\n\u001b[0;32m---> 51\u001b[0m     \u001b[43mcfg\u001b[49m\u001b[38;5;241;43m.\u001b[39;49m\u001b[43mmerge_from_file\u001b[49m\u001b[43m(\u001b[49m\u001b[43mconfig_file\u001b[49m\u001b[43m)\u001b[49m\n\u001b[1;32m     52\u001b[0m     \u001b[38;5;66;03m#cfg.merge_from_list(args.opts)\u001b[39;00m\n\u001b[1;32m     53\u001b[0m     \n\u001b[1;32m     54\u001b[0m     \u001b[38;5;66;03m#default_setup(cfg, args)\u001b[39;00m\n\u001b[1;32m     55\u001b[0m \u001b[38;5;66;03m#     cfg.SOLVER.IMG_PER_BATCH_LABEL = 64\u001b[39;00m\n\u001b[1;32m     56\u001b[0m \u001b[38;5;66;03m#     cfg.SOLVER.IMG_PER_BATCH_UNLABEL = 64\u001b[39;00m\n\u001b[1;32m     58\u001b[0m     cfg\u001b[38;5;241m.\u001b[39mfreeze()\n",
      "File \u001b[0;32m~/waue/git/PTbased-Moon/detectron2/config/config.py:45\u001b[0m, in \u001b[0;36mCfgNode.merge_from_file\u001b[0;34m(self, cfg_filename, allow_unsafe)\u001b[0m\n\u001b[1;32m     37\u001b[0m \u001b[38;5;28;01mdef\u001b[39;00m \u001b[38;5;21mmerge_from_file\u001b[39m(\u001b[38;5;28mself\u001b[39m, cfg_filename: \u001b[38;5;28mstr\u001b[39m, allow_unsafe: \u001b[38;5;28mbool\u001b[39m \u001b[38;5;241m=\u001b[39m \u001b[38;5;28;01mTrue\u001b[39;00m) \u001b[38;5;241m-\u001b[39m\u001b[38;5;241m>\u001b[39m \u001b[38;5;28;01mNone\u001b[39;00m:\n\u001b[1;32m     38\u001b[0m \u001b[38;5;250m    \u001b[39m\u001b[38;5;124;03m\"\"\"\u001b[39;00m\n\u001b[1;32m     39\u001b[0m \u001b[38;5;124;03m    Load content from the given config file and merge it into self.\u001b[39;00m\n\u001b[1;32m     40\u001b[0m \n\u001b[0;32m   (...)\u001b[0m\n\u001b[1;32m     43\u001b[0m \u001b[38;5;124;03m        allow_unsafe: allow unsafe yaml syntax\u001b[39;00m\n\u001b[1;32m     44\u001b[0m \u001b[38;5;124;03m    \"\"\"\u001b[39;00m\n\u001b[0;32m---> 45\u001b[0m     \u001b[38;5;28;01massert\u001b[39;00m PathManager\u001b[38;5;241m.\u001b[39misfile(cfg_filename), \u001b[38;5;124mf\u001b[39m\u001b[38;5;124m\"\u001b[39m\u001b[38;5;124mConfig file \u001b[39m\u001b[38;5;124m'\u001b[39m\u001b[38;5;132;01m{\u001b[39;00mcfg_filename\u001b[38;5;132;01m}\u001b[39;00m\u001b[38;5;124m'\u001b[39m\u001b[38;5;124m does not exist!\u001b[39m\u001b[38;5;124m\"\u001b[39m\n\u001b[1;32m     46\u001b[0m     loaded_cfg \u001b[38;5;241m=\u001b[39m \u001b[38;5;28mself\u001b[39m\u001b[38;5;241m.\u001b[39mload_yaml_with_base(cfg_filename, allow_unsafe\u001b[38;5;241m=\u001b[39mallow_unsafe)\n\u001b[1;32m     47\u001b[0m     loaded_cfg \u001b[38;5;241m=\u001b[39m \u001b[38;5;28mtype\u001b[39m(\u001b[38;5;28mself\u001b[39m)(loaded_cfg)\n",
      "\u001b[0;31mAssertionError\u001b[0m: Config file 'keep_experiments/c2b_source-only/cfg.yaml' does not exist!"
     ]
    }
   ],
   "source": [
    "#LOCAL_PREVIOUS:c2b_source-only \n",
    "#    \"keep_experiments/c2b_source-only/model_final.pth\"\n",
    "local_model_previous_path = \"c2b_source-only\"\n",
    "local_previous_model = load_sourceonlyModel(local_model_previous_path,'final')"
   ]
  },
  {
   "cell_type": "markdown",
   "id": "6616bd4b",
   "metadata": {},
   "source": [
    "### load global"
   ]
  },
  {
   "cell_type": "code",
   "execution_count": 10,
   "id": "c47826d7",
   "metadata": {},
   "outputs": [
    {
     "ename": "AssertionError",
     "evalue": "Config file 'keep_experiments/c2b/cfg.yaml' does not exist!",
     "output_type": "error",
     "traceback": [
      "\u001b[0;31m---------------------------------------------------------------------------\u001b[0m",
      "\u001b[0;31mAssertionError\u001b[0m                            Traceback (most recent call last)",
      "Cell \u001b[0;32mIn[10], line 2\u001b[0m\n\u001b[1;32m      1\u001b[0m global_model_path \u001b[38;5;241m=\u001b[39m \u001b[38;5;124m\"\u001b[39m\u001b[38;5;124moutput/FedAvg_ck2b/FedAvg_0_20230116.pth\u001b[39m\u001b[38;5;124m\"\u001b[39m \n\u001b[0;32m----> 2\u001b[0m cfg \u001b[38;5;241m=\u001b[39m \u001b[43msetup\u001b[49m\u001b[43m(\u001b[49m\u001b[38;5;124;43m\"\u001b[39;49m\u001b[38;5;124;43mkeep_experiments/c2b/cfg.yaml\u001b[39;49m\u001b[38;5;124;43m\"\u001b[39;49m\u001b[43m)\u001b[49m\n\u001b[1;32m      3\u001b[0m Trainer \u001b[38;5;241m=\u001b[39mDefaultTrainer\n\u001b[1;32m      4\u001b[0m global_model \u001b[38;5;241m=\u001b[39m Trainer\u001b[38;5;241m.\u001b[39mbuild_model(cfg)    \n",
      "File \u001b[0;32m~/waue/git/PTbased-Moon/Nb_utils.py:51\u001b[0m, in \u001b[0;36msetup\u001b[0;34m(config_file)\u001b[0m\n\u001b[1;32m     49\u001b[0m     cfg \u001b[38;5;241m=\u001b[39m get_cfg()\n\u001b[1;32m     50\u001b[0m     add_config(cfg)\n\u001b[0;32m---> 51\u001b[0m     \u001b[43mcfg\u001b[49m\u001b[38;5;241;43m.\u001b[39;49m\u001b[43mmerge_from_file\u001b[49m\u001b[43m(\u001b[49m\u001b[43mconfig_file\u001b[49m\u001b[43m)\u001b[49m\n\u001b[1;32m     52\u001b[0m     \u001b[38;5;66;03m#cfg.merge_from_list(args.opts)\u001b[39;00m\n\u001b[1;32m     53\u001b[0m     \n\u001b[1;32m     54\u001b[0m     \u001b[38;5;66;03m#default_setup(cfg, args)\u001b[39;00m\n\u001b[1;32m     55\u001b[0m \u001b[38;5;66;03m#     cfg.SOLVER.IMG_PER_BATCH_LABEL = 64\u001b[39;00m\n\u001b[1;32m     56\u001b[0m \u001b[38;5;66;03m#     cfg.SOLVER.IMG_PER_BATCH_UNLABEL = 64\u001b[39;00m\n\u001b[1;32m     58\u001b[0m     cfg\u001b[38;5;241m.\u001b[39mfreeze()\n",
      "File \u001b[0;32m~/waue/git/PTbased-Moon/detectron2/config/config.py:45\u001b[0m, in \u001b[0;36mCfgNode.merge_from_file\u001b[0;34m(self, cfg_filename, allow_unsafe)\u001b[0m\n\u001b[1;32m     37\u001b[0m \u001b[38;5;28;01mdef\u001b[39;00m \u001b[38;5;21mmerge_from_file\u001b[39m(\u001b[38;5;28mself\u001b[39m, cfg_filename: \u001b[38;5;28mstr\u001b[39m, allow_unsafe: \u001b[38;5;28mbool\u001b[39m \u001b[38;5;241m=\u001b[39m \u001b[38;5;28;01mTrue\u001b[39;00m) \u001b[38;5;241m-\u001b[39m\u001b[38;5;241m>\u001b[39m \u001b[38;5;28;01mNone\u001b[39;00m:\n\u001b[1;32m     38\u001b[0m \u001b[38;5;250m    \u001b[39m\u001b[38;5;124;03m\"\"\"\u001b[39;00m\n\u001b[1;32m     39\u001b[0m \u001b[38;5;124;03m    Load content from the given config file and merge it into self.\u001b[39;00m\n\u001b[1;32m     40\u001b[0m \n\u001b[0;32m   (...)\u001b[0m\n\u001b[1;32m     43\u001b[0m \u001b[38;5;124;03m        allow_unsafe: allow unsafe yaml syntax\u001b[39;00m\n\u001b[1;32m     44\u001b[0m \u001b[38;5;124;03m    \"\"\"\u001b[39;00m\n\u001b[0;32m---> 45\u001b[0m     \u001b[38;5;28;01massert\u001b[39;00m PathManager\u001b[38;5;241m.\u001b[39misfile(cfg_filename), \u001b[38;5;124mf\u001b[39m\u001b[38;5;124m\"\u001b[39m\u001b[38;5;124mConfig file \u001b[39m\u001b[38;5;124m'\u001b[39m\u001b[38;5;132;01m{\u001b[39;00mcfg_filename\u001b[38;5;132;01m}\u001b[39;00m\u001b[38;5;124m'\u001b[39m\u001b[38;5;124m does not exist!\u001b[39m\u001b[38;5;124m\"\u001b[39m\n\u001b[1;32m     46\u001b[0m     loaded_cfg \u001b[38;5;241m=\u001b[39m \u001b[38;5;28mself\u001b[39m\u001b[38;5;241m.\u001b[39mload_yaml_with_base(cfg_filename, allow_unsafe\u001b[38;5;241m=\u001b[39mallow_unsafe)\n\u001b[1;32m     47\u001b[0m     loaded_cfg \u001b[38;5;241m=\u001b[39m \u001b[38;5;28mtype\u001b[39m(\u001b[38;5;28mself\u001b[39m)(loaded_cfg)\n",
      "\u001b[0;31mAssertionError\u001b[0m: Config file 'keep_experiments/c2b/cfg.yaml' does not exist!"
     ]
    }
   ],
   "source": [
    "global_model_path = \"output/FedAvg_ck2b/FedAvg_0_20230116.pth\" \n",
    "cfg = setup(\"keep_experiments/c2b/cfg.yaml\")\n",
    "Trainer =DefaultTrainer\n",
    "global_model = Trainer.build_model(cfg)    \n",
    "DetectionCheckpointer(global_model).resume_or_load(global_model_path, resume=False)"
   ]
  },
  {
   "cell_type": "markdown",
   "id": "db531cc9",
   "metadata": {},
   "source": [
    "* check dataset"
   ]
  },
  {
   "cell_type": "code",
   "execution_count": null,
   "id": "0e94a19c",
   "metadata": {},
   "outputs": [],
   "source": [
    "cfg['DATASETS']['TRAIN_LABEL']"
   ]
  },
  {
   "cell_type": "markdown",
   "id": "8df47adb",
   "metadata": {},
   "source": [
    "### copy global to local"
   ]
  },
  {
   "cell_type": "code",
   "execution_count": 2,
   "id": "9814500b",
   "metadata": {},
   "outputs": [
    {
     "ename": "NameError",
     "evalue": "name 'copy' is not defined",
     "output_type": "error",
     "traceback": [
      "\u001b[0;31m---------------------------------------------------------------------------\u001b[0m",
      "\u001b[0;31mNameError\u001b[0m                                 Traceback (most recent call last)",
      "Cell \u001b[0;32mIn[2], line 1\u001b[0m\n\u001b[0;32m----> 1\u001b[0m net \u001b[38;5;241m=\u001b[39m \u001b[43mcopy\u001b[49m\u001b[38;5;241m.\u001b[39mdeepcopy(global_model)\n",
      "\u001b[0;31mNameError\u001b[0m: name 'copy' is not defined"
     ]
    }
   ],
   "source": [
    "net = copy.deepcopy(global_model)\n"
   ]
  },
  {
   "cell_type": "markdown",
   "id": "2746dbd0",
   "metadata": {},
   "source": [
    "## load training data"
   ]
  },
  {
   "cell_type": "code",
   "execution_count": 3,
   "id": "8bc700bd",
   "metadata": {},
   "outputs": [
    {
     "ename": "NameError",
     "evalue": "name 'cfg' is not defined",
     "output_type": "error",
     "traceback": [
      "\u001b[0;31m---------------------------------------------------------------------------\u001b[0m",
      "\u001b[0;31mNameError\u001b[0m                                 Traceback (most recent call last)",
      "Cell \u001b[0;32mIn[3], line 4\u001b[0m\n\u001b[1;32m      1\u001b[0m \u001b[38;5;28;01mfrom\u001b[39;00m \u001b[38;5;21;01mpt\u001b[39;00m\u001b[38;5;21;01m.\u001b[39;00m\u001b[38;5;21;01mdata\u001b[39;00m\u001b[38;5;21;01m.\u001b[39;00m\u001b[38;5;21;01mbuild\u001b[39;00m \u001b[38;5;28;01mimport\u001b[39;00m build_detection_sourceonly_loader_two_crops\n\u001b[1;32m      2\u001b[0m \u001b[38;5;28;01mfrom\u001b[39;00m \u001b[38;5;21;01mpt\u001b[39;00m\u001b[38;5;21;01m.\u001b[39;00m\u001b[38;5;21;01mdata\u001b[39;00m\u001b[38;5;21;01m.\u001b[39;00m\u001b[38;5;21;01mdataset_mapper\u001b[39;00m \u001b[38;5;28;01mimport\u001b[39;00m DatasetMapperTwoCropSeparate\n\u001b[0;32m----> 4\u001b[0m mapper \u001b[38;5;241m=\u001b[39m DatasetMapperTwoCropSeparate(\u001b[43mcfg\u001b[49m, \u001b[38;5;28;01mTrue\u001b[39;00m)\n\u001b[1;32m      5\u001b[0m train_data_loader \u001b[38;5;241m=\u001b[39m build_detection_sourceonly_loader_two_crops(cfg, mapper)\n",
      "\u001b[0;31mNameError\u001b[0m: name 'cfg' is not defined"
     ]
    }
   ],
   "source": [
    "from pt.data.build import build_detection_sourceonly_loader_two_crops\n",
    "from pt.data.dataset_mapper import DatasetMapperTwoCropSeparate\n",
    "\n",
    "mapper = DatasetMapperTwoCropSeparate(cfg, True)\n",
    "train_data_loader = build_detection_sourceonly_loader_two_crops(cfg, mapper)"
   ]
  },
  {
   "cell_type": "code",
   "execution_count": null,
   "id": "cd91f16a",
   "metadata": {},
   "outputs": [],
   "source": [
    "data_loader_iter = iter(train_data_loader)\n",
    "train_data =  next(data_loader_iter)"
   ]
  },
  {
   "cell_type": "code",
   "execution_count": null,
   "id": "61cb7165",
   "metadata": {},
   "outputs": [],
   "source": [
    "label_data_q, label_data_k = train_data"
   ]
  },
  {
   "cell_type": "code",
   "execution_count": null,
   "id": "4cd27e00",
   "metadata": {},
   "outputs": [],
   "source": [
    "len(label_data_q)"
   ]
  },
  {
   "cell_type": "code",
   "execution_count": null,
   "id": "070d3418",
   "metadata": {},
   "outputs": [],
   "source": [
    "label_data_q.extend(label_data_k)\n"
   ]
  },
  {
   "cell_type": "code",
   "execution_count": null,
   "id": "e7eed89b",
   "metadata": {},
   "outputs": [],
   "source": [
    "import copy\n",
    "import random\n",
    "import torch.nn.functional as F\n",
    "\n",
    "label_data_q = resize(global_model,label_data_q)"
   ]
  },
  {
   "cell_type": "markdown",
   "id": "8a5b80f1",
   "metadata": {},
   "source": [
    "## set model mode"
   ]
  },
  {
   "cell_type": "code",
   "execution_count": null,
   "id": "f2ae2234",
   "metadata": {},
   "outputs": [],
   "source": [
    "global_model.eval()\n",
    "local_previous_model.eval()"
   ]
  },
  {
   "cell_type": "code",
   "execution_count": null,
   "id": "0e8fb02e",
   "metadata": {},
   "outputs": [],
   "source": [
    "#global_model.roi_heads.box_predictor.cls_score.weight"
   ]
  },
  {
   "cell_type": "markdown",
   "id": "dfe11cf1",
   "metadata": {},
   "source": [
    "* check model mode"
   ]
  },
  {
   "cell_type": "code",
   "execution_count": null,
   "id": "851cc0e2",
   "metadata": {},
   "outputs": [],
   "source": [
    "global_model.training\n"
   ]
  },
  {
   "cell_type": "markdown",
   "id": "925d5939",
   "metadata": {},
   "source": [
    "* make model req_grad=false"
   ]
  },
  {
   "cell_type": "code",
   "execution_count": null,
   "id": "74d120e8",
   "metadata": {},
   "outputs": [],
   "source": [
    "for param in global_model.parameters():\n",
    "    param.requires_grad = False\n",
    "#global_w = global_model.state_dict()"
   ]
  },
  {
   "cell_type": "code",
   "execution_count": null,
   "id": "6152fc6d",
   "metadata": {},
   "outputs": [],
   "source": [
    "for param in local_previous_model.parameters():\n",
    "    param.requires_grad = False\n",
    "\n"
   ]
  },
  {
   "cell_type": "markdown",
   "id": "b84a36f6",
   "metadata": {},
   "source": [
    "## call model and get loss"
   ]
  },
  {
   "cell_type": "code",
   "execution_count": 4,
   "id": "5e294ecf",
   "metadata": {},
   "outputs": [
    {
     "ename": "NameError",
     "evalue": "name 'net' is not defined",
     "output_type": "error",
     "traceback": [
      "\u001b[0;31m---------------------------------------------------------------------------\u001b[0m",
      "\u001b[0;31mNameError\u001b[0m                                 Traceback (most recent call last)",
      "Cell \u001b[0;32mIn[4], line 5\u001b[0m\n\u001b[1;32m      1\u001b[0m \u001b[38;5;28;01mfrom\u001b[39;00m \u001b[38;5;21;01mdetectron2\u001b[39;00m\u001b[38;5;21;01m.\u001b[39;00m\u001b[38;5;21;01mutils\u001b[39;00m\u001b[38;5;21;01m.\u001b[39;00m\u001b[38;5;21;01mevents\u001b[39;00m \u001b[38;5;28;01mimport\u001b[39;00m EventStorage\n\u001b[1;32m      2\u001b[0m \u001b[38;5;28;01mwith\u001b[39;00m EventStorage() \u001b[38;5;28;01mas\u001b[39;00m storage:\n\u001b[1;32m      3\u001b[0m     \u001b[38;5;66;03m#record_dict_global, _, _, _ = global_model(label_data_q, branch=\"supervised\")\u001b[39;00m\n\u001b[1;32m      4\u001b[0m     \u001b[38;5;66;03m#record_dict_local_prev, _, _, _ = local_previous_model(label_data_q, branch=\"supervised\")\u001b[39;00m\n\u001b[0;32m----> 5\u001b[0m     record_dict_local_curr, _, _, _ \u001b[38;5;241m=\u001b[39m \u001b[43mnet\u001b[49m(label_data_q, branch\u001b[38;5;241m=\u001b[39m\u001b[38;5;124m\"\u001b[39m\u001b[38;5;124msupervised\u001b[39m\u001b[38;5;124m\"\u001b[39m)\n",
      "\u001b[0;31mNameError\u001b[0m: name 'net' is not defined"
     ]
    }
   ],
   "source": [
    "from detectron2.utils.events import EventStorage\n",
    "with EventStorage() as storage:\n",
    "    #record_dict_global, _, _, _ = global_model(label_data_q, branch=\"supervised\")\n",
    "    #record_dict_local_prev, _, _, _ = local_previous_model(label_data_q, branch=\"supervised\")\n",
    "    record_dict_local_curr, _, _, _ = net(label_data_q, branch=\"supervised\")"
   ]
  },
  {
   "cell_type": "code",
   "execution_count": 5,
   "id": "3cfd54ae",
   "metadata": {},
   "outputs": [
    {
     "ename": "NameError",
     "evalue": "name 'global_model' is not defined",
     "output_type": "error",
     "traceback": [
      "\u001b[0;31m---------------------------------------------------------------------------\u001b[0m",
      "\u001b[0;31mNameError\u001b[0m                                 Traceback (most recent call last)",
      "Cell \u001b[0;32mIn[5], line 1\u001b[0m\n\u001b[0;32m----> 1\u001b[0m A \u001b[38;5;241m=\u001b[39m \u001b[43mglobal_model\u001b[49m(label_data_q, branch\u001b[38;5;241m=\u001b[39m\u001b[38;5;124m\"\u001b[39m\u001b[38;5;124munsup_data_weak_test\u001b[39m\u001b[38;5;124m\"\u001b[39m)\n",
      "\u001b[0;31mNameError\u001b[0m: name 'global_model' is not defined"
     ]
    }
   ],
   "source": [
    "\n",
    "A = global_model(label_data_q, branch=\"unsup_data_weak_test\")"
   ]
  },
  {
   "cell_type": "code",
   "execution_count": 6,
   "id": "26b6f3c7",
   "metadata": {},
   "outputs": [
    {
     "ename": "NameError",
     "evalue": "name 'net' is not defined",
     "output_type": "error",
     "traceback": [
      "\u001b[0;31m---------------------------------------------------------------------------\u001b[0m",
      "\u001b[0;31mNameError\u001b[0m                                 Traceback (most recent call last)",
      "Cell \u001b[0;32mIn[6], line 1\u001b[0m\n\u001b[0;32m----> 1\u001b[0m features,proposals_rpn, proposals_roih, ROI_predictions \u001b[38;5;241m=\u001b[39m \u001b[43mnet\u001b[49m(label_data_q, branch\u001b[38;5;241m=\u001b[39m\u001b[38;5;124m\"\u001b[39m\u001b[38;5;124munsup_data_weak_test\u001b[39m\u001b[38;5;124m\"\u001b[39m)\n",
      "\u001b[0;31mNameError\u001b[0m: name 'net' is not defined"
     ]
    }
   ],
   "source": [
    "features,proposals_rpn, proposals_roih, ROI_predictions = net(label_data_q, branch=\"unsup_data_weak_test\")"
   ]
  },
  {
   "cell_type": "code",
   "execution_count": 7,
   "id": "54c56b4d",
   "metadata": {},
   "outputs": [
    {
     "ename": "NameError",
     "evalue": "name 'torch' is not defined",
     "output_type": "error",
     "traceback": [
      "\u001b[0;31m---------------------------------------------------------------------------\u001b[0m",
      "\u001b[0;31mNameError\u001b[0m                                 Traceback (most recent call last)",
      "Cell \u001b[0;32mIn[7], line 1\u001b[0m\n\u001b[0;32m----> 1\u001b[0m \u001b[38;5;28;01mwith\u001b[39;00m \u001b[43mtorch\u001b[49m\u001b[38;5;241m.\u001b[39mno_grad():\n\u001b[1;32m      2\u001b[0m     (_,  proposals_rpn_unsup_k, proposals_roih_unsup_k, _,)\u001b[38;5;241m=\u001b[39m net(label_data_q, branch\u001b[38;5;241m=\u001b[39m\u001b[38;5;124m\"\u001b[39m\u001b[38;5;124munsup_data_weak\u001b[39m\u001b[38;5;124m\"\u001b[39m)\n",
      "\u001b[0;31mNameError\u001b[0m: name 'torch' is not defined"
     ]
    }
   ],
   "source": [
    "with torch.no_grad():\n",
    "    (_,  proposals_rpn_unsup_k, proposals_roih_unsup_k, _,)= net(label_data_q, branch=\"unsup_data_weak\")"
   ]
  },
  {
   "cell_type": "code",
   "execution_count": 8,
   "id": "3ea3cb8e",
   "metadata": {},
   "outputs": [
    {
     "ename": "NameError",
     "evalue": "name 'features' is not defined",
     "output_type": "error",
     "traceback": [
      "\u001b[0;31m---------------------------------------------------------------------------\u001b[0m",
      "\u001b[0;31mNameError\u001b[0m                                 Traceback (most recent call last)",
      "Cell \u001b[0;32mIn[8], line 1\u001b[0m\n\u001b[0;32m----> 1\u001b[0m \u001b[43mfeatures\u001b[49m\n",
      "\u001b[0;31mNameError\u001b[0m: name 'features' is not defined"
     ]
    }
   ],
   "source": [
    "features"
   ]
  },
  {
   "cell_type": "code",
   "execution_count": null,
   "id": "5ae7d931",
   "metadata": {},
   "outputs": [],
   "source": []
  },
  {
   "cell_type": "code",
   "execution_count": 9,
   "id": "f2b9a87d",
   "metadata": {},
   "outputs": [
    {
     "ename": "NameError",
     "evalue": "name 'A' is not defined",
     "output_type": "error",
     "traceback": [
      "\u001b[0;31m---------------------------------------------------------------------------\u001b[0m",
      "\u001b[0;31mNameError\u001b[0m                                 Traceback (most recent call last)",
      "Cell \u001b[0;32mIn[9], line 1\u001b[0m\n\u001b[0;32m----> 1\u001b[0m \u001b[43mA\u001b[49m[\u001b[38;5;241m4\u001b[39m]\n",
      "\u001b[0;31mNameError\u001b[0m: name 'A' is not defined"
     ]
    }
   ],
   "source": [
    "A[4]"
   ]
  },
  {
   "cell_type": "code",
   "execution_count": 10,
   "id": "81baa053",
   "metadata": {},
   "outputs": [
    {
     "ename": "NameError",
     "evalue": "name 'global_model' is not defined",
     "output_type": "error",
     "traceback": [
      "\u001b[0;31m---------------------------------------------------------------------------\u001b[0m",
      "\u001b[0;31mNameError\u001b[0m                                 Traceback (most recent call last)",
      "Cell \u001b[0;32mIn[10], line 1\u001b[0m\n\u001b[0;32m----> 1\u001b[0m \u001b[43mglobal_model\u001b[49m\u001b[38;5;241m.\u001b[39mbackbone(label_data_q)\n",
      "\u001b[0;31mNameError\u001b[0m: name 'global_model' is not defined"
     ]
    }
   ],
   "source": [
    "global_model.backbone(label_data_q)\n"
   ]
  },
  {
   "cell_type": "markdown",
   "id": "d08a6160",
   "metadata": {},
   "source": [
    "* ### TODO!!! take feature to do similarity ###"
   ]
  },
  {
   "cell_type": "code",
   "execution_count": null,
   "id": "819a75f7",
   "metadata": {},
   "outputs": [],
   "source": []
  },
  {
   "cell_type": "code",
   "execution_count": 24,
   "id": "55f387bc",
   "metadata": {},
   "outputs": [],
   "source": [
    "cos=torch.nn.CosineSimilarity(dim=-1)\n"
   ]
  },
  {
   "cell_type": "markdown",
   "id": "72603c42",
   "metadata": {},
   "source": [
    "### loss1"
   ]
  },
  {
   "cell_type": "code",
   "execution_count": 15,
   "id": "a95bb947",
   "metadata": {},
   "outputs": [
    {
     "data": {
      "text/plain": [
       "{'loss_cls': tensor(0.0350, device='cuda:0', grad_fn=<MulBackward0>),\n",
       " 'loss_box_reg': tensor(0.4735, device='cuda:0', grad_fn=<MulBackward0>),\n",
       " 'loss_rpn_cls': tensor(0.0475, device='cuda:0', grad_fn=<MulBackward0>),\n",
       " 'loss_rpn_loc': tensor(0.4003, device='cuda:0', grad_fn=<MulBackward0>)}"
      ]
     },
     "execution_count": 15,
     "metadata": {},
     "output_type": "execute_result"
    }
   ],
   "source": [
    "record_dict_local_curr"
   ]
  },
  {
   "cell_type": "code",
   "execution_count": 16,
   "id": "211c9232",
   "metadata": {},
   "outputs": [],
   "source": [
    "loss_dict = {}\n",
    "for key in record_dict_local_curr.keys():\n",
    "    if key.split('_')[-1] == \"adv\":\n",
    "        loss_dict[key] = record_dict_local_curr[key] * 0.0\n",
    "    elif key[:4] == \"loss\":\n",
    "        loss_dict[key] = record_dict_local_curr[key] * 1.0\n",
    "losses = sum(loss_dict.values())"
   ]
  },
  {
   "cell_type": "code",
   "execution_count": 17,
   "id": "cf5b30e7",
   "metadata": {},
   "outputs": [
    {
     "data": {
      "text/plain": [
       "tensor(0.9563, device='cuda:0', grad_fn=<AddBackward0>)"
      ]
     },
     "execution_count": 17,
     "metadata": {},
     "output_type": "execute_result"
    }
   ],
   "source": [
    "losses"
   ]
  },
  {
   "cell_type": "code",
   "execution_count": 21,
   "id": "92785508",
   "metadata": {},
   "outputs": [
    {
     "ename": "TypeError",
     "evalue": "__init__() missing 1 required positional argument: 'params'",
     "output_type": "error",
     "traceback": [
      "\u001b[0;31m---------------------------------------------------------------------------\u001b[0m",
      "\u001b[0;31mTypeError\u001b[0m                                 Traceback (most recent call last)",
      "\u001b[0;32m<ipython-input-21-a46c7355de41>\u001b[0m in \u001b[0;36m<module>\u001b[0;34m\u001b[0m\n\u001b[0;32m----> 1\u001b[0;31m \u001b[0moptimizer\u001b[0m \u001b[0;34m=\u001b[0m \u001b[0mtorch\u001b[0m\u001b[0;34m.\u001b[0m\u001b[0moptim\u001b[0m\u001b[0;34m.\u001b[0m\u001b[0mSGD\u001b[0m\u001b[0;34m(\u001b[0m \u001b[0mlr\u001b[0m \u001b[0;34m=\u001b[0m \u001b[0;36m0.01\u001b[0m\u001b[0;34m,\u001b[0m \u001b[0mmomentum\u001b[0m\u001b[0;34m=\u001b[0m\u001b[0;36m0.9\u001b[0m\u001b[0;34m)\u001b[0m\u001b[0;34m\u001b[0m\u001b[0;34m\u001b[0m\u001b[0m\n\u001b[0m\u001b[1;32m      2\u001b[0m \u001b[0moptimizer\u001b[0m\u001b[0;34m.\u001b[0m\u001b[0mzero_grad\u001b[0m\u001b[0;34m(\u001b[0m\u001b[0;34m)\u001b[0m\u001b[0;34m\u001b[0m\u001b[0;34m\u001b[0m\u001b[0m\n\u001b[1;32m      3\u001b[0m \u001b[0mlosses\u001b[0m\u001b[0;34m.\u001b[0m\u001b[0mbackward\u001b[0m\u001b[0;34m(\u001b[0m\u001b[0;34m)\u001b[0m\u001b[0;34m\u001b[0m\u001b[0;34m\u001b[0m\u001b[0m\n\u001b[1;32m      4\u001b[0m \u001b[0moptimizer\u001b[0m\u001b[0;34m.\u001b[0m\u001b[0mstep\u001b[0m\u001b[0;34m(\u001b[0m\u001b[0;34m)\u001b[0m\u001b[0;34m\u001b[0m\u001b[0;34m\u001b[0m\u001b[0m\n",
      "\u001b[0;31mTypeError\u001b[0m: __init__() missing 1 required positional argument: 'params'"
     ]
    }
   ],
   "source": [
    "\n",
    "optimizer = torch.optim.SGD(net.parameters(), lr = 0.01, momentum=0.9)\n",
    "optimizer.zero_grad()  \n",
    "losses.backward()\n",
    "optimizer.step()\n"
   ]
  },
  {
   "cell_type": "code",
   "execution_count": 20,
   "id": "1fc5186c",
   "metadata": {},
   "outputs": [
    {
     "ename": "NameError",
     "evalue": "name 'optimizer' is not defined",
     "output_type": "error",
     "traceback": [
      "\u001b[0;31m---------------------------------------------------------------------------\u001b[0m",
      "\u001b[0;31mNameError\u001b[0m                                 Traceback (most recent call last)",
      "\u001b[0;32m<ipython-input-20-666787aa55ca>\u001b[0m in \u001b[0;36m<module>\u001b[0;34m\u001b[0m\n\u001b[0;32m----> 1\u001b[0;31m \u001b[0moptimizer\u001b[0m\u001b[0;34m.\u001b[0m\u001b[0mstep\u001b[0m\u001b[0;34m(\u001b[0m\u001b[0;34m)\u001b[0m\u001b[0;34m\u001b[0m\u001b[0;34m\u001b[0m\u001b[0m\n\u001b[0m",
      "\u001b[0;31mNameError\u001b[0m: name 'optimizer' is not defined"
     ]
    }
   ],
   "source": [
    "\n"
   ]
  },
  {
   "cell_type": "code",
   "execution_count": 14,
   "id": "56b419e2",
   "metadata": {},
   "outputs": [
    {
     "data": {
      "text/plain": [
       "{'loss_cls': tensor(0.0243, device='cuda:0', grad_fn=<MulBackward0>),\n",
       " 'loss_box_reg': tensor(0.3738, device='cuda:0', grad_fn=<MulBackward0>),\n",
       " 'loss_rpn_cls': tensor(0.0262, device='cuda:0', grad_fn=<MulBackward0>),\n",
       " 'loss_rpn_loc': tensor(0.3694, device='cuda:0', grad_fn=<MulBackward0>)}"
      ]
     },
     "execution_count": 14,
     "metadata": {},
     "output_type": "execute_result"
    }
   ],
   "source": [
    "record_dict_local_prev"
   ]
  },
  {
   "cell_type": "markdown",
   "id": "e10b5e0f",
   "metadata": {},
   "source": [
    "## appendix"
   ]
  },
  {
   "cell_type": "markdown",
   "id": "d7221ca8",
   "metadata": {},
   "source": [
    "### moon code"
   ]
  },
  {
   "cell_type": "code",
   "execution_count": null,
   "id": "c4f892e1",
   "metadata": {},
   "outputs": [],
   "source": [
    "            posi = cos(pro1, pro2)\n",
    "            logits = posi.reshape(-1,1)\n",
    "\n",
    "            for previous_net in previous_nets:\n",
    "                previous_net.cuda()\n",
    "                _, pro3, _ = previous_net(x)\n",
    "                nega = cos(pro1, pro3)\n",
    "                logits = torch.cat((logits, nega.reshape(-1,1)), dim=1)\n",
    "\n",
    "                previous_net.to('cpu')\n",
    "\n",
    "            logits /= temperature\n",
    "            labels = torch.zeros(x.size(0)).cuda().long()\n",
    "\n",
    "            loss2 = mu * criterion(logits, labels)\n",
    "\n",
    "\n",
    "            loss1 = criterion(out, target)\n",
    "            loss = loss1 + loss2"
   ]
  },
  {
   "cell_type": "markdown",
   "id": "0bc61cd2",
   "metadata": {},
   "source": [
    "### iteration"
   ]
  },
  {
   "cell_type": "code",
   "execution_count": null,
   "id": "be2132f1",
   "metadata": {},
   "outputs": [],
   "source": [
    "\n",
    "dataset_name = 'VOC2007_citytrain'\n",
    "train_data_loader = build_train_loader(cfg, dataset_name)\n",
    "for idx, inputs in enumerate(train_data_loader):    \n",
    "\n",
    "    record_dict, _, _, _ = global_model(inputs, branch=\"supervised\")"
   ]
  },
  {
   "cell_type": "markdown",
   "id": "64e0ef3f",
   "metadata": {},
   "source": [
    "###  call model and get loss"
   ]
  },
  {
   "cell_type": "code",
   "execution_count": null,
   "id": "c5adc2d7",
   "metadata": {},
   "outputs": [],
   "source": [
    "record_dict, _, _, _ = self.model(label_data_q, branch=\"supervised\")"
   ]
  }
 ],
 "metadata": {
  "kernelspec": {
   "display_name": "detectron2",
   "language": "python",
   "name": "detectron2"
  },
  "language_info": {
   "codemirror_mode": {
    "name": "ipython",
    "version": 3
   },
   "file_extension": ".py",
   "mimetype": "text/x-python",
   "name": "python",
   "nbconvert_exporter": "python",
   "pygments_lexer": "ipython3",
   "version": "3.8.18"
  }
 },
 "nbformat": 4,
 "nbformat_minor": 5
}
