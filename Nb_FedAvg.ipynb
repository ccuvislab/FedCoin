{
 "cells": [
  {
   "cell_type": "code",
   "execution_count": 2,
   "id": "4a95021b",
   "metadata": {},
   "outputs": [
    {
     "name": "stderr",
     "output_type": "stream",
     "text": [
      "/home/superorange5/.local/lib/python3.8/site-packages/torchvision/transforms/transforms.py:803: UserWarning: Argument interpolation should be of type InterpolationMode instead of int. Please, use InterpolationMode enum.\n",
      "  warnings.warn(\n"
     ]
    }
   ],
   "source": [
    "# to register\n",
    "from pt.modeling.meta_arch.rcnn import GuassianGeneralizedRCNN\n",
    "from pt.modeling.proposal_generator.rpn import GuassianRPN\n",
    "from pt.modeling.roi_heads.roi_heads import GuassianROIHead\n",
    "import pt.data.datasets.builtin\n",
    "from pt.modeling.backbone.vgg import build_vgg_backbone\n",
    "from pt.modeling.anchor_generator import DifferentiableAnchorGenerator\n",
    "\n",
    "\n",
    "from pt.modeling.meta_arch.ts_ensemble import EnsembleTSModel\n",
    "from detectron2.checkpoint import DetectionCheckpointer\n",
    "import torch\n"
   ]
  },
  {
   "cell_type": "markdown",
   "id": "ab26843b",
   "metadata": {},
   "source": [
    "## load config"
   ]
  },
  {
   "cell_type": "code",
   "execution_count": 8,
   "id": "424ffc39",
   "metadata": {},
   "outputs": [],
   "source": [
    "from detectron2.config import get_cfg\n",
    "from pt import add_config\n",
    "from FLpkg import add_config as fl_add_config\n",
    "\n",
    "def setup(config_file):\n",
    "    \"\"\"\n",
    "    Create configs and perform basic setups.\n",
    "    \"\"\"\n",
    "    cfg = get_cfg()\n",
    "    add_config(cfg)\n",
    "    fl_add_config(cfg)\n",
    "    cfg.merge_from_file(config_file)\n",
    "    #cfg.merge_from_list(args.opts)\n",
    "    \n",
    "    #default_setup(cfg, args)\n",
    "#     cfg.SOLVER.IMG_PER_BATCH_LABEL = 64\n",
    "#     cfg.SOLVER.IMG_PER_BATCH_UNLABEL = 64\n",
    "\n",
    "    cfg.freeze()\n",
    "    return cfg"
   ]
  },
  {
   "cell_type": "markdown",
   "id": "ad195ed1",
   "metadata": {},
   "source": [
    "## load model"
   ]
  },
  {
   "cell_type": "code",
   "execution_count": 9,
   "id": "b97440db",
   "metadata": {},
   "outputs": [],
   "source": [
    "from detectron2.modeling import build_model\n",
    "from pt.engine.trainer import PTrainer\n",
    "from detectron2.checkpoint import DetectionCheckpointer\n",
    "\n",
    "\n",
    "\n",
    "\n",
    "def load_TSmodel(cfg_path, model_path):\n",
    "    cfg = setup(cfg_path)\n",
    "    #cfg.defrost()\n",
    "    #cfg.MODEL.WEIGHTS = model_path\n",
    "    \n",
    "    Trainer =PTrainer\n",
    "    model = Trainer.build_model(cfg)\n",
    "    model_teacher = Trainer.build_model(cfg)\n",
    "    ensem_ts_model = EnsembleTSModel(model_teacher, model)    \n",
    "    \n",
    "    \n",
    "    DetectionCheckpointer(ensem_ts_model).resume_or_load(model_path, resume=False)\n",
    "    \n",
    "    return ensem_ts_model"
   ]
  },
  {
   "cell_type": "code",
   "execution_count": 5,
   "id": "e34437bc",
   "metadata": {},
   "outputs": [],
   "source": [
    "import os\n",
    "model_folder = 'keep_experiments'\n",
    "\n",
    "def get_model(dataset_name,model_num):\n",
    "    if model_num =='final':\n",
    "        model_name ='model_final.pth'\n",
    "    else:\n",
    "        model_name = 'model_{0:07d}.pth'.format(model_num)\n",
    "    model_path = os.path.join(model_folder,dataset_name,model_name)\n",
    "    cfg_path = os.path.join(model_folder,dataset_name,'cfg.yaml')\n",
    "    print(cfg_path)\n",
    "    print(model_path)\n",
    "    return load_TSmodel(cfg_path, model_path)"
   ]
  },
  {
   "cell_type": "code",
   "execution_count": 27,
   "id": "2cda8dda",
   "metadata": {},
   "outputs": [
    {
     "name": "stdout",
     "output_type": "stream",
     "text": [
      "-------- pretrained model loaded ---------\n",
      "-------- pretrained model loaded ---------\n"
     ]
    }
   ],
   "source": [
    "cfg_path = 'configs/FedAvg/FedAvg_ck2b.yaml'\n",
    "model_path = 'output/FedAvg_ck2b/VOC2007_citytrain1_0/model_final.pth'\n",
    "model_c2b= load_TSmodel(cfg_path, model_path)"
   ]
  },
  {
   "cell_type": "code",
   "execution_count": 28,
   "id": "d979380b",
   "metadata": {},
   "outputs": [
    {
     "name": "stdout",
     "output_type": "stream",
     "text": [
      "-------- pretrained model loaded ---------\n",
      "-------- pretrained model loaded ---------\n"
     ]
    }
   ],
   "source": [
    "model_path = 'output/FedAvg_ck2b/VOC2007_kitti1_0/model_final.pth'\n",
    "model_k2b= load_TSmodel(cfg_path, model_path)"
   ]
  },
  {
   "cell_type": "code",
   "execution_count": 29,
   "id": "c1304a14",
   "metadata": {},
   "outputs": [],
   "source": [
    "model_list_ck2b=[model_c2b,model_k2b]\n"
   ]
  },
  {
   "cell_type": "code",
   "execution_count": 81,
   "id": "5022ce6f",
   "metadata": {},
   "outputs": [
    {
     "name": "stdout",
     "output_type": "stream",
     "text": [
      "keep_experiments/s2c/cfg.yaml\n",
      "keep_experiments/s2c/model_0015999.pth\n",
      "-------- pretrained model loaded ---------\n",
      "-------- pretrained model loaded ---------\n",
      "keep_experiments/k2c/cfg.yaml\n",
      "keep_experiments/k2c/model_0019999.pth\n",
      "-------- pretrained model loaded ---------\n",
      "-------- pretrained model loaded ---------\n",
      "keep_experiments/f2c_1class/cfg.yaml\n",
      "keep_experiments/f2c_1class/model_0011999.pth\n",
      "-------- pretrained model loaded ---------\n",
      "-------- pretrained model loaded ---------\n"
     ]
    }
   ],
   "source": [
    "\n",
    "#---------skf2c-------\n",
    "model_s2c = get_model('s2c', 15999)\n",
    "model_k2c = get_model('k2c', 19999)\n",
    "model_f2c = get_model('f2c_1class', 11999) \n",
    "model_list_skf2c=[model_s2c,model_k2c,model_f2c]\n"
   ]
  },
  {
   "cell_type": "code",
   "execution_count": 108,
   "id": "8be5624c",
   "metadata": {},
   "outputs": [
    {
     "name": "stdout",
     "output_type": "stream",
     "text": [
      "keep_experiments/c2b/cfg.yaml\n",
      "keep_experiments/c2b/model_0011999.pth\n",
      "-------- pretrained model loaded ---------\n",
      "-------- pretrained model loaded ---------\n",
      "keep_experiments/k2b/cfg.yaml\n",
      "keep_experiments/k2b/model_final.pth\n",
      "-------- pretrained model loaded ---------\n",
      "-------- pretrained model loaded ---------\n"
     ]
    }
   ],
   "source": [
    "#--------ck2bdd-------\n",
    "model_c2b = get_model('c2b', 11999)\n",
    "model_k2b = get_model('k2b', 'final')\n",
    "model_list_ck2b=[model_c2b,model_k2b]\n",
    "\n"
   ]
  },
  {
   "cell_type": "code",
   "execution_count": 110,
   "id": "dfa21530",
   "metadata": {},
   "outputs": [],
   "source": [
    "\n",
    "device = torch.device('cuda:0')\n",
    "model_c2b\n",
    "model_c2b = model_c2b.to(device)"
   ]
  },
  {
   "cell_type": "code",
   "execution_count": 114,
   "id": "5e0a6b7e",
   "metadata": {},
   "outputs": [
    {
     "data": {
      "text/plain": [
       "device(type='cuda', index=0)"
      ]
     },
     "execution_count": 114,
     "metadata": {},
     "output_type": "execute_result"
    }
   ],
   "source": [
    "next(model_c2b.parameters()).device"
   ]
  },
  {
   "cell_type": "markdown",
   "id": "3b0bb0b9",
   "metadata": {},
   "source": [
    "# Avg"
   ]
  },
  {
   "cell_type": "code",
   "execution_count": 12,
   "id": "39ed6c6d",
   "metadata": {},
   "outputs": [],
   "source": [
    "def avgWeight(model_list,ratio_list):\n",
    "    parties = len(model_list)\n",
    "    model_tmp=[None] * parties\n",
    "    #optims_tmp=[None] * parties\n",
    "\n",
    "    for idx, my_model in enumerate(model_list):\n",
    "        \n",
    "        model_tmp[idx] = my_model.state_dict()\n",
    "\n",
    "\n",
    "    for key in model_tmp[0]:    \n",
    "        #print(key)\n",
    "        model_avg = 0\n",
    "\n",
    "        for idx, model_tmp_content in enumerate(model_tmp):     # add each model              \n",
    "            model_avg += ratio_list[idx] * model_tmp_content[key]\n",
    "            \n",
    "        for i in range(len(model_tmp)):  #copy to each model            \n",
    "            model_tmp[i][key] = model_avg\n",
    "    for i in range(len(model_list)):    \n",
    "        model_list[i].load_state_dict(model_tmp[i])\n",
    "        \n",
    "    return model_list  #, optims_tmp\n",
    "    "
   ]
  },
  {
   "cell_type": "code",
   "execution_count": 13,
   "id": "78d35653",
   "metadata": {},
   "outputs": [],
   "source": [
    "def avg_model_weight(model_list):\n",
    "    balance = 1/len(model_list)\n",
    "    ratio_list= [balance] * len(model_list)\n",
    "    \n",
    "    avg_model=avgWeight(model_list,ratio_list)\n",
    "    return avg_model\n"
   ]
  },
  {
   "cell_type": "markdown",
   "id": "1d308758",
   "metadata": {},
   "source": [
    "## avg skf2c"
   ]
  },
  {
   "cell_type": "code",
   "execution_count": 84,
   "id": "7622cddd",
   "metadata": {},
   "outputs": [],
   "source": [
    "mGPUs=False\n",
    "avg_model = avg_model_weight(model_list_skf2c)"
   ]
  },
  {
   "cell_type": "code",
   "execution_count": 86,
   "id": "4c693223",
   "metadata": {},
   "outputs": [],
   "source": [
    "output_dir = 'models/avg_skf2c'\n",
    "save_name = os.path.join(output_dir, 'pt_skf2c_AVG.pth')\n",
    "torch.save(avg_model[0].state_dict(), save_name)"
   ]
  },
  {
   "cell_type": "markdown",
   "id": "ca755b89",
   "metadata": {},
   "source": [
    "## avg ck2b"
   ]
  },
  {
   "cell_type": "code",
   "execution_count": 30,
   "id": "eb6bce31",
   "metadata": {},
   "outputs": [],
   "source": [
    "mGPUs=False\n",
    "avg_model = avg_model_weight(model_list_ck2b)\n",
    "\n"
   ]
  },
  {
   "cell_type": "code",
   "execution_count": 31,
   "id": "d5b6647e",
   "metadata": {},
   "outputs": [],
   "source": [
    "output_dir = 'models/avg_ck2b'\n",
    "save_name = os.path.join(output_dir, 'pt_ck2b_AVG_round3-2.pth')\n",
    "torch.save(avg_model[0].state_dict(), save_name)"
   ]
  },
  {
   "cell_type": "code",
   "execution_count": 4,
   "id": "0a0b1599",
   "metadata": {},
   "outputs": [
    {
     "data": {
      "text/plain": [
       "tensor([ 1.0949e-02,  3.6106e-02, -8.3926e-01, -5.0064e-01, -1.8014e+00,\n",
       "        -2.1438e+00, -1.3580e+00, -1.4464e+00,  5.1012e-03,  1.5298e-02,\n",
       "        -2.6144e-01, -4.8957e-01, -9.3746e-01, -1.1258e+00, -8.0347e-01,\n",
       "        -8.5810e-01, -8.9569e-04,  4.2415e-02, -3.1489e-01, -1.2556e+00,\n",
       "        -1.1018e+00, -1.6336e+00, -8.8184e-01, -1.0403e+00, -5.7032e-03,\n",
       "        -9.3344e-03, -1.0566e-01, -3.0487e-02, -3.5011e-01, -3.8200e-01,\n",
       "        -2.8333e-01, -2.9011e-01, -7.7315e-03, -3.0739e-03, -4.0304e-02,\n",
       "        -9.7155e-02, -4.3825e-01, -4.5539e-01, -3.3827e-01, -3.3164e-01,\n",
       "        -1.2578e-02, -8.0955e-04, -3.0547e-02, -7.0892e-02, -2.8793e-01,\n",
       "        -3.0009e-01, -2.4454e-01, -2.2057e-01,  5.6443e-05, -5.4561e-03,\n",
       "        -3.9191e-02, -2.5039e-02, -9.7121e-02, -1.0738e-01, -8.8014e-02,\n",
       "        -8.9471e-02, -5.1024e-03, -8.9636e-03, -7.9096e-02, -1.0914e-01,\n",
       "        -1.9555e-01, -1.8664e-01, -1.6924e-01, -1.5845e-01,  1.1864e-02,\n",
       "         7.9556e-04, -3.1962e-02, -3.8323e-02, -1.1021e-01, -1.0063e-01,\n",
       "        -9.8227e-02, -8.5638e-02], device='cuda:0')"
      ]
     },
     "execution_count": 4,
     "metadata": {},
     "output_type": "execute_result"
    }
   ],
   "source": [
    "load_avgmodel = torch.load(\"keep_experiments/FedPT_skf2c/pt_skf2c_AVG.pth\")\n",
    "load_avgmodel['modelStudent.proposal_generator.rpn_head.anchor_deltas.bias']"
   ]
  },
  {
   "cell_type": "markdown",
   "id": "c1761e17",
   "metadata": {},
   "source": [
    "### check weight"
   ]
  },
  {
   "cell_type": "code",
   "execution_count": 41,
   "id": "00efdd6a",
   "metadata": {},
   "outputs": [
    {
     "data": {
      "text/plain": [
       "tensor([ 4.9567e-03,  4.1854e-02, -8.4723e-01, -5.3333e-01, -1.7204e+00,\n",
       "        -1.9618e+00, -1.1261e+00, -1.2538e+00,  7.7744e-03,  2.2535e-02,\n",
       "        -2.2750e-01, -4.8190e-01, -7.0024e-01, -8.2286e-01, -5.7922e-01,\n",
       "        -6.0722e-01, -3.5713e-02,  6.8824e-02, -2.9323e-01, -1.2816e+00,\n",
       "        -9.5808e-01, -1.4632e+00, -6.4602e-01, -8.0602e-01, -1.1137e-03,\n",
       "         4.0937e-03, -1.2114e-01, -3.2870e-02, -2.6557e-01, -2.5672e-01,\n",
       "        -2.0734e-01, -1.9663e-01,  4.5403e-03, -7.9842e-03, -4.0569e-03,\n",
       "        -1.0426e-01, -3.1593e-01, -3.0426e-01, -2.6025e-01, -2.3013e-01,\n",
       "        -7.1750e-03,  1.7197e-03, -2.0883e-02, -4.9887e-02, -1.4983e-01,\n",
       "        -1.3809e-01, -1.3263e-01, -1.1133e-01,  3.7207e-03,  9.6099e-04,\n",
       "        -4.0151e-02, -2.8066e-02, -9.2451e-02, -9.5428e-02, -8.6735e-02,\n",
       "        -7.9944e-02,  5.4622e-03,  4.5548e-03, -4.3455e-02, -6.1940e-02,\n",
       "        -1.1308e-01, -1.0045e-01, -1.0183e-01, -8.1233e-02,  2.0255e-03,\n",
       "         4.3722e-03, -2.2436e-02, -2.0772e-02, -5.6462e-02, -5.5159e-02,\n",
       "        -5.0835e-02, -4.9274e-02], device='cuda:0')"
      ]
     },
     "execution_count": 41,
     "metadata": {},
     "output_type": "execute_result"
    }
   ],
   "source": [
    "model_c2b.state_dict()['modelStudent.proposal_generator.rpn_head.anchor_deltas.bias']"
   ]
  },
  {
   "cell_type": "code",
   "execution_count": 13,
   "id": "da99bc3b",
   "metadata": {},
   "outputs": [
    {
     "data": {
      "text/plain": [
       "tensor([ 1.4360e-02,  3.2181e-02, -7.3846e-01, -3.9803e-01, -2.4172e+00,\n",
       "        -2.5198e+00, -1.8527e+00, -1.8478e+00,  9.1398e-03,  3.1058e-02,\n",
       "        -2.1960e-01, -4.9665e-01, -1.1078e+00, -1.2044e+00, -9.1253e-01,\n",
       "        -8.9858e-01,  9.4522e-03,  6.7336e-02, -1.7252e-01, -1.1749e+00,\n",
       "        -1.5474e+00, -1.9690e+00, -1.1923e+00, -1.2674e+00, -7.1267e-03,\n",
       "        -1.8707e-03, -1.2198e-01, -1.9326e-02, -5.1146e-01, -4.7497e-01,\n",
       "        -4.2590e-01, -3.6520e-01,  7.1992e-03,  1.5896e-04, -5.8629e-02,\n",
       "        -1.3048e-01, -5.8289e-01, -5.4069e-01, -4.5232e-01, -3.6021e-01,\n",
       "         6.4223e-04, -2.7411e-04, -1.5138e-02, -7.5643e-02, -2.8181e-01,\n",
       "        -2.4595e-01, -2.2867e-01, -1.5775e-01, -2.8776e-03, -1.4509e-03,\n",
       "        -9.4464e-02, -5.7442e-02, -1.9346e-01, -1.7289e-01, -1.6273e-01,\n",
       "        -1.2784e-01,  6.1003e-02,  1.2919e-02, -1.5004e-01, -1.6835e-01,\n",
       "        -2.4450e-01, -2.1725e-01, -2.1886e-01, -1.6044e-01, -2.7775e-03,\n",
       "        -3.4089e-04, -1.0674e-02, -3.2906e-02, -1.0484e-01, -7.6686e-02,\n",
       "        -8.8292e-02, -5.3649e-02], device='cuda:0')"
      ]
     },
     "execution_count": 13,
     "metadata": {},
     "output_type": "execute_result"
    }
   ],
   "source": [
    "model_k2b.state_dict()['modelStudent.proposal_generator.rpn_head.anchor_deltas.bias']"
   ]
  },
  {
   "cell_type": "code",
   "execution_count": 19,
   "id": "3a93573c",
   "metadata": {},
   "outputs": [
    {
     "data": {
      "text/plain": [
       "tensor([ 9.6583e-03,  3.7017e-02, -7.9285e-01, -4.6568e-01, -2.0688e+00,\n",
       "        -2.2408e+00, -1.4894e+00, -1.5508e+00,  8.4571e-03,  2.6796e-02,\n",
       "        -2.2355e-01, -4.8927e-01, -9.0401e-01, -1.0136e+00, -7.4587e-01,\n",
       "        -7.5290e-01, -1.3130e-02,  6.8080e-02, -2.3288e-01, -1.2282e+00,\n",
       "        -1.2528e+00, -1.7161e+00, -9.1913e-01, -1.0367e+00, -4.1202e-03,\n",
       "         1.1115e-03, -1.2156e-01, -2.6098e-02, -3.8852e-01, -3.6585e-01,\n",
       "        -3.1662e-01, -2.8091e-01,  5.8698e-03, -3.9126e-03, -3.1343e-02,\n",
       "        -1.1737e-01, -4.4941e-01, -4.2248e-01, -3.5628e-01, -2.9517e-01,\n",
       "        -3.2664e-03,  7.2280e-04, -1.8010e-02, -6.2765e-02, -2.1582e-01,\n",
       "        -1.9202e-01, -1.8065e-01, -1.3454e-01,  4.2153e-04, -2.4497e-04,\n",
       "        -6.7308e-02, -4.2754e-02, -1.4296e-01, -1.3416e-01, -1.2473e-01,\n",
       "        -1.0389e-01,  3.3233e-02,  8.7368e-03, -9.6750e-02, -1.1515e-01,\n",
       "        -1.7879e-01, -1.5885e-01, -1.6035e-01, -1.2084e-01, -3.7602e-04,\n",
       "         2.0156e-03, -1.6555e-02, -2.6839e-02, -8.0649e-02, -6.5922e-02,\n",
       "        -6.9563e-02, -5.1462e-02], device='cuda:0')"
      ]
     },
     "execution_count": 19,
     "metadata": {},
     "output_type": "execute_result"
    }
   ],
   "source": [
    "avg_model[0].state_dict()['modelStudent.proposal_generator.rpn_head.anchor_deltas.bias']"
   ]
  },
  {
   "cell_type": "code",
   "execution_count": 14,
   "id": "4b15294f",
   "metadata": {},
   "outputs": [
    {
     "data": {
      "text/plain": [
       "tensor([ 1.4360e-02,  3.2181e-02, -7.3846e-01, -3.9803e-01, -2.4172e+00,\n",
       "        -2.5198e+00, -1.8527e+00, -1.8478e+00,  9.1398e-03,  3.1058e-02,\n",
       "        -2.1960e-01, -4.9665e-01, -1.1078e+00, -1.2044e+00, -9.1253e-01,\n",
       "        -8.9858e-01,  9.4522e-03,  6.7336e-02, -1.7252e-01, -1.1749e+00,\n",
       "        -1.5474e+00, -1.9690e+00, -1.1923e+00, -1.2674e+00, -7.1267e-03,\n",
       "        -1.8707e-03, -1.2198e-01, -1.9326e-02, -5.1146e-01, -4.7497e-01,\n",
       "        -4.2590e-01, -3.6520e-01,  7.1992e-03,  1.5896e-04, -5.8629e-02,\n",
       "        -1.3048e-01, -5.8289e-01, -5.4069e-01, -4.5232e-01, -3.6021e-01,\n",
       "         6.4223e-04, -2.7411e-04, -1.5138e-02, -7.5643e-02, -2.8181e-01,\n",
       "        -2.4595e-01, -2.2867e-01, -1.5775e-01, -2.8776e-03, -1.4509e-03,\n",
       "        -9.4464e-02, -5.7442e-02, -1.9346e-01, -1.7289e-01, -1.6273e-01,\n",
       "        -1.2784e-01,  6.1003e-02,  1.2919e-02, -1.5004e-01, -1.6835e-01,\n",
       "        -2.4450e-01, -2.1725e-01, -2.1886e-01, -1.6044e-01, -2.7775e-03,\n",
       "        -3.4089e-04, -1.0674e-02, -3.2906e-02, -1.0484e-01, -7.6686e-02,\n",
       "        -8.8292e-02, -5.3649e-02], device='cuda:0')"
      ]
     },
     "execution_count": 14,
     "metadata": {},
     "output_type": "execute_result"
    }
   ],
   "source": [
    "k2bmodel = torch.load(\"keep_experiments/k2b/model_final.pth\")\n",
    "k2bmodel['model']['modelStudent.proposal_generator.rpn_head.anchor_deltas.bias']"
   ]
  },
  {
   "cell_type": "code",
   "execution_count": 39,
   "id": "884b45d0",
   "metadata": {},
   "outputs": [
    {
     "data": {
      "text/plain": [
       "tensor([ 4.9567e-03,  4.1854e-02, -8.4723e-01, -5.3333e-01, -1.7204e+00,\n",
       "        -1.9618e+00, -1.1261e+00, -1.2538e+00,  7.7744e-03,  2.2535e-02,\n",
       "        -2.2750e-01, -4.8190e-01, -7.0024e-01, -8.2286e-01, -5.7922e-01,\n",
       "        -6.0722e-01, -3.5713e-02,  6.8824e-02, -2.9323e-01, -1.2816e+00,\n",
       "        -9.5808e-01, -1.4632e+00, -6.4602e-01, -8.0602e-01, -1.1137e-03,\n",
       "         4.0937e-03, -1.2114e-01, -3.2870e-02, -2.6557e-01, -2.5672e-01,\n",
       "        -2.0734e-01, -1.9663e-01,  4.5403e-03, -7.9842e-03, -4.0569e-03,\n",
       "        -1.0426e-01, -3.1593e-01, -3.0426e-01, -2.6025e-01, -2.3013e-01,\n",
       "        -7.1750e-03,  1.7197e-03, -2.0883e-02, -4.9887e-02, -1.4983e-01,\n",
       "        -1.3809e-01, -1.3263e-01, -1.1133e-01,  3.7207e-03,  9.6099e-04,\n",
       "        -4.0151e-02, -2.8066e-02, -9.2451e-02, -9.5428e-02, -8.6735e-02,\n",
       "        -7.9944e-02,  5.4622e-03,  4.5548e-03, -4.3455e-02, -6.1940e-02,\n",
       "        -1.1308e-01, -1.0045e-01, -1.0183e-01, -8.1233e-02,  2.0255e-03,\n",
       "         4.3722e-03, -2.2436e-02, -2.0772e-02, -5.6462e-02, -5.5159e-02,\n",
       "        -5.0835e-02, -4.9274e-02], device='cuda:0')"
      ]
     },
     "execution_count": 39,
     "metadata": {},
     "output_type": "execute_result"
    }
   ],
   "source": [
    "c2bmodel = torch.load(\"keep_experiments/c2b/model_0011999.pth\")\n",
    "c2bmodel['model']['modelStudent.proposal_generator.rpn_head.anchor_deltas.bias']"
   ]
  },
  {
   "cell_type": "markdown",
   "id": "18556e57",
   "metadata": {},
   "source": [
    "### eval avg weight by PTrainer"
   ]
  },
  {
   "cell_type": "markdown",
   "id": "06fa568c",
   "metadata": {},
   "source": [
    "* use train_net.py --eval-only MODEL.WEIGHTS xxx"
   ]
  },
  {
   "cell_type": "markdown",
   "id": "7757f339",
   "metadata": {},
   "source": [
    "### try load by detection checkpointer"
   ]
  },
  {
   "cell_type": "code",
   "execution_count": 93,
   "id": "2b29e274",
   "metadata": {},
   "outputs": [],
   "source": [
    "cfg = setup(\"keep_experiments/c2b/cfg.yaml\")\n",
    "cfg.defrost()\n"
   ]
  },
  {
   "cell_type": "code",
   "execution_count": null,
   "id": "0d1ae8cf",
   "metadata": {},
   "outputs": [],
   "source": [
    "\n",
    "\n",
    "Trainer =PTrainer\n",
    "model = Trainer.build_model(cfg)\n",
    "model_teacher = Trainer.build_model(cfg)\n",
    "ensem_ts_model = EnsembleTSModel(model_teacher, model)\n",
    "DetectionCheckpointer(ensem_ts_model, save_dir=\"outputs/avgbddtest\").resume_or_load(\"keep_experiments/c2b/model_0011999.pth\", resume=False)"
   ]
  },
  {
   "cell_type": "code",
   "execution_count": 95,
   "id": "92783241",
   "metadata": {},
   "outputs": [
    {
     "data": {
      "text/plain": [
       "tensor([-6.5627e-03,  3.0417e-02, -8.4835e-01, -5.3043e-01, -1.3700e+00,\n",
       "        -1.6144e+00, -8.4943e-01, -9.8027e-01,  1.7856e-03,  2.0595e-02,\n",
       "        -2.0001e-01, -4.3966e-01, -5.2200e-01, -6.2199e-01, -4.3529e-01,\n",
       "        -4.5533e-01, -2.6739e-02,  5.9310e-02, -2.9256e-01, -1.2632e+00,\n",
       "        -7.1997e-01, -1.1533e+00, -4.8411e-01, -6.2959e-01, -4.2020e-03,\n",
       "         2.0499e-03, -9.9693e-02, -2.6648e-02, -2.0214e-01, -1.9674e-01,\n",
       "        -1.6394e-01, -1.5516e-01,  3.4224e-03, -3.5436e-03, -1.7894e-02,\n",
       "        -9.9878e-02, -2.4250e-01, -2.3280e-01, -2.0532e-01, -1.8185e-01,\n",
       "        -6.4977e-03,  5.2584e-03, -1.6049e-02, -4.5818e-02, -1.1476e-01,\n",
       "        -1.0712e-01, -1.0239e-01, -8.6640e-02,  6.6900e-04, -1.1808e-04,\n",
       "        -2.7552e-02, -2.2804e-02, -6.9459e-02, -6.5970e-02, -6.2301e-02,\n",
       "        -5.5687e-02, -4.1321e-03,  5.3846e-03, -3.9390e-02, -4.6522e-02,\n",
       "        -8.4726e-02, -7.3776e-02, -7.7774e-02, -6.1891e-02,  2.1314e-03,\n",
       "         3.9247e-03, -1.6818e-02, -1.5795e-02, -4.2858e-02, -4.1983e-02,\n",
       "        -3.8783e-02, -3.8098e-02], device='cuda:0')"
      ]
     },
     "execution_count": 95,
     "metadata": {},
     "output_type": "execute_result"
    }
   ],
   "source": [
    "ensem_ts_model.modelTeacher.state_dict()['proposal_generator.rpn_head.anchor_deltas.bias']"
   ]
  },
  {
   "cell_type": "code",
   "execution_count": 96,
   "id": "298439cd",
   "metadata": {},
   "outputs": [
    {
     "data": {
      "text/plain": [
       "tensor([ 4.9567e-03,  4.1854e-02, -8.4723e-01, -5.3333e-01, -1.7204e+00,\n",
       "        -1.9618e+00, -1.1261e+00, -1.2538e+00,  7.7744e-03,  2.2535e-02,\n",
       "        -2.2750e-01, -4.8190e-01, -7.0024e-01, -8.2286e-01, -5.7922e-01,\n",
       "        -6.0722e-01, -3.5713e-02,  6.8824e-02, -2.9323e-01, -1.2816e+00,\n",
       "        -9.5808e-01, -1.4632e+00, -6.4602e-01, -8.0602e-01, -1.1137e-03,\n",
       "         4.0937e-03, -1.2114e-01, -3.2870e-02, -2.6557e-01, -2.5672e-01,\n",
       "        -2.0734e-01, -1.9663e-01,  4.5403e-03, -7.9842e-03, -4.0569e-03,\n",
       "        -1.0426e-01, -3.1593e-01, -3.0426e-01, -2.6025e-01, -2.3013e-01,\n",
       "        -7.1750e-03,  1.7197e-03, -2.0883e-02, -4.9887e-02, -1.4983e-01,\n",
       "        -1.3809e-01, -1.3263e-01, -1.1133e-01,  3.7207e-03,  9.6099e-04,\n",
       "        -4.0151e-02, -2.8066e-02, -9.2451e-02, -9.5428e-02, -8.6735e-02,\n",
       "        -7.9944e-02,  5.4622e-03,  4.5548e-03, -4.3455e-02, -6.1940e-02,\n",
       "        -1.1308e-01, -1.0045e-01, -1.0183e-01, -8.1233e-02,  2.0255e-03,\n",
       "         4.3722e-03, -2.2436e-02, -2.0772e-02, -5.6462e-02, -5.5159e-02,\n",
       "        -5.0835e-02, -4.9274e-02], device='cuda:0')"
      ]
     },
     "execution_count": 96,
     "metadata": {},
     "output_type": "execute_result"
    }
   ],
   "source": [
    "ensem_ts_model.modelStudent.state_dict()['proposal_generator.rpn_head.anchor_deltas.bias']"
   ]
  },
  {
   "cell_type": "code",
   "execution_count": 47,
   "id": "9c4aca1b",
   "metadata": {},
   "outputs": [
    {
     "name": "stdout",
     "output_type": "stream",
     "text": [
      "tensor([ 4.9567e-03,  4.1854e-02, -8.4723e-01, -5.3333e-01, -1.7204e+00,\n",
      "        -1.9618e+00, -1.1261e+00, -1.2538e+00,  7.7744e-03,  2.2535e-02,\n",
      "        -2.2750e-01, -4.8190e-01, -7.0024e-01, -8.2286e-01, -5.7922e-01,\n",
      "        -6.0722e-01, -3.5713e-02,  6.8824e-02, -2.9323e-01, -1.2816e+00,\n",
      "        -9.5808e-01, -1.4632e+00, -6.4602e-01, -8.0602e-01, -1.1137e-03,\n",
      "         4.0937e-03, -1.2114e-01, -3.2870e-02, -2.6557e-01, -2.5672e-01,\n",
      "        -2.0734e-01, -1.9663e-01,  4.5403e-03, -7.9842e-03, -4.0569e-03,\n",
      "        -1.0426e-01, -3.1593e-01, -3.0426e-01, -2.6025e-01, -2.3013e-01,\n",
      "        -7.1750e-03,  1.7197e-03, -2.0883e-02, -4.9887e-02, -1.4983e-01,\n",
      "        -1.3809e-01, -1.3263e-01, -1.1133e-01,  3.7207e-03,  9.6099e-04,\n",
      "        -4.0151e-02, -2.8066e-02, -9.2451e-02, -9.5428e-02, -8.6735e-02,\n",
      "        -7.9944e-02,  5.4622e-03,  4.5548e-03, -4.3455e-02, -6.1940e-02,\n",
      "        -1.1308e-01, -1.0045e-01, -1.0183e-01, -8.1233e-02,  2.0255e-03,\n",
      "         4.3722e-03, -2.2436e-02, -2.0772e-02, -5.6462e-02, -5.5159e-02,\n",
      "        -5.0835e-02, -4.9274e-02], device='cuda:0')\n"
     ]
    }
   ],
   "source": [
    "for key in c2bmodel['model']:\n",
    "    #print(key)\n",
    "    if(key=='modelStudent.proposal_generator.rpn_head.anchor_deltas.bias'):\n",
    "        print(c2bmodel['model'][key])\n",
    "    "
   ]
  },
  {
   "cell_type": "markdown",
   "id": "9677d9f0",
   "metadata": {},
   "source": [
    "### load avg model"
   ]
  },
  {
   "cell_type": "code",
   "execution_count": 96,
   "id": "69b37db9",
   "metadata": {},
   "outputs": [],
   "source": [
    "avg_bdd_model = torch.load(\"models/avg_ck2b/pt_ck2b_AVG.pth\")\n"
   ]
  },
  {
   "cell_type": "markdown",
   "id": "93ecd2a3",
   "metadata": {},
   "source": [
    "## evaluation (defaults.test)"
   ]
  },
  {
   "cell_type": "code",
   "execution_count": 44,
   "id": "99249d9f",
   "metadata": {},
   "outputs": [
    {
     "data": {
      "text/plain": [
       "tensor([ 4.9567e-03,  4.1854e-02, -8.4723e-01, -5.3333e-01, -1.7204e+00,\n",
       "        -1.9618e+00, -1.1261e+00, -1.2538e+00,  7.7744e-03,  2.2535e-02,\n",
       "        -2.2750e-01, -4.8190e-01, -7.0024e-01, -8.2286e-01, -5.7922e-01,\n",
       "        -6.0722e-01, -3.5713e-02,  6.8824e-02, -2.9323e-01, -1.2816e+00,\n",
       "        -9.5808e-01, -1.4632e+00, -6.4602e-01, -8.0602e-01, -1.1137e-03,\n",
       "         4.0937e-03, -1.2114e-01, -3.2870e-02, -2.6557e-01, -2.5672e-01,\n",
       "        -2.0734e-01, -1.9663e-01,  4.5403e-03, -7.9842e-03, -4.0569e-03,\n",
       "        -1.0426e-01, -3.1593e-01, -3.0426e-01, -2.6025e-01, -2.3013e-01,\n",
       "        -7.1750e-03,  1.7197e-03, -2.0883e-02, -4.9887e-02, -1.4983e-01,\n",
       "        -1.3809e-01, -1.3263e-01, -1.1133e-01,  3.7207e-03,  9.6099e-04,\n",
       "        -4.0151e-02, -2.8066e-02, -9.2451e-02, -9.5428e-02, -8.6735e-02,\n",
       "        -7.9944e-02,  5.4622e-03,  4.5548e-03, -4.3455e-02, -6.1940e-02,\n",
       "        -1.1308e-01, -1.0045e-01, -1.0183e-01, -8.1233e-02,  2.0255e-03,\n",
       "         4.3722e-03, -2.2436e-02, -2.0772e-02, -5.6462e-02, -5.5159e-02,\n",
       "        -5.0835e-02, -4.9274e-02], device='cuda:0')"
      ]
     },
     "execution_count": 44,
     "metadata": {},
     "output_type": "execute_result"
    }
   ],
   "source": [
    "model_c2b.modelStudent.state_dict()"
   ]
  },
  {
   "cell_type": "code",
   "execution_count": 45,
   "id": "8f213a05",
   "metadata": {},
   "outputs": [],
   "source": [
    "#results = OrderedDict()\n",
    "from detectron2.data import build_detection_test_loader\n",
    "from detectron2.evaluation import PascalVOCDetectionEvaluator\n",
    "from detectron2.evaluation import inference_on_dataset\n",
    "\n",
    "cfg = setup(\"keep_experiments/c2b/cfg.yaml\")\n",
    "\n",
    "dataset_name = 'VOC2007_bddvalsmall'\n",
    "test_data_loader = build_detection_test_loader(cfg, dataset_name)\n",
    "evaluator = PascalVOCDetectionEvaluator(dataset_name)\n",
    "\n",
    "\n"
   ]
  },
  {
   "cell_type": "code",
   "execution_count": 46,
   "id": "dc3950b9",
   "metadata": {},
   "outputs": [],
   "source": [
    "#model_c2b.eval()\n",
    "results_i = inference_on_dataset(model_c2b.modelStudent, test_data_loader, evaluator)\n"
   ]
  },
  {
   "cell_type": "code",
   "execution_count": 47,
   "id": "0a0a17f3",
   "metadata": {},
   "outputs": [
    {
     "data": {
      "text/plain": [
       "OrderedDict([('bbox',\n",
       "              {'AP': 34.43792240729627,\n",
       "               'AP50': 55.33559113300493,\n",
       "               'AP75': 42.69925476822028})])"
      ]
     },
     "execution_count": 47,
     "metadata": {},
     "output_type": "execute_result"
    }
   ],
   "source": [
    "results_i"
   ]
  },
  {
   "cell_type": "code",
   "execution_count": 54,
   "id": "26a18026",
   "metadata": {},
   "outputs": [],
   "source": [
    "model = model_c2b.modelStudent"
   ]
  },
  {
   "cell_type": "code",
   "execution_count": 67,
   "id": "b37a9eae",
   "metadata": {},
   "outputs": [],
   "source": [
    "data_loader_iter = iter(test_data_loader)\n",
    "data = data_loader_iter.next()"
   ]
  },
  {
   "cell_type": "code",
   "execution_count": 84,
   "id": "f199f83d",
   "metadata": {},
   "outputs": [],
   "source": [
    "with torch.no_grad():\n",
    "    model.eval()\n",
    "    output = model_c2b.modelStudent(data)\n"
   ]
  },
  {
   "cell_type": "code",
   "execution_count": 90,
   "id": "cedd2a2d",
   "metadata": {},
   "outputs": [
    {
     "data": {
      "text/plain": [
       "(720, 1280)"
      ]
     },
     "execution_count": 90,
     "metadata": {},
     "output_type": "execute_result"
    }
   ],
   "source": [
    "output[0]['instances'].image_size"
   ]
  },
  {
   "cell_type": "code",
   "execution_count": 107,
   "id": "48a19ebd",
   "metadata": {},
   "outputs": [
    {
     "ename": "NameError",
     "evalue": "name 'model_c2b' is not defined",
     "output_type": "error",
     "traceback": [
      "\u001b[0;31m---------------------------------------------------------------------------\u001b[0m",
      "\u001b[0;31mNameError\u001b[0m                                 Traceback (most recent call last)",
      "\u001b[0;32m/tmp/ipykernel_30024/2273089213.py\u001b[0m in \u001b[0;36m<module>\u001b[0;34m\u001b[0m\n\u001b[0;32m----> 1\u001b[0;31m \u001b[0mmodel_c2b\u001b[0m\u001b[0;34m\u001b[0m\u001b[0;34m\u001b[0m\u001b[0m\n\u001b[0m",
      "\u001b[0;31mNameError\u001b[0m: name 'model_c2b' is not defined"
     ]
    }
   ],
   "source": [
    "model_c2b"
   ]
  },
  {
   "cell_type": "code",
   "execution_count": 101,
   "id": "8f1d6db7",
   "metadata": {},
   "outputs": [
    {
     "data": {
      "text/plain": [
       "tensor([0.9708, 0.9707, 0.9612, 0.9462, 0.9312, 0.8988, 0.8963, 0.8774, 0.8749,\n",
       "        0.7561, 0.7531, 0.6275, 0.5939, 0.5390, 0.4565, 0.4178, 0.2566, 0.1998,\n",
       "        0.1848, 0.1812, 0.1348, 0.1121, 0.0759, 0.0390, 0.0330, 0.0310, 0.0206,\n",
       "        0.0180, 0.0171, 0.0161, 0.0135, 0.0127, 0.0123, 0.0106, 0.0099, 0.0094],\n",
       "       device='cuda:0')"
      ]
     },
     "execution_count": 101,
     "metadata": {},
     "output_type": "execute_result"
    }
   ],
   "source": [
    "output[0]['instances'].pred_boxes\n",
    "\n",
    "output[0]['instances'].scores_logists\n",
    "output[0]['instances'].boxes_sigma\n",
    "output[0]['instances'].scores"
   ]
  },
  {
   "cell_type": "code",
   "execution_count": 95,
   "id": "f6946d97",
   "metadata": {},
   "outputs": [
    {
     "data": {
      "text/plain": [
       "<bound method Instances.get_fields of Instances(num_instances=36, image_height=720, image_width=1280, fields=[pred_boxes: Boxes(tensor([[9.3210e+02, 3.3852e+02, 1.2210e+03, 4.8170e+02],\n",
       "        [7.9497e+02, 3.6244e+02, 9.0552e+02, 4.3002e+02],\n",
       "        [7.5011e+02, 3.6257e+02, 8.2003e+02, 4.1306e+02],\n",
       "        [3.8800e+01, 3.4999e+02, 1.2780e+02, 4.0018e+02],\n",
       "        [8.8130e+02, 3.7710e+02, 9.6676e+02, 4.4869e+02],\n",
       "        [2.4614e+02, 3.4897e+02, 3.4941e+02, 3.9769e+02],\n",
       "        [5.9876e+02, 3.5402e+02, 6.3575e+02, 3.8532e+02],\n",
       "        [0.0000e+00, 3.4040e+02, 5.8351e+01, 4.0309e+02],\n",
       "        [7.3273e+02, 3.6651e+02, 7.7169e+02, 4.0439e+02],\n",
       "        [6.8310e+02, 3.5948e+02, 7.1826e+02, 3.9106e+02],\n",
       "        [0.0000e+00, 3.3469e+02, 1.0768e+01, 3.9184e+02],\n",
       "        [2.0393e+02, 3.4324e+02, 2.5814e+02, 3.8604e+02],\n",
       "        [2.1476e+02, 3.5879e+02, 3.0001e+02, 4.5576e+02],\n",
       "        [7.0833e+02, 3.6453e+02, 7.4357e+02, 3.9798e+02],\n",
       "        [6.9122e+02, 3.6096e+02, 7.3717e+02, 3.9521e+02],\n",
       "        [1.2033e+03, 4.1763e+02, 1.2792e+03, 5.2414e+02],\n",
       "        [1.2558e+01, 3.4589e+02, 1.0172e+02, 4.0303e+02],\n",
       "        [5.8631e+02, 3.5004e+02, 6.1269e+02, 3.7690e+02],\n",
       "        [5.9269e+02, 3.5286e+02, 6.2253e+02, 3.8014e+02],\n",
       "        [9.6188e+02, 2.5513e+02, 1.0328e+03, 3.0948e+02],\n",
       "        [5.6717e+02, 3.3535e+02, 6.0787e+02, 3.7301e+02],\n",
       "        [2.6411e-01, 3.4545e+02, 2.3222e+01, 4.0542e+02],\n",
       "        [2.2899e+02, 3.4963e+02, 3.3996e+02, 4.2685e+02],\n",
       "        [4.0234e+02, 3.5680e+02, 4.3816e+02, 3.7669e+02],\n",
       "        [3.6780e+02, 3.5338e+02, 4.0846e+02, 3.7721e+02],\n",
       "        [6.7104e+02, 3.6107e+02, 6.9990e+02, 3.8752e+02],\n",
       "        [7.0729e+02, 3.5469e+02, 7.5724e+02, 3.9433e+02],\n",
       "        [6.4716e+02, 3.6279e+02, 6.7828e+02, 3.8616e+02],\n",
       "        [3.6273e+02, 3.5067e+02, 4.2916e+02, 3.7986e+02],\n",
       "        [3.3248e+02, 3.5591e+02, 3.7417e+02, 3.8297e+02],\n",
       "        [4.4679e+02, 3.5686e+02, 4.7964e+02, 3.7400e+02],\n",
       "        [2.3211e+02, 3.6414e+02, 2.9770e+02, 4.1787e+02],\n",
       "        [2.0311e+02, 3.4216e+02, 3.0886e+02, 3.9695e+02],\n",
       "        [4.1240e+02, 3.5850e+02, 4.5306e+02, 3.7772e+02],\n",
       "        [3.5265e+02, 3.4964e+02, 3.9602e+02, 3.7467e+02],\n",
       "        [1.5720e+02, 3.2750e+02, 2.3821e+02, 3.7633e+02]], device='cuda:0')), scores: tensor([0.9708, 0.9707, 0.9612, 0.9462, 0.9312, 0.8988, 0.8963, 0.8774, 0.8749,\n",
       "        0.7561, 0.7531, 0.6275, 0.5939, 0.5390, 0.4565, 0.4178, 0.2566, 0.1998,\n",
       "        0.1848, 0.1812, 0.1348, 0.1121, 0.0759, 0.0390, 0.0330, 0.0310, 0.0206,\n",
       "        0.0180, 0.0171, 0.0161, 0.0135, 0.0127, 0.0123, 0.0106, 0.0099, 0.0094],\n",
       "       device='cuda:0'), pred_classes: tensor([0, 0, 0, 0, 0, 0, 0, 0, 0, 0, 0, 0, 0, 0, 0, 0, 0, 0, 0, 0, 0, 0, 0, 0,\n",
       "        0, 0, 0, 0, 0, 0, 0, 0, 0, 0, 0, 0], device='cuda:0'), scores_logists: tensor([[ 3.3746, -3.4222],\n",
       "        [ 3.0637, -3.1017],\n",
       "        [ 3.7150, -3.7093],\n",
       "        [ 3.2326, -3.2229],\n",
       "        [ 2.6753, -2.6198],\n",
       "        [ 2.1805, -2.2141],\n",
       "        [ 2.9142, -2.8905],\n",
       "        [ 2.7713, -2.7547],\n",
       "        [ 2.6244, -2.6060],\n",
       "        [ 1.7956, -1.8262],\n",
       "        [ 1.2354, -1.2762],\n",
       "        [ 1.0564, -1.0052],\n",
       "        [ 0.5821, -0.5865],\n",
       "        [ 2.3656, -2.3056],\n",
       "        [ 1.9363, -1.8746],\n",
       "        [ 0.0897, -0.0704],\n",
       "        [ 0.1624, -0.1088],\n",
       "        [ 0.3955, -0.3212],\n",
       "        [-0.0378,  0.0782],\n",
       "        [-0.4594,  0.4989],\n",
       "        [ 0.0195,  0.0350],\n",
       "        [-0.5129,  0.6021],\n",
       "        [-0.6291,  0.5911],\n",
       "        [-0.6431,  0.6644],\n",
       "        [-0.7335,  0.7555],\n",
       "        [-1.1361,  1.1194],\n",
       "        [-1.2835,  1.2587],\n",
       "        [-1.4107,  1.3891],\n",
       "        [-1.1443,  1.1682],\n",
       "        [-1.3804,  1.4071],\n",
       "        [-1.2687,  1.2785],\n",
       "        [-1.1065,  1.0902],\n",
       "        [-1.2292,  1.2823],\n",
       "        [-1.4174,  1.4435],\n",
       "        [-1.2412,  1.2587],\n",
       "        [-1.2616,  1.3054]], device='cuda:0'), boxes_sigma: tensor([[-3.4894e+00, -3.9871e+00, -3.1702e+00, -3.6849e+00],\n",
       "        [-3.6285e+00, -3.7810e+00, -3.3161e+00, -3.6317e+00],\n",
       "        [-3.2193e+00, -3.3684e+00, -2.9709e+00, -3.3978e+00],\n",
       "        [-2.8282e+00, -3.2153e+00, -2.5468e+00, -3.1238e+00],\n",
       "        [-2.9457e+00, -2.7821e+00, -2.3568e+00, -2.7212e+00],\n",
       "        [-2.2454e+00, -2.4638e+00, -2.3135e+00, -2.2387e+00],\n",
       "        [-2.2998e+00, -2.2267e+00, -2.0085e+00, -2.2291e+00],\n",
       "        [-1.8328e+00, -2.2246e+00, -1.6705e+00, -2.4066e+00],\n",
       "        [-1.6395e+00, -2.2094e+00, -1.8167e+00, -2.4366e+00],\n",
       "        [-6.3844e-01, -1.7724e+00, -9.5738e-01, -1.9336e+00],\n",
       "        [-1.0417e+00, -2.0666e+00, -1.1329e+00, -1.9339e+00],\n",
       "        [-1.2190e+00, -8.2443e-01, -8.5451e-01, -6.6751e-01],\n",
       "        [-2.6278e+00, -8.5548e-01, -1.8027e+00, -4.9464e-01],\n",
       "        [ 2.1113e+00, -1.0854e+00,  2.1824e-01, -1.9466e+00],\n",
       "        [ 2.8271e+00, -7.2808e-01,  8.0095e-01, -1.5608e+00],\n",
       "        [-1.6114e+00, -1.4486e+00, -8.4586e-01, -1.1116e+00],\n",
       "        [ 3.1729e+00, -1.0267e+00,  1.2308e+00, -1.4266e+00],\n",
       "        [ 3.1314e+00,  8.1953e-01,  1.2376e+00, -4.7690e-01],\n",
       "        [ 2.4866e+00,  1.3186e-01,  7.3442e-01, -8.5484e-01],\n",
       "        [-1.1308e+00, -7.3917e-01, -7.5899e-01, -3.8568e-03],\n",
       "        [ 1.8357e+00,  9.9503e-01,  1.2337e+00,  1.8653e-01],\n",
       "        [ 1.5066e+00, -7.3187e-01,  9.9331e-01, -7.9625e-01],\n",
       "        [ 5.4917e-01,  1.0312e+00,  1.8521e-03,  1.3660e+00],\n",
       "        [ 3.4687e+00,  8.6966e-01,  2.7240e+00,  6.3711e-01],\n",
       "        [ 3.8583e+00,  9.9451e-01,  2.8327e+00,  5.2888e-01],\n",
       "        [ 2.8155e+00,  1.9625e-02,  1.6531e+00, -3.8845e-01],\n",
       "        [ 2.0822e+00,  1.3365e+00,  4.5690e-01,  3.0951e-01],\n",
       "        [ 1.7686e+00,  4.5190e-01,  1.1205e+00,  1.0960e-01],\n",
       "        [ 3.9331e+00,  6.2073e-01,  2.8754e+00,  6.7833e-01],\n",
       "        [ 1.8394e+00,  6.3322e-01,  1.3783e+00,  3.1600e-01],\n",
       "        [ 2.7966e+00,  9.2719e-01,  2.4099e+00,  7.4733e-01],\n",
       "        [ 1.8358e+00,  3.3710e+00,  9.0747e-01,  2.9145e+00],\n",
       "        [ 2.7825e+00,  1.2857e+00,  1.4918e+00,  1.4196e+00],\n",
       "        [ 3.2516e+00,  7.1087e-01,  2.5742e+00,  6.2980e-01],\n",
       "        [ 3.9875e+00,  1.6074e+00,  2.6586e+00,  9.8108e-01],\n",
       "        [ 3.2888e+00,  1.4530e+00,  2.3090e+00,  1.3315e+00]], device='cuda:0')])>"
      ]
     },
     "execution_count": 95,
     "metadata": {},
     "output_type": "execute_result"
    }
   ],
   "source": [
    "output[0]['instances'].get_fields"
   ]
  },
  {
   "cell_type": "code",
   "execution_count": 52,
   "id": "3c92dddc",
   "metadata": {},
   "outputs": [
    {
     "ename": "TypeError",
     "evalue": "'method' object is not subscriptable",
     "output_type": "error",
     "traceback": [
      "\u001b[0;31m---------------------------------------------------------------------------\u001b[0m",
      "\u001b[0;31mTypeError\u001b[0m                                 Traceback (most recent call last)",
      "\u001b[0;32m/tmp/ipykernel_24712/494066295.py\u001b[0m in \u001b[0;36m<module>\u001b[0;34m\u001b[0m\n\u001b[1;32m      1\u001b[0m \u001b[0;32mfor\u001b[0m \u001b[0midx\u001b[0m\u001b[0;34m,\u001b[0m \u001b[0minputs\u001b[0m \u001b[0;32min\u001b[0m \u001b[0menumerate\u001b[0m\u001b[0;34m(\u001b[0m\u001b[0mtest_data_loader\u001b[0m\u001b[0;34m)\u001b[0m\u001b[0;34m:\u001b[0m\u001b[0;34m\u001b[0m\u001b[0;34m\u001b[0m\u001b[0m\n\u001b[0;32m----> 2\u001b[0;31m     \u001b[0moutput\u001b[0m \u001b[0;34m=\u001b[0m \u001b[0mmodel_c2b\u001b[0m\u001b[0;34m.\u001b[0m\u001b[0mmodelStudent\u001b[0m\u001b[0;34m(\u001b[0m\u001b[0minput\u001b[0m\u001b[0;34m)\u001b[0m\u001b[0;34m\u001b[0m\u001b[0;34m\u001b[0m\u001b[0m\n\u001b[0m\u001b[1;32m      3\u001b[0m     \u001b[0mprint\u001b[0m\u001b[0;34m(\u001b[0m\u001b[0moutput\u001b[0m\u001b[0;34m)\u001b[0m\u001b[0;34m\u001b[0m\u001b[0;34m\u001b[0m\u001b[0m\n\u001b[1;32m      4\u001b[0m \u001b[0;34m\u001b[0m\u001b[0m\n",
      "\u001b[0;32m~/.local/lib/python3.8/site-packages/torch/nn/modules/module.py\u001b[0m in \u001b[0;36m_call_impl\u001b[0;34m(self, *input, **kwargs)\u001b[0m\n\u001b[1;32m    887\u001b[0m             \u001b[0mresult\u001b[0m \u001b[0;34m=\u001b[0m \u001b[0mself\u001b[0m\u001b[0;34m.\u001b[0m\u001b[0m_slow_forward\u001b[0m\u001b[0;34m(\u001b[0m\u001b[0;34m*\u001b[0m\u001b[0minput\u001b[0m\u001b[0;34m,\u001b[0m \u001b[0;34m**\u001b[0m\u001b[0mkwargs\u001b[0m\u001b[0;34m)\u001b[0m\u001b[0;34m\u001b[0m\u001b[0;34m\u001b[0m\u001b[0m\n\u001b[1;32m    888\u001b[0m         \u001b[0;32melse\u001b[0m\u001b[0;34m:\u001b[0m\u001b[0;34m\u001b[0m\u001b[0;34m\u001b[0m\u001b[0m\n\u001b[0;32m--> 889\u001b[0;31m             \u001b[0mresult\u001b[0m \u001b[0;34m=\u001b[0m \u001b[0mself\u001b[0m\u001b[0;34m.\u001b[0m\u001b[0mforward\u001b[0m\u001b[0;34m(\u001b[0m\u001b[0;34m*\u001b[0m\u001b[0minput\u001b[0m\u001b[0;34m,\u001b[0m \u001b[0;34m**\u001b[0m\u001b[0mkwargs\u001b[0m\u001b[0;34m)\u001b[0m\u001b[0;34m\u001b[0m\u001b[0;34m\u001b[0m\u001b[0m\n\u001b[0m\u001b[1;32m    890\u001b[0m         for hook in itertools.chain(\n\u001b[1;32m    891\u001b[0m                 \u001b[0m_global_forward_hooks\u001b[0m\u001b[0;34m.\u001b[0m\u001b[0mvalues\u001b[0m\u001b[0;34m(\u001b[0m\u001b[0;34m)\u001b[0m\u001b[0;34m,\u001b[0m\u001b[0;34m\u001b[0m\u001b[0;34m\u001b[0m\u001b[0m\n",
      "\u001b[0;32m~/Research/ProbabilisticTeacher/pt/modeling/meta_arch/rcnn.py\u001b[0m in \u001b[0;36mforward\u001b[0;34m(self, batched_inputs, branch, danchor, norm)\u001b[0m\n\u001b[1;32m     34\u001b[0m             \u001b[0;32mreturn\u001b[0m \u001b[0mself\u001b[0m\u001b[0;34m.\u001b[0m\u001b[0minference\u001b[0m\u001b[0;34m(\u001b[0m\u001b[0mbatched_inputs\u001b[0m\u001b[0;34m)\u001b[0m\u001b[0;34m\u001b[0m\u001b[0;34m\u001b[0m\u001b[0m\n\u001b[1;32m     35\u001b[0m \u001b[0;34m\u001b[0m\u001b[0m\n\u001b[0;32m---> 36\u001b[0;31m         \u001b[0;32mif\u001b[0m \u001b[0;34m\"instances\"\u001b[0m \u001b[0;32min\u001b[0m \u001b[0mbatched_inputs\u001b[0m\u001b[0;34m[\u001b[0m\u001b[0;36m0\u001b[0m\u001b[0;34m]\u001b[0m\u001b[0;34m:\u001b[0m\u001b[0;34m\u001b[0m\u001b[0;34m\u001b[0m\u001b[0m\n\u001b[0m\u001b[1;32m     37\u001b[0m             \u001b[0;32mif\u001b[0m \u001b[0mnorm\u001b[0m\u001b[0;34m:\u001b[0m\u001b[0;34m\u001b[0m\u001b[0;34m\u001b[0m\u001b[0m\n\u001b[1;32m     38\u001b[0m                 \u001b[0mimages\u001b[0m \u001b[0;34m=\u001b[0m \u001b[0mself\u001b[0m\u001b[0;34m.\u001b[0m\u001b[0mpreprocess_image_norm\u001b[0m\u001b[0;34m(\u001b[0m\u001b[0mbatched_inputs\u001b[0m\u001b[0;34m)\u001b[0m\u001b[0;34m\u001b[0m\u001b[0;34m\u001b[0m\u001b[0m\n",
      "\u001b[0;31mTypeError\u001b[0m: 'method' object is not subscriptable"
     ]
    }
   ],
   "source": [
    "for idx, inputs in enumerate(test_data_loader):\n",
    "    output = model_c2b.modelStudent(input)\n",
    "    print(output)\n",
    "    "
   ]
  },
  {
   "cell_type": "code",
   "execution_count": 63,
   "id": "400f4827",
   "metadata": {},
   "outputs": [
    {
     "name": "stdout",
     "output_type": "stream",
     "text": [
      "4\n"
     ]
    }
   ],
   "source": [
    "print(next(g))"
   ]
  },
  {
   "cell_type": "code",
   "execution_count": 51,
   "id": "08c94eb1",
   "metadata": {},
   "outputs": [
    {
     "ename": "TypeError",
     "evalue": "'NoneType' object is not subscriptable",
     "output_type": "error",
     "traceback": [
      "\u001b[0;31m---------------------------------------------------------------------------\u001b[0m",
      "\u001b[0;31mTypeError\u001b[0m                                 Traceback (most recent call last)",
      "\u001b[0;32m/tmp/ipykernel_24712/4279426661.py\u001b[0m in \u001b[0;36m<module>\u001b[0;34m\u001b[0m\n\u001b[1;32m      5\u001b[0m \u001b[0;34m\u001b[0m\u001b[0m\n\u001b[1;32m      6\u001b[0m \u001b[0mevaluator\u001b[0m\u001b[0;34m.\u001b[0m\u001b[0mreset\u001b[0m\u001b[0;34m(\u001b[0m\u001b[0;34m)\u001b[0m\u001b[0;34m\u001b[0m\u001b[0;34m\u001b[0m\u001b[0m\n\u001b[0;32m----> 7\u001b[0;31m \u001b[0;32mfor\u001b[0m \u001b[0minputs\u001b[0m\u001b[0;34m,\u001b[0m \u001b[0moutputs\u001b[0m \u001b[0;32min\u001b[0m \u001b[0mget_all_inputs_outputs\u001b[0m\u001b[0;34m(\u001b[0m\u001b[0mtest_data_loader\u001b[0m\u001b[0;34m,\u001b[0m\u001b[0mmodel_c2b\u001b[0m\u001b[0;34m.\u001b[0m\u001b[0mmodelTeacher\u001b[0m\u001b[0;34m)\u001b[0m\u001b[0;34m:\u001b[0m\u001b[0;34m\u001b[0m\u001b[0;34m\u001b[0m\u001b[0m\n\u001b[0m\u001b[1;32m      8\u001b[0m       \u001b[0mevaluator\u001b[0m\u001b[0;34m.\u001b[0m\u001b[0mprocess\u001b[0m\u001b[0;34m(\u001b[0m\u001b[0minputs\u001b[0m\u001b[0;34m,\u001b[0m \u001b[0moutputs\u001b[0m\u001b[0;34m)\u001b[0m\u001b[0;34m\u001b[0m\u001b[0;34m\u001b[0m\u001b[0m\n\u001b[1;32m      9\u001b[0m \u001b[0meval_results\u001b[0m \u001b[0;34m=\u001b[0m \u001b[0mevaluator\u001b[0m\u001b[0;34m.\u001b[0m\u001b[0mevaluate\u001b[0m\u001b[0;34m(\u001b[0m\u001b[0;34m)\u001b[0m\u001b[0;34m\u001b[0m\u001b[0;34m\u001b[0m\u001b[0m\n",
      "\u001b[0;32m/tmp/ipykernel_24712/4279426661.py\u001b[0m in \u001b[0;36mget_all_inputs_outputs\u001b[0;34m(data_loader, model)\u001b[0m\n\u001b[1;32m      1\u001b[0m \u001b[0;32mdef\u001b[0m \u001b[0mget_all_inputs_outputs\u001b[0m\u001b[0;34m(\u001b[0m\u001b[0mdata_loader\u001b[0m\u001b[0;34m,\u001b[0m\u001b[0mmodel\u001b[0m\u001b[0;34m)\u001b[0m\u001b[0;34m:\u001b[0m\u001b[0;34m\u001b[0m\u001b[0;34m\u001b[0m\u001b[0m\n\u001b[1;32m      2\u001b[0m     \u001b[0;32mfor\u001b[0m \u001b[0mdata\u001b[0m \u001b[0;32min\u001b[0m \u001b[0mdata_loader\u001b[0m\u001b[0;34m:\u001b[0m\u001b[0;34m\u001b[0m\u001b[0;34m\u001b[0m\u001b[0m\n\u001b[0;32m----> 3\u001b[0;31m         \u001b[0;32myield\u001b[0m \u001b[0mdata\u001b[0m\u001b[0;34m,\u001b[0m \u001b[0mmodel\u001b[0m\u001b[0;34m(\u001b[0m\u001b[0mdata\u001b[0m\u001b[0;34m)\u001b[0m\u001b[0;34m\u001b[0m\u001b[0;34m\u001b[0m\u001b[0m\n\u001b[0m\u001b[1;32m      4\u001b[0m \u001b[0;34m\u001b[0m\u001b[0m\n\u001b[1;32m      5\u001b[0m \u001b[0;34m\u001b[0m\u001b[0m\n",
      "\u001b[0;32m~/.local/lib/python3.8/site-packages/torch/nn/modules/module.py\u001b[0m in \u001b[0;36m_call_impl\u001b[0;34m(self, *input, **kwargs)\u001b[0m\n\u001b[1;32m    887\u001b[0m             \u001b[0mresult\u001b[0m \u001b[0;34m=\u001b[0m \u001b[0mself\u001b[0m\u001b[0;34m.\u001b[0m\u001b[0m_slow_forward\u001b[0m\u001b[0;34m(\u001b[0m\u001b[0;34m*\u001b[0m\u001b[0minput\u001b[0m\u001b[0;34m,\u001b[0m \u001b[0;34m**\u001b[0m\u001b[0mkwargs\u001b[0m\u001b[0;34m)\u001b[0m\u001b[0;34m\u001b[0m\u001b[0;34m\u001b[0m\u001b[0m\n\u001b[1;32m    888\u001b[0m         \u001b[0;32melse\u001b[0m\u001b[0;34m:\u001b[0m\u001b[0;34m\u001b[0m\u001b[0;34m\u001b[0m\u001b[0m\n\u001b[0;32m--> 889\u001b[0;31m             \u001b[0mresult\u001b[0m \u001b[0;34m=\u001b[0m \u001b[0mself\u001b[0m\u001b[0;34m.\u001b[0m\u001b[0mforward\u001b[0m\u001b[0;34m(\u001b[0m\u001b[0;34m*\u001b[0m\u001b[0minput\u001b[0m\u001b[0;34m,\u001b[0m \u001b[0;34m**\u001b[0m\u001b[0mkwargs\u001b[0m\u001b[0;34m)\u001b[0m\u001b[0;34m\u001b[0m\u001b[0;34m\u001b[0m\u001b[0m\n\u001b[0m\u001b[1;32m    890\u001b[0m         for hook in itertools.chain(\n\u001b[1;32m    891\u001b[0m                 \u001b[0m_global_forward_hooks\u001b[0m\u001b[0;34m.\u001b[0m\u001b[0mvalues\u001b[0m\u001b[0;34m(\u001b[0m\u001b[0;34m)\u001b[0m\u001b[0;34m,\u001b[0m\u001b[0;34m\u001b[0m\u001b[0;34m\u001b[0m\u001b[0m\n",
      "\u001b[0;32m~/Research/ProbabilisticTeacher/pt/modeling/meta_arch/rcnn.py\u001b[0m in \u001b[0;36mforward\u001b[0;34m(self, batched_inputs, branch, danchor, norm)\u001b[0m\n\u001b[1;32m     48\u001b[0m         \u001b[0;32mif\u001b[0m \u001b[0mbranch\u001b[0m \u001b[0;34m==\u001b[0m \u001b[0;34m\"supervised\"\u001b[0m\u001b[0;34m:\u001b[0m\u001b[0;34m\u001b[0m\u001b[0;34m\u001b[0m\u001b[0m\n\u001b[1;32m     49\u001b[0m             \u001b[0;31m# Region proposal network\u001b[0m\u001b[0;34m\u001b[0m\u001b[0;34m\u001b[0m\u001b[0;34m\u001b[0m\u001b[0m\n\u001b[0;32m---> 50\u001b[0;31m             proposals_rpn, proposal_losses = self.proposal_generator(\n\u001b[0m\u001b[1;32m     51\u001b[0m                 \u001b[0mimages\u001b[0m\u001b[0;34m,\u001b[0m \u001b[0mfeatures\u001b[0m\u001b[0;34m,\u001b[0m \u001b[0mgt_instances\u001b[0m\u001b[0;34m\u001b[0m\u001b[0;34m\u001b[0m\u001b[0m\n\u001b[1;32m     52\u001b[0m             )\n",
      "\u001b[0;32m~/.local/lib/python3.8/site-packages/torch/nn/modules/module.py\u001b[0m in \u001b[0;36m_call_impl\u001b[0;34m(self, *input, **kwargs)\u001b[0m\n\u001b[1;32m    887\u001b[0m             \u001b[0mresult\u001b[0m \u001b[0;34m=\u001b[0m \u001b[0mself\u001b[0m\u001b[0;34m.\u001b[0m\u001b[0m_slow_forward\u001b[0m\u001b[0;34m(\u001b[0m\u001b[0;34m*\u001b[0m\u001b[0minput\u001b[0m\u001b[0;34m,\u001b[0m \u001b[0;34m**\u001b[0m\u001b[0mkwargs\u001b[0m\u001b[0;34m)\u001b[0m\u001b[0;34m\u001b[0m\u001b[0;34m\u001b[0m\u001b[0m\n\u001b[1;32m    888\u001b[0m         \u001b[0;32melse\u001b[0m\u001b[0;34m:\u001b[0m\u001b[0;34m\u001b[0m\u001b[0;34m\u001b[0m\u001b[0m\n\u001b[0;32m--> 889\u001b[0;31m             \u001b[0mresult\u001b[0m \u001b[0;34m=\u001b[0m \u001b[0mself\u001b[0m\u001b[0;34m.\u001b[0m\u001b[0mforward\u001b[0m\u001b[0;34m(\u001b[0m\u001b[0;34m*\u001b[0m\u001b[0minput\u001b[0m\u001b[0;34m,\u001b[0m \u001b[0;34m**\u001b[0m\u001b[0mkwargs\u001b[0m\u001b[0;34m)\u001b[0m\u001b[0;34m\u001b[0m\u001b[0;34m\u001b[0m\u001b[0m\n\u001b[0m\u001b[1;32m    890\u001b[0m         for hook in itertools.chain(\n\u001b[1;32m    891\u001b[0m                 \u001b[0m_global_forward_hooks\u001b[0m\u001b[0;34m.\u001b[0m\u001b[0mvalues\u001b[0m\u001b[0;34m(\u001b[0m\u001b[0;34m)\u001b[0m\u001b[0;34m,\u001b[0m\u001b[0;34m\u001b[0m\u001b[0;34m\u001b[0m\u001b[0m\n",
      "\u001b[0;32m~/Research/ProbabilisticTeacher/pt/modeling/proposal_generator/rpn.py\u001b[0m in \u001b[0;36mforward\u001b[0;34m(self, images, features, gt_instances, compute_loss, branch, danchor)\u001b[0m\n\u001b[1;32m    135\u001b[0m             )\n\u001b[1;32m    136\u001b[0m         \u001b[0;32melif\u001b[0m \u001b[0mself\u001b[0m\u001b[0;34m.\u001b[0m\u001b[0mtraining\u001b[0m \u001b[0;32mand\u001b[0m \u001b[0mcompute_loss\u001b[0m\u001b[0;34m:\u001b[0m\u001b[0;34m\u001b[0m\u001b[0;34m\u001b[0m\u001b[0m\n\u001b[0;32m--> 137\u001b[0;31m             \u001b[0mgt_labels\u001b[0m\u001b[0;34m,\u001b[0m \u001b[0mgt_boxes\u001b[0m \u001b[0;34m=\u001b[0m \u001b[0mself\u001b[0m\u001b[0;34m.\u001b[0m\u001b[0mlabel_and_sample_anchors\u001b[0m\u001b[0;34m(\u001b[0m\u001b[0manchors\u001b[0m\u001b[0;34m,\u001b[0m \u001b[0mgt_instances\u001b[0m\u001b[0;34m)\u001b[0m\u001b[0;34m\u001b[0m\u001b[0;34m\u001b[0m\u001b[0m\n\u001b[0m\u001b[1;32m    138\u001b[0m             losses = self.losses(\n\u001b[1;32m    139\u001b[0m                 \u001b[0manchors\u001b[0m\u001b[0;34m,\u001b[0m \u001b[0mpred_objectness_logits\u001b[0m\u001b[0;34m,\u001b[0m \u001b[0mgt_labels\u001b[0m\u001b[0;34m,\u001b[0m \u001b[0mpred_anchor_deltas\u001b[0m\u001b[0;34m,\u001b[0m \u001b[0mgt_boxes\u001b[0m\u001b[0;34m\u001b[0m\u001b[0;34m\u001b[0m\u001b[0m\n",
      "\u001b[0;32m~/.local/lib/python3.8/site-packages/torch/autograd/grad_mode.py\u001b[0m in \u001b[0;36mdecorate_context\u001b[0;34m(*args, **kwargs)\u001b[0m\n\u001b[1;32m     25\u001b[0m         \u001b[0;32mdef\u001b[0m \u001b[0mdecorate_context\u001b[0m\u001b[0;34m(\u001b[0m\u001b[0;34m*\u001b[0m\u001b[0margs\u001b[0m\u001b[0;34m,\u001b[0m \u001b[0;34m**\u001b[0m\u001b[0mkwargs\u001b[0m\u001b[0;34m)\u001b[0m\u001b[0;34m:\u001b[0m\u001b[0;34m\u001b[0m\u001b[0;34m\u001b[0m\u001b[0m\n\u001b[1;32m     26\u001b[0m             \u001b[0;32mwith\u001b[0m \u001b[0mself\u001b[0m\u001b[0;34m.\u001b[0m\u001b[0m__class__\u001b[0m\u001b[0;34m(\u001b[0m\u001b[0;34m)\u001b[0m\u001b[0;34m:\u001b[0m\u001b[0;34m\u001b[0m\u001b[0;34m\u001b[0m\u001b[0m\n\u001b[0;32m---> 27\u001b[0;31m                 \u001b[0;32mreturn\u001b[0m \u001b[0mfunc\u001b[0m\u001b[0;34m(\u001b[0m\u001b[0;34m*\u001b[0m\u001b[0margs\u001b[0m\u001b[0;34m,\u001b[0m \u001b[0;34m**\u001b[0m\u001b[0mkwargs\u001b[0m\u001b[0;34m)\u001b[0m\u001b[0;34m\u001b[0m\u001b[0;34m\u001b[0m\u001b[0m\n\u001b[0m\u001b[1;32m     28\u001b[0m         \u001b[0;32mreturn\u001b[0m \u001b[0mcast\u001b[0m\u001b[0;34m(\u001b[0m\u001b[0mF\u001b[0m\u001b[0;34m,\u001b[0m \u001b[0mdecorate_context\u001b[0m\u001b[0;34m)\u001b[0m\u001b[0;34m\u001b[0m\u001b[0;34m\u001b[0m\u001b[0m\n\u001b[1;32m     29\u001b[0m \u001b[0;34m\u001b[0m\u001b[0m\n",
      "\u001b[0;32m~/Research/ProbabilisticTeacher/pt/modeling/proposal_generator/rpn.py\u001b[0m in \u001b[0;36mlabel_and_sample_anchors\u001b[0;34m(self, anchors, gt_instances, use_ignore, use_soft_label)\u001b[0m\n\u001b[1;32m    382\u001b[0m         \"\"\"\n\u001b[1;32m    383\u001b[0m         \u001b[0manchors\u001b[0m \u001b[0;34m=\u001b[0m \u001b[0mBoxes\u001b[0m\u001b[0;34m.\u001b[0m\u001b[0mcat\u001b[0m\u001b[0;34m(\u001b[0m\u001b[0manchors\u001b[0m\u001b[0;34m)\u001b[0m\u001b[0;34m\u001b[0m\u001b[0;34m\u001b[0m\u001b[0m\n\u001b[0;32m--> 384\u001b[0;31m         \u001b[0mhas_pseudo_boxes\u001b[0m \u001b[0;34m=\u001b[0m \u001b[0mgt_instances\u001b[0m\u001b[0;34m[\u001b[0m\u001b[0;36m0\u001b[0m\u001b[0;34m]\u001b[0m\u001b[0;34m.\u001b[0m\u001b[0mhas\u001b[0m\u001b[0;34m(\u001b[0m\u001b[0;34m'pseudo_boxes'\u001b[0m\u001b[0;34m)\u001b[0m\u001b[0;34m\u001b[0m\u001b[0;34m\u001b[0m\u001b[0m\n\u001b[0m\u001b[1;32m    385\u001b[0m         \u001b[0mimage_sizes\u001b[0m \u001b[0;34m=\u001b[0m \u001b[0;34m[\u001b[0m\u001b[0mx\u001b[0m\u001b[0;34m.\u001b[0m\u001b[0mimage_size\u001b[0m \u001b[0;32mfor\u001b[0m \u001b[0mx\u001b[0m \u001b[0;32min\u001b[0m \u001b[0mgt_instances\u001b[0m\u001b[0;34m]\u001b[0m\u001b[0;34m\u001b[0m\u001b[0;34m\u001b[0m\u001b[0m\n\u001b[1;32m    386\u001b[0m         \u001b[0;32mif\u001b[0m \u001b[0mhas_pseudo_boxes\u001b[0m\u001b[0;34m:\u001b[0m\u001b[0;34m\u001b[0m\u001b[0;34m\u001b[0m\u001b[0m\n",
      "\u001b[0;31mTypeError\u001b[0m: 'NoneType' object is not subscriptable"
     ]
    }
   ],
   "source": [
    "def get_all_inputs_outputs(data_loader,model):\n",
    "    for data in data_loader:\n",
    "        yield data, model(data)\n",
    "\n",
    "\n",
    "evaluator.reset()\n",
    "for inputs, outputs in get_all_inputs_outputs(test_data_loader,model_c2b.modelTeacher):\n",
    "      evaluator.process(inputs, outputs)\n",
    "eval_results = evaluator.evaluate()"
   ]
  },
  {
   "cell_type": "code",
   "execution_count": null,
   "id": "3937388c",
   "metadata": {},
   "outputs": [],
   "source": [
    "for idx, inputs in enumerate(test_data_loader):\n",
    "\n",
    "    outputs = model_teacher(inputs)\n",
    "    evaluator.process(inputs, outputs)\n",
    "results = evaluator.evaluate()"
   ]
  },
  {
   "cell_type": "markdown",
   "id": "74638489",
   "metadata": {},
   "source": [
    "# multi-thread test"
   ]
  },
  {
   "cell_type": "code",
   "execution_count": 104,
   "id": "8846e28e",
   "metadata": {},
   "outputs": [
    {
     "name": "stdout",
     "output_type": "stream",
     "text": [
      "-----1---------1----\n",
      "Hello 0 kitti!\n",
      "\n",
      "Hello 1 city!\n"
     ]
    }
   ],
   "source": [
    "# from concurrent.futures import ThreadPoolExecutor\n",
    "\n",
    "def hello(cur_round, first_name, last_name) :\n",
    "    \"\"\"Prints a friendly hello with first name and last name\"\"\"\n",
    "    print(\"-----{}----\".format(cur_round))\n",
    "    print('Hello %s %s!' % (first_name, last_name))\n",
    "    return \"my name is {} {}\".format(first_name,last_name)\n",
    "def main() -> None:    \n",
    "    \n",
    "    args_names = []\n",
    "    \n",
    "    dataset_list=['kitti','city']\n",
    "    ROUND=1\n",
    "    for i,dataset in enumerate(dataset_list):\n",
    "        args_names.append((ROUND,i,dataset))\n",
    "    #round_list=({\"round\":1},{\"round\":1})\n",
    "    #args_names = enumerate(dataset_list)\n",
    "    ## ex1\n",
    "    with ThreadPoolExecutor() as executor:\n",
    "        # Using lambda, unpacks the tuple (*f) into hello(*args)\n",
    "        results = executor.map(lambda f: hello(*f), args_names)\n",
    "    \n",
    "    \n",
    "    ## ex2\n",
    "#     kwargs_names = (\n",
    "#         {'first_name': 'Bruce', 'last_name': 'Wayne'},\n",
    "#         {'first_name': 'Clark', 'last_name': 'Kent'},\n",
    "#         {'first_name': 'Diana', 'last_name': 'Prince'},\n",
    "#         {'first_name': 'Barry', 'last_name': 'Allen'},\n",
    "#     )\n",
    "#     with ThreadPoolExecutor() as executor:\n",
    "#         # Using lambda, unpacks the dict (**f) into hello(**kwargs)\n",
    "#         results = executor.map(lambda f: hello(**f), kwargs_names)\n",
    "        \n",
    "    \n",
    "    return results    \n",
    "results = main()\n"
   ]
  },
  {
   "cell_type": "code",
   "execution_count": 95,
   "id": "bb2c3dc7",
   "metadata": {},
   "outputs": [],
   "source": []
  },
  {
   "cell_type": "code",
   "execution_count": 98,
   "id": "a5941e36",
   "metadata": {},
   "outputs": [
    {
     "data": {
      "text/plain": [
       "<generator object Executor.map.<locals>.result_iterator at 0x7f18e00a7200>"
      ]
     },
     "execution_count": 98,
     "metadata": {},
     "output_type": "execute_result"
    }
   ],
   "source": [
    "results"
   ]
  },
  {
   "cell_type": "code",
   "execution_count": 105,
   "id": "a84742c3",
   "metadata": {},
   "outputs": [
    {
     "data": {
      "text/plain": [
       "2"
      ]
     },
     "execution_count": 105,
     "metadata": {},
     "output_type": "execute_result"
    }
   ],
   "source": [
    "lst = list(results)\n",
    "len(lst)"
   ]
  },
  {
   "cell_type": "code",
   "execution_count": 106,
   "id": "24ed1d00",
   "metadata": {},
   "outputs": [
    {
     "name": "stdout",
     "output_type": "stream",
     "text": [
      "my name is 0 kitti\n",
      "my name is 1 city\n"
     ]
    }
   ],
   "source": [
    "for r in lst:\n",
    "    print(r)"
   ]
  },
  {
   "cell_type": "code",
   "execution_count": 25,
   "id": "73193f89",
   "metadata": {},
   "outputs": [
    {
     "name": "stdout",
     "output_type": "stream",
     "text": [
      "('city', 1) was processed...('kitti', 2) was processed...\n",
      "\n"
     ]
    },
    {
     "ename": "TypeError",
     "evalue": "can't multiply sequence by non-int of type 'tuple'",
     "output_type": "error",
     "traceback": [
      "\u001b[0;31m---------------------------------------------------------------------------\u001b[0m",
      "\u001b[0;31m_RemoteTraceback\u001b[0m                          Traceback (most recent call last)",
      "\u001b[0;31m_RemoteTraceback\u001b[0m: \n\"\"\"\nTraceback (most recent call last):\n  File \"/opt/conda/lib/python3.8/concurrent/futures/process.py\", line 239, in _process_worker\n    r = call_item.fn(*call_item.args, **call_item.kwargs)\n  File \"/opt/conda/lib/python3.8/concurrent/futures/process.py\", line 198, in _process_chunk\n    return [fn(*args) for args in chunk]\n  File \"/opt/conda/lib/python3.8/concurrent/futures/process.py\", line 198, in <listcomp>\n    return [fn(*args) for args in chunk]\n  File \"/tmp/ipykernel_30024/2955047426.py\", line 15, in create_thumbnail\n    return num*num\nTypeError: can't multiply sequence by non-int of type 'tuple'\n\"\"\"",
      "\nThe above exception was the direct cause of the following exception:\n",
      "\u001b[0;31mTypeError\u001b[0m                                 Traceback (most recent call last)",
      "\u001b[0;32m/tmp/ipykernel_30024/3109637439.py\u001b[0m in \u001b[0;36m<module>\u001b[0;34m\u001b[0m\n\u001b[1;32m     24\u001b[0m         \u001b[0mresults\u001b[0m \u001b[0;34m=\u001b[0m \u001b[0mexecutor\u001b[0m\u001b[0;34m.\u001b[0m\u001b[0mmap\u001b[0m\u001b[0;34m(\u001b[0m\u001b[0mcreate_thumbnail\u001b[0m\u001b[0;34m,\u001b[0m \u001b[0margs\u001b[0m\u001b[0;34m)\u001b[0m\u001b[0;34m\u001b[0m\u001b[0;34m\u001b[0m\u001b[0m\n\u001b[1;32m     25\u001b[0m \u001b[0;34m\u001b[0m\u001b[0m\n\u001b[0;32m---> 26\u001b[0;31m     \u001b[0;32mfor\u001b[0m \u001b[0mr\u001b[0m \u001b[0;32min\u001b[0m \u001b[0mresults\u001b[0m\u001b[0;34m:\u001b[0m\u001b[0;34m\u001b[0m\u001b[0;34m\u001b[0m\u001b[0m\n\u001b[0m\u001b[1;32m     27\u001b[0m         \u001b[0mprint\u001b[0m\u001b[0;34m(\u001b[0m\u001b[0mr\u001b[0m\u001b[0;34m)\u001b[0m\u001b[0;34m\u001b[0m\u001b[0;34m\u001b[0m\u001b[0m\n",
      "\u001b[0;32m/opt/conda/lib/python3.8/concurrent/futures/process.py\u001b[0m in \u001b[0;36m_chain_from_iterable_of_lists\u001b[0;34m(iterable)\u001b[0m\n\u001b[1;32m    482\u001b[0m     \u001b[0mcareful\u001b[0m \u001b[0;32mnot\u001b[0m \u001b[0mto\u001b[0m \u001b[0mkeep\u001b[0m \u001b[0mreferences\u001b[0m \u001b[0mto\u001b[0m \u001b[0myielded\u001b[0m \u001b[0mobjects\u001b[0m\u001b[0;34m.\u001b[0m\u001b[0;34m\u001b[0m\u001b[0;34m\u001b[0m\u001b[0m\n\u001b[1;32m    483\u001b[0m     \"\"\"\n\u001b[0;32m--> 484\u001b[0;31m     \u001b[0;32mfor\u001b[0m \u001b[0melement\u001b[0m \u001b[0;32min\u001b[0m \u001b[0miterable\u001b[0m\u001b[0;34m:\u001b[0m\u001b[0;34m\u001b[0m\u001b[0;34m\u001b[0m\u001b[0m\n\u001b[0m\u001b[1;32m    485\u001b[0m         \u001b[0melement\u001b[0m\u001b[0;34m.\u001b[0m\u001b[0mreverse\u001b[0m\u001b[0;34m(\u001b[0m\u001b[0;34m)\u001b[0m\u001b[0;34m\u001b[0m\u001b[0;34m\u001b[0m\u001b[0m\n\u001b[1;32m    486\u001b[0m         \u001b[0;32mwhile\u001b[0m \u001b[0melement\u001b[0m\u001b[0;34m:\u001b[0m\u001b[0;34m\u001b[0m\u001b[0;34m\u001b[0m\u001b[0m\n",
      "\u001b[0;32m/opt/conda/lib/python3.8/concurrent/futures/_base.py\u001b[0m in \u001b[0;36mresult_iterator\u001b[0;34m()\u001b[0m\n\u001b[1;32m    617\u001b[0m                     \u001b[0;31m# Careful not to keep a reference to the popped future\u001b[0m\u001b[0;34m\u001b[0m\u001b[0;34m\u001b[0m\u001b[0;34m\u001b[0m\u001b[0m\n\u001b[1;32m    618\u001b[0m                     \u001b[0;32mif\u001b[0m \u001b[0mtimeout\u001b[0m \u001b[0;32mis\u001b[0m \u001b[0;32mNone\u001b[0m\u001b[0;34m:\u001b[0m\u001b[0;34m\u001b[0m\u001b[0;34m\u001b[0m\u001b[0m\n\u001b[0;32m--> 619\u001b[0;31m                         \u001b[0;32myield\u001b[0m \u001b[0mfs\u001b[0m\u001b[0;34m.\u001b[0m\u001b[0mpop\u001b[0m\u001b[0;34m(\u001b[0m\u001b[0;34m)\u001b[0m\u001b[0;34m.\u001b[0m\u001b[0mresult\u001b[0m\u001b[0;34m(\u001b[0m\u001b[0;34m)\u001b[0m\u001b[0;34m\u001b[0m\u001b[0;34m\u001b[0m\u001b[0m\n\u001b[0m\u001b[1;32m    620\u001b[0m                     \u001b[0;32melse\u001b[0m\u001b[0;34m:\u001b[0m\u001b[0;34m\u001b[0m\u001b[0;34m\u001b[0m\u001b[0m\n\u001b[1;32m    621\u001b[0m                         \u001b[0;32myield\u001b[0m \u001b[0mfs\u001b[0m\u001b[0;34m.\u001b[0m\u001b[0mpop\u001b[0m\u001b[0;34m(\u001b[0m\u001b[0;34m)\u001b[0m\u001b[0;34m.\u001b[0m\u001b[0mresult\u001b[0m\u001b[0;34m(\u001b[0m\u001b[0mend_time\u001b[0m \u001b[0;34m-\u001b[0m \u001b[0mtime\u001b[0m\u001b[0;34m.\u001b[0m\u001b[0mmonotonic\u001b[0m\u001b[0;34m(\u001b[0m\u001b[0;34m)\u001b[0m\u001b[0;34m)\u001b[0m\u001b[0;34m\u001b[0m\u001b[0;34m\u001b[0m\u001b[0m\n",
      "\u001b[0;32m/opt/conda/lib/python3.8/concurrent/futures/_base.py\u001b[0m in \u001b[0;36mresult\u001b[0;34m(self, timeout)\u001b[0m\n\u001b[1;32m    435\u001b[0m                     \u001b[0;32mraise\u001b[0m \u001b[0mCancelledError\u001b[0m\u001b[0;34m(\u001b[0m\u001b[0;34m)\u001b[0m\u001b[0;34m\u001b[0m\u001b[0;34m\u001b[0m\u001b[0m\n\u001b[1;32m    436\u001b[0m                 \u001b[0;32melif\u001b[0m \u001b[0mself\u001b[0m\u001b[0;34m.\u001b[0m\u001b[0m_state\u001b[0m \u001b[0;34m==\u001b[0m \u001b[0mFINISHED\u001b[0m\u001b[0;34m:\u001b[0m\u001b[0;34m\u001b[0m\u001b[0;34m\u001b[0m\u001b[0m\n\u001b[0;32m--> 437\u001b[0;31m                     \u001b[0;32mreturn\u001b[0m \u001b[0mself\u001b[0m\u001b[0;34m.\u001b[0m\u001b[0m__get_result\u001b[0m\u001b[0;34m(\u001b[0m\u001b[0;34m)\u001b[0m\u001b[0;34m\u001b[0m\u001b[0;34m\u001b[0m\u001b[0m\n\u001b[0m\u001b[1;32m    438\u001b[0m \u001b[0;34m\u001b[0m\u001b[0m\n\u001b[1;32m    439\u001b[0m                 \u001b[0mself\u001b[0m\u001b[0;34m.\u001b[0m\u001b[0m_condition\u001b[0m\u001b[0;34m.\u001b[0m\u001b[0mwait\u001b[0m\u001b[0;34m(\u001b[0m\u001b[0mtimeout\u001b[0m\u001b[0;34m)\u001b[0m\u001b[0;34m\u001b[0m\u001b[0;34m\u001b[0m\u001b[0m\n",
      "\u001b[0;32m/opt/conda/lib/python3.8/concurrent/futures/_base.py\u001b[0m in \u001b[0;36m__get_result\u001b[0;34m(self)\u001b[0m\n\u001b[1;32m    387\u001b[0m         \u001b[0;32mif\u001b[0m \u001b[0mself\u001b[0m\u001b[0;34m.\u001b[0m\u001b[0m_exception\u001b[0m\u001b[0;34m:\u001b[0m\u001b[0;34m\u001b[0m\u001b[0;34m\u001b[0m\u001b[0m\n\u001b[1;32m    388\u001b[0m             \u001b[0;32mtry\u001b[0m\u001b[0;34m:\u001b[0m\u001b[0;34m\u001b[0m\u001b[0;34m\u001b[0m\u001b[0m\n\u001b[0;32m--> 389\u001b[0;31m                 \u001b[0;32mraise\u001b[0m \u001b[0mself\u001b[0m\u001b[0;34m.\u001b[0m\u001b[0m_exception\u001b[0m\u001b[0;34m\u001b[0m\u001b[0;34m\u001b[0m\u001b[0m\n\u001b[0m\u001b[1;32m    390\u001b[0m             \u001b[0;32mfinally\u001b[0m\u001b[0;34m:\u001b[0m\u001b[0;34m\u001b[0m\u001b[0;34m\u001b[0m\u001b[0m\n\u001b[1;32m    391\u001b[0m                 \u001b[0;31m# Break a reference cycle with the exception in self._exception\u001b[0m\u001b[0;34m\u001b[0m\u001b[0;34m\u001b[0m\u001b[0;34m\u001b[0m\u001b[0m\n",
      "\u001b[0;31mTypeError\u001b[0m: can't multiply sequence by non-int of type 'tuple'"
     ]
    }
   ],
   "source": [
    "import time\n",
    "import os\n",
    "from concurrent.futures import ProcessPoolExecutor\n",
    "from PIL import Image, ImageFilter\n",
    "\n",
    "\n",
    "args=(('city',1),('kitti',2))\n",
    "def trainerpool(data,num):\n",
    "#     img = Image.open(filename)\n",
    "#     img = img.filter(ImageFilter.GaussianBlur())\n",
    "#     img.thumbnail(size)\n",
    "#     img.save(f'{thumb_dir}/{os.path.basename(filename)}')\n",
    "    time.sleep(1)\n",
    "    print(f'{data} was processed...')\n",
    "    \n",
    "    print(num)\n",
    "    return num*num\n",
    "\n",
    "\n",
    "if __name__ == '__main__':\n",
    "    start = time.perf_counter()\n",
    "\n",
    "    with ProcessPoolExecutor() as executor:\n",
    "        results = executor.map(create_thumbnail, args)\n",
    "   \n",
    "    for r in results:\n",
    "        print(r)"
   ]
  },
  {
   "cell_type": "code",
   "execution_count": 6,
   "id": "7b091b53",
   "metadata": {},
   "outputs": [
    {
     "ename": "AttributeError",
     "evalue": "'TrainerThread' object has no attribute 'model'",
     "output_type": "error",
     "traceback": [
      "\u001b[0;31m---------------------------------------------------------------------------\u001b[0m",
      "\u001b[0;31mAttributeError\u001b[0m                            Traceback (most recent call last)",
      "\u001b[0;32m/tmp/ipykernel_30024/4046159575.py\u001b[0m in \u001b[0;36m<module>\u001b[0;34m\u001b[0m\n\u001b[1;32m     16\u001b[0m \u001b[0mthreads\u001b[0m \u001b[0;34m=\u001b[0m \u001b[0;34m[\u001b[0m\u001b[0;34m]\u001b[0m\u001b[0;34m\u001b[0m\u001b[0;34m\u001b[0m\u001b[0m\n\u001b[1;32m     17\u001b[0m \u001b[0;32mfor\u001b[0m \u001b[0mi\u001b[0m \u001b[0;32min\u001b[0m \u001b[0mrange\u001b[0m\u001b[0;34m(\u001b[0m\u001b[0;36m5\u001b[0m\u001b[0;34m)\u001b[0m\u001b[0;34m:\u001b[0m\u001b[0;34m\u001b[0m\u001b[0;34m\u001b[0m\u001b[0m\n\u001b[0;32m---> 18\u001b[0;31m     \u001b[0mthreads\u001b[0m\u001b[0;34m.\u001b[0m\u001b[0mappend\u001b[0m\u001b[0;34m(\u001b[0m\u001b[0mTrainerThread\u001b[0m\u001b[0;34m(\u001b[0m\u001b[0mi\u001b[0m\u001b[0;34m)\u001b[0m\u001b[0;34m)\u001b[0m\u001b[0;34m\u001b[0m\u001b[0;34m\u001b[0m\u001b[0m\n\u001b[0m\u001b[1;32m     19\u001b[0m     \u001b[0mthreads\u001b[0m\u001b[0;34m[\u001b[0m\u001b[0mi\u001b[0m\u001b[0;34m]\u001b[0m\u001b[0;34m.\u001b[0m\u001b[0mstart\u001b[0m\u001b[0;34m(\u001b[0m\u001b[0;34m)\u001b[0m\u001b[0;34m\u001b[0m\u001b[0;34m\u001b[0m\u001b[0m\n\u001b[1;32m     20\u001b[0m \u001b[0;34m\u001b[0m\u001b[0m\n",
      "\u001b[0;32m/tmp/ipykernel_30024/4046159575.py\u001b[0m in \u001b[0;36m__init__\u001b[0;34m(self, num)\u001b[0m\n\u001b[1;32m      6\u001b[0m         \u001b[0mthreading\u001b[0m\u001b[0;34m.\u001b[0m\u001b[0mThread\u001b[0m\u001b[0;34m.\u001b[0m\u001b[0m__init__\u001b[0m\u001b[0;34m(\u001b[0m\u001b[0mself\u001b[0m\u001b[0;34m)\u001b[0m\u001b[0;34m\u001b[0m\u001b[0;34m\u001b[0m\u001b[0m\n\u001b[1;32m      7\u001b[0m         \u001b[0mself\u001b[0m\u001b[0;34m.\u001b[0m\u001b[0mnum\u001b[0m \u001b[0;34m=\u001b[0m \u001b[0mnum\u001b[0m\u001b[0;34m\u001b[0m\u001b[0;34m\u001b[0m\u001b[0m\n\u001b[0;32m----> 8\u001b[0;31m         \u001b[0mself\u001b[0m\u001b[0;34m.\u001b[0m\u001b[0mmodel\u001b[0m\u001b[0;34m\u001b[0m\u001b[0;34m\u001b[0m\u001b[0m\n\u001b[0m\u001b[1;32m      9\u001b[0m \u001b[0;34m\u001b[0m\u001b[0m\n\u001b[1;32m     10\u001b[0m     \u001b[0;32mdef\u001b[0m \u001b[0mrun\u001b[0m\u001b[0;34m(\u001b[0m\u001b[0mself\u001b[0m\u001b[0;34m)\u001b[0m\u001b[0;34m:\u001b[0m\u001b[0;34m\u001b[0m\u001b[0;34m\u001b[0m\u001b[0m\n",
      "\u001b[0;31mAttributeError\u001b[0m: 'TrainerThread' object has no attribute 'model'"
     ]
    }
   ],
   "source": [
    "import threading\n",
    "import time\n",
    "\n",
    "class TrainerThread(threading.Thread):\n",
    "    def __init__(self, num):\n",
    "        threading.Thread.__init__(self)\n",
    "        self.num = num\n",
    "        self.model\n",
    "\n",
    "    def run(self):\n",
    "        print(\"Thread\", self.num)\n",
    "        time.sleep(1)\n",
    "        self.model = self.num*5\n",
    "\n",
    "# 建立 5 個子執行緒\n",
    "threads = []\n",
    "for i in range(5):\n",
    "    threads.append(TrainerThread(i))\n",
    "    threads[i].start()\n",
    "\n",
    "# 主執行緒繼續執行自己的工作\n",
    "# ...\n",
    "\n",
    "# 等待所有子執行緒結束\n",
    "for i in range(5):\n",
    "    threads[i].join()\n",
    "    \n",
    "model_list = []\n",
    "for i in range(5):\n",
    "     model_list.append(thread[i].model)\n",
    "    \n",
    "mysum=0\n",
    "for model in model_list:\n",
    "    mysum+=model\n",
    "print(\"average {}\".format(mysum/5))\n",
    "\n",
    "print(\"Done.\")"
   ]
  },
  {
   "cell_type": "code",
   "execution_count": null,
   "id": "7e078ec2",
   "metadata": {},
   "outputs": [],
   "source": []
  }
 ],
 "metadata": {
  "kernelspec": {
   "display_name": "detectron2",
   "language": "python",
   "name": "detectron2"
  },
  "language_info": {
   "codemirror_mode": {
    "name": "ipython",
    "version": 3
   },
   "file_extension": ".py",
   "mimetype": "text/x-python",
   "name": "python",
   "nbconvert_exporter": "python",
   "pygments_lexer": "ipython3",
   "version": "3.8.10"
  }
 },
 "nbformat": 4,
 "nbformat_minor": 5
}
