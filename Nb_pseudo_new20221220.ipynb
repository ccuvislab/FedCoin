{
 "cells": [
  {
   "cell_type": "code",
   "execution_count": 1,
   "id": "3826e10b",
   "metadata": {},
   "outputs": [
    {
     "name": "stdout",
     "output_type": "stream",
     "text": [
      "NOTE! Installing ujson may make loading annotations faster.\n"
     ]
    },
    {
     "name": "stderr",
     "output_type": "stream",
     "text": [
      "/home/superorange5/.local/lib/python3.8/site-packages/torchvision/transforms/transforms.py:803: UserWarning: Argument interpolation should be of type InterpolationMode instead of int. Please, use InterpolationMode enum.\n",
      "  warnings.warn(\n"
     ]
    }
   ],
   "source": [
    "from Nb_utils import *"
   ]
  },
  {
   "cell_type": "markdown",
   "id": "0a1c3772",
   "metadata": {},
   "source": [
    "# 1. select dataset"
   ]
  },
  {
   "cell_type": "markdown",
   "id": "5bf06644",
   "metadata": {},
   "source": [
    "## 1a. CK2B"
   ]
  },
  {
   "cell_type": "markdown",
   "id": "a5c786f0",
   "metadata": {},
   "source": [
    "### load data"
   ]
  },
  {
   "cell_type": "code",
   "execution_count": 21,
   "id": "f63aa04a",
   "metadata": {},
   "outputs": [
    {
     "name": "stdout",
     "output_type": "stream",
     "text": [
      "keep_experiments/c2b/cfg.yaml\n",
      "keep_experiments/c2b/model_0011999.pth\n",
      "-------- pretrained model loaded ---------\n",
      "-------- pretrained model loaded ---------\n",
      "keep_experiments/k2b/cfg.yaml\n",
      "keep_experiments/k2b/model_final.pth\n",
      "-------- pretrained model loaded ---------\n",
      "-------- pretrained model loaded ---------\n"
     ]
    }
   ],
   "source": [
    "# parameter setting\n",
    "ratio=1.2\n",
    "dataset_name = 'VOC2007_bddval1'\n",
    "output_csv_file = 'eval_metric_ck2b.csv'\n",
    "source_list =['kitti','cityscape']\n",
    "\n",
    "# config\n",
    "cfg = setup(\"configs/pt/final_c2b.yaml\")\n",
    "\n",
    "# load test data\n",
    "test_data_loader = build_detection_test_loader(cfg, dataset_name)\n",
    "\n",
    "# load annotations\n",
    "data_annotation = DatasetCatalog.get(dataset_name)\n",
    "\n",
    "# load model\n",
    "model_c2b = get_model('c2b', 11999)\n",
    "model_k2b = get_model('k2b', 'final')\n",
    "model_list=[model_c2b,model_k2b]\n"
   ]
  },
  {
   "cell_type": "markdown",
   "id": "147f2c57",
   "metadata": {},
   "source": [
    "## 1b. SKF2c"
   ]
  },
  {
   "cell_type": "code",
   "execution_count": 15,
   "id": "1c3984b4",
   "metadata": {},
   "outputs": [
    {
     "name": "stdout",
     "output_type": "stream",
     "text": [
      "keep_experiments/s2c/cfg.yaml\n",
      "keep_experiments/s2c/model_0015999.pth\n",
      "-------- pretrained model loaded ---------\n",
      "-------- pretrained model loaded ---------\n",
      "keep_experiments/k2c/cfg.yaml\n",
      "keep_experiments/k2c/model_0019999.pth\n",
      "-------- pretrained model loaded ---------\n",
      "-------- pretrained model loaded ---------\n",
      "keep_experiments/f2c/cfg.yaml\n",
      "keep_experiments/f2c/model_final.pth\n",
      "-------- pretrained model loaded ---------\n",
      "-------- pretrained model loaded ---------\n"
     ]
    }
   ],
   "source": [
    "# parameter setting\n",
    "dataset_name = 'VOC2007_cityval1'\n",
    "source_list =['sim10k','kitti','foggycityscape']\n",
    "output_csv_file = 'eval_metric_skf2c.csv'\n",
    "ratio = 1.706\n",
    "# config\n",
    "cfg = setup(\"configs/pt/final_k2c.yaml\")\n",
    "\n",
    "test_data_loader = build_detection_test_loader(cfg, dataset_name)\n",
    "\n",
    "\n",
    "#---------skf2c-------\n",
    "model_s2c = get_model('s2c', 15999)\n",
    "model_k2c = get_model('k2c', 19999)\n",
    "model_f2c = get_model('f2c', 'final') #8class\n",
    "model_list=[model_s2c,model_k2c,model_f2c]\n",
    "\n",
    "data_loader_iter = iter(test_data_loader)\n",
    "test_data = data_loader_iter.next()\n",
    "data_annotation = DatasetCatalog.get(dataset_name)\n"
   ]
  },
  {
   "cell_type": "markdown",
   "id": "70363cb0",
   "metadata": {},
   "source": [
    "# 2. Get results"
   ]
  },
  {
   "cell_type": "markdown",
   "id": "58794314",
   "metadata": {},
   "source": [
    "## 2A.single image test"
   ]
  },
  {
   "cell_type": "code",
   "execution_count": 16,
   "id": "c1cbbe73",
   "metadata": {},
   "outputs": [],
   "source": [
    "data_loader_iter = iter(test_data_loader)\n",
    "test_data = data_loader_iter.next()\n",
    "\n",
    "proposals_roih_multiple=[]\n",
    "for model in model_list:\n",
    "    proposals_roih_multiple.append(get_proposal_roih(test_data,model))\n",
    "\n",
    "    #data_annotation[0]['annotations'][0]['bbox']\n",
    "ma_gt, ma_src = get_match_array_all(proposals_roih_multiple, data_annotation[0]['annotations'],ratio)\n",
    "\n"
   ]
  },
  {
   "cell_type": "markdown",
   "id": "e01047af",
   "metadata": {},
   "source": [
    "### get TP FP"
   ]
  },
  {
   "cell_type": "code",
   "execution_count": 17,
   "id": "01f7d255",
   "metadata": {},
   "outputs": [],
   "source": [
    "TP, TN_array  =get_TP(ma_gt,source_list)\n",
    "#TP, TN1, TN2\n",
    "FP_array = get_FP(ma_src,source_list)\n",
    "# src1 FP1 FP2, src2 FP1 FP2"
   ]
  },
  {
   "cell_type": "code",
   "execution_count": 18,
   "id": "30d36c1f",
   "metadata": {},
   "outputs": [
    {
     "data": {
      "text/plain": [
       "18"
      ]
     },
     "execution_count": 18,
     "metadata": {},
     "output_type": "execute_result"
    }
   ],
   "source": [
    "TP"
   ]
  },
  {
   "cell_type": "code",
   "execution_count": 19,
   "id": "67d871a1",
   "metadata": {},
   "outputs": [
    {
     "data": {
      "text/plain": [
       "[0, 0, 0]"
      ]
     },
     "execution_count": 19,
     "metadata": {},
     "output_type": "execute_result"
    }
   ],
   "source": [
    "TN_array"
   ]
  },
  {
   "cell_type": "code",
   "execution_count": 20,
   "id": "c88fefc4",
   "metadata": {},
   "outputs": [
    {
     "data": {
      "text/plain": [
       "[[5, 13, 1], [1, 0, 1], [3, 5, 6]]"
      ]
     },
     "execution_count": 20,
     "metadata": {},
     "output_type": "execute_result"
    }
   ],
   "source": [
    "FP_array"
   ]
  },
  {
   "cell_type": "markdown",
   "id": "ecce141c",
   "metadata": {},
   "source": [
    "## 2.B output results of all images"
   ]
  },
  {
   "cell_type": "markdown",
   "id": "48a821dc",
   "metadata": {},
   "source": [
    "### save to eval_metricxxx.csv"
   ]
  },
  {
   "cell_type": "code",
   "execution_count": 24,
   "id": "9d99598a",
   "metadata": {},
   "outputs": [],
   "source": [
    "eval_metric_summary(test_data_loader, data_annotation,model_list, source_list,\n",
    "                    output_file = output_csv_file,ratio=ratio)"
   ]
  },
  {
   "cell_type": "markdown",
   "id": "87b3ea0f",
   "metadata": {},
   "source": [
    "# 3. draw pie chart"
   ]
  },
  {
   "cell_type": "markdown",
   "id": "7d75ced1",
   "metadata": {},
   "source": [
    "### a.ck2b"
   ]
  },
  {
   "cell_type": "code",
   "execution_count": 30,
   "id": "a51d8217",
   "metadata": {},
   "outputs": [],
   "source": [
    "input_file = 'eval_metric_ck2b.csv'\n",
    "title = 'ck2b'"
   ]
  },
  {
   "cell_type": "markdown",
   "id": "4730a99d",
   "metadata": {},
   "source": [
    "### b.skf2c"
   ]
  },
  {
   "cell_type": "code",
   "execution_count": null,
   "id": "e124208f",
   "metadata": {},
   "outputs": [],
   "source": [
    "input_file = 'eval_metric_skf2c.csv'\n",
    "title = 'skf2c'"
   ]
  },
  {
   "cell_type": "code",
   "execution_count": 31,
   "id": "72c3af55",
   "metadata": {},
   "outputs": [
    {
     "data": {
      "image/png": "[encoded data removed]",
      "text/plain": [
       "<Figure size 720x360 with 1 Axes>"
      ]
     },
     "metadata": {},
     "output_type": "display_data"
    }
   ],
   "source": [
    "\n",
    "eval_skf2c = pd.read_csv(input_file)\n",
    "labels = eval_skf2c.columns[1:]\n",
    "\n",
    "pie_chart_list = gen_pie_chart_list(eval_skf2c)\n",
    "draw_pie_chart(pie_chart_list, labels,title)"
   ]
  },
  {
   "cell_type": "markdown",
   "id": "34b27cf1",
   "metadata": {},
   "source": [
    "# Appendix. show match array "
   ]
  },
  {
   "cell_type": "markdown",
   "id": "87e3f1ac",
   "metadata": {},
   "source": [
    "### a. gt"
   ]
  },
  {
   "cell_type": "code",
   "execution_count": 10,
   "id": "b1b96ca0",
   "metadata": {},
   "outputs": [
    {
     "data": {
      "text/html": [
       "<div>\n",
       "<style scoped>\n",
       "    .dataframe tbody tr th:only-of-type {\n",
       "        vertical-align: middle;\n",
       "    }\n",
       "\n",
       "    .dataframe tbody tr th {\n",
       "        vertical-align: top;\n",
       "    }\n",
       "\n",
       "    .dataframe thead th {\n",
       "        text-align: right;\n",
       "    }\n",
       "</style>\n",
       "<table border=\"1\" class=\"dataframe\">\n",
       "  <thead>\n",
       "    <tr style=\"text-align: right;\">\n",
       "      <th></th>\n",
       "      <th>sim20k</th>\n",
       "      <th>kitti</th>\n",
       "      <th>foggycityscape</th>\n",
       "    </tr>\n",
       "  </thead>\n",
       "  <tbody>\n",
       "    <tr>\n",
       "      <th>0</th>\n",
       "      <td>True</td>\n",
       "      <td>True</td>\n",
       "      <td>False</td>\n",
       "    </tr>\n",
       "    <tr>\n",
       "      <th>1</th>\n",
       "      <td>True</td>\n",
       "      <td>True</td>\n",
       "      <td>True</td>\n",
       "    </tr>\n",
       "    <tr>\n",
       "      <th>2</th>\n",
       "      <td>True</td>\n",
       "      <td>True</td>\n",
       "      <td>True</td>\n",
       "    </tr>\n",
       "    <tr>\n",
       "      <th>3</th>\n",
       "      <td>True</td>\n",
       "      <td>True</td>\n",
       "      <td>True</td>\n",
       "    </tr>\n",
       "    <tr>\n",
       "      <th>4</th>\n",
       "      <td>True</td>\n",
       "      <td>True</td>\n",
       "      <td>True</td>\n",
       "    </tr>\n",
       "    <tr>\n",
       "      <th>5</th>\n",
       "      <td>True</td>\n",
       "      <td>True</td>\n",
       "      <td>True</td>\n",
       "    </tr>\n",
       "    <tr>\n",
       "      <th>6</th>\n",
       "      <td>True</td>\n",
       "      <td>True</td>\n",
       "      <td>True</td>\n",
       "    </tr>\n",
       "    <tr>\n",
       "      <th>7</th>\n",
       "      <td>True</td>\n",
       "      <td>True</td>\n",
       "      <td>True</td>\n",
       "    </tr>\n",
       "    <tr>\n",
       "      <th>8</th>\n",
       "      <td>True</td>\n",
       "      <td>True</td>\n",
       "      <td>True</td>\n",
       "    </tr>\n",
       "    <tr>\n",
       "      <th>9</th>\n",
       "      <td>False</td>\n",
       "      <td>False</td>\n",
       "      <td>False</td>\n",
       "    </tr>\n",
       "    <tr>\n",
       "      <th>10</th>\n",
       "      <td>True</td>\n",
       "      <td>False</td>\n",
       "      <td>False</td>\n",
       "    </tr>\n",
       "    <tr>\n",
       "      <th>11</th>\n",
       "      <td>True</td>\n",
       "      <td>False</td>\n",
       "      <td>False</td>\n",
       "    </tr>\n",
       "    <tr>\n",
       "      <th>12</th>\n",
       "      <td>True</td>\n",
       "      <td>False</td>\n",
       "      <td>False</td>\n",
       "    </tr>\n",
       "    <tr>\n",
       "      <th>13</th>\n",
       "      <td>False</td>\n",
       "      <td>False</td>\n",
       "      <td>False</td>\n",
       "    </tr>\n",
       "    <tr>\n",
       "      <th>14</th>\n",
       "      <td>False</td>\n",
       "      <td>False</td>\n",
       "      <td>False</td>\n",
       "    </tr>\n",
       "    <tr>\n",
       "      <th>15</th>\n",
       "      <td>False</td>\n",
       "      <td>False</td>\n",
       "      <td>False</td>\n",
       "    </tr>\n",
       "    <tr>\n",
       "      <th>16</th>\n",
       "      <td>True</td>\n",
       "      <td>True</td>\n",
       "      <td>True</td>\n",
       "    </tr>\n",
       "    <tr>\n",
       "      <th>17</th>\n",
       "      <td>True</td>\n",
       "      <td>True</td>\n",
       "      <td>True</td>\n",
       "    </tr>\n",
       "  </tbody>\n",
       "</table>\n",
       "</div>"
      ],
      "text/plain": [
       "    sim20k  kitti  foggycityscape\n",
       "0     True   True           False\n",
       "1     True   True            True\n",
       "2     True   True            True\n",
       "3     True   True            True\n",
       "4     True   True            True\n",
       "5     True   True            True\n",
       "6     True   True            True\n",
       "7     True   True            True\n",
       "8     True   True            True\n",
       "9    False  False           False\n",
       "10    True  False           False\n",
       "11    True  False           False\n",
       "12    True  False           False\n",
       "13   False  False           False\n",
       "14   False  False           False\n",
       "15   False  False           False\n",
       "16    True   True            True\n",
       "17    True   True            True"
      ]
     },
     "execution_count": 10,
     "metadata": {},
     "output_type": "execute_result"
    }
   ],
   "source": [
    "df_gt = pd.DataFrame()\n",
    "\n",
    "ma_gt_array = np.array(ma_gt).T\n",
    "df_gt = pd.DataFrame(ma_gt_array, columns = source_list)\n",
    "df_gt"
   ]
  },
  {
   "cell_type": "markdown",
   "id": "10ea8a72",
   "metadata": {},
   "source": [
    "### b. source"
   ]
  },
  {
   "cell_type": "code",
   "execution_count": 6,
   "id": "b11e4540",
   "metadata": {},
   "outputs": [],
   "source": [
    "#ma_src\n",
    "\n",
    "df_src = pd.DataFrame()\n",
    "\n",
    "ma_src_array = np.array(ma_src[2]).T\n",
    "df_src = pd.DataFrame(ma_src_array, columns = source_list)\n",
    "df_src.to_csv(\"src_foggy2city_match_array.csv\")"
   ]
  },
  {
   "cell_type": "code",
   "execution_count": 45,
   "id": "35dac1c1",
   "metadata": {},
   "outputs": [
    {
     "data": {
      "text/plain": [
       "7"
      ]
     },
     "execution_count": 45,
     "metadata": {},
     "output_type": "execute_result"
    }
   ],
   "source": [
    "TP"
   ]
  },
  {
   "cell_type": "code",
   "execution_count": 46,
   "id": "447a7b3e",
   "metadata": {},
   "outputs": [
    {
     "data": {
      "text/plain": [
       "[11, 1, 0]"
      ]
     },
     "execution_count": 46,
     "metadata": {},
     "output_type": "execute_result"
    }
   ],
   "source": [
    "TN_array"
   ]
  },
  {
   "cell_type": "code",
   "execution_count": 47,
   "id": "f37c3ee3",
   "metadata": {},
   "outputs": [
    {
     "data": {
      "text/plain": [
       "[[5, 13, 22], [1, 0, 24], [3, 5, 30]]"
      ]
     },
     "execution_count": 47,
     "metadata": {},
     "output_type": "execute_result"
    }
   ],
   "source": [
    "FP_array"
   ]
  },
  {
   "cell_type": "code",
   "execution_count": null,
   "id": "20e4f512",
   "metadata": {},
   "outputs": [],
   "source": []
  }
 ],
 "metadata": {
  "kernelspec": {
   "display_name": "detectron2",
   "language": "python",
   "name": "detectron2"
  },
  "language_info": {
   "codemirror_mode": {
    "name": "ipython",
    "version": 3
   },
   "file_extension": ".py",
   "mimetype": "text/x-python",
   "name": "python",
   "nbconvert_exporter": "python",
   "pygments_lexer": "ipython3",
   "version": "3.8.10"
  }
 },
 "nbformat": 4,
 "nbformat_minor": 5
}
