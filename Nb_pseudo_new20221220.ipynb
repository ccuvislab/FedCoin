{
 "cells": [
  {
   "cell_type": "code",
   "execution_count": 1,
   "id": "4a656174",
   "metadata": {},
   "outputs": [
    {
     "name": "stderr",
     "output_type": "stream",
     "text": [
      "/home/superorange5/.local/lib/python3.7/site-packages/torchvision/transforms/transforms.py:892: UserWarning: Argument 'interpolation' of type int is deprecated since 0.13 and will be removed in 0.15. Please use InterpolationMode enum.\n",
      "  \"Argument 'interpolation' of type int is deprecated since 0.13 and will be removed in 0.15. \"\n"
     ]
    }
   ],
   "source": [
    "from Nb_utils import *"
   ]
  },
  {
   "cell_type": "markdown",
   "id": "4d9d2fa4",
   "metadata": {},
   "source": [
    "# 1. select dataset"
   ]
  },
  {
   "cell_type": "markdown",
   "id": "3339a8ca",
   "metadata": {},
   "source": [
    "## 1a. CK2B"
   ]
  },
  {
   "cell_type": "markdown",
   "id": "297d7b34",
   "metadata": {},
   "source": [
    "### load data"
   ]
  },
  {
   "cell_type": "code",
   "execution_count": 2,
   "id": "61242831",
   "metadata": {},
   "outputs": [
    {
     "name": "stdout",
     "output_type": "stream",
     "text": [
      "keep_experiments/c2b/cfg.yaml\n",
      "keep_experiments/c2b/model_0011999.pth\n",
      "-------- pretrained model loaded ---------\n",
      "-------- pretrained model loaded ---------\n",
      "keep_experiments/k2b/cfg.yaml\n",
      "keep_experiments/k2b/model_final.pth\n",
      "-------- pretrained model loaded ---------\n",
      "-------- pretrained model loaded ---------\n"
     ]
    }
   ],
   "source": [
    "# parameter setting\n",
    "ratio=1.2\n",
    "dataset_name = 'VOC2007_bddval1'  \n",
    "#dataset_name = 'VOC2007_bddvalsmall'\n",
    "output_csv_file = 'eval_metric_ck2b.csv'\n",
    "source_list =['kitti','cityscape']\n",
    "\n",
    "# config\n",
    "cfg = setup(\"configs/pt/final_c2b.yaml\")\n",
    "\n",
    "# load test data\n",
    "test_data_loader = build_detection_test_loader(cfg, dataset_name)\n",
    "\n",
    "# load annotations\n",
    "data_annotation = DatasetCatalog.get(dataset_name)\n",
    "\n",
    "# load model\n",
    "model_c2b = load_TSmodel('c2b', 11999)\n",
    "model_k2b = load_TSmodel('k2b', 'final')\n",
    "\n",
    "#model_c2b = load_TSmodel('c2b_source-only', 27999)\n",
    "#model_k2b = load_TSmodel('k2b_source-only', 7999)\n",
    "\n",
    "model_list=[model_k2b,model_c2b]\n"
   ]
  },
  {
   "cell_type": "markdown",
   "id": "1a9ecd79",
   "metadata": {},
   "source": [
    "## 1b. SKF2c"
   ]
  },
  {
   "cell_type": "code",
   "execution_count": 13,
   "id": "4a6fa535",
   "metadata": {},
   "outputs": [
    {
     "name": "stdout",
     "output_type": "stream",
     "text": [
      "keep_experiments/s2c_source-only/cfg.yaml\n",
      "keep_experiments/s2c_source-only/model_0023999.pth\n",
      "-------- pretrained model loaded ---------\n",
      "-------- pretrained model loaded ---------\n",
      "keep_experiments/k2c_source-only/cfg.yaml\n",
      "keep_experiments/k2c_source-only/model_final.pth\n",
      "-------- pretrained model loaded ---------\n",
      "-------- pretrained model loaded ---------\n",
      "keep_experiments/f2c_source-only/cfg.yaml\n",
      "keep_experiments/f2c_source-only/model_0027999.pth\n",
      "-------- pretrained model loaded ---------\n",
      "-------- pretrained model loaded ---------\n"
     ]
    }
   ],
   "source": [
    "# parameter setting\n",
    "dataset_name = 'VOC2007_cityval1'\n",
    "source_list =['sim10k','kitti','foggycityscape']\n",
    "output_csv_file = 'eval_metric_skf2c.csv'\n",
    "ratio = 1.706\n",
    "# config\n",
    "cfg = setup(\"configs/pt/final_k2c.yaml\")\n",
    "\n",
    "test_data_loader = build_detection_test_loader(cfg, dataset_name)\n",
    "\n",
    "\n",
    "#---------skf2c-------\n",
    "#model_s2c = get_model('s2c', 15999)\n",
    "#model_k2c = get_model('k2c', 19999)\n",
    "#model_f2c = get_model('f2c', 'final') #8class\n",
    "#model_f2c = get_model('f2c_1class', 11999)\n",
    "\n",
    "\n",
    "model_s2c = get_model('s2c_source-only', 23999)\n",
    "model_k2c = get_model('k2c_source-only', 'final')\n",
    "model_f2c = get_model('f2c_source-only', 27999)\n",
    "\n",
    "model_list=[model_s2c,model_k2c,model_f2c]\n",
    "\n",
    "data_loader_iter = iter(test_data_loader)\n",
    "test_data = data_loader_iter.next()\n",
    "data_annotation = DatasetCatalog.get(dataset_name)\n"
   ]
  },
  {
   "cell_type": "markdown",
   "id": "f5b4d1c3",
   "metadata": {},
   "source": [
    "# 4. Filter by others: (write car.txt)"
   ]
  },
  {
   "cell_type": "markdown",
   "id": "39dca8b9",
   "metadata": {},
   "source": [
    "* use 1 model as baseline to match others\n"
   ]
  },
  {
   "cell_type": "code",
   "execution_count": 302,
   "id": "0ad31bed",
   "metadata": {},
   "outputs": [],
   "source": [
    "\n",
    "#b1c66a42-6f7d68ca 0.971 933.1 339.5 1221.0 481.7\n",
    "#output_folder = \"tmp/skf2c_sim10k/\"\n",
    "#output_folder = \"tmp/skf2c_kitti/\"\n",
    "\n",
    "#output_folder = \"tmp/skf2c_foggy/\"\n",
    "output_folder = \"tmp/ck2b_kitti_tmp/\"\n",
    "src_idx = 0\n",
    "\n",
    "source_num = len(source_list)-1\n",
    "\n",
    "\n",
    "if not os.path.exists(output_folder):\n",
    "    os.makedirs( output_folder)\n",
    "output_file = os.path.join(output_folder,\"car.txt\")\n",
    "\n",
    "f = open(output_file, \"w\")\n",
    "\n",
    "\n",
    "for i,test_data in enumerate(test_data_loader): \n",
    "    proposals_roih_multiple=[]\n",
    "    for model in model_list:\n",
    "        proposals_roih_multiple.append(get_proposal_roih(test_data,model))\n",
    "    \n",
    "    ma_gt, ma_src = get_match_array_all(proposals_roih_multiple, data_annotation[i]['annotations'],ratio)\n",
    "    \n",
    "    #------get keep index (all true)\n",
    "    col_name = [ x for k,x in enumerate(source_list) if k!=src_idx]\n",
    "    col_name.insert(0, 'groundtruth')\n",
    "    df_src = pd.DataFrame()    \n",
    "    src_array = np.array(ma_src[src_idx]).T\n",
    "    df_src = pd.DataFrame(src_array, columns = col_name)\n",
    "    df_src['summary'] = df_src.drop('groundtruth', axis=1).sum(axis=1)\n",
    "    keep_index = df_src.index[df_src.summary==source_num]\n",
    "            \n",
    "    filename = os.path.basename(data_annotation[i]['file_name']).split('.')[0]\n",
    "    \n",
    "    for idx in keep_index:    \n",
    "        bbox = proposals_roih_multiple[src_idx][0][idx].get('pred_boxes')\n",
    "        score = proposals_roih_multiple[src_idx][0][idx].get('scores').cpu().numpy()[0]\n",
    "        x1 = bbox.tensor[:, 0].cpu().numpy()[0]\n",
    "        y1 = bbox.tensor[:, 1].cpu().numpy()[0]\n",
    "        x2 = bbox.tensor[:, 2].cpu().numpy()[0]\n",
    "        y2 = bbox.tensor[:, 3].cpu().numpy()[0]\n",
    "\n",
    "        f.write(\"{} {:.3f} {:.1f} {:.1f} {:.1f} {:.1f}\\n\".format(filename,score,x1,y1,x2,y2))\n",
    "f.close()"
   ]
  },
  {
   "cell_type": "markdown",
   "id": "ea48e7eb",
   "metadata": {},
   "source": [
    "# 5. filter by score"
   ]
  },
  {
   "cell_type": "code",
   "execution_count": 226,
   "id": "b8c2415d",
   "metadata": {},
   "outputs": [
    {
     "data": {
      "text/plain": [
       "5258"
      ]
     },
     "execution_count": 226,
     "metadata": {},
     "output_type": "execute_result"
    }
   ],
   "source": [
    "len(test_data_loader)"
   ]
  },
  {
   "cell_type": "code",
   "execution_count": 315,
   "id": "cdb5d991",
   "metadata": {},
   "outputs": [],
   "source": [
    "output_folder = \"tmp/skf2c_threshold_foggy/\"\n",
    "model = model_f2c\n",
    "threshold=0\n",
    "\n",
    "if not os.path.exists(output_folder):\n",
    "    os.makedirs( output_folder)\n",
    "output_file = os.path.join(output_folder,\"car.txt\")\n",
    "\n",
    "f = open(output_file, \"w\")\n",
    "\n",
    "\n",
    "for i,test_data in enumerate(test_data_loader): \n",
    "    proposals_roih=get_proposal_roih(test_data,model)\n",
    "    scaling(proposals_roih,ratio)\n",
    "            \n",
    "    filename = os.path.basename(data_annotation[i]['file_name']).split('.')[0]\n",
    "    #print(len(proposals_roih[0]))\n",
    "    \n",
    "    \n",
    "    confident_detections = proposals_roih[0][proposals_roih[0].scores > threshold]\n",
    "    #print(len(confident_detections))\n",
    "    #print(confident_detections)\n",
    "    for bb_idx,bb in enumerate(confident_detections.pred_boxes):\n",
    "        scores = confident_detections.scores.cpu().numpy()[bb_idx]    \n",
    "        x1 = bb.cpu()[0].numpy()\n",
    "        y1 = bb.cpu()[1].numpy()\n",
    "        x2 = bb.cpu()[2].numpy()\n",
    "        y2 = bb.cpu()[3].numpy()\n",
    "        f.write(\"{} {:.3f} {:.1f} {:.1f} {:.1f} {:.1f}\\n\".format(filename,scores,x1,y1,x2,y2))\n",
    "f.close()"
   ]
  },
  {
   "cell_type": "code",
   "execution_count": 309,
   "id": "4610650d",
   "metadata": {},
   "outputs": [],
   "source": [
    "data_loader_iter = iter(test_data_loader)\n",
    "test_data = data_loader_iter.next()\n",
    "\n",
    "proposals_roih = get_proposal_roih(test_data,model)\n",
    "#scaling(proposals_roih,ratio)"
   ]
  },
  {
   "cell_type": "code",
   "execution_count": 313,
   "id": "1359b9d0",
   "metadata": {},
   "outputs": [
    {
     "data": {
      "text/plain": [
       "tensor([0.9905, 0.9904, 0.9839, 0.9735, 0.9637, 0.9500, 0.9182, 0.9106, 0.8995,\n",
       "        0.8882, 0.8751, 0.8206, 0.7514, 0.5427, 0.3144, 0.2696, 0.2413, 0.1475,\n",
       "        0.1293, 0.1151, 0.0720, 0.0653, 0.0439, 0.0426, 0.0411, 0.0371, 0.0345,\n",
       "        0.0259, 0.0230, 0.0145, 0.0120], device='cuda:0')"
      ]
     },
     "execution_count": 313,
     "metadata": {},
     "output_type": "execute_result"
    }
   ],
   "source": [
    "proposals_roih[0].scores"
   ]
  },
  {
   "cell_type": "code",
   "execution_count": 283,
   "id": "9b46a0db",
   "metadata": {},
   "outputs": [],
   "source": [
    "confident_detections = proposals_roih[0][proposals_roih[0].scores > 0.7]\n"
   ]
  },
  {
   "cell_type": "code",
   "execution_count": 289,
   "id": "8d781845",
   "metadata": {},
   "outputs": [
    {
     "data": {
      "text/plain": [
       "59"
      ]
     },
     "execution_count": 289,
     "metadata": {},
     "output_type": "execute_result"
    }
   ],
   "source": [
    "len(proposals_roih[0])"
   ]
  },
  {
   "cell_type": "code",
   "execution_count": 282,
   "id": "b3d9b0bc",
   "metadata": {},
   "outputs": [
    {
     "data": {
      "text/plain": [
       "tensor([0.8585, 0.8510, 0.2891, 0.2891, 0.2891, 0.2891, 0.0903, 0.0829, 0.0620,\n",
       "        0.0594, 0.0484, 0.0395, 0.0394, 0.0359, 0.0327, 0.0289, 0.0283, 0.0253,\n",
       "        0.0251, 0.0239, 0.0230, 0.0226, 0.0221, 0.0217, 0.0206, 0.0204, 0.0193,\n",
       "        0.0177, 0.0176, 0.0175, 0.0171, 0.0170, 0.0170, 0.0169, 0.0165, 0.0159,\n",
       "        0.0157, 0.0155, 0.0151, 0.0139, 0.0137, 0.0135, 0.0129, 0.0127, 0.0111,\n",
       "        0.0103, 0.0102, 0.0102, 0.0091, 0.0079, 0.0073, 0.0058, 0.0057, 0.0057,\n",
       "        0.0056, 0.0056, 0.0052, 0.0043, 0.0017], device='cuda:0')"
      ]
     },
     "execution_count": 282,
     "metadata": {},
     "output_type": "execute_result"
    }
   ],
   "source": [
    "proposals_roih[0].scores"
   ]
  },
  {
   "cell_type": "code",
   "execution_count": 247,
   "id": "f9d55dc1",
   "metadata": {},
   "outputs": [
    {
     "data": {
      "text/plain": [
       "0.7825451"
      ]
     },
     "execution_count": 247,
     "metadata": {},
     "output_type": "execute_result"
    }
   ],
   "source": [
    "confident_detections.scores.cpu().numpy()[10]"
   ]
  },
  {
   "cell_type": "code",
   "execution_count": 248,
   "id": "fe457dcf",
   "metadata": {},
   "outputs": [
    {
     "name": "stdout",
     "output_type": "stream",
     "text": [
      "fe1f55fa-19ba3600 0.978 657.4 300.0 760.5 359.7\n",
      "\n",
      "fe1f55fa-19ba3600 0.977 765.4 269.6 1029.1 405.8\n",
      "\n",
      "fe1f55fa-19ba3600 0.953 621.5 301.7 683.1 345.3\n",
      "\n",
      "fe1f55fa-19ba3600 0.943 17.7 287.6 113.3 337.8\n",
      "\n",
      "fe1f55fa-19ba3600 0.913 498.6 296.3 530.5 319.8\n",
      "\n",
      "fe1f55fa-19ba3600 0.905 608.3 306.9 643.7 338.6\n",
      "\n",
      "fe1f55fa-19ba3600 0.902 569.7 301.1 601.7 328.6\n",
      "\n",
      "fe1f55fa-19ba3600 0.901 735.1 310.4 828.6 379.4\n",
      "\n",
      "fe1f55fa-19ba3600 0.899 202.1 288.5 295.7 333.0\n",
      "\n",
      "fe1f55fa-19ba3600 0.849 3.5 283.0 52.4 341.3\n",
      "\n",
      "fe1f55fa-19ba3600 0.783 169.4 282.3 237.7 322.0\n",
      "\n",
      "fe1f55fa-19ba3600 0.752 585.2 306.9 622.1 333.7\n",
      "\n"
     ]
    }
   ],
   "source": [
    "for bb_idx,bb in enumerate(confident_detections.pred_boxes):\n",
    "        scores = confident_detections.scores.cpu().numpy()[bb_idx]    \n",
    "        x1 = bb.cpu()[0].numpy()\n",
    "        y1 = bb.cpu()[1].numpy()\n",
    "        x2 = bb.cpu()[2].numpy()\n",
    "        y2 = bb.cpu()[3].numpy()\n",
    "        print(\"{} {:.3f} {:.1f} {:.1f} {:.1f} {:.1f}\\n\".format(filename,scores,x1,y1,x2,y2))"
   ]
  },
  {
   "cell_type": "code",
   "execution_count": 185,
   "id": "e68c7b78",
   "metadata": {},
   "outputs": [
    {
     "data": {
      "text/plain": [
       "tensor([0.9708, 0.9707, 0.9612, 0.9462, 0.9312, 0.8988, 0.8963, 0.8774, 0.8749,\n",
       "        0.8527, 0.7561, 0.7531, 0.6275, 0.5939, 0.5390, 0.4565, 0.4178, 0.2566,\n",
       "        0.1998, 0.1848, 0.1812, 0.1348, 0.1121, 0.0759, 0.0390, 0.0331, 0.0330,\n",
       "        0.0310, 0.0206, 0.0180, 0.0171, 0.0161, 0.0135, 0.0127, 0.0123, 0.0106,\n",
       "        0.0099, 0.0094], device='cuda:0')"
      ]
     },
     "execution_count": 185,
     "metadata": {},
     "output_type": "execute_result"
    }
   ],
   "source": [
    "threshold = 0.7\n",
    "\n",
    "proposals_roih_multiple[0][0].scores"
   ]
  },
  {
   "cell_type": "code",
   "execution_count": null,
   "id": "783775fb",
   "metadata": {},
   "outputs": [],
   "source": [
    "for bb_idx in "
   ]
  },
  {
   "cell_type": "code",
   "execution_count": 216,
   "id": "038aac0d",
   "metadata": {},
   "outputs": [],
   "source": [
    "confident_detections = proposals_roih_multiple[0][0][proposals_roih_multiple[0][0].scores > 0.9]"
   ]
  },
  {
   "cell_type": "code",
   "execution_count": 222,
   "id": "6bb5f23d",
   "metadata": {},
   "outputs": [
    {
     "data": {
      "text/plain": [
       "tensor([0.8585, 0.8510], device='cuda:0')"
      ]
     },
     "execution_count": 222,
     "metadata": {},
     "output_type": "execute_result"
    }
   ],
   "source": [
    "confident_detections.scores"
   ]
  },
  {
   "cell_type": "code",
   "execution_count": 214,
   "id": "02d5dfe5",
   "metadata": {},
   "outputs": [
    {
     "data": {
      "text/plain": [
       "Instances(num_instances=5, image_height=600, image_width=1067, fields=[pred_boxes: Boxes(tensor([[ 776.9964,  282.1017, 1017.7812,  401.4134],\n",
       "        [ 662.6821,  302.0353,  754.8343,  358.3494],\n",
       "        [ 625.2906,  302.1401,  683.5735,  344.2126],\n",
       "        [  32.3438,  291.6617,  106.5337,  333.4795],\n",
       "        [ 734.6452,  314.2469,  805.8868,  373.9079]], device='cuda:0')), scores: tensor([0.9708, 0.9707, 0.9612, 0.9462, 0.9312], device='cuda:0'), pred_classes: tensor([0, 0, 0, 0, 0], device='cuda:0'), scores_logists: tensor([[ 3.3746, -3.4222],\n",
       "        [ 3.0637, -3.1017],\n",
       "        [ 3.7150, -3.7093],\n",
       "        [ 3.2326, -3.2229],\n",
       "        [ 2.6753, -2.6198]], device='cuda:0'), boxes_sigma: tensor([[-3.4894, -3.9871, -3.1702, -3.6849],\n",
       "        [-3.6285, -3.7810, -3.3161, -3.6317],\n",
       "        [-3.2193, -3.3684, -2.9709, -3.3978],\n",
       "        [-2.8282, -3.2153, -2.5468, -3.1238],\n",
       "        [-2.9457, -2.7821, -2.3568, -2.7212]], device='cuda:0')])"
      ]
     },
     "execution_count": 214,
     "metadata": {},
     "output_type": "execute_result"
    }
   ],
   "source": [
    "confident_detections"
   ]
  },
  {
   "cell_type": "code",
   "execution_count": 217,
   "id": "2139aada",
   "metadata": {},
   "outputs": [
    {
     "name": "stdout",
     "output_type": "stream",
     "text": [
      "0.971 777.0 282.1 1017.8 401.4\n",
      "0.971 662.7 302.0 754.8 358.3\n",
      "0.971 625.3 302.1 683.6 344.2\n",
      "0.971 32.3 291.7 106.5 333.5\n",
      "0.971 734.6 314.2 805.9 373.9\n"
     ]
    }
   ],
   "source": [
    "for bb in confident_detections.pred_boxes:\n",
    "    scores = confident_detections.scores.cpu().numpy()[0]    \n",
    "    x1 = bb.cpu()[0].numpy()\n",
    "    y1 = bb.cpu()[1].numpy()\n",
    "    x2 = bb.cpu()[2].numpy()\n",
    "    y2 = bb.cpu()[3].numpy()\n",
    "    print(\"{:.3f} {:.1f} {:.1f} {:.1f} {:.1f}\".format(scores, x1,y1,x2,y2))"
   ]
  },
  {
   "cell_type": "markdown",
   "id": "ead53206",
   "metadata": {},
   "source": [
    "# 2. Get results"
   ]
  },
  {
   "cell_type": "markdown",
   "id": "a61de880",
   "metadata": {},
   "source": [
    "## 2A.single image test"
   ]
  },
  {
   "cell_type": "code",
   "execution_count": 3,
   "id": "4d920856",
   "metadata": {},
   "outputs": [
    {
     "name": "stderr",
     "output_type": "stream",
     "text": [
      "/home/superorange5/.local/lib/python3.7/site-packages/torch/functional.py:478: UserWarning: torch.meshgrid: in an upcoming release, it will be required to pass the indexing argument. (Triggered internally at  ../aten/src/ATen/native/TensorShape.cpp:2895.)\n",
      "  return _VF.meshgrid(tensors, **kwargs)  # type: ignore[attr-defined]\n"
     ]
    }
   ],
   "source": [
    "data_loader_iter = iter(test_data_loader)\n",
    "test_data = data_loader_iter.next()\n",
    "\n",
    "proposals_roih_multiple=[]\n",
    "for model in model_list:\n",
    "    proposals_roih_multiple.append(get_proposal_roih(test_data,model))\n",
    "\n",
    "    #data_annotation[0]['annotations'][0]['bbox']\n",
    "ma_gt, ma_src = get_match_array_all(proposals_roih_multiple, data_annotation[0]['annotations'],ratio)\n",
    "\n"
   ]
  },
  {
   "cell_type": "code",
   "execution_count": 4,
   "id": "4bbc5621",
   "metadata": {},
   "outputs": [
    {
     "data": {
      "text/plain": [
       "[{'category_id': 0,\n",
       "  'bbox': [206.0, 338.0, 283.0, 389.0],\n",
       "  'bbox_mode': <BoxMode.XYXY_ABS: 0>},\n",
       " {'category_id': 0,\n",
       "  'bbox': [47.0, 344.0, 131.0, 402.0],\n",
       "  'bbox_mode': <BoxMode.XYXY_ABS: 0>},\n",
       " {'category_id': 0,\n",
       "  'bbox': [247.0, 344.0, 348.0, 397.0],\n",
       "  'bbox_mode': <BoxMode.XYXY_ABS: 0>},\n",
       " {'category_id': 0,\n",
       "  'bbox': [0.0, 337.0, 53.0, 404.0],\n",
       "  'bbox_mode': <BoxMode.XYXY_ABS: 0>},\n",
       " {'category_id': 0,\n",
       "  'bbox': [684.0, 357.0, 722.0, 394.0],\n",
       "  'bbox_mode': <BoxMode.XYXY_ABS: 0>},\n",
       " {'category_id': 0,\n",
       "  'bbox': [706.0, 364.0, 735.0, 392.0],\n",
       "  'bbox_mode': <BoxMode.XYXY_ABS: 0>},\n",
       " {'category_id': 0,\n",
       "  'bbox': [727.0, 366.0, 762.0, 402.0],\n",
       "  'bbox_mode': <BoxMode.XYXY_ABS: 0>},\n",
       " {'category_id': 0,\n",
       "  'bbox': [749.0, 362.0, 810.0, 410.0],\n",
       "  'bbox_mode': <BoxMode.XYXY_ABS: 0>},\n",
       " {'category_id': 0,\n",
       "  'bbox': [787.0, 358.0, 907.0, 426.0],\n",
       "  'bbox_mode': <BoxMode.XYXY_ABS: 0>},\n",
       " {'category_id': 0,\n",
       "  'bbox': [880.0, 376.0, 961.0, 453.0],\n",
       "  'bbox_mode': <BoxMode.XYXY_ABS: 0>},\n",
       " {'category_id': 0,\n",
       "  'bbox': [936.0, 336.0, 1213.0, 485.0],\n",
       "  'bbox_mode': <BoxMode.XYXY_ABS: 0>},\n",
       " {'category_id': 0,\n",
       "  'bbox': [1204.0, 416.0, 1280.0, 531.0],\n",
       "  'bbox_mode': <BoxMode.XYXY_ABS: 0>},\n",
       " {'category_id': 0,\n",
       "  'bbox': [552.0, 356.0, 566.0, 369.0],\n",
       "  'bbox_mode': <BoxMode.XYXY_ABS: 0>},\n",
       " {'category_id': 0,\n",
       "  'bbox': [574.0, 352.0, 587.0, 370.0],\n",
       "  'bbox_mode': <BoxMode.XYXY_ABS: 0>},\n",
       " {'category_id': 0,\n",
       "  'bbox': [581.0, 357.0, 599.0, 379.0],\n",
       "  'bbox_mode': <BoxMode.XYXY_ABS: 0>},\n",
       " {'category_id': 0,\n",
       "  'bbox': [596.0, 352.0, 637.0, 387.0],\n",
       "  'bbox_mode': <BoxMode.XYXY_ABS: 0>},\n",
       " {'category_id': 0,\n",
       "  'bbox': [518.0, 356.0, 536.0, 369.0],\n",
       "  'bbox_mode': <BoxMode.XYXY_ABS: 0>},\n",
       " {'category_id': 0,\n",
       "  'bbox': [502.0, 357.0, 519.0, 372.0],\n",
       "  'bbox_mode': <BoxMode.XYXY_ABS: 0>},\n",
       " {'category_id': 0,\n",
       "  'bbox': [453.0, 353.0, 480.0, 374.0],\n",
       "  'bbox_mode': <BoxMode.XYXY_ABS: 0>}]"
      ]
     },
     "execution_count": 4,
     "metadata": {},
     "output_type": "execute_result"
    }
   ],
   "source": [
    "data_annotation[0]['annotations']"
   ]
  },
  {
   "cell_type": "code",
   "execution_count": 5,
   "id": "a307a186",
   "metadata": {},
   "outputs": [
    {
     "data": {
      "text/plain": [
       "tensor([0.9782, 0.9757, 0.9530, 0.9492, 0.9104, 0.9077, 0.9050, 0.8918, 0.8868,\n",
       "        0.8467, 0.7900, 0.6804, 0.5951, 0.3276, 0.2891, 0.2891, 0.2879, 0.2585,\n",
       "        0.2407, 0.2282, 0.2242, 0.2064, 0.1954, 0.1362, 0.1340, 0.1253, 0.0816,\n",
       "        0.0632, 0.0610, 0.0581, 0.0514, 0.0343, 0.0335, 0.0308, 0.0290, 0.0276,\n",
       "        0.0263, 0.0253, 0.0228, 0.0225, 0.0165, 0.0150, 0.0149, 0.0134, 0.0110,\n",
       "        0.0105, 0.0099, 0.0083, 0.0074, 0.0051, 0.0045, 0.0043, 0.0023, 0.0019,\n",
       "        0.0014], device='cuda:0')"
      ]
     },
     "execution_count": 5,
     "metadata": {},
     "output_type": "execute_result"
    }
   ],
   "source": [
    "proposals_roih_multiple[0][0].get('scores')"
   ]
  },
  {
   "cell_type": "code",
   "execution_count": 6,
   "id": "7b350774",
   "metadata": {},
   "outputs": [
    {
     "data": {
      "text/plain": [
       "Boxes(tensor([[ 788.8915,  359.9552,  912.5557,  431.7019],\n",
       "        [ 917.4443,  322.7319, 1235.2935,  487.7906],\n",
       "        [ 745.8690,  362.0363,  819.7329,  414.4473],\n",
       "        [  22.0786,  345.6979,  135.6013,  405.6788],\n",
       "        [ 598.1114,  355.2775,  635.7689,  384.1169],\n",
       "        [ 882.2886,  372.5593,  991.7009,  455.2959],\n",
       "        [ 728.5413,  368.4534,  771.9892,  406.4715],\n",
       "        [ 242.7416,  346.4777,  352.9219,  401.5028],\n",
       "        [ 684.2197,  361.8773,  719.9087,  393.9193],\n",
       "        [   4.3344,  335.7025,   63.2579,  409.2520],\n",
       "        [ 203.0530,  338.7021,  284.7459,  386.5142],\n",
       "        [ 701.5861,  368.2524,  745.7574,  400.1701],\n",
       "        [ 737.2637,  366.0051,  792.2079,  410.3012],\n",
       "        [1202.8762,  417.1595, 1265.3796,  515.2800],\n",
       "        [1277.8446,   30.5492, 1278.8706,  116.5908],\n",
       "        [1276.6025,    6.7340, 1280.4000,  100.2884],\n",
       "        [ 446.6653,  353.5850,  485.2224,  374.3670],\n",
       "        [ 400.7220,  356.8049,  428.7562,  374.5971],\n",
       "        [ 215.6214,  367.8293,  294.7264,  460.6264],\n",
       "        [ 328.8115,  357.2936,  369.2692,  380.9419],\n",
       "        [ 359.5461,  356.5053,  392.5178,  376.7093],\n",
       "        [ 961.6774,  247.0007, 1033.7300,  311.3649],\n",
       "        [ 371.1043,  354.2159,  413.3208,  376.3476],\n",
       "        [ 576.7902,  344.7980,  611.0547,  375.6079],\n",
       "        [ 408.8919,  354.6878,  438.2304,  373.8658],\n",
       "        [ 635.4656,  227.5918,  683.5238,  296.0919],\n",
       "        [ 692.8251,  374.3115,  718.6192,  397.1561],\n",
       "        [ 585.9045,  351.0666,  617.5208,  378.0018],\n",
       "        [1209.8054,  428.2548, 1241.1459,  519.4771],\n",
       "        [ 330.5730,  348.9485,  378.6787,  377.1705],\n",
       "        [ 918.6258,  362.5973, 1018.7747,  462.3289],\n",
       "        [ 368.2743,  361.7879,  403.0712,  381.6681],\n",
       "        [ 314.0928,  352.2988,  364.4667,  385.3490],\n",
       "        [ 431.8151,  241.8480,  472.8801,  284.2133],\n",
       "        [ 397.8880,  361.0214,  433.9065,  379.1152],\n",
       "        [1013.7216,  275.5368, 1116.0609,  348.1381],\n",
       "        [ 610.3498,  313.7623,  643.9678,  358.3597],\n",
       "        [ 944.0362,  333.8602, 1121.2959,  479.9187],\n",
       "        [ 419.8604,  355.7076,  455.0040,  373.6807],\n",
       "        [ 490.0331,  287.2782,  548.2068,  355.6719],\n",
       "        [ 414.6279,  349.0733,  445.3036,  372.3137],\n",
       "        [ 458.7394,  353.5202,  494.4514,  371.8876],\n",
       "        [ 437.2812,  356.1303,  465.2213,  373.1654],\n",
       "        [ 432.9337,  359.2542,  456.8127,  374.5546],\n",
       "        [1125.8363,  314.9285, 1251.5391,  474.4591],\n",
       "        [ 473.9885,  354.6342,  511.1749,  374.0888],\n",
       "        [ 644.7820,  347.0804,  680.1477,  381.6379],\n",
       "        [ 494.3241,  352.5918,  535.1176,  373.7736],\n",
       "        [1261.1774,  263.8951, 1270.3795,  359.7237],\n",
       "        [ 469.5146,  348.8307,  507.4692,  369.1441],\n",
       "        [ 481.2890,  350.4655,  517.5107,  369.9408],\n",
       "        [1272.5446,  135.5384, 1277.5227,  226.2630],\n",
       "        [ 488.4114,  345.6379,  527.6393,  367.7737],\n",
       "        [ 504.5948,  347.8408,  540.3297,  368.5110],\n",
       "        [ 516.4113,  357.8022,  547.9776,  377.4548]], device='cuda:0'))"
      ]
     },
     "execution_count": 6,
     "metadata": {},
     "output_type": "execute_result"
    }
   ],
   "source": [
    "proposals_roih_multiple[0][0].get('pred_boxes')"
   ]
  },
  {
   "cell_type": "markdown",
   "id": "705d581f",
   "metadata": {},
   "source": [
    "### get TP FP"
   ]
  },
  {
   "cell_type": "code",
   "execution_count": 17,
   "id": "65843c26",
   "metadata": {},
   "outputs": [],
   "source": [
    "TP, TN_array  =get_TP(ma_gt,source_list)\n",
    "#TP, TN1, TN2\n",
    "FP_array = get_FP(ma_src,source_list)\n",
    "# src1 FP1 FP2, src2 FP1 FP2"
   ]
  },
  {
   "cell_type": "code",
   "execution_count": 18,
   "id": "729ef0a9",
   "metadata": {},
   "outputs": [
    {
     "data": {
      "text/plain": [
       "18"
      ]
     },
     "execution_count": 18,
     "metadata": {},
     "output_type": "execute_result"
    }
   ],
   "source": [
    "TP"
   ]
  },
  {
   "cell_type": "code",
   "execution_count": 19,
   "id": "5af8ca12",
   "metadata": {},
   "outputs": [
    {
     "data": {
      "text/plain": [
       "[0, 0, 0]"
      ]
     },
     "execution_count": 19,
     "metadata": {},
     "output_type": "execute_result"
    }
   ],
   "source": [
    "TN_array"
   ]
  },
  {
   "cell_type": "code",
   "execution_count": 20,
   "id": "e2354d61",
   "metadata": {},
   "outputs": [
    {
     "data": {
      "text/plain": [
       "[[5, 13, 1], [1, 0, 1], [3, 5, 6]]"
      ]
     },
     "execution_count": 20,
     "metadata": {},
     "output_type": "execute_result"
    }
   ],
   "source": [
    "FP_array"
   ]
  },
  {
   "cell_type": "markdown",
   "id": "ffaff8f8",
   "metadata": {},
   "source": [
    "## 2.B output results of all images"
   ]
  },
  {
   "cell_type": "markdown",
   "id": "a20bd322",
   "metadata": {},
   "source": [
    "### save to eval_metricxxx.csv"
   ]
  },
  {
   "cell_type": "code",
   "execution_count": 20,
   "id": "4ab55b18",
   "metadata": {},
   "outputs": [],
   "source": [
    "eval_metric_summary(test_data_loader, data_annotation,model_list, source_list,\n",
    "                    output_file = output_csv_file,ratio=ratio)"
   ]
  },
  {
   "cell_type": "markdown",
   "id": "74f5a1a8",
   "metadata": {},
   "source": [
    "# 3. draw pie chart"
   ]
  },
  {
   "cell_type": "markdown",
   "id": "b9bd08a8",
   "metadata": {},
   "source": [
    "### a.ck2b"
   ]
  },
  {
   "cell_type": "code",
   "execution_count": 176,
   "id": "19a27349",
   "metadata": {},
   "outputs": [],
   "source": [
    "#input_file = 'pseudo_label_analysis/PTDA/eval_metric_ck2b.csv'\n",
    "#input_file = 'pseudo_label_analysis/source-only_PT/eval_metric_ck2b.csv'\n",
    "input_file = '../frcnn_detectron2/pseudo_label_analysis/frcnn/eval_metric_ck2b.csv'\n",
    "title = 'ck2b'"
   ]
  },
  {
   "cell_type": "markdown",
   "id": "8f9b16f8",
   "metadata": {},
   "source": [
    "### b.skf2c"
   ]
  },
  {
   "cell_type": "code",
   "execution_count": 174,
   "id": "f550c491",
   "metadata": {},
   "outputs": [],
   "source": [
    "#input_file = 'pseudo_label_analysis/PTDA/eval_metric_sf2c.csv'\n",
    "\n",
    "#input_file = 'eval_metric_skf2c.csv'\n",
    "input_file = '../frcnn_detectron2/pseudo_label_analysis/frcnn/eval_metric_skf2c.csv'\n",
    "\n",
    "title = 'skf2c'"
   ]
  },
  {
   "cell_type": "code",
   "execution_count": null,
   "id": "cb113e3b",
   "metadata": {},
   "outputs": [],
   "source": []
  },
  {
   "cell_type": "code",
   "execution_count": 177,
   "id": "edaa582b",
   "metadata": {},
   "outputs": [
    {
     "data": {
      "image/png": "[encoded data removed]",
      "text/plain": [
       "<Figure size 720x360 with 1 Axes>"
      ]
     },
     "metadata": {},
     "output_type": "display_data"
    }
   ],
   "source": [
    "eval_skf2c = pd.read_csv(input_file)\n",
    "labels = eval_skf2c.columns[1:]\n",
    "\n",
    "pie_chart_list = gen_pie_chart_list(eval_skf2c)\n",
    "draw_pie_chart(pie_chart_list, labels,title)"
   ]
  },
  {
   "cell_type": "code",
   "execution_count": 195,
   "id": "352eb093",
   "metadata": {},
   "outputs": [],
   "source": [
    "def checksum(input_file,dataset):\n",
    "    eval_ck2b_frcnn = pd.read_csv(input_file.format(dataset))\n",
    "    print(eval_ck2b_frcnn.sum(axis=0))"
   ]
  },
  {
   "cell_type": "code",
   "execution_count": 198,
   "id": "ecd065e6",
   "metadata": {},
   "outputs": [
    {
     "name": "stdout",
     "output_type": "stream",
     "text": [
      "filename    b1c66a42-6f7d68ca.jpgb1c9c847-3bda4659.jpgb1ca...\n",
      "TP                                                      57380\n",
      "TN0                                                      2648\n",
      "TN1                                                     13018\n",
      "FP0                                                     18636\n",
      "FP1                                                     19455\n",
      "dtype: object\n",
      "filename    b1c66a42-6f7d68ca.jpgb1c9c847-3bda4659.jpgb1ca...\n",
      "TP                                                      49681\n",
      "FN0                                                      2451\n",
      "FN1                                                      5701\n",
      "FP0                                                     36740\n",
      "FP1                                                     33105\n",
      "dtype: object\n",
      "filename    b1c66a42-6f7d68ca.jpgb1c9c847-3bda4659.jpgb1ca...\n",
      "TP                                                      53774\n",
      "TN0                                                      1240\n",
      "TN1                                                      2819\n",
      "FP0                                                     88573\n",
      "FP1                                                     55627\n",
      "dtype: object\n",
      "filename    frankfurt_000000_001236_leftImg8bit.jpgfrankfu...\n",
      "TP                                                       3872\n",
      "TN0                                                        69\n",
      "TN1                                                       259\n",
      "TN2                                                       467\n",
      "FP0                                                      1892\n",
      "FP1                                                      2417\n",
      "FP2                                                       972\n",
      "dtype: object\n",
      "filename    frankfurt_000000_001236_leftImg8bit.jpgfrankfu...\n",
      "TP                                                       4025\n",
      "FN0                                                        62\n",
      "FN1                                                       171\n",
      "FN2                                                       409\n",
      "FP0                                                      3558\n",
      "FP1                                                      1888\n",
      "FP2                                                       772\n",
      "dtype: object\n",
      "filename    frankfurt_000000_001236_leftImg8bit.jpgfrankfu...\n",
      "TP                                                       4497\n",
      "TN0                                                         9\n",
      "TN1                                                        43\n",
      "TN2                                                       118\n",
      "FP0                                                      7728\n",
      "FP1                                                      7317\n",
      "FP2                                                      7552\n",
      "dtype: object\n"
     ]
    }
   ],
   "source": [
    "\n",
    "frcnn_file = '../frcnn_detectron2/pseudo_label_analysis/frcnn/eval_metric_{}.csv'\n",
    "pfrcnn_file = 'pseudo_label_analysis/source-only_PT/eval_metric_{}.csv'\n",
    "pt_file = 'pseudo_label_analysis/PTDA/eval_metric_{}.csv'\n",
    "\n",
    "checksum(frcnn_file,'ck2b')\n",
    "checksum(pfrcnn_file,'ck2b')\n",
    "checksum(pt_file,'ck2b')\n",
    "checksum(frcnn_file,'skf2c')\n",
    "checksum(pfrcnn_file,'skf2c')\n",
    "checksum(pt_file,'skf2c')\n"
   ]
  },
  {
   "cell_type": "code",
   "execution_count": 194,
   "id": "794ac41f",
   "metadata": {},
   "outputs": [
    {
     "name": "stdout",
     "output_type": "stream",
     "text": [
      "filename    b1c66a42-6f7d68ca.jpgb1c9c847-3bda4659.jpgb1ca...\n",
      "TP                                                      57380\n",
      "TN0                                                      2648\n",
      "TN1                                                     13018\n",
      "FP0                                                     18636\n",
      "FP1                                                     19455\n",
      "dtype: object\n"
     ]
    }
   ],
   "source": [
    "checksum('../frcnn_detectron2/pseudo_label_analysis/frcnn/eval_metric_ck2b.csv')"
   ]
  },
  {
   "cell_type": "code",
   "execution_count": 185,
   "id": "d0ecf540",
   "metadata": {},
   "outputs": [],
   "source": [
    "input_file = '../frcnn_detectron2/pseudo_label_analysis/frcnn/eval_metric_ck2b.csv'\n",
    "eval_ck2b_frcnn = pd.read_csv(input_file)\n"
   ]
  },
  {
   "cell_type": "code",
   "execution_count": 186,
   "id": "f9e98b2d",
   "metadata": {},
   "outputs": [],
   "source": [
    "input_file = 'pseudo_label_analysis/source-only_PT/eval_metric_ck2b.csv'\n",
    "eval_ck2b_pfrcnn = pd.read_csv(input_file)\n"
   ]
  },
  {
   "cell_type": "code",
   "execution_count": 187,
   "id": "f53541c9",
   "metadata": {},
   "outputs": [],
   "source": [
    "input_file = 'pseudo_label_analysis/PTDA/eval_metric_ck2b.csv'\n",
    "eval_ck2b_PT = pd.read_csv(input_file)"
   ]
  },
  {
   "cell_type": "code",
   "execution_count": 180,
   "id": "1125367c",
   "metadata": {},
   "outputs": [
    {
     "data": {
      "text/plain": [
       "882.6666666666666"
      ]
     },
     "execution_count": 180,
     "metadata": {},
     "output_type": "execute_result"
    }
   ],
   "source": [
    "for index in df.columns\n",
    "    print(df.sum(axis=0)[index])"
   ]
  },
  {
   "cell_type": "code",
   "execution_count": 189,
   "id": "259fb2a6",
   "metadata": {},
   "outputs": [
    {
     "data": {
      "text/plain": [
       "filename    b1c66a42-6f7d68ca.jpgb1c9c847-3bda4659.jpgb1ca...\n",
       "TP                                                      57380\n",
       "TN0                                                      2648\n",
       "TN1                                                     13018\n",
       "FP0                                                     18636\n",
       "FP1                                                     19455\n",
       "dtype: object"
      ]
     },
     "execution_count": 189,
     "metadata": {},
     "output_type": "execute_result"
    }
   ],
   "source": [
    "eval_ck2b_frcnn.sum(axis=0)"
   ]
  },
  {
   "cell_type": "code",
   "execution_count": 188,
   "id": "3263755d",
   "metadata": {},
   "outputs": [
    {
     "data": {
      "text/plain": [
       "filename    b1c66a42-6f7d68ca.jpgb1c9c847-3bda4659.jpgb1ca...\n",
       "TP                                                      49681\n",
       "FN0                                                      2451\n",
       "FN1                                                      5701\n",
       "FP0                                                     36740\n",
       "FP1                                                     33105\n",
       "dtype: object"
      ]
     },
     "execution_count": 188,
     "metadata": {},
     "output_type": "execute_result"
    }
   ],
   "source": [
    "eval_ck2b_pfrcnn.sum(axis=0)"
   ]
  },
  {
   "cell_type": "code",
   "execution_count": 190,
   "id": "4160ee78",
   "metadata": {},
   "outputs": [
    {
     "data": {
      "text/plain": [
       "filename    b1c66a42-6f7d68ca.jpgb1c9c847-3bda4659.jpgb1ca...\n",
       "TP                                                      53774\n",
       "TN0                                                      1240\n",
       "TN1                                                      2819\n",
       "FP0                                                     88573\n",
       "FP1                                                     55627\n",
       "dtype: object"
      ]
     },
     "execution_count": 190,
     "metadata": {},
     "output_type": "execute_result"
    }
   ],
   "source": [
    "eval_ck2b_PT.sum(axis=0)"
   ]
  },
  {
   "cell_type": "code",
   "execution_count": 70,
   "id": "f2fbdecd",
   "metadata": {},
   "outputs": [
    {
     "data": {
      "text/plain": [
       "Index(['filename', 'TP', 'FN0', 'FN1', 'FP0', 'FP1'], dtype='object')"
      ]
     },
     "execution_count": 70,
     "metadata": {},
     "output_type": "execute_result"
    }
   ],
   "source": [
    "eval_skf2c.columns"
   ]
  },
  {
   "cell_type": "code",
   "execution_count": 147,
   "id": "0fbfbe2d",
   "metadata": {},
   "outputs": [
    {
     "data": {
      "text/plain": [
       "0    15\n",
       "1    17\n",
       "2    13\n",
       "3     5\n",
       "4    13\n",
       "Name: TP, dtype: object"
      ]
     },
     "execution_count": 147,
     "metadata": {},
     "output_type": "execute_result"
    }
   ],
   "source": [
    "eval_skf2c['TP']"
   ]
  },
  {
   "cell_type": "code",
   "execution_count": 148,
   "id": "58187a49",
   "metadata": {},
   "outputs": [
    {
     "ename": "TypeError",
     "evalue": "arg must be a list, tuple, 1-d array, or Series",
     "output_type": "error",
     "traceback": [
      "\u001b[0;31m---------------------------------------------------------------------------\u001b[0m",
      "\u001b[0;31mTypeError\u001b[0m                                 Traceback (most recent call last)",
      "\u001b[0;32m/tmp/ipykernel_4850/3291270258.py\u001b[0m in \u001b[0;36m<module>\u001b[0;34m\u001b[0m\n\u001b[0;32m----> 1\u001b[0;31m \u001b[0mpd\u001b[0m\u001b[0;34m.\u001b[0m\u001b[0mto_numeric\u001b[0m\u001b[0;34m(\u001b[0m\u001b[0meval_skf2c\u001b[0m\u001b[0;34m)\u001b[0m\u001b[0;34m\u001b[0m\u001b[0;34m\u001b[0m\u001b[0m\n\u001b[0m",
      "\u001b[0;32m~/.local/lib/python3.8/site-packages/pandas/core/tools/numeric.py\u001b[0m in \u001b[0;36mto_numeric\u001b[0;34m(arg, errors, downcast)\u001b[0m\n\u001b[1;32m    162\u001b[0m         \u001b[0mvalues\u001b[0m \u001b[0;34m=\u001b[0m \u001b[0mnp\u001b[0m\u001b[0;34m.\u001b[0m\u001b[0marray\u001b[0m\u001b[0;34m(\u001b[0m\u001b[0;34m[\u001b[0m\u001b[0marg\u001b[0m\u001b[0;34m]\u001b[0m\u001b[0;34m,\u001b[0m \u001b[0mdtype\u001b[0m\u001b[0;34m=\u001b[0m\u001b[0;34m\"O\"\u001b[0m\u001b[0;34m)\u001b[0m\u001b[0;34m\u001b[0m\u001b[0;34m\u001b[0m\u001b[0m\n\u001b[1;32m    163\u001b[0m     \u001b[0;32melif\u001b[0m \u001b[0mgetattr\u001b[0m\u001b[0;34m(\u001b[0m\u001b[0marg\u001b[0m\u001b[0;34m,\u001b[0m \u001b[0;34m\"ndim\"\u001b[0m\u001b[0;34m,\u001b[0m \u001b[0;36m1\u001b[0m\u001b[0;34m)\u001b[0m \u001b[0;34m>\u001b[0m \u001b[0;36m1\u001b[0m\u001b[0;34m:\u001b[0m\u001b[0;34m\u001b[0m\u001b[0;34m\u001b[0m\u001b[0m\n\u001b[0;32m--> 164\u001b[0;31m         \u001b[0;32mraise\u001b[0m \u001b[0mTypeError\u001b[0m\u001b[0;34m(\u001b[0m\u001b[0;34m\"arg must be a list, tuple, 1-d array, or Series\"\u001b[0m\u001b[0;34m)\u001b[0m\u001b[0;34m\u001b[0m\u001b[0;34m\u001b[0m\u001b[0m\n\u001b[0m\u001b[1;32m    165\u001b[0m     \u001b[0;32melse\u001b[0m\u001b[0;34m:\u001b[0m\u001b[0;34m\u001b[0m\u001b[0;34m\u001b[0m\u001b[0m\n\u001b[1;32m    166\u001b[0m         \u001b[0mvalues\u001b[0m \u001b[0;34m=\u001b[0m \u001b[0marg\u001b[0m\u001b[0;34m\u001b[0m\u001b[0;34m\u001b[0m\u001b[0m\n",
      "\u001b[0;31mTypeError\u001b[0m: arg must be a list, tuple, 1-d array, or Series"
     ]
    }
   ],
   "source": [
    "pd.to_numeric(eval_skf2c)"
   ]
  },
  {
   "cell_type": "code",
   "execution_count": 32,
   "id": "614846eb",
   "metadata": {},
   "outputs": [
    {
     "ename": "TypeError",
     "evalue": "unsupported operand type(s) for /: 'str' and 'int'",
     "output_type": "error",
     "traceback": [
      "\u001b[0;31m---------------------------------------------------------------------------\u001b[0m",
      "\u001b[0;31mTypeError\u001b[0m                                 Traceback (most recent call last)",
      "\u001b[0;32m/tmp/ipykernel_4850/509577656.py\u001b[0m in \u001b[0;36m<module>\u001b[0;34m\u001b[0m\n\u001b[1;32m      2\u001b[0m \u001b[0;32mfor\u001b[0m \u001b[0mindex\u001b[0m \u001b[0;32min\u001b[0m \u001b[0meval_skf2c\u001b[0m\u001b[0;34m.\u001b[0m\u001b[0mcolumns\u001b[0m\u001b[0;34m:\u001b[0m\u001b[0;34m\u001b[0m\u001b[0;34m\u001b[0m\u001b[0m\n\u001b[1;32m      3\u001b[0m     \u001b[0;32mif\u001b[0m \u001b[0;34m'FP'\u001b[0m \u001b[0;32min\u001b[0m \u001b[0mindex\u001b[0m\u001b[0;34m:\u001b[0m\u001b[0;34m\u001b[0m\u001b[0;34m\u001b[0m\u001b[0m\n\u001b[0;32m----> 4\u001b[0;31m         \u001b[0mpie_chart_list\u001b[0m\u001b[0;34m.\u001b[0m\u001b[0mappend\u001b[0m\u001b[0;34m(\u001b[0m\u001b[0meval_skf2c\u001b[0m\u001b[0;34m.\u001b[0m\u001b[0msum\u001b[0m\u001b[0;34m(\u001b[0m\u001b[0maxis\u001b[0m\u001b[0;34m=\u001b[0m\u001b[0;36m0\u001b[0m\u001b[0;34m)\u001b[0m\u001b[0;34m[\u001b[0m\u001b[0mindex\u001b[0m\u001b[0;34m]\u001b[0m\u001b[0;34m/\u001b[0m\u001b[0;36m3\u001b[0m\u001b[0;34m)\u001b[0m\u001b[0;34m\u001b[0m\u001b[0;34m\u001b[0m\u001b[0m\n\u001b[0m\u001b[1;32m      5\u001b[0m     \u001b[0;32melif\u001b[0m \u001b[0;34m'filename'\u001b[0m \u001b[0;32mnot\u001b[0m \u001b[0;32min\u001b[0m \u001b[0mindex\u001b[0m\u001b[0;34m:\u001b[0m\u001b[0;34m\u001b[0m\u001b[0;34m\u001b[0m\u001b[0m\n\u001b[1;32m      6\u001b[0m         \u001b[0mpie_chart_list\u001b[0m\u001b[0;34m.\u001b[0m\u001b[0mappend\u001b[0m\u001b[0;34m(\u001b[0m\u001b[0meval_skf2c\u001b[0m\u001b[0;34m.\u001b[0m\u001b[0msum\u001b[0m\u001b[0;34m(\u001b[0m\u001b[0maxis\u001b[0m\u001b[0;34m=\u001b[0m\u001b[0;36m0\u001b[0m\u001b[0;34m)\u001b[0m\u001b[0;34m[\u001b[0m\u001b[0mindex\u001b[0m\u001b[0;34m]\u001b[0m\u001b[0;34m)\u001b[0m\u001b[0;34m\u001b[0m\u001b[0;34m\u001b[0m\u001b[0m\n",
      "\u001b[0;31mTypeError\u001b[0m: unsupported operand type(s) for /: 'str' and 'int'"
     ]
    }
   ],
   "source": [
    "pie_chart_list = []\n",
    "for index in eval_skf2c.columns:\n",
    "    if 'FP' in index:\n",
    "        pie_chart_list.append(eval_skf2c.sum(axis=0)[index]/3)    \n",
    "    elif 'filename' not in index:\n",
    "        pie_chart_list.append(eval_skf2c.sum(axis=0)[index])\n",
    "return pie_chart_list"
   ]
  },
  {
   "cell_type": "markdown",
   "id": "e609a1cc",
   "metadata": {},
   "source": [
    "# 6. ensemble BBox"
   ]
  },
  {
   "cell_type": "code",
   "execution_count": null,
   "id": "ceb718ef",
   "metadata": {},
   "outputs": [],
   "source": []
  },
  {
   "cell_type": "markdown",
   "id": "7bf99b26",
   "metadata": {},
   "source": [
    "# Appendix. show match array "
   ]
  },
  {
   "cell_type": "markdown",
   "id": "0db7e239",
   "metadata": {},
   "source": [
    "### a. gt"
   ]
  },
  {
   "cell_type": "code",
   "execution_count": 10,
   "id": "e3dd1cd2",
   "metadata": {},
   "outputs": [
    {
     "data": {
      "text/html": [
       "<div>\n",
       "<style scoped>\n",
       "    .dataframe tbody tr th:only-of-type {\n",
       "        vertical-align: middle;\n",
       "    }\n",
       "\n",
       "    .dataframe tbody tr th {\n",
       "        vertical-align: top;\n",
       "    }\n",
       "\n",
       "    .dataframe thead th {\n",
       "        text-align: right;\n",
       "    }\n",
       "</style>\n",
       "<table border=\"1\" class=\"dataframe\">\n",
       "  <thead>\n",
       "    <tr style=\"text-align: right;\">\n",
       "      <th></th>\n",
       "      <th>sim20k</th>\n",
       "      <th>kitti</th>\n",
       "      <th>foggycityscape</th>\n",
       "    </tr>\n",
       "  </thead>\n",
       "  <tbody>\n",
       "    <tr>\n",
       "      <th>0</th>\n",
       "      <td>True</td>\n",
       "      <td>True</td>\n",
       "      <td>False</td>\n",
       "    </tr>\n",
       "    <tr>\n",
       "      <th>1</th>\n",
       "      <td>True</td>\n",
       "      <td>True</td>\n",
       "      <td>True</td>\n",
       "    </tr>\n",
       "    <tr>\n",
       "      <th>2</th>\n",
       "      <td>True</td>\n",
       "      <td>True</td>\n",
       "      <td>True</td>\n",
       "    </tr>\n",
       "    <tr>\n",
       "      <th>3</th>\n",
       "      <td>True</td>\n",
       "      <td>True</td>\n",
       "      <td>True</td>\n",
       "    </tr>\n",
       "    <tr>\n",
       "      <th>4</th>\n",
       "      <td>True</td>\n",
       "      <td>True</td>\n",
       "      <td>True</td>\n",
       "    </tr>\n",
       "    <tr>\n",
       "      <th>5</th>\n",
       "      <td>True</td>\n",
       "      <td>True</td>\n",
       "      <td>True</td>\n",
       "    </tr>\n",
       "    <tr>\n",
       "      <th>6</th>\n",
       "      <td>True</td>\n",
       "      <td>True</td>\n",
       "      <td>True</td>\n",
       "    </tr>\n",
       "    <tr>\n",
       "      <th>7</th>\n",
       "      <td>True</td>\n",
       "      <td>True</td>\n",
       "      <td>True</td>\n",
       "    </tr>\n",
       "    <tr>\n",
       "      <th>8</th>\n",
       "      <td>True</td>\n",
       "      <td>True</td>\n",
       "      <td>True</td>\n",
       "    </tr>\n",
       "    <tr>\n",
       "      <th>9</th>\n",
       "      <td>False</td>\n",
       "      <td>False</td>\n",
       "      <td>False</td>\n",
       "    </tr>\n",
       "    <tr>\n",
       "      <th>10</th>\n",
       "      <td>True</td>\n",
       "      <td>False</td>\n",
       "      <td>False</td>\n",
       "    </tr>\n",
       "    <tr>\n",
       "      <th>11</th>\n",
       "      <td>True</td>\n",
       "      <td>False</td>\n",
       "      <td>False</td>\n",
       "    </tr>\n",
       "    <tr>\n",
       "      <th>12</th>\n",
       "      <td>True</td>\n",
       "      <td>False</td>\n",
       "      <td>False</td>\n",
       "    </tr>\n",
       "    <tr>\n",
       "      <th>13</th>\n",
       "      <td>False</td>\n",
       "      <td>False</td>\n",
       "      <td>False</td>\n",
       "    </tr>\n",
       "    <tr>\n",
       "      <th>14</th>\n",
       "      <td>False</td>\n",
       "      <td>False</td>\n",
       "      <td>False</td>\n",
       "    </tr>\n",
       "    <tr>\n",
       "      <th>15</th>\n",
       "      <td>False</td>\n",
       "      <td>False</td>\n",
       "      <td>False</td>\n",
       "    </tr>\n",
       "    <tr>\n",
       "      <th>16</th>\n",
       "      <td>True</td>\n",
       "      <td>True</td>\n",
       "      <td>True</td>\n",
       "    </tr>\n",
       "    <tr>\n",
       "      <th>17</th>\n",
       "      <td>True</td>\n",
       "      <td>True</td>\n",
       "      <td>True</td>\n",
       "    </tr>\n",
       "  </tbody>\n",
       "</table>\n",
       "</div>"
      ],
      "text/plain": [
       "    sim20k  kitti  foggycityscape\n",
       "0     True   True           False\n",
       "1     True   True            True\n",
       "2     True   True            True\n",
       "3     True   True            True\n",
       "4     True   True            True\n",
       "5     True   True            True\n",
       "6     True   True            True\n",
       "7     True   True            True\n",
       "8     True   True            True\n",
       "9    False  False           False\n",
       "10    True  False           False\n",
       "11    True  False           False\n",
       "12    True  False           False\n",
       "13   False  False           False\n",
       "14   False  False           False\n",
       "15   False  False           False\n",
       "16    True   True            True\n",
       "17    True   True            True"
      ]
     },
     "execution_count": 10,
     "metadata": {},
     "output_type": "execute_result"
    }
   ],
   "source": [
    "df_gt = pd.DataFrame()\n",
    "\n",
    "ma_gt_array = np.array(ma_gt).T\n",
    "df_gt = pd.DataFrame(ma_gt_array, columns = source_list)\n",
    "df_gt"
   ]
  },
  {
   "cell_type": "markdown",
   "id": "d3f3dd6c",
   "metadata": {},
   "source": [
    "### b. source"
   ]
  },
  {
   "cell_type": "code",
   "execution_count": 6,
   "id": "f1885513",
   "metadata": {},
   "outputs": [],
   "source": [
    "#ma_src\n",
    "\n",
    "df_src = pd.DataFrame()\n",
    "\n",
    "ma_src_array = np.array(ma_src[2]).T\n",
    "df_src = pd.DataFrame(ma_src_array, columns = source_list)\n",
    "df_src.to_csv(\"src_foggy2city_match_array.csv\")"
   ]
  },
  {
   "cell_type": "code",
   "execution_count": 45,
   "id": "746c83a0",
   "metadata": {},
   "outputs": [
    {
     "data": {
      "text/plain": [
       "7"
      ]
     },
     "execution_count": 45,
     "metadata": {},
     "output_type": "execute_result"
    }
   ],
   "source": [
    "TP"
   ]
  },
  {
   "cell_type": "code",
   "execution_count": 46,
   "id": "f9321765",
   "metadata": {},
   "outputs": [
    {
     "data": {
      "text/plain": [
       "[11, 1, 0]"
      ]
     },
     "execution_count": 46,
     "metadata": {},
     "output_type": "execute_result"
    }
   ],
   "source": [
    "TN_array"
   ]
  },
  {
   "cell_type": "code",
   "execution_count": 47,
   "id": "0299e75b",
   "metadata": {},
   "outputs": [
    {
     "data": {
      "text/plain": [
       "[[5, 13, 22], [1, 0, 24], [3, 5, 30]]"
      ]
     },
     "execution_count": 47,
     "metadata": {},
     "output_type": "execute_result"
    }
   ],
   "source": [
    "FP_array"
   ]
  },
  {
   "cell_type": "code",
   "execution_count": null,
   "id": "162f64a9",
   "metadata": {},
   "outputs": [],
   "source": []
  }
 ],
 "metadata": {
  "kernelspec": {
   "display_name": "detectron2",
   "language": "python",
   "name": "detectron2"
  },
  "language_info": {
   "codemirror_mode": {
    "name": "ipython",
    "version": 3
   },
   "file_extension": ".py",
   "mimetype": "text/x-python",
   "name": "python",
   "nbconvert_exporter": "python",
   "pygments_lexer": "ipython3",
   "version": "3.7.12"
  }
 },
 "nbformat": 4,
 "nbformat_minor": 5
}
