{
 "cells": [
  {
   "cell_type": "code",
   "execution_count": 2,
   "id": "52afcdd4",
   "metadata": {},
   "outputs": [
    {
     "name": "stdout",
     "output_type": "stream",
     "text": [
      "NOTE! Installing ujson may make loading annotations faster.\n"
     ]
    },
    {
     "name": "stderr",
     "output_type": "stream",
     "text": [
      "/home/superorange5/.local/lib/python3.8/site-packages/torchvision/transforms/transforms.py:803: UserWarning: Argument interpolation should be of type InterpolationMode instead of int. Please, use InterpolationMode enum.\n",
      "  warnings.warn(\n"
     ]
    }
   ],
   "source": [
    "from Nb_utils import *"
   ]
  },
  {
   "cell_type": "markdown",
   "id": "b3885fc6",
   "metadata": {},
   "source": [
    "# 1. select dataset"
   ]
  },
  {
   "cell_type": "markdown",
   "id": "dc40e51b",
   "metadata": {},
   "source": [
    "## 1a. CK2B"
   ]
  },
  {
   "cell_type": "markdown",
   "id": "556f5f91",
   "metadata": {},
   "source": [
    "### load data"
   ]
  },
  {
   "cell_type": "code",
   "execution_count": 3,
   "id": "e77205ef",
   "metadata": {},
   "outputs": [
    {
     "name": "stdout",
     "output_type": "stream",
     "text": [
      "keep_experiments/c2b_source-only/cfg.yaml\n",
      "keep_experiments/c2b_source-only/model_0027999.pth\n",
      "-------- pretrained model loaded ---------\n",
      "-------- pretrained model loaded ---------\n",
      "keep_experiments/k2b_source-only/cfg.yaml\n",
      "keep_experiments/k2b_source-only/model_0007999.pth\n",
      "-------- pretrained model loaded ---------\n",
      "-------- pretrained model loaded ---------\n"
     ]
    }
   ],
   "source": [
    "# parameter setting\n",
    "ratio=1.2\n",
    "dataset_name = 'VOC2007_bddval1'  \n",
    "#dataset_name = 'VOC2007_bddvalsmall'\n",
    "output_csv_file = 'eval_metric_ck2b.csv'\n",
    "source_list =['kitti','cityscape']\n",
    "\n",
    "# config\n",
    "cfg = setup(\"configs/pt/final_c2b.yaml\")\n",
    "\n",
    "# load test data\n",
    "test_data_loader = build_detection_test_loader(cfg, dataset_name)\n",
    "\n",
    "# load annotations\n",
    "data_annotation = DatasetCatalog.get(dataset_name)\n",
    "\n",
    "# load model\n",
    "#model_c2b = get_model('c2b', 11999)\n",
    "#model_k2b = get_model('k2b', 'final')\n",
    "\n",
    "model_c2b = get_model('c2b_source-only', 27999)\n",
    "model_k2b = get_model('k2b_source-only', 7999)\n",
    "\n",
    "model_list=[model_k2b,model_c2b]\n"
   ]
  },
  {
   "cell_type": "markdown",
   "id": "fb9a9a99",
   "metadata": {},
   "source": [
    "## 1b. SKF2c"
   ]
  },
  {
   "cell_type": "code",
   "execution_count": 13,
   "id": "851b5aac",
   "metadata": {},
   "outputs": [
    {
     "name": "stdout",
     "output_type": "stream",
     "text": [
      "keep_experiments/s2c_source-only/cfg.yaml\n",
      "keep_experiments/s2c_source-only/model_0023999.pth\n",
      "-------- pretrained model loaded ---------\n",
      "-------- pretrained model loaded ---------\n",
      "keep_experiments/k2c_source-only/cfg.yaml\n",
      "keep_experiments/k2c_source-only/model_final.pth\n",
      "-------- pretrained model loaded ---------\n",
      "-------- pretrained model loaded ---------\n",
      "keep_experiments/f2c_source-only/cfg.yaml\n",
      "keep_experiments/f2c_source-only/model_0027999.pth\n",
      "-------- pretrained model loaded ---------\n",
      "-------- pretrained model loaded ---------\n"
     ]
    }
   ],
   "source": [
    "# parameter setting\n",
    "dataset_name = 'VOC2007_cityval1'\n",
    "source_list =['sim10k','kitti','foggycityscape']\n",
    "output_csv_file = 'eval_metric_skf2c.csv'\n",
    "ratio = 1.706\n",
    "# config\n",
    "cfg = setup(\"configs/pt/final_k2c.yaml\")\n",
    "\n",
    "test_data_loader = build_detection_test_loader(cfg, dataset_name)\n",
    "\n",
    "\n",
    "#---------skf2c-------\n",
    "#model_s2c = get_model('s2c', 15999)\n",
    "#model_k2c = get_model('k2c', 19999)\n",
    "#model_f2c = get_model('f2c', 'final') #8class\n",
    "#model_f2c = get_model('f2c_1class', 11999)\n",
    "\n",
    "\n",
    "model_s2c = get_model('s2c_source-only', 23999)\n",
    "model_k2c = get_model('k2c_source-only', 'final')\n",
    "model_f2c = get_model('f2c_source-only', 27999)\n",
    "\n",
    "model_list=[model_s2c,model_k2c,model_f2c]\n",
    "\n",
    "data_loader_iter = iter(test_data_loader)\n",
    "test_data = data_loader_iter.next()\n",
    "data_annotation = DatasetCatalog.get(dataset_name)\n"
   ]
  },
  {
   "cell_type": "markdown",
   "id": "802ecbc2",
   "metadata": {},
   "source": [
    "# 4. Filter by others: (write car.txt)"
   ]
  },
  {
   "cell_type": "markdown",
   "id": "622e7937",
   "metadata": {},
   "source": [
    "* use 1 model as baseline to match others\n"
   ]
  },
  {
   "cell_type": "code",
   "execution_count": 302,
   "id": "3f8a6afd",
   "metadata": {},
   "outputs": [],
   "source": [
    "\n",
    "#b1c66a42-6f7d68ca 0.971 933.1 339.5 1221.0 481.7\n",
    "#output_folder = \"tmp/skf2c_sim10k/\"\n",
    "#output_folder = \"tmp/skf2c_kitti/\"\n",
    "\n",
    "#output_folder = \"tmp/skf2c_foggy/\"\n",
    "output_folder = \"tmp/ck2b_kitti_tmp/\"\n",
    "src_idx = 0\n",
    "\n",
    "source_num = len(source_list)-1\n",
    "\n",
    "\n",
    "if not os.path.exists(output_folder):\n",
    "    os.makedirs( output_folder)\n",
    "output_file = os.path.join(output_folder,\"car.txt\")\n",
    "\n",
    "f = open(output_file, \"w\")\n",
    "\n",
    "\n",
    "for i,test_data in enumerate(test_data_loader): \n",
    "    proposals_roih_multiple=[]\n",
    "    for model in model_list:\n",
    "        proposals_roih_multiple.append(get_proposal_roih(test_data,model))\n",
    "    \n",
    "    ma_gt, ma_src = get_match_array_all(proposals_roih_multiple, data_annotation[i]['annotations'],ratio)\n",
    "    \n",
    "    #------get keep index (all true)\n",
    "    col_name = [ x for k,x in enumerate(source_list) if k!=src_idx]\n",
    "    col_name.insert(0, 'groundtruth')\n",
    "    df_src = pd.DataFrame()    \n",
    "    src_array = np.array(ma_src[src_idx]).T\n",
    "    df_src = pd.DataFrame(src_array, columns = col_name)\n",
    "    df_src['summary'] = df_src.drop('groundtruth', axis=1).sum(axis=1)\n",
    "    keep_index = df_src.index[df_src.summary==source_num]\n",
    "            \n",
    "    filename = os.path.basename(data_annotation[i]['file_name']).split('.')[0]\n",
    "    \n",
    "    for idx in keep_index:    \n",
    "        bbox = proposals_roih_multiple[src_idx][0][idx].get('pred_boxes')\n",
    "        score = proposals_roih_multiple[src_idx][0][idx].get('scores').cpu().numpy()[0]\n",
    "        x1 = bbox.tensor[:, 0].cpu().numpy()[0]\n",
    "        y1 = bbox.tensor[:, 1].cpu().numpy()[0]\n",
    "        x2 = bbox.tensor[:, 2].cpu().numpy()[0]\n",
    "        y2 = bbox.tensor[:, 3].cpu().numpy()[0]\n",
    "\n",
    "        f.write(\"{} {:.3f} {:.1f} {:.1f} {:.1f} {:.1f}\\n\".format(filename,score,x1,y1,x2,y2))\n",
    "f.close()"
   ]
  },
  {
   "cell_type": "markdown",
   "id": "a09bd2e2",
   "metadata": {},
   "source": [
    "# 5. filter by score"
   ]
  },
  {
   "cell_type": "code",
   "execution_count": 226,
   "id": "37bdd4e8",
   "metadata": {},
   "outputs": [
    {
     "data": {
      "text/plain": [
       "5258"
      ]
     },
     "execution_count": 226,
     "metadata": {},
     "output_type": "execute_result"
    }
   ],
   "source": [
    "len(test_data_loader)"
   ]
  },
  {
   "cell_type": "code",
   "execution_count": 315,
   "id": "13e2e1ff",
   "metadata": {},
   "outputs": [],
   "source": [
    "output_folder = \"tmp/skf2c_threshold_foggy/\"\n",
    "model = model_f2c\n",
    "threshold=0\n",
    "\n",
    "if not os.path.exists(output_folder):\n",
    "    os.makedirs( output_folder)\n",
    "output_file = os.path.join(output_folder,\"car.txt\")\n",
    "\n",
    "f = open(output_file, \"w\")\n",
    "\n",
    "\n",
    "for i,test_data in enumerate(test_data_loader): \n",
    "    proposals_roih=get_proposal_roih(test_data,model)\n",
    "    scaling(proposals_roih,ratio)\n",
    "            \n",
    "    filename = os.path.basename(data_annotation[i]['file_name']).split('.')[0]\n",
    "    #print(len(proposals_roih[0]))\n",
    "    \n",
    "    \n",
    "    confident_detections = proposals_roih[0][proposals_roih[0].scores > threshold]\n",
    "    #print(len(confident_detections))\n",
    "    #print(confident_detections)\n",
    "    for bb_idx,bb in enumerate(confident_detections.pred_boxes):\n",
    "        scores = confident_detections.scores.cpu().numpy()[bb_idx]    \n",
    "        x1 = bb.cpu()[0].numpy()\n",
    "        y1 = bb.cpu()[1].numpy()\n",
    "        x2 = bb.cpu()[2].numpy()\n",
    "        y2 = bb.cpu()[3].numpy()\n",
    "        f.write(\"{} {:.3f} {:.1f} {:.1f} {:.1f} {:.1f}\\n\".format(filename,scores,x1,y1,x2,y2))\n",
    "f.close()"
   ]
  },
  {
   "cell_type": "code",
   "execution_count": 309,
   "id": "b0bf296b",
   "metadata": {},
   "outputs": [],
   "source": [
    "data_loader_iter = iter(test_data_loader)\n",
    "test_data = data_loader_iter.next()\n",
    "\n",
    "proposals_roih = get_proposal_roih(test_data,model)\n",
    "#scaling(proposals_roih,ratio)"
   ]
  },
  {
   "cell_type": "code",
   "execution_count": 313,
   "id": "d9676ef5",
   "metadata": {},
   "outputs": [
    {
     "data": {
      "text/plain": [
       "tensor([0.9905, 0.9904, 0.9839, 0.9735, 0.9637, 0.9500, 0.9182, 0.9106, 0.8995,\n",
       "        0.8882, 0.8751, 0.8206, 0.7514, 0.5427, 0.3144, 0.2696, 0.2413, 0.1475,\n",
       "        0.1293, 0.1151, 0.0720, 0.0653, 0.0439, 0.0426, 0.0411, 0.0371, 0.0345,\n",
       "        0.0259, 0.0230, 0.0145, 0.0120], device='cuda:0')"
      ]
     },
     "execution_count": 313,
     "metadata": {},
     "output_type": "execute_result"
    }
   ],
   "source": [
    "proposals_roih[0].scores"
   ]
  },
  {
   "cell_type": "code",
   "execution_count": 283,
   "id": "dcaef6b1",
   "metadata": {},
   "outputs": [],
   "source": [
    "confident_detections = proposals_roih[0][proposals_roih[0].scores > 0.7]\n"
   ]
  },
  {
   "cell_type": "code",
   "execution_count": 289,
   "id": "0a7a0b27",
   "metadata": {},
   "outputs": [
    {
     "data": {
      "text/plain": [
       "59"
      ]
     },
     "execution_count": 289,
     "metadata": {},
     "output_type": "execute_result"
    }
   ],
   "source": [
    "len(proposals_roih[0])"
   ]
  },
  {
   "cell_type": "code",
   "execution_count": 282,
   "id": "2a2e435f",
   "metadata": {},
   "outputs": [
    {
     "data": {
      "text/plain": [
       "tensor([0.8585, 0.8510, 0.2891, 0.2891, 0.2891, 0.2891, 0.0903, 0.0829, 0.0620,\n",
       "        0.0594, 0.0484, 0.0395, 0.0394, 0.0359, 0.0327, 0.0289, 0.0283, 0.0253,\n",
       "        0.0251, 0.0239, 0.0230, 0.0226, 0.0221, 0.0217, 0.0206, 0.0204, 0.0193,\n",
       "        0.0177, 0.0176, 0.0175, 0.0171, 0.0170, 0.0170, 0.0169, 0.0165, 0.0159,\n",
       "        0.0157, 0.0155, 0.0151, 0.0139, 0.0137, 0.0135, 0.0129, 0.0127, 0.0111,\n",
       "        0.0103, 0.0102, 0.0102, 0.0091, 0.0079, 0.0073, 0.0058, 0.0057, 0.0057,\n",
       "        0.0056, 0.0056, 0.0052, 0.0043, 0.0017], device='cuda:0')"
      ]
     },
     "execution_count": 282,
     "metadata": {},
     "output_type": "execute_result"
    }
   ],
   "source": [
    "proposals_roih[0].scores"
   ]
  },
  {
   "cell_type": "code",
   "execution_count": 247,
   "id": "7e3d01b1",
   "metadata": {},
   "outputs": [
    {
     "data": {
      "text/plain": [
       "0.7825451"
      ]
     },
     "execution_count": 247,
     "metadata": {},
     "output_type": "execute_result"
    }
   ],
   "source": [
    "confident_detections.scores.cpu().numpy()[10]"
   ]
  },
  {
   "cell_type": "code",
   "execution_count": 248,
   "id": "9689ed0c",
   "metadata": {},
   "outputs": [
    {
     "name": "stdout",
     "output_type": "stream",
     "text": [
      "fe1f55fa-19ba3600 0.978 657.4 300.0 760.5 359.7\n",
      "\n",
      "fe1f55fa-19ba3600 0.977 765.4 269.6 1029.1 405.8\n",
      "\n",
      "fe1f55fa-19ba3600 0.953 621.5 301.7 683.1 345.3\n",
      "\n",
      "fe1f55fa-19ba3600 0.943 17.7 287.6 113.3 337.8\n",
      "\n",
      "fe1f55fa-19ba3600 0.913 498.6 296.3 530.5 319.8\n",
      "\n",
      "fe1f55fa-19ba3600 0.905 608.3 306.9 643.7 338.6\n",
      "\n",
      "fe1f55fa-19ba3600 0.902 569.7 301.1 601.7 328.6\n",
      "\n",
      "fe1f55fa-19ba3600 0.901 735.1 310.4 828.6 379.4\n",
      "\n",
      "fe1f55fa-19ba3600 0.899 202.1 288.5 295.7 333.0\n",
      "\n",
      "fe1f55fa-19ba3600 0.849 3.5 283.0 52.4 341.3\n",
      "\n",
      "fe1f55fa-19ba3600 0.783 169.4 282.3 237.7 322.0\n",
      "\n",
      "fe1f55fa-19ba3600 0.752 585.2 306.9 622.1 333.7\n",
      "\n"
     ]
    }
   ],
   "source": [
    "for bb_idx,bb in enumerate(confident_detections.pred_boxes):\n",
    "        scores = confident_detections.scores.cpu().numpy()[bb_idx]    \n",
    "        x1 = bb.cpu()[0].numpy()\n",
    "        y1 = bb.cpu()[1].numpy()\n",
    "        x2 = bb.cpu()[2].numpy()\n",
    "        y2 = bb.cpu()[3].numpy()\n",
    "        print(\"{} {:.3f} {:.1f} {:.1f} {:.1f} {:.1f}\\n\".format(filename,scores,x1,y1,x2,y2))"
   ]
  },
  {
   "cell_type": "code",
   "execution_count": 185,
   "id": "cdb5d108",
   "metadata": {},
   "outputs": [
    {
     "data": {
      "text/plain": [
       "tensor([0.9708, 0.9707, 0.9612, 0.9462, 0.9312, 0.8988, 0.8963, 0.8774, 0.8749,\n",
       "        0.8527, 0.7561, 0.7531, 0.6275, 0.5939, 0.5390, 0.4565, 0.4178, 0.2566,\n",
       "        0.1998, 0.1848, 0.1812, 0.1348, 0.1121, 0.0759, 0.0390, 0.0331, 0.0330,\n",
       "        0.0310, 0.0206, 0.0180, 0.0171, 0.0161, 0.0135, 0.0127, 0.0123, 0.0106,\n",
       "        0.0099, 0.0094], device='cuda:0')"
      ]
     },
     "execution_count": 185,
     "metadata": {},
     "output_type": "execute_result"
    }
   ],
   "source": [
    "threshold = 0.7\n",
    "\n",
    "proposals_roih_multiple[0][0].scores"
   ]
  },
  {
   "cell_type": "code",
   "execution_count": null,
   "id": "247ee730",
   "metadata": {},
   "outputs": [],
   "source": [
    "for bb_idx in "
   ]
  },
  {
   "cell_type": "code",
   "execution_count": 216,
   "id": "c288e4a9",
   "metadata": {},
   "outputs": [],
   "source": [
    "confident_detections = proposals_roih_multiple[0][0][proposals_roih_multiple[0][0].scores > 0.9]"
   ]
  },
  {
   "cell_type": "code",
   "execution_count": 222,
   "id": "b66cabc1",
   "metadata": {},
   "outputs": [
    {
     "data": {
      "text/plain": [
       "tensor([0.8585, 0.8510], device='cuda:0')"
      ]
     },
     "execution_count": 222,
     "metadata": {},
     "output_type": "execute_result"
    }
   ],
   "source": [
    "confident_detections.scores"
   ]
  },
  {
   "cell_type": "code",
   "execution_count": 214,
   "id": "a1baec8c",
   "metadata": {},
   "outputs": [
    {
     "data": {
      "text/plain": [
       "Instances(num_instances=5, image_height=600, image_width=1067, fields=[pred_boxes: Boxes(tensor([[ 776.9964,  282.1017, 1017.7812,  401.4134],\n",
       "        [ 662.6821,  302.0353,  754.8343,  358.3494],\n",
       "        [ 625.2906,  302.1401,  683.5735,  344.2126],\n",
       "        [  32.3438,  291.6617,  106.5337,  333.4795],\n",
       "        [ 734.6452,  314.2469,  805.8868,  373.9079]], device='cuda:0')), scores: tensor([0.9708, 0.9707, 0.9612, 0.9462, 0.9312], device='cuda:0'), pred_classes: tensor([0, 0, 0, 0, 0], device='cuda:0'), scores_logists: tensor([[ 3.3746, -3.4222],\n",
       "        [ 3.0637, -3.1017],\n",
       "        [ 3.7150, -3.7093],\n",
       "        [ 3.2326, -3.2229],\n",
       "        [ 2.6753, -2.6198]], device='cuda:0'), boxes_sigma: tensor([[-3.4894, -3.9871, -3.1702, -3.6849],\n",
       "        [-3.6285, -3.7810, -3.3161, -3.6317],\n",
       "        [-3.2193, -3.3684, -2.9709, -3.3978],\n",
       "        [-2.8282, -3.2153, -2.5468, -3.1238],\n",
       "        [-2.9457, -2.7821, -2.3568, -2.7212]], device='cuda:0')])"
      ]
     },
     "execution_count": 214,
     "metadata": {},
     "output_type": "execute_result"
    }
   ],
   "source": [
    "confident_detections"
   ]
  },
  {
   "cell_type": "code",
   "execution_count": 217,
   "id": "f49f044c",
   "metadata": {},
   "outputs": [
    {
     "name": "stdout",
     "output_type": "stream",
     "text": [
      "0.971 777.0 282.1 1017.8 401.4\n",
      "0.971 662.7 302.0 754.8 358.3\n",
      "0.971 625.3 302.1 683.6 344.2\n",
      "0.971 32.3 291.7 106.5 333.5\n",
      "0.971 734.6 314.2 805.9 373.9\n"
     ]
    }
   ],
   "source": [
    "for bb in confident_detections.pred_boxes:\n",
    "    scores = confident_detections.scores.cpu().numpy()[0]    \n",
    "    x1 = bb.cpu()[0].numpy()\n",
    "    y1 = bb.cpu()[1].numpy()\n",
    "    x2 = bb.cpu()[2].numpy()\n",
    "    y2 = bb.cpu()[3].numpy()\n",
    "    print(\"{:.3f} {:.1f} {:.1f} {:.1f} {:.1f}\".format(scores, x1,y1,x2,y2))"
   ]
  },
  {
   "cell_type": "markdown",
   "id": "0a51f646",
   "metadata": {},
   "source": [
    "# 2. Get results"
   ]
  },
  {
   "cell_type": "markdown",
   "id": "0fb22d40",
   "metadata": {},
   "source": [
    "## 2A.single image test"
   ]
  },
  {
   "cell_type": "code",
   "execution_count": 7,
   "id": "26f83e95",
   "metadata": {},
   "outputs": [],
   "source": [
    "data_loader_iter = iter(test_data_loader)\n",
    "test_data = data_loader_iter.next()\n",
    "\n",
    "proposals_roih_multiple=[]\n",
    "for model in model_list:\n",
    "    proposals_roih_multiple.append(get_proposal_roih(test_data,model))\n",
    "\n",
    "    #data_annotation[0]['annotations'][0]['bbox']\n",
    "ma_gt, ma_src = get_match_array_all(proposals_roih_multiple, data_annotation[0]['annotations'],ratio)\n",
    "\n"
   ]
  },
  {
   "cell_type": "code",
   "execution_count": 10,
   "id": "c2576e63",
   "metadata": {},
   "outputs": [
    {
     "data": {
      "text/plain": [
       "[{'category_id': 0,\n",
       "  'bbox': [206.0, 338.0, 283.0, 389.0],\n",
       "  'bbox_mode': <BoxMode.XYXY_ABS: 0>},\n",
       " {'category_id': 0,\n",
       "  'bbox': [47.0, 344.0, 131.0, 402.0],\n",
       "  'bbox_mode': <BoxMode.XYXY_ABS: 0>},\n",
       " {'category_id': 0,\n",
       "  'bbox': [247.0, 344.0, 348.0, 397.0],\n",
       "  'bbox_mode': <BoxMode.XYXY_ABS: 0>},\n",
       " {'category_id': 0,\n",
       "  'bbox': [0.0, 337.0, 53.0, 404.0],\n",
       "  'bbox_mode': <BoxMode.XYXY_ABS: 0>},\n",
       " {'category_id': 0,\n",
       "  'bbox': [684.0, 357.0, 722.0, 394.0],\n",
       "  'bbox_mode': <BoxMode.XYXY_ABS: 0>},\n",
       " {'category_id': 0,\n",
       "  'bbox': [706.0, 364.0, 735.0, 392.0],\n",
       "  'bbox_mode': <BoxMode.XYXY_ABS: 0>},\n",
       " {'category_id': 0,\n",
       "  'bbox': [727.0, 366.0, 762.0, 402.0],\n",
       "  'bbox_mode': <BoxMode.XYXY_ABS: 0>},\n",
       " {'category_id': 0,\n",
       "  'bbox': [749.0, 362.0, 810.0, 410.0],\n",
       "  'bbox_mode': <BoxMode.XYXY_ABS: 0>},\n",
       " {'category_id': 0,\n",
       "  'bbox': [787.0, 358.0, 907.0, 426.0],\n",
       "  'bbox_mode': <BoxMode.XYXY_ABS: 0>},\n",
       " {'category_id': 0,\n",
       "  'bbox': [880.0, 376.0, 961.0, 453.0],\n",
       "  'bbox_mode': <BoxMode.XYXY_ABS: 0>},\n",
       " {'category_id': 0,\n",
       "  'bbox': [936.0, 336.0, 1213.0, 485.0],\n",
       "  'bbox_mode': <BoxMode.XYXY_ABS: 0>},\n",
       " {'category_id': 0,\n",
       "  'bbox': [1204.0, 416.0, 1280.0, 531.0],\n",
       "  'bbox_mode': <BoxMode.XYXY_ABS: 0>},\n",
       " {'category_id': 0,\n",
       "  'bbox': [552.0, 356.0, 566.0, 369.0],\n",
       "  'bbox_mode': <BoxMode.XYXY_ABS: 0>},\n",
       " {'category_id': 0,\n",
       "  'bbox': [574.0, 352.0, 587.0, 370.0],\n",
       "  'bbox_mode': <BoxMode.XYXY_ABS: 0>},\n",
       " {'category_id': 0,\n",
       "  'bbox': [581.0, 357.0, 599.0, 379.0],\n",
       "  'bbox_mode': <BoxMode.XYXY_ABS: 0>},\n",
       " {'category_id': 0,\n",
       "  'bbox': [596.0, 352.0, 637.0, 387.0],\n",
       "  'bbox_mode': <BoxMode.XYXY_ABS: 0>},\n",
       " {'category_id': 0,\n",
       "  'bbox': [518.0, 356.0, 536.0, 369.0],\n",
       "  'bbox_mode': <BoxMode.XYXY_ABS: 0>},\n",
       " {'category_id': 0,\n",
       "  'bbox': [502.0, 357.0, 519.0, 372.0],\n",
       "  'bbox_mode': <BoxMode.XYXY_ABS: 0>},\n",
       " {'category_id': 0,\n",
       "  'bbox': [453.0, 353.0, 480.0, 374.0],\n",
       "  'bbox_mode': <BoxMode.XYXY_ABS: 0>}]"
      ]
     },
     "execution_count": 10,
     "metadata": {},
     "output_type": "execute_result"
    }
   ],
   "source": [
    "data_annotation[0]['annotations']"
   ]
  },
  {
   "cell_type": "code",
   "execution_count": 8,
   "id": "00b9eba1",
   "metadata": {},
   "outputs": [
    {
     "data": {
      "text/plain": [
       "tensor([0.7708, 0.7278, 0.6378, 0.6011, 0.5827, 0.5590, 0.5444, 0.4486, 0.3859,\n",
       "        0.3571, 0.3526, 0.3247, 0.2898, 0.2826, 0.2621, 0.2517, 0.2437, 0.2108,\n",
       "        0.1974, 0.1525, 0.1306, 0.1177, 0.0898, 0.0801, 0.0693, 0.0689, 0.0681,\n",
       "        0.0661, 0.0654, 0.0533, 0.0498, 0.0495, 0.0362, 0.0293, 0.0262, 0.0259,\n",
       "        0.0219, 0.0165, 0.0142, 0.0140, 0.0134, 0.0129, 0.0060, 0.0034, 0.0032],\n",
       "       device='cuda:0')"
      ]
     },
     "execution_count": 8,
     "metadata": {},
     "output_type": "execute_result"
    }
   ],
   "source": [
    "proposals_roih_multiple[0][0].get('scores')"
   ]
  },
  {
   "cell_type": "code",
   "execution_count": 9,
   "id": "dd187e20",
   "metadata": {},
   "outputs": [
    {
     "data": {
      "text/plain": [
       "Boxes(tensor([[ 792.8904,  358.6422,  906.5364,  426.1711],\n",
       "        [ 960.1653,  326.4732, 1218.6995,  487.6807],\n",
       "        [   0.0000,  334.5512,   53.6761,  403.3617],\n",
       "        [  30.9183,  346.8628,  127.1009,  395.6460],\n",
       "        [ 597.4185,  350.7612,  633.2883,  383.2562],\n",
       "        [ 745.7241,  362.6562,  820.6821,  410.0619],\n",
       "        [ 225.0770,  345.6514,  342.5850,  415.3205],\n",
       "        [ 880.3300,  373.2979, 1003.5423,  444.1038],\n",
       "        [ 690.1130,  361.3881,  735.3576,  391.5140],\n",
       "        [ 759.3828,  368.6732,  803.9904,  408.3677],\n",
       "        [ 874.6600,  363.2095, 1082.3218,  455.0985],\n",
       "        [ 727.7149,  365.1144,  785.9441,  402.7550],\n",
       "        [  30.2677,  347.0260,   79.7104,  399.5431],\n",
       "        [ 709.9203,  368.4640,  745.4404,  395.3076],\n",
       "        [1278.8931,   84.0169, 1280.4000,  174.9864],\n",
       "        [ 718.4980,  364.8721,  757.6174,  393.1482],\n",
       "        [ 204.3775,  337.5041,  293.7446,  380.5070],\n",
       "        [ 278.7805,  348.5946,  349.6636,  392.0493],\n",
       "        [ 778.6660,  368.1894,  828.3150,  409.8293],\n",
       "        [ 205.7079,  345.2559,  255.5921,  383.2840],\n",
       "        [ 681.7687,  360.3978,  715.9722,  386.3722],\n",
       "        [ 824.7825,  367.9169,  946.7961,  428.9938],\n",
       "        [ 927.5687,  260.0638, 1279.3604,  511.9495],\n",
       "        [1275.6589,  485.4816, 1280.3632,  591.3759],\n",
       "        [ 586.8300,  349.9015,  615.6299,  377.6470],\n",
       "        [ 315.7007,  351.9552,  352.7297,  380.1013],\n",
       "        [ 766.3735,  366.0615,  857.5710,  417.0143],\n",
       "        [  50.5973,  358.5468,   82.6772,  396.8965],\n",
       "        [1270.9540,  192.0900, 1280.4000,  271.7646],\n",
       "        [ 291.7979,  343.3408,  344.8949,  377.8741],\n",
       "        [ 743.1166,  378.6353,  776.8522,  406.9636],\n",
       "        [ 612.1471,  351.6826,  638.0533,  378.4767],\n",
       "        [ 861.4661,  299.6268, 1181.5402,  459.3988],\n",
       "        [ 932.2032,  327.7698, 1110.5565,  454.7903],\n",
       "        [ 862.2736,  169.9357, 1105.4220,  470.3752],\n",
       "        [1115.5461,  312.5186, 1258.6249,  437.6568],\n",
       "        [ 564.1749,  346.4936,  597.5913,  374.4750],\n",
       "        [1029.4060,  332.3367, 1245.3691,  443.6597],\n",
       "        [ 312.3517,  344.5829,  361.2836,  370.4382],\n",
       "        [1090.7582,  219.3103, 1280.4000,  464.5156],\n",
       "        [ 212.6583,  330.9183,  273.2466,  369.9534],\n",
       "        [ 266.6328,  336.1686,  337.7605,  366.3001],\n",
       "        [ 954.9263,  297.0226, 1114.3229,  392.2053],\n",
       "        [ 945.3224,  314.3517, 1069.3346,  417.6706],\n",
       "        [ 994.2181,  285.0217, 1186.4645,  357.7504]], device='cuda:0'))"
      ]
     },
     "execution_count": 9,
     "metadata": {},
     "output_type": "execute_result"
    }
   ],
   "source": [
    "proposals_roih_multiple[0][0].get('pred_boxes')"
   ]
  },
  {
   "cell_type": "markdown",
   "id": "cd56220e",
   "metadata": {},
   "source": [
    "### get TP FP"
   ]
  },
  {
   "cell_type": "code",
   "execution_count": 17,
   "id": "6aeefe1b",
   "metadata": {},
   "outputs": [],
   "source": [
    "TP, TN_array  =get_TP(ma_gt,source_list)\n",
    "#TP, TN1, TN2\n",
    "FP_array = get_FP(ma_src,source_list)\n",
    "# src1 FP1 FP2, src2 FP1 FP2"
   ]
  },
  {
   "cell_type": "code",
   "execution_count": 18,
   "id": "4b9398bb",
   "metadata": {},
   "outputs": [
    {
     "data": {
      "text/plain": [
       "18"
      ]
     },
     "execution_count": 18,
     "metadata": {},
     "output_type": "execute_result"
    }
   ],
   "source": [
    "TP"
   ]
  },
  {
   "cell_type": "code",
   "execution_count": 19,
   "id": "33cb83df",
   "metadata": {},
   "outputs": [
    {
     "data": {
      "text/plain": [
       "[0, 0, 0]"
      ]
     },
     "execution_count": 19,
     "metadata": {},
     "output_type": "execute_result"
    }
   ],
   "source": [
    "TN_array"
   ]
  },
  {
   "cell_type": "code",
   "execution_count": 20,
   "id": "bb617e26",
   "metadata": {},
   "outputs": [
    {
     "data": {
      "text/plain": [
       "[[5, 13, 1], [1, 0, 1], [3, 5, 6]]"
      ]
     },
     "execution_count": 20,
     "metadata": {},
     "output_type": "execute_result"
    }
   ],
   "source": [
    "FP_array"
   ]
  },
  {
   "cell_type": "markdown",
   "id": "b0364ff0",
   "metadata": {},
   "source": [
    "## 2.B output results of all images"
   ]
  },
  {
   "cell_type": "markdown",
   "id": "3fc18eef",
   "metadata": {},
   "source": [
    "### save to eval_metricxxx.csv"
   ]
  },
  {
   "cell_type": "code",
   "execution_count": 14,
   "id": "2b5c4d1e",
   "metadata": {},
   "outputs": [],
   "source": [
    "eval_metric_summary(test_data_loader, data_annotation,model_list, source_list,\n",
    "                    output_file = output_csv_file,ratio=ratio)"
   ]
  },
  {
   "cell_type": "markdown",
   "id": "e3df6281",
   "metadata": {},
   "source": [
    "# 3. draw pie chart"
   ]
  },
  {
   "cell_type": "markdown",
   "id": "59aaef62",
   "metadata": {},
   "source": [
    "### a.ck2b"
   ]
  },
  {
   "cell_type": "code",
   "execution_count": 5,
   "id": "bcf6f4a5",
   "metadata": {},
   "outputs": [],
   "source": [
    "input_file = 'eval_metric_ck2b.csv'\n",
    "title = 'ck2b'"
   ]
  },
  {
   "cell_type": "markdown",
   "id": "bf730758",
   "metadata": {},
   "source": [
    "### b.skf2c"
   ]
  },
  {
   "cell_type": "code",
   "execution_count": 15,
   "id": "453b0311",
   "metadata": {},
   "outputs": [],
   "source": [
    "input_file = 'eval_metric_skf2c.csv'\n",
    "title = 'skf2c'"
   ]
  },
  {
   "cell_type": "code",
   "execution_count": 16,
   "id": "96568edd",
   "metadata": {},
   "outputs": [
    {
     "data": {
      "image/png": "[encoded data removed]",
      "text/plain": [
       "<Figure size 720x360 with 1 Axes>"
      ]
     },
     "metadata": {},
     "output_type": "display_data"
    }
   ],
   "source": [
    "\n",
    "eval_skf2c = pd.read_csv(input_file)\n",
    "labels = eval_skf2c.columns[1:]\n",
    "\n",
    "pie_chart_list = gen_pie_chart_list(eval_skf2c)\n",
    "draw_pie_chart(pie_chart_list, labels,title)"
   ]
  },
  {
   "cell_type": "markdown",
   "id": "b9ca201d",
   "metadata": {},
   "source": [
    "# 6. ensemble BBox"
   ]
  },
  {
   "cell_type": "code",
   "execution_count": null,
   "id": "9c3aedfe",
   "metadata": {},
   "outputs": [],
   "source": []
  },
  {
   "cell_type": "markdown",
   "id": "df376a05",
   "metadata": {},
   "source": [
    "# Appendix. show match array "
   ]
  },
  {
   "cell_type": "markdown",
   "id": "0be47ff8",
   "metadata": {},
   "source": [
    "### a. gt"
   ]
  },
  {
   "cell_type": "code",
   "execution_count": 10,
   "id": "8b21eecb",
   "metadata": {},
   "outputs": [
    {
     "data": {
      "text/html": [
       "<div>\n",
       "<style scoped>\n",
       "    .dataframe tbody tr th:only-of-type {\n",
       "        vertical-align: middle;\n",
       "    }\n",
       "\n",
       "    .dataframe tbody tr th {\n",
       "        vertical-align: top;\n",
       "    }\n",
       "\n",
       "    .dataframe thead th {\n",
       "        text-align: right;\n",
       "    }\n",
       "</style>\n",
       "<table border=\"1\" class=\"dataframe\">\n",
       "  <thead>\n",
       "    <tr style=\"text-align: right;\">\n",
       "      <th></th>\n",
       "      <th>sim20k</th>\n",
       "      <th>kitti</th>\n",
       "      <th>foggycityscape</th>\n",
       "    </tr>\n",
       "  </thead>\n",
       "  <tbody>\n",
       "    <tr>\n",
       "      <th>0</th>\n",
       "      <td>True</td>\n",
       "      <td>True</td>\n",
       "      <td>False</td>\n",
       "    </tr>\n",
       "    <tr>\n",
       "      <th>1</th>\n",
       "      <td>True</td>\n",
       "      <td>True</td>\n",
       "      <td>True</td>\n",
       "    </tr>\n",
       "    <tr>\n",
       "      <th>2</th>\n",
       "      <td>True</td>\n",
       "      <td>True</td>\n",
       "      <td>True</td>\n",
       "    </tr>\n",
       "    <tr>\n",
       "      <th>3</th>\n",
       "      <td>True</td>\n",
       "      <td>True</td>\n",
       "      <td>True</td>\n",
       "    </tr>\n",
       "    <tr>\n",
       "      <th>4</th>\n",
       "      <td>True</td>\n",
       "      <td>True</td>\n",
       "      <td>True</td>\n",
       "    </tr>\n",
       "    <tr>\n",
       "      <th>5</th>\n",
       "      <td>True</td>\n",
       "      <td>True</td>\n",
       "      <td>True</td>\n",
       "    </tr>\n",
       "    <tr>\n",
       "      <th>6</th>\n",
       "      <td>True</td>\n",
       "      <td>True</td>\n",
       "      <td>True</td>\n",
       "    </tr>\n",
       "    <tr>\n",
       "      <th>7</th>\n",
       "      <td>True</td>\n",
       "      <td>True</td>\n",
       "      <td>True</td>\n",
       "    </tr>\n",
       "    <tr>\n",
       "      <th>8</th>\n",
       "      <td>True</td>\n",
       "      <td>True</td>\n",
       "      <td>True</td>\n",
       "    </tr>\n",
       "    <tr>\n",
       "      <th>9</th>\n",
       "      <td>False</td>\n",
       "      <td>False</td>\n",
       "      <td>False</td>\n",
       "    </tr>\n",
       "    <tr>\n",
       "      <th>10</th>\n",
       "      <td>True</td>\n",
       "      <td>False</td>\n",
       "      <td>False</td>\n",
       "    </tr>\n",
       "    <tr>\n",
       "      <th>11</th>\n",
       "      <td>True</td>\n",
       "      <td>False</td>\n",
       "      <td>False</td>\n",
       "    </tr>\n",
       "    <tr>\n",
       "      <th>12</th>\n",
       "      <td>True</td>\n",
       "      <td>False</td>\n",
       "      <td>False</td>\n",
       "    </tr>\n",
       "    <tr>\n",
       "      <th>13</th>\n",
       "      <td>False</td>\n",
       "      <td>False</td>\n",
       "      <td>False</td>\n",
       "    </tr>\n",
       "    <tr>\n",
       "      <th>14</th>\n",
       "      <td>False</td>\n",
       "      <td>False</td>\n",
       "      <td>False</td>\n",
       "    </tr>\n",
       "    <tr>\n",
       "      <th>15</th>\n",
       "      <td>False</td>\n",
       "      <td>False</td>\n",
       "      <td>False</td>\n",
       "    </tr>\n",
       "    <tr>\n",
       "      <th>16</th>\n",
       "      <td>True</td>\n",
       "      <td>True</td>\n",
       "      <td>True</td>\n",
       "    </tr>\n",
       "    <tr>\n",
       "      <th>17</th>\n",
       "      <td>True</td>\n",
       "      <td>True</td>\n",
       "      <td>True</td>\n",
       "    </tr>\n",
       "  </tbody>\n",
       "</table>\n",
       "</div>"
      ],
      "text/plain": [
       "    sim20k  kitti  foggycityscape\n",
       "0     True   True           False\n",
       "1     True   True            True\n",
       "2     True   True            True\n",
       "3     True   True            True\n",
       "4     True   True            True\n",
       "5     True   True            True\n",
       "6     True   True            True\n",
       "7     True   True            True\n",
       "8     True   True            True\n",
       "9    False  False           False\n",
       "10    True  False           False\n",
       "11    True  False           False\n",
       "12    True  False           False\n",
       "13   False  False           False\n",
       "14   False  False           False\n",
       "15   False  False           False\n",
       "16    True   True            True\n",
       "17    True   True            True"
      ]
     },
     "execution_count": 10,
     "metadata": {},
     "output_type": "execute_result"
    }
   ],
   "source": [
    "df_gt = pd.DataFrame()\n",
    "\n",
    "ma_gt_array = np.array(ma_gt).T\n",
    "df_gt = pd.DataFrame(ma_gt_array, columns = source_list)\n",
    "df_gt"
   ]
  },
  {
   "cell_type": "markdown",
   "id": "fd40d3be",
   "metadata": {},
   "source": [
    "### b. source"
   ]
  },
  {
   "cell_type": "code",
   "execution_count": 6,
   "id": "57314d41",
   "metadata": {},
   "outputs": [],
   "source": [
    "#ma_src\n",
    "\n",
    "df_src = pd.DataFrame()\n",
    "\n",
    "ma_src_array = np.array(ma_src[2]).T\n",
    "df_src = pd.DataFrame(ma_src_array, columns = source_list)\n",
    "df_src.to_csv(\"src_foggy2city_match_array.csv\")"
   ]
  },
  {
   "cell_type": "code",
   "execution_count": 45,
   "id": "100d1d96",
   "metadata": {},
   "outputs": [
    {
     "data": {
      "text/plain": [
       "7"
      ]
     },
     "execution_count": 45,
     "metadata": {},
     "output_type": "execute_result"
    }
   ],
   "source": [
    "TP"
   ]
  },
  {
   "cell_type": "code",
   "execution_count": 46,
   "id": "8e27c366",
   "metadata": {},
   "outputs": [
    {
     "data": {
      "text/plain": [
       "[11, 1, 0]"
      ]
     },
     "execution_count": 46,
     "metadata": {},
     "output_type": "execute_result"
    }
   ],
   "source": [
    "TN_array"
   ]
  },
  {
   "cell_type": "code",
   "execution_count": 47,
   "id": "71af4276",
   "metadata": {},
   "outputs": [
    {
     "data": {
      "text/plain": [
       "[[5, 13, 22], [1, 0, 24], [3, 5, 30]]"
      ]
     },
     "execution_count": 47,
     "metadata": {},
     "output_type": "execute_result"
    }
   ],
   "source": [
    "FP_array"
   ]
  },
  {
   "cell_type": "code",
   "execution_count": null,
   "id": "33b9b3a8",
   "metadata": {},
   "outputs": [],
   "source": []
  }
 ],
 "metadata": {
  "kernelspec": {
   "display_name": "detectron2",
   "language": "python",
   "name": "detectron2"
  },
  "language_info": {
   "codemirror_mode": {
    "name": "ipython",
    "version": 3
   },
   "file_extension": ".py",
   "mimetype": "text/x-python",
   "name": "python",
   "nbconvert_exporter": "python",
   "pygments_lexer": "ipython3",
   "version": "3.8.10"
  }
 },
 "nbformat": 4,
 "nbformat_minor": 5
}
