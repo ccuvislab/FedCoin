{
 "cells": [
  {
   "cell_type": "code",
   "execution_count": 1,
   "id": "09c33ce7",
   "metadata": {},
   "outputs": [
    {
     "name": "stdout",
     "output_type": "stream",
     "text": [
      "NOTE! Installing ujson may make loading annotations faster.\n"
     ]
    },
    {
     "name": "stderr",
     "output_type": "stream",
     "text": [
      "/home/superorange5/.local/lib/python3.8/site-packages/torchvision/transforms/transforms.py:803: UserWarning: Argument interpolation should be of type InterpolationMode instead of int. Please, use InterpolationMode enum.\n",
      "  warnings.warn(\n"
     ]
    }
   ],
   "source": [
    "from Nb_utils import *"
   ]
  },
  {
   "cell_type": "markdown",
   "id": "f5918373",
   "metadata": {},
   "source": [
    "# 1. select dataset"
   ]
  },
  {
   "cell_type": "code",
   "execution_count": 2,
   "id": "02be6e91",
   "metadata": {},
   "outputs": [],
   "source": [
    "DA_dataset = 'c2kb'  #skf2c\n",
    "detector_name = 'ptda'  #'ptso'"
   ]
  },
  {
   "cell_type": "markdown",
   "id": "473c2c39",
   "metadata": {},
   "source": [
    "## dataset setting"
   ]
  },
  {
   "cell_type": "code",
   "execution_count": 3,
   "id": "d9e84b52",
   "metadata": {},
   "outputs": [
    {
     "name": "stdout",
     "output_type": "stream",
     "text": [
      "keep_experiments/c2b/cfg.yaml\n",
      "keep_experiments/c2b/model_0011999.pth\n",
      "-------- pretrained model loaded ---------\n",
      "-------- pretrained model loaded ---------\n",
      "keep_experiments/k2b/cfg.yaml\n",
      "keep_experiments/k2b/model_final.pth\n",
      "-------- pretrained model loaded ---------\n",
      "-------- pretrained model loaded ---------\n"
     ]
    }
   ],
   "source": [
    "if DA_dataset == 'c2kb':\n",
    "    ratio=1.2\n",
    "    val_dataset_name = 'VOC2007_bddval1'   #'VOC2007_bddvalsmall'\n",
    "    source_list =['kitti','cityscape']\n",
    "    config_path = \"configs/pt/final_c2b.yaml\"\n",
    "    if detector_name == 'ptda':\n",
    "        model_c2b = load_TSmodel('c2b', 11999)\n",
    "        model_k2b = load_TSmodel('k2b', 'final')\n",
    "        model_list=[model_k2b,model_c2b]\n",
    "    elif detector_name == 'ptso':\n",
    "        model_c2b = load_TSmodel('c2b_source-only', 27999)\n",
    "        model_k2b = load_TSmodel('k2b_source-only', 7999)\n",
    "        model_list=[model_k2b,model_c2b]\n",
    "\n",
    "elif DA_dataset=='skf2c':    \n",
    "    val_dataset_name = 'VOC2007_cityval1'\n",
    "    source_list =['sim10k','kitti','foggycityscape']\n",
    "    ratio = 1.706\n",
    "    config_path = \"configs/pt/final_k2c.yaml\"\n",
    "    if detector_name == 'ptda':\n",
    "        model_s2c = load_TSmodel('s2c', 15999)\n",
    "        model_k2c = load_TSmodel('k2c', 19999)\n",
    "        #model_f2c = get_model('f2c', 'final') #8class\n",
    "        model_f2c = load_TSmodel('f2c_1class', 11999)\n",
    "        model_list=[model_s2c,model_k2c,model_f2c]\n",
    "    elif detector_name == 'ptso':\n",
    "        model_s2c = load_TSmodel('s2c_source-only', 23999)\n",
    "        model_k2c = load_TSmodel('k2c_source-only', 'final')\n",
    "        model_f2c = load_TSmodel('f2c_source-only', 27999)\n",
    "        model_list=[model_s2c,model_k2c,model_f2c]\n",
    "\n",
    "        \n",
    "# config\n",
    "cfg = setup(config_path)\n",
    "\n",
    "# load test data\n",
    "test_data_loader = build_detection_test_loader(cfg, val_dataset_name)\n",
    "\n",
    "# load annotations\n",
    "data_annotation = DatasetCatalog.get(val_dataset_name)\n",
    "\n",
    "output_csv_file = 'eval_metric_{}_{}_2023Apr.csv'.format(DA_dataset,detector_name)"
   ]
  },
  {
   "cell_type": "markdown",
   "id": "0ace11a8",
   "metadata": {},
   "source": [
    "# 2. Get results"
   ]
  },
  {
   "cell_type": "markdown",
   "id": "56be1e40",
   "metadata": {},
   "source": [
    "## 2A.single image test"
   ]
  },
  {
   "cell_type": "code",
   "execution_count": 4,
   "id": "ebd525ae",
   "metadata": {},
   "outputs": [],
   "source": [
    "data_loader_iter = iter(test_data_loader)\n",
    "test_data = data_loader_iter.next()\n",
    "\n",
    "proposals_roih_multiple=[]\n",
    "for model in model_list:\n",
    "    proposals_roih_multiple.append(get_proposal_roih(test_data,model))\n",
    "\n",
    "    #data_annotation[0]['annotations'][0]['bbox']\n",
    "ma_gt, ma_src = get_match_array_all(proposals_roih_multiple, data_annotation[0]['annotations'],ratio)\n",
    "\n"
   ]
  },
  {
   "cell_type": "code",
   "execution_count": null,
   "id": "1c44bf33",
   "metadata": {},
   "outputs": [],
   "source": [
    "data_annotation[0]['annotations']"
   ]
  },
  {
   "cell_type": "code",
   "execution_count": null,
   "id": "a44ad941",
   "metadata": {},
   "outputs": [],
   "source": [
    "proposals_roih_multiple[0]"
   ]
  },
  {
   "cell_type": "code",
   "execution_count": null,
   "id": "74757288",
   "metadata": {},
   "outputs": [],
   "source": [
    "proposals_roih_multiple[0][0].get('scores')"
   ]
  },
  {
   "cell_type": "code",
   "execution_count": null,
   "id": "82756aec",
   "metadata": {},
   "outputs": [],
   "source": [
    "proposals_roih_multiple[0][0].get('pred_boxes')"
   ]
  },
  {
   "cell_type": "code",
   "execution_count": null,
   "id": "135a8cb5",
   "metadata": {},
   "outputs": [],
   "source": [
    "ma_src"
   ]
  },
  {
   "cell_type": "markdown",
   "id": "e681aa3a",
   "metadata": {},
   "source": [
    "### get TP FP"
   ]
  },
  {
   "cell_type": "code",
   "execution_count": 8,
   "id": "0f266c86",
   "metadata": {},
   "outputs": [],
   "source": [
    "TP, TN_array  =get_TP(ma_gt,source_list)\n",
    "#TP, TN1, TN2\n",
    "FP_array = get_FP(ma_src,source_list)\n",
    "# src1 FP1 FP2, src2 FP1 FP2"
   ]
  },
  {
   "cell_type": "code",
   "execution_count": 9,
   "id": "9b045867",
   "metadata": {},
   "outputs": [
    {
     "data": {
      "text/plain": [
       "16"
      ]
     },
     "execution_count": 9,
     "metadata": {},
     "output_type": "execute_result"
    }
   ],
   "source": [
    "TP"
   ]
  },
  {
   "cell_type": "code",
   "execution_count": 10,
   "id": "e165c1ee",
   "metadata": {},
   "outputs": [
    {
     "data": {
      "text/plain": [
       "[1, 2]"
      ]
     },
     "execution_count": 10,
     "metadata": {},
     "output_type": "execute_result"
    }
   ],
   "source": [
    "TN_array"
   ]
  },
  {
   "cell_type": "code",
   "execution_count": 11,
   "id": "b1baebb0",
   "metadata": {},
   "outputs": [
    {
     "data": {
      "text/plain": [
       "[[5, 9], [0, 8]]"
      ]
     },
     "execution_count": 11,
     "metadata": {},
     "output_type": "execute_result"
    }
   ],
   "source": [
    "FP_array"
   ]
  },
  {
   "cell_type": "markdown",
   "id": "19c4ab94",
   "metadata": {},
   "source": [
    "## 2.B output results of all images"
   ]
  },
  {
   "cell_type": "markdown",
   "id": "04494f7a",
   "metadata": {},
   "source": [
    "### save to eval_metricxxx.csv"
   ]
  },
  {
   "cell_type": "code",
   "execution_count": 4,
   "id": "359827d1",
   "metadata": {},
   "outputs": [],
   "source": [
    "eval_metric_summary(test_data_loader, data_annotation,model_list, source_list,\n",
    "                    output_file = output_csv_file,ratio=ratio)"
   ]
  },
  {
   "cell_type": "markdown",
   "id": "7c30128f",
   "metadata": {},
   "source": [
    "# 3. draw pie chart"
   ]
  },
  {
   "cell_type": "markdown",
   "id": "715b23c9",
   "metadata": {},
   "source": [
    "## 3A draw previous generated result"
   ]
  },
  {
   "cell_type": "code",
   "execution_count": 25,
   "id": "fad08713",
   "metadata": {},
   "outputs": [],
   "source": [
    "input_file = output_csv_file\n"
   ]
  },
  {
   "cell_type": "markdown",
   "id": "ed601c5d",
   "metadata": {},
   "source": [
    "## 3B draw history"
   ]
  },
  {
   "cell_type": "markdown",
   "id": "e5a473bf",
   "metadata": {},
   "source": [
    "### 3B.a.ck2b"
   ]
  },
  {
   "cell_type": "code",
   "execution_count": 40,
   "id": "af046986",
   "metadata": {},
   "outputs": [],
   "source": [
    "input_file = 'pseudo_label_analysis/PTDA/eval_metric_ck2b.csv'\n",
    "#input_file = 'pseudo_label_analysis/source-only_PT/eval_metric_ck2b.csv'\n",
    "#input_file = '../frcnn_detectron2/pseudo_label_analysis/frcnn/eval_metric_ck2b.csv'\n",
    "DA_dataset = 'ck2b'\n",
    "detector_name='ptda'"
   ]
  },
  {
   "cell_type": "markdown",
   "id": "495b3966",
   "metadata": {},
   "source": [
    "### b.skf2c"
   ]
  },
  {
   "cell_type": "code",
   "execution_count": 29,
   "id": "8593e670",
   "metadata": {},
   "outputs": [],
   "source": [
    "#input_file = 'pseudo_label_analysis/PTDA/eval_metric_sf2c.csv'\n",
    "\n",
    "#input_file = 'eval_metric_skf2c.csv'\n",
    "input_file = '../frcnn_detectron2/pseudo_label_analysis/frcnn/eval_metric_skf2c.csv'\n",
    "\n",
    "DA_dataset = 'skf2c'\n",
    "detector_name='frcnn'"
   ]
  },
  {
   "cell_type": "markdown",
   "id": "c58ed25f",
   "metadata": {},
   "source": [
    "## 3.2 draw"
   ]
  },
  {
   "cell_type": "code",
   "execution_count": 41,
   "id": "eb8448aa",
   "metadata": {},
   "outputs": [
    {
     "data": {
      "image/png": "[encoded data removed]",
      "text/plain": [
       "<Figure size 720x360 with 1 Axes>"
      ]
     },
     "metadata": {},
     "output_type": "display_data"
    }
   ],
   "source": [
    "eval_result_to_draw = pd.read_csv(input_file)\n",
    "labels = eval_result_to_draw.columns[1:]\n",
    "\n",
    "pie_chart_list = gen_pie_chart_list(eval_result_to_draw)\n",
    "draw_pie_chart(pie_chart_list, labels,DA_dataset,detector_name)"
   ]
  },
  {
   "cell_type": "code",
   "execution_count": 31,
   "id": "be4a02cf",
   "metadata": {},
   "outputs": [
    {
     "data": {
      "text/html": [
       "<div>\n",
       "<style scoped>\n",
       "    .dataframe tbody tr th:only-of-type {\n",
       "        vertical-align: middle;\n",
       "    }\n",
       "\n",
       "    .dataframe tbody tr th {\n",
       "        vertical-align: top;\n",
       "    }\n",
       "\n",
       "    .dataframe thead th {\n",
       "        text-align: right;\n",
       "    }\n",
       "</style>\n",
       "<table border=\"1\" class=\"dataframe\">\n",
       "  <thead>\n",
       "    <tr style=\"text-align: right;\">\n",
       "      <th></th>\n",
       "      <th>filename</th>\n",
       "      <th>TP</th>\n",
       "      <th>TN0</th>\n",
       "      <th>TN1</th>\n",
       "      <th>TN2</th>\n",
       "      <th>FP0</th>\n",
       "      <th>FP1</th>\n",
       "      <th>FP2</th>\n",
       "    </tr>\n",
       "  </thead>\n",
       "  <tbody>\n",
       "    <tr>\n",
       "      <th>0</th>\n",
       "      <td>frankfurt_000000_001236_leftImg8bit.jpg</td>\n",
       "      <td>17</td>\n",
       "      <td>0</td>\n",
       "      <td>0</td>\n",
       "      <td>1</td>\n",
       "      <td>1</td>\n",
       "      <td>2</td>\n",
       "      <td>2</td>\n",
       "    </tr>\n",
       "    <tr>\n",
       "      <th>1</th>\n",
       "      <td>frankfurt_000001_053102_leftImg8bit.jpg</td>\n",
       "      <td>3</td>\n",
       "      <td>0</td>\n",
       "      <td>0</td>\n",
       "      <td>0</td>\n",
       "      <td>5</td>\n",
       "      <td>11</td>\n",
       "      <td>4</td>\n",
       "    </tr>\n",
       "    <tr>\n",
       "      <th>2</th>\n",
       "      <td>frankfurt_000001_009854_leftImg8bit.jpg</td>\n",
       "      <td>16</td>\n",
       "      <td>0</td>\n",
       "      <td>1</td>\n",
       "      <td>0</td>\n",
       "      <td>3</td>\n",
       "      <td>1</td>\n",
       "      <td>0</td>\n",
       "    </tr>\n",
       "    <tr>\n",
       "      <th>3</th>\n",
       "      <td>frankfurt_000001_001464_leftImg8bit.jpg</td>\n",
       "      <td>0</td>\n",
       "      <td>2</td>\n",
       "      <td>0</td>\n",
       "      <td>0</td>\n",
       "      <td>15</td>\n",
       "      <td>7</td>\n",
       "      <td>14</td>\n",
       "    </tr>\n",
       "    <tr>\n",
       "      <th>4</th>\n",
       "      <td>frankfurt_000001_046126_leftImg8bit.jpg</td>\n",
       "      <td>2</td>\n",
       "      <td>0</td>\n",
       "      <td>3</td>\n",
       "      <td>0</td>\n",
       "      <td>2</td>\n",
       "      <td>21</td>\n",
       "      <td>0</td>\n",
       "    </tr>\n",
       "    <tr>\n",
       "      <th>...</th>\n",
       "      <td>...</td>\n",
       "      <td>...</td>\n",
       "      <td>...</td>\n",
       "      <td>...</td>\n",
       "      <td>...</td>\n",
       "      <td>...</td>\n",
       "      <td>...</td>\n",
       "      <td>...</td>\n",
       "    </tr>\n",
       "    <tr>\n",
       "      <th>487</th>\n",
       "      <td>lindau_000052_000019_leftImg8bit.jpg</td>\n",
       "      <td>0</td>\n",
       "      <td>0</td>\n",
       "      <td>0</td>\n",
       "      <td>1</td>\n",
       "      <td>5</td>\n",
       "      <td>1</td>\n",
       "      <td>0</td>\n",
       "    </tr>\n",
       "    <tr>\n",
       "      <th>488</th>\n",
       "      <td>lindau_000000_000019_leftImg8bit.jpg</td>\n",
       "      <td>12</td>\n",
       "      <td>0</td>\n",
       "      <td>0</td>\n",
       "      <td>1</td>\n",
       "      <td>0</td>\n",
       "      <td>2</td>\n",
       "      <td>0</td>\n",
       "    </tr>\n",
       "    <tr>\n",
       "      <th>489</th>\n",
       "      <td>lindau_000028_000019_leftImg8bit.jpg</td>\n",
       "      <td>5</td>\n",
       "      <td>0</td>\n",
       "      <td>0</td>\n",
       "      <td>0</td>\n",
       "      <td>2</td>\n",
       "      <td>0</td>\n",
       "      <td>0</td>\n",
       "    </tr>\n",
       "    <tr>\n",
       "      <th>490</th>\n",
       "      <td>lindau_000023_000019_leftImg8bit.jpg</td>\n",
       "      <td>0</td>\n",
       "      <td>2</td>\n",
       "      <td>0</td>\n",
       "      <td>0</td>\n",
       "      <td>2</td>\n",
       "      <td>0</td>\n",
       "      <td>8</td>\n",
       "    </tr>\n",
       "    <tr>\n",
       "      <th>491</th>\n",
       "      <td>lindau_000010_000019_leftImg8bit.jpg</td>\n",
       "      <td>8</td>\n",
       "      <td>0</td>\n",
       "      <td>0</td>\n",
       "      <td>1</td>\n",
       "      <td>1</td>\n",
       "      <td>4</td>\n",
       "      <td>0</td>\n",
       "    </tr>\n",
       "  </tbody>\n",
       "</table>\n",
       "<p>492 rows × 8 columns</p>\n",
       "</div>"
      ],
      "text/plain": [
       "                                    filename  TP  TN0  TN1  TN2  FP0  FP1  FP2\n",
       "0    frankfurt_000000_001236_leftImg8bit.jpg  17    0    0    1    1    2    2\n",
       "1    frankfurt_000001_053102_leftImg8bit.jpg   3    0    0    0    5   11    4\n",
       "2    frankfurt_000001_009854_leftImg8bit.jpg  16    0    1    0    3    1    0\n",
       "3    frankfurt_000001_001464_leftImg8bit.jpg   0    2    0    0   15    7   14\n",
       "4    frankfurt_000001_046126_leftImg8bit.jpg   2    0    3    0    2   21    0\n",
       "..                                       ...  ..  ...  ...  ...  ...  ...  ...\n",
       "487     lindau_000052_000019_leftImg8bit.jpg   0    0    0    1    5    1    0\n",
       "488     lindau_000000_000019_leftImg8bit.jpg  12    0    0    1    0    2    0\n",
       "489     lindau_000028_000019_leftImg8bit.jpg   5    0    0    0    2    0    0\n",
       "490     lindau_000023_000019_leftImg8bit.jpg   0    2    0    0    2    0    8\n",
       "491     lindau_000010_000019_leftImg8bit.jpg   8    0    0    1    1    4    0\n",
       "\n",
       "[492 rows x 8 columns]"
      ]
     },
     "execution_count": 31,
     "metadata": {},
     "output_type": "execute_result"
    }
   ],
   "source": [
    "eval_result_to_draw"
   ]
  },
  {
   "cell_type": "markdown",
   "id": "c9249e0a",
   "metadata": {},
   "source": [
    "# check count"
   ]
  },
  {
   "cell_type": "code",
   "execution_count": 56,
   "id": "99d0a137",
   "metadata": {},
   "outputs": [
    {
     "data": {
      "text/html": [
       "<div>\n",
       "<style scoped>\n",
       "    .dataframe tbody tr th:only-of-type {\n",
       "        vertical-align: middle;\n",
       "    }\n",
       "\n",
       "    .dataframe tbody tr th {\n",
       "        vertical-align: top;\n",
       "    }\n",
       "\n",
       "    .dataframe thead th {\n",
       "        text-align: right;\n",
       "    }\n",
       "</style>\n",
       "<table border=\"1\" class=\"dataframe\">\n",
       "  <thead>\n",
       "    <tr style=\"text-align: right;\">\n",
       "      <th></th>\n",
       "      <th>filename</th>\n",
       "      <th>TP</th>\n",
       "      <th>FN0</th>\n",
       "      <th>FN1</th>\n",
       "      <th>FN2</th>\n",
       "      <th>FP0</th>\n",
       "      <th>FP1</th>\n",
       "      <th>FP2</th>\n",
       "    </tr>\n",
       "  </thead>\n",
       "  <tbody>\n",
       "    <tr>\n",
       "      <th>0</th>\n",
       "      <td>frankfurt_000000_001236_leftImg8bit.jpg</td>\n",
       "      <td>1</td>\n",
       "      <td>17</td>\n",
       "      <td>0</td>\n",
       "      <td>0</td>\n",
       "      <td>1</td>\n",
       "      <td>2</td>\n",
       "      <td>66</td>\n",
       "    </tr>\n",
       "    <tr>\n",
       "      <th>1</th>\n",
       "      <td>frankfurt_000001_053102_leftImg8bit.jpg</td>\n",
       "      <td>0</td>\n",
       "      <td>2</td>\n",
       "      <td>1</td>\n",
       "      <td>0</td>\n",
       "      <td>5</td>\n",
       "      <td>11</td>\n",
       "      <td>23</td>\n",
       "    </tr>\n",
       "    <tr>\n",
       "      <th>2</th>\n",
       "      <td>frankfurt_000001_009854_leftImg8bit.jpg</td>\n",
       "      <td>0</td>\n",
       "      <td>17</td>\n",
       "      <td>0</td>\n",
       "      <td>0</td>\n",
       "      <td>3</td>\n",
       "      <td>1</td>\n",
       "      <td>60</td>\n",
       "    </tr>\n",
       "    <tr>\n",
       "      <th>3</th>\n",
       "      <td>frankfurt_000001_001464_leftImg8bit.jpg</td>\n",
       "      <td>0</td>\n",
       "      <td>2</td>\n",
       "      <td>0</td>\n",
       "      <td>0</td>\n",
       "      <td>15</td>\n",
       "      <td>7</td>\n",
       "      <td>14</td>\n",
       "    </tr>\n",
       "    <tr>\n",
       "      <th>4</th>\n",
       "      <td>frankfurt_000001_046126_leftImg8bit.jpg</td>\n",
       "      <td>0</td>\n",
       "      <td>5</td>\n",
       "      <td>0</td>\n",
       "      <td>0</td>\n",
       "      <td>2</td>\n",
       "      <td>21</td>\n",
       "      <td>10</td>\n",
       "    </tr>\n",
       "    <tr>\n",
       "      <th>...</th>\n",
       "      <td>...</td>\n",
       "      <td>...</td>\n",
       "      <td>...</td>\n",
       "      <td>...</td>\n",
       "      <td>...</td>\n",
       "      <td>...</td>\n",
       "      <td>...</td>\n",
       "      <td>...</td>\n",
       "    </tr>\n",
       "    <tr>\n",
       "      <th>487</th>\n",
       "      <td>lindau_000052_000019_leftImg8bit.jpg</td>\n",
       "      <td>0</td>\n",
       "      <td>1</td>\n",
       "      <td>0</td>\n",
       "      <td>0</td>\n",
       "      <td>5</td>\n",
       "      <td>5</td>\n",
       "      <td>0</td>\n",
       "    </tr>\n",
       "    <tr>\n",
       "      <th>488</th>\n",
       "      <td>lindau_000000_000019_leftImg8bit.jpg</td>\n",
       "      <td>1</td>\n",
       "      <td>11</td>\n",
       "      <td>1</td>\n",
       "      <td>0</td>\n",
       "      <td>0</td>\n",
       "      <td>2</td>\n",
       "      <td>28</td>\n",
       "    </tr>\n",
       "    <tr>\n",
       "      <th>489</th>\n",
       "      <td>lindau_000028_000019_leftImg8bit.jpg</td>\n",
       "      <td>5</td>\n",
       "      <td>0</td>\n",
       "      <td>0</td>\n",
       "      <td>0</td>\n",
       "      <td>2</td>\n",
       "      <td>0</td>\n",
       "      <td>7</td>\n",
       "    </tr>\n",
       "    <tr>\n",
       "      <th>490</th>\n",
       "      <td>lindau_000023_000019_leftImg8bit.jpg</td>\n",
       "      <td>0</td>\n",
       "      <td>0</td>\n",
       "      <td>2</td>\n",
       "      <td>0</td>\n",
       "      <td>2</td>\n",
       "      <td>0</td>\n",
       "      <td>7</td>\n",
       "    </tr>\n",
       "    <tr>\n",
       "      <th>491</th>\n",
       "      <td>lindau_000010_000019_leftImg8bit.jpg</td>\n",
       "      <td>0</td>\n",
       "      <td>5</td>\n",
       "      <td>2</td>\n",
       "      <td>2</td>\n",
       "      <td>1</td>\n",
       "      <td>5</td>\n",
       "      <td>41</td>\n",
       "    </tr>\n",
       "  </tbody>\n",
       "</table>\n",
       "<p>492 rows × 8 columns</p>\n",
       "</div>"
      ],
      "text/plain": [
       "                                    filename  TP  FN0  FN1  FN2  FP0  FP1  FP2\n",
       "0    frankfurt_000000_001236_leftImg8bit.jpg   1   17    0    0    1    2   66\n",
       "1    frankfurt_000001_053102_leftImg8bit.jpg   0    2    1    0    5   11   23\n",
       "2    frankfurt_000001_009854_leftImg8bit.jpg   0   17    0    0    3    1   60\n",
       "3    frankfurt_000001_001464_leftImg8bit.jpg   0    2    0    0   15    7   14\n",
       "4    frankfurt_000001_046126_leftImg8bit.jpg   0    5    0    0    2   21   10\n",
       "..                                       ...  ..  ...  ...  ...  ...  ...  ...\n",
       "487     lindau_000052_000019_leftImg8bit.jpg   0    1    0    0    5    5    0\n",
       "488     lindau_000000_000019_leftImg8bit.jpg   1   11    1    0    0    2   28\n",
       "489     lindau_000028_000019_leftImg8bit.jpg   5    0    0    0    2    0    7\n",
       "490     lindau_000023_000019_leftImg8bit.jpg   0    0    2    0    2    0    7\n",
       "491     lindau_000010_000019_leftImg8bit.jpg   0    5    2    2    1    5   41\n",
       "\n",
       "[492 rows x 8 columns]"
      ]
     },
     "execution_count": 56,
     "metadata": {},
     "output_type": "execute_result"
    }
   ],
   "source": [
    "#input_file = 'pseudo_label_analysis/PTDA/eval_metric_skf2c.csv'\n",
    "#input_file = 'pseudo_label_analysis/source-only_PT/eval_metric_skf2c.csv'\n",
    "#input_file = '../frcnn_detectron2/pseudo_label_analysis/frcnn/eval_metric_skf2c.csv'\n",
    "input_file = 'eval_metric_sfk2c_frcnn_2023Apr.csv'\n",
    "eval_result_to_draw = pd.read_csv(input_file)\n",
    "eval_result_to_draw"
   ]
  },
  {
   "cell_type": "code",
   "execution_count": 57,
   "id": "a61cd70e",
   "metadata": {},
   "outputs": [
    {
     "data": {
      "text/plain": [
       "[398, 3418, 610, 241, 729.0, 1145.6666666666667, 5633.0]"
      ]
     },
     "execution_count": 57,
     "metadata": {},
     "output_type": "execute_result"
    }
   ],
   "source": [
    "gen_pie_chart_list(eval_result_to_draw)"
   ]
  },
  {
   "cell_type": "code",
   "execution_count": 58,
   "id": "3c4d1977",
   "metadata": {},
   "outputs": [
    {
     "data": {
      "text/plain": [
       "filename    frankfurt_000000_001236_leftImg8bit.jpgfrankfu...\n",
       "TP                                                        398\n",
       "FN0                                                      3418\n",
       "FN1                                                       610\n",
       "FN2                                                       241\n",
       "FP0                                                      2187\n",
       "FP1                                                      3437\n",
       "FP2                                                     16899\n",
       "dtype: object"
      ]
     },
     "execution_count": 58,
     "metadata": {},
     "output_type": "execute_result"
    }
   ],
   "source": [
    "eval_result_to_draw.sum(axis=0)"
   ]
  },
  {
   "cell_type": "code",
   "execution_count": null,
   "id": "51ef66ca",
   "metadata": {},
   "outputs": [],
   "source": []
  }
 ],
 "metadata": {
  "kernelspec": {
   "display_name": "detectron2",
   "language": "python",
   "name": "detectron2"
  },
  "language_info": {
   "codemirror_mode": {
    "name": "ipython",
    "version": 3
   },
   "file_extension": ".py",
   "mimetype": "text/x-python",
   "name": "python",
   "nbconvert_exporter": "python",
   "pygments_lexer": "ipython3",
   "version": "3.8.10"
  }
 },
 "nbformat": 4,
 "nbformat_minor": 5
}
