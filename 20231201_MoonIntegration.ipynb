{
 "cells": [
  {
   "cell_type": "markdown",
   "id": "24011234",
   "metadata": {},
   "source": [
    "* version check"
   ]
  },
  {
   "cell_type": "code",
   "execution_count": 2,
   "id": "8e1c13d0",
   "metadata": {},
   "outputs": [
    {
     "name": "stdout",
     "output_type": "stream",
     "text": [
      "1.12.1+cu102\n",
      "0.13.1+cu102\n"
     ]
    }
   ],
   "source": [
    "import torch\n",
    "import torchvision\n",
    "print(torch.__version__)\n",
    "print(torchvision.__version__)"
   ]
  },
  {
   "cell_type": "code",
   "execution_count": 3,
   "id": "b0a51412",
   "metadata": {},
   "outputs": [
    {
     "name": "stdout",
     "output_type": "stream",
     "text": [
      "/opt/conda/bin/python\r\n"
     ]
    }
   ],
   "source": [
    "!which python"
   ]
  },
  {
   "cell_type": "markdown",
   "id": "6475399b",
   "metadata": {},
   "source": [
    "## import"
   ]
  },
  {
   "cell_type": "code",
   "execution_count": 4,
   "id": "dc36c0ee",
   "metadata": {},
   "outputs": [
    {
     "name": "stderr",
     "output_type": "stream",
     "text": [
      "/home/superorange5/.local/lib/python3.7/site-packages/torchvision/transforms/transforms.py:892: UserWarning: Argument 'interpolation' of type int is deprecated since 0.13 and will be removed in 0.15. Please use InterpolationMode enum.\n",
      "  \"Argument 'interpolation' of type int is deprecated since 0.13 and will be removed in 0.15. \"\n"
     ]
    }
   ],
   "source": [
    "from Nb_utils import *\n",
    "import copy\n",
    "import random\n",
    "import torch.nn.functional as F"
   ]
  },
  {
   "cell_type": "code",
   "execution_count": 5,
   "id": "45f9e241",
   "metadata": {},
   "outputs": [],
   "source": [
    "    def resize(model, data):\n",
    "        data = copy.deepcopy(data)\n",
    "        bs = len(data)\n",
    "        for i in range(bs):\n",
    "            img = data[i]['image']\n",
    "            h, w = img.shape[-2], img.shape[-1]\n",
    "            ratio = random.uniform(0.5, 1.0)\n",
    "            d_h, d_w = int(h * ratio), int(w * ratio)\n",
    "            x1 = int((w - d_w) / 2)\n",
    "            y1 = int((h - d_h) / 2)\n",
    "            bg = torch.zeros_like(img)\n",
    "            try:\n",
    "                bg += model.pixel_mean.cpu().int()\n",
    "            except:\n",
    "                bg += model.module.pixel_mean.cpu().int()\n",
    "            bg[:, y1:y1 + d_h, x1:x1 + d_w] = F.interpolate(img.unsqueeze(0).float(),\n",
    "                                                            size=(d_h, d_w),\n",
    "                                                            align_corners=False,\n",
    "                                                            mode='bilinear').squeeze(0)\n",
    "            data[i]['image'] = bg\n",
    "            if data[i]['instances'].has('gt_boxes'):\n",
    "                data[i]['instances'].gt_boxes.tensor *= ratio\n",
    "                data[i]['instances'].gt_boxes.tensor[:, 0] += x1\n",
    "                data[i]['instances'].gt_boxes.tensor[:, 2] += x1\n",
    "                data[i]['instances'].gt_boxes.tensor[:, 1] += y1\n",
    "                data[i]['instances'].gt_boxes.tensor[:, 3] += y1\n",
    "\n",
    "            if data[i]['instances'].has('pseudo_boxes'):\n",
    "                data[i]['instances'].pseudo_boxes.tensor *= ratio\n",
    "                data[i]['instances'].pseudo_boxes.tensor[:, 0] += x1\n",
    "                data[i]['instances'].pseudo_boxes.tensor[:, 2] += x1\n",
    "                data[i]['instances'].pseudo_boxes.tensor[:, 1] += y1\n",
    "                data[i]['instances'].pseudo_boxes.tensor[:, 3] += y1\n",
    "        return data"
   ]
  },
  {
   "cell_type": "markdown",
   "id": "c9e452ff",
   "metadata": {},
   "source": [
    "## load model"
   ]
  },
  {
   "cell_type": "markdown",
   "id": "3720aa08",
   "metadata": {},
   "source": [
    "### load local previous"
   ]
  },
  {
   "cell_type": "code",
   "execution_count": 6,
   "id": "d7d35b55",
   "metadata": {},
   "outputs": [
    {
     "name": "stdout",
     "output_type": "stream",
     "text": [
      "keep_experiments/c2b_source-only/cfg.yaml\n",
      "keep_experiments/c2b_source-only/model_final.pth\n",
      "-------- pretrained model loaded ---------\n"
     ]
    }
   ],
   "source": [
    "#LOCAL_PREVIOUS:c2b_source-only \n",
    "#    \"keep_experiments/c2b_source-only/model_final.pth\"\n",
    "local_model_previous_path = \"c2b_source-only\"\n",
    "local_previous_model = load_sourceonlyModel(local_model_previous_path,'final')"
   ]
  },
  {
   "cell_type": "markdown",
   "id": "6616bd4b",
   "metadata": {},
   "source": [
    "### load global"
   ]
  },
  {
   "cell_type": "code",
   "execution_count": 7,
   "id": "c47826d7",
   "metadata": {},
   "outputs": [
    {
     "name": "stdout",
     "output_type": "stream",
     "text": [
      "-------- pretrained model loaded ---------\n"
     ]
    },
    {
     "data": {
      "text/plain": [
       "{'matching_heuristics': True}"
      ]
     },
     "execution_count": 7,
     "metadata": {},
     "output_type": "execute_result"
    }
   ],
   "source": [
    "global_model_path = \"output/FedAvg_ck2b/FedAvg_0_20230116.pth\" \n",
    "cfg = setup(\"keep_experiments/c2b/cfg.yaml\")\n",
    "Trainer =DefaultTrainer\n",
    "global_model = Trainer.build_model(cfg)    \n",
    "DetectionCheckpointer(global_model).resume_or_load(global_model_path, resume=False)"
   ]
  },
  {
   "cell_type": "markdown",
   "id": "db531cc9",
   "metadata": {},
   "source": [
    "* check dataset"
   ]
  },
  {
   "cell_type": "code",
   "execution_count": 43,
   "id": "0e94a19c",
   "metadata": {},
   "outputs": [
    {
     "data": {
      "text/plain": [
       "('VOC2007_citytrain1',)"
      ]
     },
     "execution_count": 43,
     "metadata": {},
     "output_type": "execute_result"
    }
   ],
   "source": [
    "cfg['DATASETS']['TRAIN_LABEL']"
   ]
  },
  {
   "cell_type": "markdown",
   "id": "8df47adb",
   "metadata": {},
   "source": [
    "### copy global to local"
   ]
  },
  {
   "cell_type": "code",
   "execution_count": 44,
   "id": "9814500b",
   "metadata": {},
   "outputs": [],
   "source": [
    "net = copy.deepcopy(global_model)\n"
   ]
  },
  {
   "cell_type": "markdown",
   "id": "2746dbd0",
   "metadata": {},
   "source": [
    "## load training data"
   ]
  },
  {
   "cell_type": "code",
   "execution_count": 45,
   "id": "8bc700bd",
   "metadata": {},
   "outputs": [],
   "source": [
    "from pt.data.build import build_detection_sourceonly_loader_two_crops\n",
    "from pt.data.dataset_mapper import DatasetMapperTwoCropSeparate\n",
    "\n",
    "mapper = DatasetMapperTwoCropSeparate(cfg, True)\n",
    "train_data_loader = build_detection_sourceonly_loader_two_crops(cfg, mapper)"
   ]
  },
  {
   "cell_type": "code",
   "execution_count": 52,
   "id": "cd91f16a",
   "metadata": {},
   "outputs": [],
   "source": [
    "data_loader_iter = iter(train_data_loader)\n",
    "train_data =  next(data_loader_iter)"
   ]
  },
  {
   "cell_type": "code",
   "execution_count": 53,
   "id": "61cb7165",
   "metadata": {},
   "outputs": [],
   "source": [
    "label_data_q, label_data_k = train_data"
   ]
  },
  {
   "cell_type": "code",
   "execution_count": 54,
   "id": "30255a44",
   "metadata": {},
   "outputs": [
    {
     "data": {
      "text/plain": [
       "{'file_name': 'data/VOC2007_citytrain/JPEGImages/hanover_000000_030781_leftImg8bit.jpg',\n",
       " 'image_id': 'hanover_000000_030781_leftImg8bit',\n",
       " 'height': 1024,\n",
       " 'width': 2048,\n",
       " 'instances': Instances(num_instances=3, image_height=600, image_width=1200, fields=[gt_boxes: Boxes(tensor([[  0.0000, 258.3984,  41.6016, 308.7891],\n",
       "         [544.9219, 228.5156, 646.2891, 308.2031],\n",
       "         [286.5234, 242.5781, 447.0703, 298.2422]])), gt_classes: tensor([0, 0, 0])]),\n",
       " 'image': tensor([[[  2,  10,  34,  ..., 106,  86,  74],\n",
       "          [  2,  10,  33,  ..., 123, 104,  94],\n",
       "          [  2,  10,  32,  ..., 135, 118, 108],\n",
       "          ...,\n",
       "          [ 41,  41,  40,  ...,  42,  42,  42],\n",
       "          [ 39,  38,  36,  ...,  42,  42,  42],\n",
       "          [ 36,  35,  33,  ...,  42,  42,  42]],\n",
       " \n",
       "         [[  5,  17,  47,  ..., 177, 171, 166],\n",
       "          [  5,  17,  46,  ..., 178, 172, 168],\n",
       "          [  5,  17,  45,  ..., 178, 170, 166],\n",
       "          ...,\n",
       "          [ 37,  36,  35,  ...,  37,  37,  37],\n",
       "          [ 35,  34,  31,  ...,  37,  37,  37],\n",
       "          [ 32,  31,  28,  ...,  37,  37,  37]],\n",
       " \n",
       "         [[  6,  18,  47,  ..., 113,  95,  84],\n",
       "          [  6,  18,  46,  ..., 122, 106,  95],\n",
       "          [  6,  18,  44,  ..., 126, 110,  99],\n",
       "          ...,\n",
       "          [ 29,  29,  27,  ...,  30,  30,  30],\n",
       "          [ 27,  26,  23,  ...,  30,  30,  30],\n",
       "          [ 24,  23,  20,  ...,  30,  30,  30]]], dtype=torch.uint8)}"
      ]
     },
     "execution_count": 54,
     "metadata": {},
     "output_type": "execute_result"
    }
   ],
   "source": [
    "label_data_q[0]\n"
   ]
  },
  {
   "cell_type": "code",
   "execution_count": 49,
   "id": "f22ad6ce",
   "metadata": {},
   "outputs": [
    {
     "data": {
      "text/plain": [
       "{'file_name': 'data/VOC2007_citytrain/JPEGImages/hamburg_000000_014940_leftImg8bit.jpg',\n",
       " 'image_id': 'hamburg_000000_014940_leftImg8bit',\n",
       " 'height': 1024,\n",
       " 'width': 2048,\n",
       " 'instances': Instances(num_instances=9, image_height=600, image_width=1200, fields=[gt_boxes: Boxes(tensor([[  85.5469,  275.3906,  155.2734,  295.8984],\n",
       "         [ 159.3750,  274.2188,  222.0703,  294.1406],\n",
       "         [ 219.7266,  277.1484,  265.4297,  291.7969],\n",
       "         [   0.0000,  246.0938,   12.3047,  294.1406],\n",
       "         [ 902.3438,  254.8828,  924.0234,  267.7734],\n",
       "         [ 534.9609,  264.2578,  650.9766,  301.7578],\n",
       "         [ 673.8281,  258.9844,  804.4922,  298.8281],\n",
       "         [1071.6797,  242.5781, 1200.0000,  291.7969],\n",
       "         [ 894.7266,  251.9531, 1027.1484,  294.1406]])), gt_classes: tensor([0, 0, 0, 0, 0, 0, 0, 0, 0])]),\n",
       " 'image': tensor([[[ 18,  18,  19,  ...,   4,   2,   2],\n",
       "          [ 15,  16,  16,  ...,   3,   1,   6],\n",
       "          [  5,   5,   6,  ...,   2,   0,  12],\n",
       "          ...,\n",
       "          [ 83,  79,  80,  ...,  85,  86,  87],\n",
       "          [ 83,  79,  80,  ...,  91,  90,  88],\n",
       "          [ 83,  79,  80,  ..., 109, 108, 105]],\n",
       " \n",
       "         [[ 25,  25,  26,  ...,   2,   6,  13],\n",
       "          [ 21,  22,  23,  ...,   1,   5,  16],\n",
       "          [  7,   8,  10,  ...,   1,   3,  23],\n",
       "          ...,\n",
       "          [ 99,  93,  92,  ...,  99,  98,  97],\n",
       "          [ 99,  93,  92,  ..., 103,  99,  95],\n",
       "          [ 99,  93,  92,  ..., 120, 114, 108]],\n",
       " \n",
       "         [[ 20,  20,  21,  ...,   1,   1,   5],\n",
       "          [ 16,  17,  18,  ...,   1,   1,   8],\n",
       "          [  3,   4,   5,  ...,   0,   0,  14],\n",
       "          ...,\n",
       "          [ 82,  76,  76,  ...,  77,  82,  88],\n",
       "          [ 82,  76,  76,  ...,  81,  83,  86],\n",
       "          [ 82,  76,  76,  ...,  97,  99, 101]]], dtype=torch.uint8)}"
      ]
     },
     "execution_count": 49,
     "metadata": {},
     "output_type": "execute_result"
    }
   ],
   "source": [
    "label_data_k[0]"
   ]
  },
  {
   "cell_type": "code",
   "execution_count": 55,
   "id": "4cd27e00",
   "metadata": {},
   "outputs": [
    {
     "data": {
      "text/plain": [
       "16"
      ]
     },
     "execution_count": 55,
     "metadata": {},
     "output_type": "execute_result"
    }
   ],
   "source": [
    "len(label_data_q)"
   ]
  },
  {
   "cell_type": "code",
   "execution_count": 56,
   "id": "070d3418",
   "metadata": {},
   "outputs": [],
   "source": [
    "label_data_q.extend(label_data_k)\n"
   ]
  },
  {
   "cell_type": "code",
   "execution_count": 57,
   "id": "e7eed89b",
   "metadata": {},
   "outputs": [],
   "source": [
    "import copy\n",
    "import random\n",
    "import torch.nn.functional as F\n",
    "\n",
    "label_data_q = resize(global_model,label_data_q)"
   ]
  },
  {
   "cell_type": "markdown",
   "id": "8a5b80f1",
   "metadata": {},
   "source": [
    "## set model mode"
   ]
  },
  {
   "cell_type": "code",
   "execution_count": 58,
   "id": "f2ae2234",
   "metadata": {},
   "outputs": [
    {
     "data": {
      "text/plain": [
       "GuassianGeneralizedRCNN(\n",
       "  (backbone): VGG(\n",
       "    (vgg_block1): Sequential(\n",
       "      (0): VGGBlock(\n",
       "        (conv1): Conv2d(3, 64, kernel_size=(3, 3), stride=(1, 1), padding=(1, 1))\n",
       "        (conv2): Conv2d(64, 64, kernel_size=(3, 3), stride=(1, 1), padding=(1, 1))\n",
       "        (maxpool): MaxPool2d(kernel_size=2, stride=2, padding=0, dilation=1, ceil_mode=False)\n",
       "      )\n",
       "    )\n",
       "    (vgg_block2): Sequential(\n",
       "      (0): VGGBlock(\n",
       "        (conv1): Conv2d(64, 128, kernel_size=(3, 3), stride=(1, 1), padding=(1, 1))\n",
       "        (conv2): Conv2d(128, 128, kernel_size=(3, 3), stride=(1, 1), padding=(1, 1))\n",
       "        (maxpool): MaxPool2d(kernel_size=2, stride=2, padding=0, dilation=1, ceil_mode=False)\n",
       "      )\n",
       "    )\n",
       "    (vgg_block3): Sequential(\n",
       "      (0): VGGBlock(\n",
       "        (conv1): Conv2d(128, 256, kernel_size=(3, 3), stride=(1, 1), padding=(1, 1))\n",
       "        (conv2): Conv2d(256, 256, kernel_size=(3, 3), stride=(1, 1), padding=(1, 1))\n",
       "        (conv3): Conv2d(256, 256, kernel_size=(3, 3), stride=(1, 1), padding=(1, 1))\n",
       "        (maxpool): MaxPool2d(kernel_size=2, stride=2, padding=0, dilation=1, ceil_mode=False)\n",
       "      )\n",
       "    )\n",
       "    (vgg_block4): Sequential(\n",
       "      (0): VGGBlock(\n",
       "        (conv1): Conv2d(256, 512, kernel_size=(3, 3), stride=(1, 1), padding=(1, 1))\n",
       "        (conv2): Conv2d(512, 512, kernel_size=(3, 3), stride=(1, 1), padding=(1, 1))\n",
       "        (conv3): Conv2d(512, 512, kernel_size=(3, 3), stride=(1, 1), padding=(1, 1))\n",
       "        (maxpool): MaxPool2d(kernel_size=2, stride=2, padding=0, dilation=1, ceil_mode=False)\n",
       "      )\n",
       "    )\n",
       "    (vgg_block5): Sequential(\n",
       "      (0): VGGBlock(\n",
       "        (conv1): Conv2d(512, 512, kernel_size=(3, 3), stride=(1, 1), padding=(1, 1))\n",
       "        (conv2): Conv2d(512, 512, kernel_size=(3, 3), stride=(1, 1), padding=(1, 1))\n",
       "        (conv3): Conv2d(512, 512, kernel_size=(3, 3), stride=(1, 1), padding=(1, 1))\n",
       "      )\n",
       "    )\n",
       "  )\n",
       "  (proposal_generator): GuassianRPN(\n",
       "    (rpn_head): GuassianRPNHead(\n",
       "      (conv): Conv2d(\n",
       "        512, 512, kernel_size=(3, 3), stride=(1, 1), padding=(1, 1)\n",
       "        (activation): ReLU()\n",
       "      )\n",
       "      (objectness_logits): Conv2d(512, 9, kernel_size=(1, 1), stride=(1, 1))\n",
       "      (anchor_deltas): Conv2d(512, 72, kernel_size=(1, 1), stride=(1, 1))\n",
       "    )\n",
       "    (anchor_generator): DefaultAnchorGenerator(\n",
       "      (cell_anchors): BufferList()\n",
       "    )\n",
       "  )\n",
       "  (roi_heads): GuassianROIHead(\n",
       "    (box_pooler): ROIPooler(\n",
       "      (level_poolers): ModuleList(\n",
       "        (0): ROIAlign(output_size=(7, 7), spatial_scale=0.0625, sampling_ratio=0, aligned=True)\n",
       "      )\n",
       "    )\n",
       "    (box_head): FastRCNNConvFCHead(\n",
       "      (flatten): Flatten(start_dim=1, end_dim=-1)\n",
       "      (fc1): Linear(in_features=25088, out_features=1024, bias=True)\n",
       "      (fc_relu1): ReLU()\n",
       "      (fc2): Linear(in_features=1024, out_features=1024, bias=True)\n",
       "      (fc_relu2): ReLU()\n",
       "    )\n",
       "    (box_predictor): GuassianFastRCNNOutputLayers(\n",
       "      (cls_score): Linear(in_features=1024, out_features=2, bias=True)\n",
       "      (bbox_pred): Linear(in_features=1024, out_features=8, bias=True)\n",
       "    )\n",
       "  )\n",
       ")"
      ]
     },
     "execution_count": 58,
     "metadata": {},
     "output_type": "execute_result"
    }
   ],
   "source": [
    "global_model.eval()\n",
    "local_previous_model.eval()"
   ]
  },
  {
   "cell_type": "code",
   "execution_count": 59,
   "id": "0e8fb02e",
   "metadata": {},
   "outputs": [],
   "source": [
    "#global_model.roi_heads.box_predictor.cls_score.weight"
   ]
  },
  {
   "cell_type": "markdown",
   "id": "dfe11cf1",
   "metadata": {},
   "source": [
    "* check model mode"
   ]
  },
  {
   "cell_type": "code",
   "execution_count": 60,
   "id": "851cc0e2",
   "metadata": {},
   "outputs": [
    {
     "data": {
      "text/plain": [
       "False"
      ]
     },
     "execution_count": 60,
     "metadata": {},
     "output_type": "execute_result"
    }
   ],
   "source": [
    "global_model.training\n"
   ]
  },
  {
   "cell_type": "markdown",
   "id": "925d5939",
   "metadata": {},
   "source": [
    "* make model req_grad=false"
   ]
  },
  {
   "cell_type": "code",
   "execution_count": 61,
   "id": "74d120e8",
   "metadata": {},
   "outputs": [],
   "source": [
    "for param in global_model.parameters():\n",
    "    param.requires_grad = False\n",
    "#global_w = global_model.state_dict()"
   ]
  },
  {
   "cell_type": "code",
   "execution_count": 62,
   "id": "6152fc6d",
   "metadata": {},
   "outputs": [],
   "source": [
    "for param in local_previous_model.parameters():\n",
    "    param.requires_grad = False\n",
    "\n"
   ]
  },
  {
   "cell_type": "markdown",
   "id": "b84a36f6",
   "metadata": {},
   "source": [
    "## call model and get loss"
   ]
  },
  {
   "cell_type": "code",
   "execution_count": 21,
   "id": "5e294ecf",
   "metadata": {},
   "outputs": [
    {
     "name": "stderr",
     "output_type": "stream",
     "text": [
      "/home/superorange5/.local/lib/python3.7/site-packages/torch/functional.py:478: UserWarning: torch.meshgrid: in an upcoming release, it will be required to pass the indexing argument. (Triggered internally at  ../aten/src/ATen/native/TensorShape.cpp:2895.)\n",
      "  return _VF.meshgrid(tensors, **kwargs)  # type: ignore[attr-defined]\n"
     ]
    }
   ],
   "source": [
    "from detectron2.utils.events import EventStorage\n",
    "with EventStorage() as storage:\n",
    "    #record_dict_global, _, _, _ = global_model(label_data_q, branch=\"supervised\")\n",
    "    #record_dict_local_prev, _, _, _ = local_previous_model(label_data_q, branch=\"supervised\")\n",
    "    record_dict_local_curr, _, _, _ = net(label_data_q, branch=\"supervised\")"
   ]
  },
  {
   "cell_type": "code",
   "execution_count": 22,
   "id": "3cfd54ae",
   "metadata": {},
   "outputs": [],
   "source": [
    "\n",
    "A = global_model(label_data_q, branch=\"unsup_data_weak_test\")"
   ]
  },
  {
   "cell_type": "code",
   "execution_count": 23,
   "id": "26b6f3c7",
   "metadata": {},
   "outputs": [],
   "source": [
    "features,proposals_rpn, proposals_roih, ROI_predictions = net(label_data_q, branch=\"unsup_data_weak_test\")"
   ]
  },
  {
   "cell_type": "code",
   "execution_count": 29,
   "id": "bea883a2",
   "metadata": {},
   "outputs": [],
   "source": [
    "## 非必要，僅解決 CUDA out of memory. 問題\n",
    "torch.cuda.empty_cache() \n",
    "import os\n",
    "os.environ[\"PYTORCH_CUDA_ALLOC_CONF\"] = \"max_split_size_mb:2048\""
   ]
  },
  {
   "cell_type": "code",
   "execution_count": 30,
   "id": "54c56b4d",
   "metadata": {},
   "outputs": [
    {
     "ename": "RuntimeError",
     "evalue": "CUDA out of memory. Tried to allocate 5.49 GiB (GPU 0; 31.75 GiB total capacity; 27.16 GiB already allocated; 761.75 MiB free; 29.86 GiB reserved in total by PyTorch) If reserved memory is >> allocated memory try setting max_split_size_mb to avoid fragmentation.  See documentation for Memory Management and PYTORCH_CUDA_ALLOC_CONF",
     "output_type": "error",
     "traceback": [
      "\u001b[0;31m---------------------------------------------------------------------------\u001b[0m",
      "\u001b[0;31mRuntimeError\u001b[0m                              Traceback (most recent call last)",
      "\u001b[0;32m<ipython-input-30-508d744a35b3>\u001b[0m in \u001b[0;36m<module>\u001b[0;34m\u001b[0m\n\u001b[1;32m      1\u001b[0m \u001b[0;32mwith\u001b[0m \u001b[0mtorch\u001b[0m\u001b[0;34m.\u001b[0m\u001b[0mno_grad\u001b[0m\u001b[0;34m(\u001b[0m\u001b[0;34m)\u001b[0m\u001b[0;34m:\u001b[0m\u001b[0;34m\u001b[0m\u001b[0;34m\u001b[0m\u001b[0m\n\u001b[0;32m----> 2\u001b[0;31m     \u001b[0;34m(\u001b[0m\u001b[0m_\u001b[0m\u001b[0;34m,\u001b[0m  \u001b[0mproposals_rpn_unsup_k\u001b[0m\u001b[0;34m,\u001b[0m \u001b[0mproposals_roih_unsup_k\u001b[0m\u001b[0;34m,\u001b[0m \u001b[0m_\u001b[0m\u001b[0;34m,\u001b[0m\u001b[0;34m)\u001b[0m\u001b[0;34m=\u001b[0m \u001b[0mnet\u001b[0m\u001b[0;34m(\u001b[0m\u001b[0mlabel_data_q\u001b[0m\u001b[0;34m,\u001b[0m \u001b[0mbranch\u001b[0m\u001b[0;34m=\u001b[0m\u001b[0;34m\"unsup_data_weak\"\u001b[0m\u001b[0;34m)\u001b[0m\u001b[0;34m\u001b[0m\u001b[0;34m\u001b[0m\u001b[0m\n\u001b[0m",
      "\u001b[0;32m~/.local/lib/python3.7/site-packages/torch/nn/modules/module.py\u001b[0m in \u001b[0;36m_call_impl\u001b[0;34m(self, *input, **kwargs)\u001b[0m\n\u001b[1;32m   1128\u001b[0m         if not (self._backward_hooks or self._forward_hooks or self._forward_pre_hooks or _global_backward_hooks\n\u001b[1;32m   1129\u001b[0m                 or _global_forward_hooks or _global_forward_pre_hooks):\n\u001b[0;32m-> 1130\u001b[0;31m             \u001b[0;32mreturn\u001b[0m \u001b[0mforward_call\u001b[0m\u001b[0;34m(\u001b[0m\u001b[0;34m*\u001b[0m\u001b[0minput\u001b[0m\u001b[0;34m,\u001b[0m \u001b[0;34m**\u001b[0m\u001b[0mkwargs\u001b[0m\u001b[0;34m)\u001b[0m\u001b[0;34m\u001b[0m\u001b[0;34m\u001b[0m\u001b[0m\n\u001b[0m\u001b[1;32m   1131\u001b[0m         \u001b[0;31m# Do not call functions when jit is used\u001b[0m\u001b[0;34m\u001b[0m\u001b[0;34m\u001b[0m\u001b[0;34m\u001b[0m\u001b[0m\n\u001b[1;32m   1132\u001b[0m         \u001b[0mfull_backward_hooks\u001b[0m\u001b[0;34m,\u001b[0m \u001b[0mnon_full_backward_hooks\u001b[0m \u001b[0;34m=\u001b[0m \u001b[0;34m[\u001b[0m\u001b[0;34m]\u001b[0m\u001b[0;34m,\u001b[0m \u001b[0;34m[\u001b[0m\u001b[0;34m]\u001b[0m\u001b[0;34m\u001b[0m\u001b[0;34m\u001b[0m\u001b[0m\n",
      "\u001b[0;32m~/Research/ProbabilisticTeacher/pt/modeling/meta_arch/rcnn.py\u001b[0m in \u001b[0;36mforward\u001b[0;34m(self, batched_inputs, branch, danchor, norm)\u001b[0m\n\u001b[1;32m     47\u001b[0m             \u001b[0mgt_instances\u001b[0m \u001b[0;34m=\u001b[0m \u001b[0;32mNone\u001b[0m\u001b[0;34m\u001b[0m\u001b[0;34m\u001b[0m\u001b[0m\n\u001b[1;32m     48\u001b[0m \u001b[0;34m\u001b[0m\u001b[0m\n\u001b[0;32m---> 49\u001b[0;31m         \u001b[0mfeatures\u001b[0m \u001b[0;34m=\u001b[0m \u001b[0mself\u001b[0m\u001b[0;34m.\u001b[0m\u001b[0mbackbone\u001b[0m\u001b[0;34m(\u001b[0m\u001b[0mimages\u001b[0m\u001b[0;34m.\u001b[0m\u001b[0mtensor\u001b[0m\u001b[0;34m)\u001b[0m\u001b[0;34m\u001b[0m\u001b[0;34m\u001b[0m\u001b[0m\n\u001b[0m\u001b[1;32m     50\u001b[0m \u001b[0;34m\u001b[0m\u001b[0m\n\u001b[1;32m     51\u001b[0m         \u001b[0;32mif\u001b[0m \u001b[0mbranch\u001b[0m \u001b[0;34m==\u001b[0m \u001b[0;34m\"supervised\"\u001b[0m\u001b[0;34m:\u001b[0m\u001b[0;34m\u001b[0m\u001b[0;34m\u001b[0m\u001b[0m\n",
      "\u001b[0;32m~/.local/lib/python3.7/site-packages/torch/nn/modules/module.py\u001b[0m in \u001b[0;36m_call_impl\u001b[0;34m(self, *input, **kwargs)\u001b[0m\n\u001b[1;32m   1128\u001b[0m         if not (self._backward_hooks or self._forward_hooks or self._forward_pre_hooks or _global_backward_hooks\n\u001b[1;32m   1129\u001b[0m                 or _global_forward_hooks or _global_forward_pre_hooks):\n\u001b[0;32m-> 1130\u001b[0;31m             \u001b[0;32mreturn\u001b[0m \u001b[0mforward_call\u001b[0m\u001b[0;34m(\u001b[0m\u001b[0;34m*\u001b[0m\u001b[0minput\u001b[0m\u001b[0;34m,\u001b[0m \u001b[0;34m**\u001b[0m\u001b[0mkwargs\u001b[0m\u001b[0;34m)\u001b[0m\u001b[0;34m\u001b[0m\u001b[0;34m\u001b[0m\u001b[0m\n\u001b[0m\u001b[1;32m   1131\u001b[0m         \u001b[0;31m# Do not call functions when jit is used\u001b[0m\u001b[0;34m\u001b[0m\u001b[0;34m\u001b[0m\u001b[0;34m\u001b[0m\u001b[0m\n\u001b[1;32m   1132\u001b[0m         \u001b[0mfull_backward_hooks\u001b[0m\u001b[0;34m,\u001b[0m \u001b[0mnon_full_backward_hooks\u001b[0m \u001b[0;34m=\u001b[0m \u001b[0;34m[\u001b[0m\u001b[0;34m]\u001b[0m\u001b[0;34m,\u001b[0m \u001b[0;34m[\u001b[0m\u001b[0;34m]\u001b[0m\u001b[0;34m\u001b[0m\u001b[0;34m\u001b[0m\u001b[0m\n",
      "\u001b[0;32m~/Research/ProbabilisticTeacher/pt/modeling/backbone/vgg.py\u001b[0m in \u001b[0;36mforward\u001b[0;34m(self, x)\u001b[0m\n\u001b[1;32m    156\u001b[0m         \u001b[0moutputs\u001b[0m \u001b[0;34m=\u001b[0m \u001b[0;34m{\u001b[0m\u001b[0;34m}\u001b[0m\u001b[0;34m\u001b[0m\u001b[0;34m\u001b[0m\u001b[0m\n\u001b[1;32m    157\u001b[0m         \u001b[0;32mfor\u001b[0m \u001b[0mstage\u001b[0m\u001b[0;34m,\u001b[0m \u001b[0mname\u001b[0m \u001b[0;32min\u001b[0m \u001b[0mself\u001b[0m\u001b[0;34m.\u001b[0m\u001b[0mstages_and_names\u001b[0m\u001b[0;34m:\u001b[0m\u001b[0;34m\u001b[0m\u001b[0;34m\u001b[0m\u001b[0m\n\u001b[0;32m--> 158\u001b[0;31m             \u001b[0mx\u001b[0m \u001b[0;34m=\u001b[0m \u001b[0mstage\u001b[0m\u001b[0;34m(\u001b[0m\u001b[0mx\u001b[0m\u001b[0;34m)\u001b[0m\u001b[0;34m\u001b[0m\u001b[0;34m\u001b[0m\u001b[0m\n\u001b[0m\u001b[1;32m    159\u001b[0m             \u001b[0;32mif\u001b[0m \u001b[0mname\u001b[0m \u001b[0;32min\u001b[0m \u001b[0mself\u001b[0m\u001b[0;34m.\u001b[0m\u001b[0m_out_features\u001b[0m\u001b[0;34m:\u001b[0m\u001b[0;34m\u001b[0m\u001b[0;34m\u001b[0m\u001b[0m\n\u001b[1;32m    160\u001b[0m                 \u001b[0moutputs\u001b[0m\u001b[0;34m[\u001b[0m\u001b[0mname\u001b[0m\u001b[0;34m]\u001b[0m \u001b[0;34m=\u001b[0m \u001b[0mx\u001b[0m\u001b[0;34m\u001b[0m\u001b[0;34m\u001b[0m\u001b[0m\n",
      "\u001b[0;32m~/.local/lib/python3.7/site-packages/torch/nn/modules/module.py\u001b[0m in \u001b[0;36m_call_impl\u001b[0;34m(self, *input, **kwargs)\u001b[0m\n\u001b[1;32m   1128\u001b[0m         if not (self._backward_hooks or self._forward_hooks or self._forward_pre_hooks or _global_backward_hooks\n\u001b[1;32m   1129\u001b[0m                 or _global_forward_hooks or _global_forward_pre_hooks):\n\u001b[0;32m-> 1130\u001b[0;31m             \u001b[0;32mreturn\u001b[0m \u001b[0mforward_call\u001b[0m\u001b[0;34m(\u001b[0m\u001b[0;34m*\u001b[0m\u001b[0minput\u001b[0m\u001b[0;34m,\u001b[0m \u001b[0;34m**\u001b[0m\u001b[0mkwargs\u001b[0m\u001b[0;34m)\u001b[0m\u001b[0;34m\u001b[0m\u001b[0;34m\u001b[0m\u001b[0m\n\u001b[0m\u001b[1;32m   1131\u001b[0m         \u001b[0;31m# Do not call functions when jit is used\u001b[0m\u001b[0;34m\u001b[0m\u001b[0;34m\u001b[0m\u001b[0;34m\u001b[0m\u001b[0m\n\u001b[1;32m   1132\u001b[0m         \u001b[0mfull_backward_hooks\u001b[0m\u001b[0;34m,\u001b[0m \u001b[0mnon_full_backward_hooks\u001b[0m \u001b[0;34m=\u001b[0m \u001b[0;34m[\u001b[0m\u001b[0;34m]\u001b[0m\u001b[0;34m,\u001b[0m \u001b[0;34m[\u001b[0m\u001b[0;34m]\u001b[0m\u001b[0;34m\u001b[0m\u001b[0;34m\u001b[0m\u001b[0m\n",
      "\u001b[0;32m~/.local/lib/python3.7/site-packages/torch/nn/modules/container.py\u001b[0m in \u001b[0;36mforward\u001b[0;34m(self, input)\u001b[0m\n\u001b[1;32m    137\u001b[0m     \u001b[0;32mdef\u001b[0m \u001b[0mforward\u001b[0m\u001b[0;34m(\u001b[0m\u001b[0mself\u001b[0m\u001b[0;34m,\u001b[0m \u001b[0minput\u001b[0m\u001b[0;34m)\u001b[0m\u001b[0;34m:\u001b[0m\u001b[0;34m\u001b[0m\u001b[0;34m\u001b[0m\u001b[0m\n\u001b[1;32m    138\u001b[0m         \u001b[0;32mfor\u001b[0m \u001b[0mmodule\u001b[0m \u001b[0;32min\u001b[0m \u001b[0mself\u001b[0m\u001b[0;34m:\u001b[0m\u001b[0;34m\u001b[0m\u001b[0;34m\u001b[0m\u001b[0m\n\u001b[0;32m--> 139\u001b[0;31m             \u001b[0minput\u001b[0m \u001b[0;34m=\u001b[0m \u001b[0mmodule\u001b[0m\u001b[0;34m(\u001b[0m\u001b[0minput\u001b[0m\u001b[0;34m)\u001b[0m\u001b[0;34m\u001b[0m\u001b[0;34m\u001b[0m\u001b[0m\n\u001b[0m\u001b[1;32m    140\u001b[0m         \u001b[0;32mreturn\u001b[0m \u001b[0minput\u001b[0m\u001b[0;34m\u001b[0m\u001b[0;34m\u001b[0m\u001b[0m\n\u001b[1;32m    141\u001b[0m \u001b[0;34m\u001b[0m\u001b[0m\n",
      "\u001b[0;32m~/.local/lib/python3.7/site-packages/torch/nn/modules/module.py\u001b[0m in \u001b[0;36m_call_impl\u001b[0;34m(self, *input, **kwargs)\u001b[0m\n\u001b[1;32m   1128\u001b[0m         if not (self._backward_hooks or self._forward_hooks or self._forward_pre_hooks or _global_backward_hooks\n\u001b[1;32m   1129\u001b[0m                 or _global_forward_hooks or _global_forward_pre_hooks):\n\u001b[0;32m-> 1130\u001b[0;31m             \u001b[0;32mreturn\u001b[0m \u001b[0mforward_call\u001b[0m\u001b[0;34m(\u001b[0m\u001b[0;34m*\u001b[0m\u001b[0minput\u001b[0m\u001b[0;34m,\u001b[0m \u001b[0;34m**\u001b[0m\u001b[0mkwargs\u001b[0m\u001b[0;34m)\u001b[0m\u001b[0;34m\u001b[0m\u001b[0;34m\u001b[0m\u001b[0m\n\u001b[0m\u001b[1;32m   1131\u001b[0m         \u001b[0;31m# Do not call functions when jit is used\u001b[0m\u001b[0;34m\u001b[0m\u001b[0;34m\u001b[0m\u001b[0;34m\u001b[0m\u001b[0m\n\u001b[1;32m   1132\u001b[0m         \u001b[0mfull_backward_hooks\u001b[0m\u001b[0;34m,\u001b[0m \u001b[0mnon_full_backward_hooks\u001b[0m \u001b[0;34m=\u001b[0m \u001b[0;34m[\u001b[0m\u001b[0;34m]\u001b[0m\u001b[0;34m,\u001b[0m \u001b[0;34m[\u001b[0m\u001b[0;34m]\u001b[0m\u001b[0;34m\u001b[0m\u001b[0;34m\u001b[0m\u001b[0m\n",
      "\u001b[0;32m~/Research/ProbabilisticTeacher/pt/modeling/backbone/vgg.py\u001b[0m in \u001b[0;36mforward\u001b[0;34m(self, x)\u001b[0m\n\u001b[1;32m     66\u001b[0m     \u001b[0;32mdef\u001b[0m \u001b[0mforward\u001b[0m\u001b[0;34m(\u001b[0m\u001b[0mself\u001b[0m\u001b[0;34m,\u001b[0m \u001b[0mx\u001b[0m\u001b[0;34m)\u001b[0m\u001b[0;34m:\u001b[0m\u001b[0;34m\u001b[0m\u001b[0;34m\u001b[0m\u001b[0m\n\u001b[1;32m     67\u001b[0m         \u001b[0;32mfor\u001b[0m \u001b[0mconv\u001b[0m \u001b[0;32min\u001b[0m \u001b[0mself\u001b[0m\u001b[0;34m.\u001b[0m\u001b[0mconvs\u001b[0m\u001b[0;34m:\u001b[0m\u001b[0;34m\u001b[0m\u001b[0;34m\u001b[0m\u001b[0m\n\u001b[0;32m---> 68\u001b[0;31m             \u001b[0mout\u001b[0m \u001b[0;34m=\u001b[0m \u001b[0mconv\u001b[0m\u001b[0;34m(\u001b[0m\u001b[0mx\u001b[0m\u001b[0;34m)\u001b[0m\u001b[0;34m\u001b[0m\u001b[0;34m\u001b[0m\u001b[0m\n\u001b[0m\u001b[1;32m     69\u001b[0m             \u001b[0mout\u001b[0m \u001b[0;34m=\u001b[0m \u001b[0mF\u001b[0m\u001b[0;34m.\u001b[0m\u001b[0mrelu_\u001b[0m\u001b[0;34m(\u001b[0m\u001b[0mout\u001b[0m\u001b[0;34m)\u001b[0m\u001b[0;34m\u001b[0m\u001b[0;34m\u001b[0m\u001b[0m\n\u001b[1;32m     70\u001b[0m             \u001b[0mx\u001b[0m \u001b[0;34m=\u001b[0m \u001b[0mout\u001b[0m\u001b[0;34m\u001b[0m\u001b[0;34m\u001b[0m\u001b[0m\n",
      "\u001b[0;32m~/.local/lib/python3.7/site-packages/torch/nn/modules/module.py\u001b[0m in \u001b[0;36m_call_impl\u001b[0;34m(self, *input, **kwargs)\u001b[0m\n\u001b[1;32m   1128\u001b[0m         if not (self._backward_hooks or self._forward_hooks or self._forward_pre_hooks or _global_backward_hooks\n\u001b[1;32m   1129\u001b[0m                 or _global_forward_hooks or _global_forward_pre_hooks):\n\u001b[0;32m-> 1130\u001b[0;31m             \u001b[0;32mreturn\u001b[0m \u001b[0mforward_call\u001b[0m\u001b[0;34m(\u001b[0m\u001b[0;34m*\u001b[0m\u001b[0minput\u001b[0m\u001b[0;34m,\u001b[0m \u001b[0;34m**\u001b[0m\u001b[0mkwargs\u001b[0m\u001b[0;34m)\u001b[0m\u001b[0;34m\u001b[0m\u001b[0;34m\u001b[0m\u001b[0m\n\u001b[0m\u001b[1;32m   1131\u001b[0m         \u001b[0;31m# Do not call functions when jit is used\u001b[0m\u001b[0;34m\u001b[0m\u001b[0;34m\u001b[0m\u001b[0;34m\u001b[0m\u001b[0m\n\u001b[1;32m   1132\u001b[0m         \u001b[0mfull_backward_hooks\u001b[0m\u001b[0;34m,\u001b[0m \u001b[0mnon_full_backward_hooks\u001b[0m \u001b[0;34m=\u001b[0m \u001b[0;34m[\u001b[0m\u001b[0;34m]\u001b[0m\u001b[0;34m,\u001b[0m \u001b[0;34m[\u001b[0m\u001b[0;34m]\u001b[0m\u001b[0;34m\u001b[0m\u001b[0;34m\u001b[0m\u001b[0m\n",
      "\u001b[0;32m~/Research/ProbabilisticTeacher/detectron2/layers/wrappers.py\u001b[0m in \u001b[0;36mforward\u001b[0;34m(self, x)\u001b[0m\n\u001b[1;32m    112\u001b[0m \u001b[0;34m\u001b[0m\u001b[0m\n\u001b[1;32m    113\u001b[0m         x = F.conv2d(\n\u001b[0;32m--> 114\u001b[0;31m             \u001b[0mx\u001b[0m\u001b[0;34m,\u001b[0m \u001b[0mself\u001b[0m\u001b[0;34m.\u001b[0m\u001b[0mweight\u001b[0m\u001b[0;34m,\u001b[0m \u001b[0mself\u001b[0m\u001b[0;34m.\u001b[0m\u001b[0mbias\u001b[0m\u001b[0;34m,\u001b[0m \u001b[0mself\u001b[0m\u001b[0;34m.\u001b[0m\u001b[0mstride\u001b[0m\u001b[0;34m,\u001b[0m \u001b[0mself\u001b[0m\u001b[0;34m.\u001b[0m\u001b[0mpadding\u001b[0m\u001b[0;34m,\u001b[0m \u001b[0mself\u001b[0m\u001b[0;34m.\u001b[0m\u001b[0mdilation\u001b[0m\u001b[0;34m,\u001b[0m \u001b[0mself\u001b[0m\u001b[0;34m.\u001b[0m\u001b[0mgroups\u001b[0m\u001b[0;34m\u001b[0m\u001b[0;34m\u001b[0m\u001b[0m\n\u001b[0m\u001b[1;32m    115\u001b[0m         )\n\u001b[1;32m    116\u001b[0m         \u001b[0;32mif\u001b[0m \u001b[0mself\u001b[0m\u001b[0;34m.\u001b[0m\u001b[0mnorm\u001b[0m \u001b[0;32mis\u001b[0m \u001b[0;32mnot\u001b[0m \u001b[0;32mNone\u001b[0m\u001b[0;34m:\u001b[0m\u001b[0;34m\u001b[0m\u001b[0;34m\u001b[0m\u001b[0m\n",
      "\u001b[0;31mRuntimeError\u001b[0m: CUDA out of memory. Tried to allocate 5.49 GiB (GPU 0; 31.75 GiB total capacity; 27.16 GiB already allocated; 761.75 MiB free; 29.86 GiB reserved in total by PyTorch) If reserved memory is >> allocated memory try setting max_split_size_mb to avoid fragmentation.  See documentation for Memory Management and PYTORCH_CUDA_ALLOC_CONF"
     ]
    }
   ],
   "source": [
    "with torch.no_grad():\n",
    "    (_,  proposals_rpn_unsup_k, proposals_roih_unsup_k, _,)= net(label_data_q, branch=\"unsup_data_weak\")"
   ]
  },
  {
   "cell_type": "code",
   "execution_count": 31,
   "id": "3ea3cb8e",
   "metadata": {},
   "outputs": [
    {
     "data": {
      "text/plain": [
       "{'vgg_block5': tensor([[[[0.0000e+00, 0.0000e+00, 0.0000e+00,  ..., 0.0000e+00,\n",
       "            0.0000e+00, 0.0000e+00],\n",
       "           [0.0000e+00, 0.0000e+00, 0.0000e+00,  ..., 0.0000e+00,\n",
       "            0.0000e+00, 0.0000e+00],\n",
       "           [0.0000e+00, 0.0000e+00, 0.0000e+00,  ..., 0.0000e+00,\n",
       "            0.0000e+00, 0.0000e+00],\n",
       "           ...,\n",
       "           [0.0000e+00, 0.0000e+00, 0.0000e+00,  ..., 0.0000e+00,\n",
       "            0.0000e+00, 0.0000e+00],\n",
       "           [0.0000e+00, 0.0000e+00, 0.0000e+00,  ..., 0.0000e+00,\n",
       "            0.0000e+00, 0.0000e+00],\n",
       "           [0.0000e+00, 0.0000e+00, 0.0000e+00,  ..., 0.0000e+00,\n",
       "            0.0000e+00, 0.0000e+00]],\n",
       " \n",
       "          [[0.0000e+00, 0.0000e+00, 0.0000e+00,  ..., 0.0000e+00,\n",
       "            0.0000e+00, 0.0000e+00],\n",
       "           [0.0000e+00, 0.0000e+00, 0.0000e+00,  ..., 0.0000e+00,\n",
       "            0.0000e+00, 0.0000e+00],\n",
       "           [0.0000e+00, 0.0000e+00, 0.0000e+00,  ..., 0.0000e+00,\n",
       "            0.0000e+00, 0.0000e+00],\n",
       "           ...,\n",
       "           [0.0000e+00, 0.0000e+00, 0.0000e+00,  ..., 0.0000e+00,\n",
       "            0.0000e+00, 0.0000e+00],\n",
       "           [0.0000e+00, 0.0000e+00, 0.0000e+00,  ..., 0.0000e+00,\n",
       "            0.0000e+00, 0.0000e+00],\n",
       "           [0.0000e+00, 0.0000e+00, 0.0000e+00,  ..., 0.0000e+00,\n",
       "            0.0000e+00, 0.0000e+00]],\n",
       " \n",
       "          [[0.0000e+00, 0.0000e+00, 0.0000e+00,  ..., 0.0000e+00,\n",
       "            0.0000e+00, 0.0000e+00],\n",
       "           [0.0000e+00, 0.0000e+00, 0.0000e+00,  ..., 0.0000e+00,\n",
       "            0.0000e+00, 0.0000e+00],\n",
       "           [0.0000e+00, 0.0000e+00, 0.0000e+00,  ..., 0.0000e+00,\n",
       "            0.0000e+00, 0.0000e+00],\n",
       "           ...,\n",
       "           [0.0000e+00, 0.0000e+00, 0.0000e+00,  ..., 0.0000e+00,\n",
       "            0.0000e+00, 0.0000e+00],\n",
       "           [0.0000e+00, 0.0000e+00, 0.0000e+00,  ..., 0.0000e+00,\n",
       "            0.0000e+00, 0.0000e+00],\n",
       "           [0.0000e+00, 0.0000e+00, 0.0000e+00,  ..., 0.0000e+00,\n",
       "            0.0000e+00, 0.0000e+00]],\n",
       " \n",
       "          ...,\n",
       " \n",
       "          [[5.7510e-02, 0.0000e+00, 0.0000e+00,  ..., 0.0000e+00,\n",
       "            0.0000e+00, 7.8641e-03],\n",
       "           [4.0506e-02, 0.0000e+00, 0.0000e+00,  ..., 0.0000e+00,\n",
       "            0.0000e+00, 5.0312e-02],\n",
       "           [1.5346e-01, 1.5363e-01, 1.2919e-01,  ..., 8.3987e-02,\n",
       "            0.0000e+00, 1.1777e-01],\n",
       "           ...,\n",
       "           [1.4588e-01, 1.2033e-01, 6.4508e-02,  ..., 0.0000e+00,\n",
       "            0.0000e+00, 8.6556e-02],\n",
       "           [9.7862e-02, 7.7970e-02, 3.9797e-02,  ..., 0.0000e+00,\n",
       "            0.0000e+00, 7.3790e-02],\n",
       "           [2.0904e-01, 2.5608e-01, 2.0760e-01,  ..., 1.9029e-01,\n",
       "            1.5991e-01, 1.9800e-01]],\n",
       " \n",
       "          [[1.8799e+00, 2.1441e+00, 2.0416e+00,  ..., 2.2064e+00,\n",
       "            2.1227e+00, 1.3669e+00],\n",
       "           [2.2205e+00, 2.4739e+00, 2.3257e+00,  ..., 2.5534e+00,\n",
       "            2.5126e+00, 1.5390e+00],\n",
       "           [2.2259e+00, 2.4502e+00, 2.2838e+00,  ..., 2.5499e+00,\n",
       "            2.5738e+00, 1.6182e+00],\n",
       "           ...,\n",
       "           [2.1001e+00, 2.2202e+00, 2.0515e+00,  ..., 2.2900e+00,\n",
       "            2.3385e+00, 1.4574e+00],\n",
       "           [2.0332e+00, 2.1762e+00, 2.0515e+00,  ..., 2.2392e+00,\n",
       "            2.2546e+00, 1.3889e+00],\n",
       "           [1.3397e+00, 1.4716e+00, 1.4726e+00,  ..., 1.5398e+00,\n",
       "            1.5505e+00, 1.0597e+00]],\n",
       " \n",
       "          [[1.5487e-01, 0.0000e+00, 0.0000e+00,  ..., 0.0000e+00,\n",
       "            0.0000e+00, 0.0000e+00],\n",
       "           [2.6311e-01, 0.0000e+00, 0.0000e+00,  ..., 0.0000e+00,\n",
       "            0.0000e+00, 0.0000e+00],\n",
       "           [1.7028e-01, 0.0000e+00, 0.0000e+00,  ..., 0.0000e+00,\n",
       "            0.0000e+00, 0.0000e+00],\n",
       "           ...,\n",
       "           [1.8620e-01, 0.0000e+00, 0.0000e+00,  ..., 0.0000e+00,\n",
       "            0.0000e+00, 0.0000e+00],\n",
       "           [1.7151e-01, 0.0000e+00, 0.0000e+00,  ..., 0.0000e+00,\n",
       "            0.0000e+00, 0.0000e+00],\n",
       "           [9.4886e-02, 0.0000e+00, 0.0000e+00,  ..., 0.0000e+00,\n",
       "            0.0000e+00, 0.0000e+00]]],\n",
       " \n",
       " \n",
       "         [[[0.0000e+00, 0.0000e+00, 0.0000e+00,  ..., 0.0000e+00,\n",
       "            0.0000e+00, 0.0000e+00],\n",
       "           [0.0000e+00, 0.0000e+00, 0.0000e+00,  ..., 0.0000e+00,\n",
       "            0.0000e+00, 0.0000e+00],\n",
       "           [0.0000e+00, 0.0000e+00, 0.0000e+00,  ..., 0.0000e+00,\n",
       "            0.0000e+00, 0.0000e+00],\n",
       "           ...,\n",
       "           [0.0000e+00, 0.0000e+00, 0.0000e+00,  ..., 0.0000e+00,\n",
       "            0.0000e+00, 0.0000e+00],\n",
       "           [0.0000e+00, 0.0000e+00, 0.0000e+00,  ..., 0.0000e+00,\n",
       "            0.0000e+00, 0.0000e+00],\n",
       "           [0.0000e+00, 0.0000e+00, 0.0000e+00,  ..., 0.0000e+00,\n",
       "            0.0000e+00, 0.0000e+00]],\n",
       " \n",
       "          [[0.0000e+00, 0.0000e+00, 0.0000e+00,  ..., 0.0000e+00,\n",
       "            0.0000e+00, 0.0000e+00],\n",
       "           [0.0000e+00, 0.0000e+00, 0.0000e+00,  ..., 0.0000e+00,\n",
       "            0.0000e+00, 0.0000e+00],\n",
       "           [0.0000e+00, 0.0000e+00, 0.0000e+00,  ..., 0.0000e+00,\n",
       "            0.0000e+00, 0.0000e+00],\n",
       "           ...,\n",
       "           [0.0000e+00, 0.0000e+00, 0.0000e+00,  ..., 0.0000e+00,\n",
       "            0.0000e+00, 0.0000e+00],\n",
       "           [0.0000e+00, 0.0000e+00, 0.0000e+00,  ..., 0.0000e+00,\n",
       "            0.0000e+00, 0.0000e+00],\n",
       "           [0.0000e+00, 0.0000e+00, 0.0000e+00,  ..., 0.0000e+00,\n",
       "            0.0000e+00, 0.0000e+00]],\n",
       " \n",
       "          [[0.0000e+00, 0.0000e+00, 0.0000e+00,  ..., 0.0000e+00,\n",
       "            0.0000e+00, 0.0000e+00],\n",
       "           [0.0000e+00, 0.0000e+00, 0.0000e+00,  ..., 0.0000e+00,\n",
       "            0.0000e+00, 0.0000e+00],\n",
       "           [0.0000e+00, 0.0000e+00, 0.0000e+00,  ..., 0.0000e+00,\n",
       "            0.0000e+00, 0.0000e+00],\n",
       "           ...,\n",
       "           [0.0000e+00, 0.0000e+00, 0.0000e+00,  ..., 0.0000e+00,\n",
       "            0.0000e+00, 0.0000e+00],\n",
       "           [0.0000e+00, 0.0000e+00, 0.0000e+00,  ..., 0.0000e+00,\n",
       "            0.0000e+00, 0.0000e+00],\n",
       "           [0.0000e+00, 0.0000e+00, 0.0000e+00,  ..., 0.0000e+00,\n",
       "            0.0000e+00, 0.0000e+00]],\n",
       " \n",
       "          ...,\n",
       " \n",
       "          [[5.7510e-02, 0.0000e+00, 0.0000e+00,  ..., 0.0000e+00,\n",
       "            0.0000e+00, 7.8641e-03],\n",
       "           [4.0506e-02, 0.0000e+00, 0.0000e+00,  ..., 0.0000e+00,\n",
       "            0.0000e+00, 5.0312e-02],\n",
       "           [1.5346e-01, 1.5363e-01, 1.2919e-01,  ..., 8.3987e-02,\n",
       "            0.0000e+00, 1.1777e-01],\n",
       "           ...,\n",
       "           [1.4588e-01, 1.2033e-01, 6.4508e-02,  ..., 0.0000e+00,\n",
       "            0.0000e+00, 8.6556e-02],\n",
       "           [9.7862e-02, 7.7970e-02, 3.9797e-02,  ..., 0.0000e+00,\n",
       "            0.0000e+00, 7.3790e-02],\n",
       "           [2.0904e-01, 2.5608e-01, 2.0760e-01,  ..., 1.9029e-01,\n",
       "            1.5991e-01, 1.9800e-01]],\n",
       " \n",
       "          [[1.8799e+00, 2.1441e+00, 2.0416e+00,  ..., 2.2064e+00,\n",
       "            2.1227e+00, 1.3669e+00],\n",
       "           [2.2205e+00, 2.4739e+00, 2.3257e+00,  ..., 2.5534e+00,\n",
       "            2.5126e+00, 1.5390e+00],\n",
       "           [2.2259e+00, 2.4502e+00, 2.2838e+00,  ..., 2.5499e+00,\n",
       "            2.5738e+00, 1.6182e+00],\n",
       "           ...,\n",
       "           [2.1001e+00, 2.2202e+00, 2.0515e+00,  ..., 2.2900e+00,\n",
       "            2.3385e+00, 1.4574e+00],\n",
       "           [2.0332e+00, 2.1762e+00, 2.0515e+00,  ..., 2.2392e+00,\n",
       "            2.2546e+00, 1.3889e+00],\n",
       "           [1.3397e+00, 1.4716e+00, 1.4726e+00,  ..., 1.5398e+00,\n",
       "            1.5505e+00, 1.0597e+00]],\n",
       " \n",
       "          [[1.5487e-01, 0.0000e+00, 0.0000e+00,  ..., 0.0000e+00,\n",
       "            0.0000e+00, 0.0000e+00],\n",
       "           [2.6311e-01, 0.0000e+00, 0.0000e+00,  ..., 0.0000e+00,\n",
       "            0.0000e+00, 0.0000e+00],\n",
       "           [1.7028e-01, 0.0000e+00, 0.0000e+00,  ..., 0.0000e+00,\n",
       "            0.0000e+00, 0.0000e+00],\n",
       "           ...,\n",
       "           [1.8620e-01, 0.0000e+00, 0.0000e+00,  ..., 0.0000e+00,\n",
       "            0.0000e+00, 0.0000e+00],\n",
       "           [1.7151e-01, 0.0000e+00, 0.0000e+00,  ..., 0.0000e+00,\n",
       "            0.0000e+00, 0.0000e+00],\n",
       "           [9.4886e-02, 0.0000e+00, 0.0000e+00,  ..., 0.0000e+00,\n",
       "            0.0000e+00, 0.0000e+00]]],\n",
       " \n",
       " \n",
       "         [[[0.0000e+00, 0.0000e+00, 0.0000e+00,  ..., 0.0000e+00,\n",
       "            0.0000e+00, 0.0000e+00],\n",
       "           [0.0000e+00, 0.0000e+00, 0.0000e+00,  ..., 0.0000e+00,\n",
       "            0.0000e+00, 0.0000e+00],\n",
       "           [0.0000e+00, 0.0000e+00, 0.0000e+00,  ..., 0.0000e+00,\n",
       "            0.0000e+00, 0.0000e+00],\n",
       "           ...,\n",
       "           [0.0000e+00, 0.0000e+00, 0.0000e+00,  ..., 0.0000e+00,\n",
       "            0.0000e+00, 0.0000e+00],\n",
       "           [0.0000e+00, 0.0000e+00, 0.0000e+00,  ..., 0.0000e+00,\n",
       "            0.0000e+00, 0.0000e+00],\n",
       "           [0.0000e+00, 0.0000e+00, 0.0000e+00,  ..., 0.0000e+00,\n",
       "            0.0000e+00, 0.0000e+00]],\n",
       " \n",
       "          [[0.0000e+00, 0.0000e+00, 0.0000e+00,  ..., 0.0000e+00,\n",
       "            0.0000e+00, 0.0000e+00],\n",
       "           [0.0000e+00, 0.0000e+00, 0.0000e+00,  ..., 0.0000e+00,\n",
       "            0.0000e+00, 0.0000e+00],\n",
       "           [0.0000e+00, 0.0000e+00, 0.0000e+00,  ..., 0.0000e+00,\n",
       "            0.0000e+00, 0.0000e+00],\n",
       "           ...,\n",
       "           [0.0000e+00, 0.0000e+00, 0.0000e+00,  ..., 0.0000e+00,\n",
       "            0.0000e+00, 0.0000e+00],\n",
       "           [0.0000e+00, 0.0000e+00, 0.0000e+00,  ..., 0.0000e+00,\n",
       "            0.0000e+00, 0.0000e+00],\n",
       "           [0.0000e+00, 0.0000e+00, 0.0000e+00,  ..., 0.0000e+00,\n",
       "            0.0000e+00, 0.0000e+00]],\n",
       " \n",
       "          [[0.0000e+00, 0.0000e+00, 0.0000e+00,  ..., 0.0000e+00,\n",
       "            0.0000e+00, 0.0000e+00],\n",
       "           [0.0000e+00, 0.0000e+00, 0.0000e+00,  ..., 0.0000e+00,\n",
       "            0.0000e+00, 0.0000e+00],\n",
       "           [0.0000e+00, 0.0000e+00, 0.0000e+00,  ..., 0.0000e+00,\n",
       "            0.0000e+00, 0.0000e+00],\n",
       "           ...,\n",
       "           [0.0000e+00, 0.0000e+00, 0.0000e+00,  ..., 0.0000e+00,\n",
       "            0.0000e+00, 0.0000e+00],\n",
       "           [0.0000e+00, 0.0000e+00, 0.0000e+00,  ..., 0.0000e+00,\n",
       "            0.0000e+00, 0.0000e+00],\n",
       "           [0.0000e+00, 0.0000e+00, 0.0000e+00,  ..., 0.0000e+00,\n",
       "            0.0000e+00, 0.0000e+00]],\n",
       " \n",
       "          ...,\n",
       " \n",
       "          [[5.7510e-02, 0.0000e+00, 0.0000e+00,  ..., 0.0000e+00,\n",
       "            0.0000e+00, 7.8641e-03],\n",
       "           [4.0506e-02, 0.0000e+00, 0.0000e+00,  ..., 0.0000e+00,\n",
       "            0.0000e+00, 5.0312e-02],\n",
       "           [1.5346e-01, 1.5363e-01, 1.2919e-01,  ..., 8.3987e-02,\n",
       "            0.0000e+00, 1.1777e-01],\n",
       "           ...,\n",
       "           [1.4588e-01, 1.2033e-01, 6.4508e-02,  ..., 0.0000e+00,\n",
       "            0.0000e+00, 8.6556e-02],\n",
       "           [9.7862e-02, 7.7970e-02, 3.9797e-02,  ..., 0.0000e+00,\n",
       "            0.0000e+00, 7.3790e-02],\n",
       "           [2.0904e-01, 2.5608e-01, 2.0760e-01,  ..., 1.9029e-01,\n",
       "            1.5991e-01, 1.9800e-01]],\n",
       " \n",
       "          [[1.8799e+00, 2.1441e+00, 2.0416e+00,  ..., 2.2064e+00,\n",
       "            2.1227e+00, 1.3669e+00],\n",
       "           [2.2205e+00, 2.4739e+00, 2.3257e+00,  ..., 2.5534e+00,\n",
       "            2.5126e+00, 1.5390e+00],\n",
       "           [2.2259e+00, 2.4502e+00, 2.2838e+00,  ..., 2.5499e+00,\n",
       "            2.5738e+00, 1.6182e+00],\n",
       "           ...,\n",
       "           [2.1001e+00, 2.2202e+00, 2.0515e+00,  ..., 2.2900e+00,\n",
       "            2.3385e+00, 1.4574e+00],\n",
       "           [2.0332e+00, 2.1762e+00, 2.0515e+00,  ..., 2.2392e+00,\n",
       "            2.2546e+00, 1.3889e+00],\n",
       "           [1.3397e+00, 1.4716e+00, 1.4726e+00,  ..., 1.5398e+00,\n",
       "            1.5505e+00, 1.0597e+00]],\n",
       " \n",
       "          [[1.5487e-01, 0.0000e+00, 0.0000e+00,  ..., 0.0000e+00,\n",
       "            0.0000e+00, 0.0000e+00],\n",
       "           [2.6311e-01, 0.0000e+00, 0.0000e+00,  ..., 0.0000e+00,\n",
       "            0.0000e+00, 0.0000e+00],\n",
       "           [1.7028e-01, 0.0000e+00, 0.0000e+00,  ..., 0.0000e+00,\n",
       "            0.0000e+00, 0.0000e+00],\n",
       "           ...,\n",
       "           [1.8620e-01, 0.0000e+00, 0.0000e+00,  ..., 0.0000e+00,\n",
       "            0.0000e+00, 0.0000e+00],\n",
       "           [1.7151e-01, 0.0000e+00, 0.0000e+00,  ..., 0.0000e+00,\n",
       "            0.0000e+00, 0.0000e+00],\n",
       "           [9.4886e-02, 0.0000e+00, 0.0000e+00,  ..., 0.0000e+00,\n",
       "            0.0000e+00, 0.0000e+00]]],\n",
       " \n",
       " \n",
       "         ...,\n",
       " \n",
       " \n",
       "         [[[0.0000e+00, 0.0000e+00, 0.0000e+00,  ..., 0.0000e+00,\n",
       "            0.0000e+00, 0.0000e+00],\n",
       "           [0.0000e+00, 0.0000e+00, 0.0000e+00,  ..., 0.0000e+00,\n",
       "            0.0000e+00, 0.0000e+00],\n",
       "           [0.0000e+00, 0.0000e+00, 0.0000e+00,  ..., 0.0000e+00,\n",
       "            0.0000e+00, 0.0000e+00],\n",
       "           ...,\n",
       "           [0.0000e+00, 0.0000e+00, 0.0000e+00,  ..., 0.0000e+00,\n",
       "            0.0000e+00, 0.0000e+00],\n",
       "           [0.0000e+00, 0.0000e+00, 0.0000e+00,  ..., 0.0000e+00,\n",
       "            0.0000e+00, 0.0000e+00],\n",
       "           [0.0000e+00, 0.0000e+00, 0.0000e+00,  ..., 0.0000e+00,\n",
       "            0.0000e+00, 0.0000e+00]],\n",
       " \n",
       "          [[0.0000e+00, 0.0000e+00, 0.0000e+00,  ..., 0.0000e+00,\n",
       "            0.0000e+00, 0.0000e+00],\n",
       "           [0.0000e+00, 0.0000e+00, 0.0000e+00,  ..., 0.0000e+00,\n",
       "            0.0000e+00, 0.0000e+00],\n",
       "           [0.0000e+00, 0.0000e+00, 0.0000e+00,  ..., 0.0000e+00,\n",
       "            0.0000e+00, 0.0000e+00],\n",
       "           ...,\n",
       "           [0.0000e+00, 0.0000e+00, 0.0000e+00,  ..., 0.0000e+00,\n",
       "            0.0000e+00, 0.0000e+00],\n",
       "           [0.0000e+00, 0.0000e+00, 0.0000e+00,  ..., 0.0000e+00,\n",
       "            0.0000e+00, 0.0000e+00],\n",
       "           [0.0000e+00, 0.0000e+00, 0.0000e+00,  ..., 0.0000e+00,\n",
       "            0.0000e+00, 0.0000e+00]],\n",
       " \n",
       "          [[0.0000e+00, 0.0000e+00, 0.0000e+00,  ..., 0.0000e+00,\n",
       "            0.0000e+00, 0.0000e+00],\n",
       "           [0.0000e+00, 0.0000e+00, 0.0000e+00,  ..., 0.0000e+00,\n",
       "            0.0000e+00, 0.0000e+00],\n",
       "           [0.0000e+00, 0.0000e+00, 0.0000e+00,  ..., 0.0000e+00,\n",
       "            0.0000e+00, 0.0000e+00],\n",
       "           ...,\n",
       "           [0.0000e+00, 0.0000e+00, 0.0000e+00,  ..., 0.0000e+00,\n",
       "            0.0000e+00, 0.0000e+00],\n",
       "           [0.0000e+00, 0.0000e+00, 0.0000e+00,  ..., 0.0000e+00,\n",
       "            0.0000e+00, 0.0000e+00],\n",
       "           [0.0000e+00, 0.0000e+00, 0.0000e+00,  ..., 0.0000e+00,\n",
       "            0.0000e+00, 0.0000e+00]],\n",
       " \n",
       "          ...,\n",
       " \n",
       "          [[5.7509e-02, 0.0000e+00, 0.0000e+00,  ..., 0.0000e+00,\n",
       "            0.0000e+00, 7.8644e-03],\n",
       "           [4.0506e-02, 2.5447e-02, 3.8535e-02,  ..., 0.0000e+00,\n",
       "            0.0000e+00, 5.0312e-02],\n",
       "           [1.5346e-01, 2.1963e-01, 2.2606e-01,  ..., 1.7930e-03,\n",
       "            0.0000e+00, 1.1777e-01],\n",
       "           ...,\n",
       "           [1.4588e-01, 1.2460e-01, 7.2243e-02,  ..., 0.0000e+00,\n",
       "            0.0000e+00, 8.6556e-02],\n",
       "           [9.7861e-02, 7.9101e-02, 3.7683e-02,  ..., 0.0000e+00,\n",
       "            0.0000e+00, 7.3790e-02],\n",
       "           [2.0904e-01, 2.5651e-01, 2.0344e-01,  ..., 1.8354e-01,\n",
       "            1.5956e-01, 1.9800e-01]],\n",
       " \n",
       "          [[1.8799e+00, 2.0975e+00, 1.9089e+00,  ..., 2.2553e+00,\n",
       "            2.1445e+00, 1.3669e+00],\n",
       "           [2.2205e+00, 2.4500e+00, 2.1662e+00,  ..., 2.4873e+00,\n",
       "            2.5059e+00, 1.5390e+00],\n",
       "           [2.2259e+00, 2.4957e+00, 2.1066e+00,  ..., 2.3743e+00,\n",
       "            2.5241e+00, 1.6182e+00],\n",
       "           ...,\n",
       "           [2.1001e+00, 2.2348e+00, 2.0145e+00,  ..., 2.0901e+00,\n",
       "            2.2608e+00, 1.4574e+00],\n",
       "           [2.0332e+00, 2.1835e+00, 2.0306e+00,  ..., 2.1655e+00,\n",
       "            2.2255e+00, 1.3889e+00],\n",
       "           [1.3397e+00, 1.4740e+00, 1.4621e+00,  ..., 1.5351e+00,\n",
       "            1.5441e+00, 1.0597e+00]],\n",
       " \n",
       "          [[1.5487e-01, 0.0000e+00, 0.0000e+00,  ..., 4.4880e-02,\n",
       "            0.0000e+00, 0.0000e+00],\n",
       "           [2.6312e-01, 0.0000e+00, 4.8852e-03,  ..., 3.0928e-01,\n",
       "            5.7398e-02, 0.0000e+00],\n",
       "           [1.7028e-01, 0.0000e+00, 0.0000e+00,  ..., 2.3436e-01,\n",
       "            3.8495e-02, 0.0000e+00],\n",
       "           ...,\n",
       "           [1.8620e-01, 0.0000e+00, 0.0000e+00,  ..., 5.5970e-02,\n",
       "            3.3326e-02, 0.0000e+00],\n",
       "           [1.7151e-01, 0.0000e+00, 0.0000e+00,  ..., 0.0000e+00,\n",
       "            0.0000e+00, 0.0000e+00],\n",
       "           [9.4887e-02, 0.0000e+00, 0.0000e+00,  ..., 0.0000e+00,\n",
       "            0.0000e+00, 0.0000e+00]]],\n",
       " \n",
       " \n",
       "         [[[0.0000e+00, 0.0000e+00, 0.0000e+00,  ..., 0.0000e+00,\n",
       "            0.0000e+00, 0.0000e+00],\n",
       "           [0.0000e+00, 0.0000e+00, 0.0000e+00,  ..., 0.0000e+00,\n",
       "            0.0000e+00, 0.0000e+00],\n",
       "           [0.0000e+00, 0.0000e+00, 0.0000e+00,  ..., 0.0000e+00,\n",
       "            0.0000e+00, 0.0000e+00],\n",
       "           ...,\n",
       "           [0.0000e+00, 0.0000e+00, 0.0000e+00,  ..., 0.0000e+00,\n",
       "            0.0000e+00, 0.0000e+00],\n",
       "           [0.0000e+00, 0.0000e+00, 0.0000e+00,  ..., 0.0000e+00,\n",
       "            0.0000e+00, 0.0000e+00],\n",
       "           [0.0000e+00, 0.0000e+00, 0.0000e+00,  ..., 0.0000e+00,\n",
       "            0.0000e+00, 0.0000e+00]],\n",
       " \n",
       "          [[0.0000e+00, 0.0000e+00, 0.0000e+00,  ..., 0.0000e+00,\n",
       "            0.0000e+00, 0.0000e+00],\n",
       "           [0.0000e+00, 0.0000e+00, 0.0000e+00,  ..., 0.0000e+00,\n",
       "            0.0000e+00, 0.0000e+00],\n",
       "           [0.0000e+00, 0.0000e+00, 0.0000e+00,  ..., 0.0000e+00,\n",
       "            0.0000e+00, 0.0000e+00],\n",
       "           ...,\n",
       "           [0.0000e+00, 0.0000e+00, 0.0000e+00,  ..., 0.0000e+00,\n",
       "            0.0000e+00, 0.0000e+00],\n",
       "           [0.0000e+00, 0.0000e+00, 0.0000e+00,  ..., 0.0000e+00,\n",
       "            0.0000e+00, 0.0000e+00],\n",
       "           [0.0000e+00, 0.0000e+00, 0.0000e+00,  ..., 0.0000e+00,\n",
       "            0.0000e+00, 0.0000e+00]],\n",
       " \n",
       "          [[0.0000e+00, 0.0000e+00, 0.0000e+00,  ..., 0.0000e+00,\n",
       "            0.0000e+00, 0.0000e+00],\n",
       "           [0.0000e+00, 0.0000e+00, 0.0000e+00,  ..., 0.0000e+00,\n",
       "            0.0000e+00, 0.0000e+00],\n",
       "           [0.0000e+00, 0.0000e+00, 0.0000e+00,  ..., 0.0000e+00,\n",
       "            0.0000e+00, 0.0000e+00],\n",
       "           ...,\n",
       "           [0.0000e+00, 0.0000e+00, 0.0000e+00,  ..., 0.0000e+00,\n",
       "            0.0000e+00, 0.0000e+00],\n",
       "           [0.0000e+00, 0.0000e+00, 0.0000e+00,  ..., 0.0000e+00,\n",
       "            0.0000e+00, 0.0000e+00],\n",
       "           [0.0000e+00, 0.0000e+00, 0.0000e+00,  ..., 0.0000e+00,\n",
       "            0.0000e+00, 0.0000e+00]],\n",
       " \n",
       "          ...,\n",
       " \n",
       "          [[5.7509e-02, 0.0000e+00, 0.0000e+00,  ..., 0.0000e+00,\n",
       "            0.0000e+00, 7.8643e-03],\n",
       "           [4.0506e-02, 0.0000e+00, 0.0000e+00,  ..., 0.0000e+00,\n",
       "            0.0000e+00, 5.0312e-02],\n",
       "           [1.5346e-01, 1.5363e-01, 1.2919e-01,  ..., 8.3987e-02,\n",
       "            0.0000e+00, 1.1777e-01],\n",
       "           ...,\n",
       "           [1.4588e-01, 1.2033e-01, 6.4508e-02,  ..., 0.0000e+00,\n",
       "            0.0000e+00, 8.6556e-02],\n",
       "           [9.7861e-02, 7.7970e-02, 3.9797e-02,  ..., 0.0000e+00,\n",
       "            0.0000e+00, 7.3790e-02],\n",
       "           [2.0904e-01, 2.5608e-01, 2.0760e-01,  ..., 1.9029e-01,\n",
       "            1.5991e-01, 1.9800e-01]],\n",
       " \n",
       "          [[1.8799e+00, 2.1441e+00, 2.0416e+00,  ..., 2.2064e+00,\n",
       "            2.1227e+00, 1.3669e+00],\n",
       "           [2.2205e+00, 2.4739e+00, 2.3257e+00,  ..., 2.5534e+00,\n",
       "            2.5126e+00, 1.5390e+00],\n",
       "           [2.2259e+00, 2.4502e+00, 2.2838e+00,  ..., 2.5499e+00,\n",
       "            2.5738e+00, 1.6182e+00],\n",
       "           ...,\n",
       "           [2.1001e+00, 2.2202e+00, 2.0515e+00,  ..., 2.2900e+00,\n",
       "            2.3385e+00, 1.4574e+00],\n",
       "           [2.0332e+00, 2.1762e+00, 2.0515e+00,  ..., 2.2392e+00,\n",
       "            2.2546e+00, 1.3889e+00],\n",
       "           [1.3397e+00, 1.4716e+00, 1.4726e+00,  ..., 1.5398e+00,\n",
       "            1.5505e+00, 1.0597e+00]],\n",
       " \n",
       "          [[1.5487e-01, 0.0000e+00, 0.0000e+00,  ..., 0.0000e+00,\n",
       "            0.0000e+00, 0.0000e+00],\n",
       "           [2.6311e-01, 0.0000e+00, 0.0000e+00,  ..., 0.0000e+00,\n",
       "            0.0000e+00, 0.0000e+00],\n",
       "           [1.7028e-01, 0.0000e+00, 0.0000e+00,  ..., 0.0000e+00,\n",
       "            0.0000e+00, 0.0000e+00],\n",
       "           ...,\n",
       "           [1.8620e-01, 0.0000e+00, 0.0000e+00,  ..., 0.0000e+00,\n",
       "            0.0000e+00, 0.0000e+00],\n",
       "           [1.7151e-01, 0.0000e+00, 0.0000e+00,  ..., 0.0000e+00,\n",
       "            0.0000e+00, 0.0000e+00],\n",
       "           [9.4886e-02, 0.0000e+00, 0.0000e+00,  ..., 0.0000e+00,\n",
       "            0.0000e+00, 0.0000e+00]]],\n",
       " \n",
       " \n",
       "         [[[0.0000e+00, 0.0000e+00, 0.0000e+00,  ..., 0.0000e+00,\n",
       "            0.0000e+00, 0.0000e+00],\n",
       "           [0.0000e+00, 0.0000e+00, 0.0000e+00,  ..., 0.0000e+00,\n",
       "            0.0000e+00, 0.0000e+00],\n",
       "           [0.0000e+00, 0.0000e+00, 0.0000e+00,  ..., 0.0000e+00,\n",
       "            0.0000e+00, 0.0000e+00],\n",
       "           ...,\n",
       "           [0.0000e+00, 0.0000e+00, 0.0000e+00,  ..., 0.0000e+00,\n",
       "            0.0000e+00, 0.0000e+00],\n",
       "           [0.0000e+00, 0.0000e+00, 0.0000e+00,  ..., 0.0000e+00,\n",
       "            0.0000e+00, 0.0000e+00],\n",
       "           [0.0000e+00, 0.0000e+00, 0.0000e+00,  ..., 0.0000e+00,\n",
       "            0.0000e+00, 0.0000e+00]],\n",
       " \n",
       "          [[0.0000e+00, 0.0000e+00, 0.0000e+00,  ..., 0.0000e+00,\n",
       "            0.0000e+00, 0.0000e+00],\n",
       "           [0.0000e+00, 0.0000e+00, 0.0000e+00,  ..., 0.0000e+00,\n",
       "            0.0000e+00, 0.0000e+00],\n",
       "           [0.0000e+00, 0.0000e+00, 0.0000e+00,  ..., 0.0000e+00,\n",
       "            0.0000e+00, 0.0000e+00],\n",
       "           ...,\n",
       "           [0.0000e+00, 0.0000e+00, 0.0000e+00,  ..., 0.0000e+00,\n",
       "            0.0000e+00, 0.0000e+00],\n",
       "           [0.0000e+00, 0.0000e+00, 0.0000e+00,  ..., 0.0000e+00,\n",
       "            0.0000e+00, 0.0000e+00],\n",
       "           [0.0000e+00, 0.0000e+00, 0.0000e+00,  ..., 0.0000e+00,\n",
       "            0.0000e+00, 0.0000e+00]],\n",
       " \n",
       "          [[0.0000e+00, 0.0000e+00, 0.0000e+00,  ..., 0.0000e+00,\n",
       "            0.0000e+00, 0.0000e+00],\n",
       "           [0.0000e+00, 0.0000e+00, 0.0000e+00,  ..., 0.0000e+00,\n",
       "            0.0000e+00, 0.0000e+00],\n",
       "           [0.0000e+00, 0.0000e+00, 0.0000e+00,  ..., 0.0000e+00,\n",
       "            0.0000e+00, 0.0000e+00],\n",
       "           ...,\n",
       "           [0.0000e+00, 0.0000e+00, 0.0000e+00,  ..., 0.0000e+00,\n",
       "            0.0000e+00, 0.0000e+00],\n",
       "           [0.0000e+00, 0.0000e+00, 0.0000e+00,  ..., 0.0000e+00,\n",
       "            0.0000e+00, 0.0000e+00],\n",
       "           [0.0000e+00, 0.0000e+00, 0.0000e+00,  ..., 0.0000e+00,\n",
       "            0.0000e+00, 0.0000e+00]],\n",
       " \n",
       "          ...,\n",
       " \n",
       "          [[5.7510e-02, 0.0000e+00, 0.0000e+00,  ..., 0.0000e+00,\n",
       "            0.0000e+00, 7.8643e-03],\n",
       "           [4.0506e-02, 0.0000e+00, 0.0000e+00,  ..., 0.0000e+00,\n",
       "            0.0000e+00, 5.0312e-02],\n",
       "           [1.5346e-01, 1.5363e-01, 1.2919e-01,  ..., 8.3987e-02,\n",
       "            0.0000e+00, 1.1777e-01],\n",
       "           ...,\n",
       "           [1.4588e-01, 1.2033e-01, 6.4508e-02,  ..., 0.0000e+00,\n",
       "            0.0000e+00, 8.6556e-02],\n",
       "           [9.7861e-02, 7.7970e-02, 3.9797e-02,  ..., 0.0000e+00,\n",
       "            0.0000e+00, 7.3790e-02],\n",
       "           [2.0904e-01, 2.5608e-01, 2.0760e-01,  ..., 1.9029e-01,\n",
       "            1.5991e-01, 1.9800e-01]],\n",
       " \n",
       "          [[1.8799e+00, 2.1441e+00, 2.0416e+00,  ..., 2.2064e+00,\n",
       "            2.1227e+00, 1.3669e+00],\n",
       "           [2.2205e+00, 2.4739e+00, 2.3257e+00,  ..., 2.5534e+00,\n",
       "            2.5126e+00, 1.5390e+00],\n",
       "           [2.2259e+00, 2.4502e+00, 2.2838e+00,  ..., 2.5499e+00,\n",
       "            2.5738e+00, 1.6182e+00],\n",
       "           ...,\n",
       "           [2.1001e+00, 2.2202e+00, 2.0515e+00,  ..., 2.2900e+00,\n",
       "            2.3385e+00, 1.4574e+00],\n",
       "           [2.0332e+00, 2.1762e+00, 2.0515e+00,  ..., 2.2392e+00,\n",
       "            2.2546e+00, 1.3889e+00],\n",
       "           [1.3397e+00, 1.4716e+00, 1.4726e+00,  ..., 1.5398e+00,\n",
       "            1.5505e+00, 1.0597e+00]],\n",
       " \n",
       "          [[1.5487e-01, 0.0000e+00, 0.0000e+00,  ..., 0.0000e+00,\n",
       "            0.0000e+00, 0.0000e+00],\n",
       "           [2.6311e-01, 0.0000e+00, 0.0000e+00,  ..., 0.0000e+00,\n",
       "            0.0000e+00, 0.0000e+00],\n",
       "           [1.7028e-01, 0.0000e+00, 0.0000e+00,  ..., 0.0000e+00,\n",
       "            0.0000e+00, 0.0000e+00],\n",
       "           ...,\n",
       "           [1.8620e-01, 0.0000e+00, 0.0000e+00,  ..., 0.0000e+00,\n",
       "            0.0000e+00, 0.0000e+00],\n",
       "           [1.7151e-01, 0.0000e+00, 0.0000e+00,  ..., 0.0000e+00,\n",
       "            0.0000e+00, 0.0000e+00],\n",
       "           [9.4886e-02, 0.0000e+00, 0.0000e+00,  ..., 0.0000e+00,\n",
       "            0.0000e+00, 0.0000e+00]]]], device='cuda:0',\n",
       "        grad_fn=<ReluBackward0>)}"
      ]
     },
     "execution_count": 31,
     "metadata": {},
     "output_type": "execute_result"
    }
   ],
   "source": [
    "features"
   ]
  },
  {
   "cell_type": "code",
   "execution_count": null,
   "id": "5ae7d931",
   "metadata": {},
   "outputs": [],
   "source": []
  },
  {
   "cell_type": "code",
   "execution_count": 32,
   "id": "f2b9a87d",
   "metadata": {},
   "outputs": [
    {
     "data": {
      "text/plain": [
       "{'instances': Instances(num_instances=12, image_height=1024, image_width=2048, fields=[pred_boxes: Boxes(tensor([[1559.0526,  369.2750, 2028.0588,  741.8217],\n",
       "         [1138.9521,  415.2973, 1202.7600,  464.2725],\n",
       "         [ 943.8898,  409.7549, 1006.0596,  458.2784],\n",
       "         [1865.1520,  489.8351, 2023.8794,  841.3592],\n",
       "         [ 986.3124,  399.5432, 1025.6343,  427.7608],\n",
       "         [1776.2692,  395.2498, 2014.1421,  804.3880],\n",
       "         [ 969.1602,  401.7174, 1005.6224,  428.4144],\n",
       "         [1032.2039,  412.1666, 1138.4435,  467.3717],\n",
       "         [ 976.0252,  406.6786, 1022.8869,  445.2130],\n",
       "         [1890.3911,  437.9253, 2028.6399,  604.5677],\n",
       "         [1201.3131,  435.5332, 1237.6864,  461.1324],\n",
       "         [1007.9521,  394.7413, 1046.1382,  424.4991]], device='cuda:0')), scores: tensor([0.9356, 0.8825, 0.8813, 0.8382, 0.2671, 0.2084, 0.1407, 0.0478, 0.0400,\n",
       "         0.0238, 0.0238, 0.0230], device='cuda:0'), pred_classes: tensor([0, 0, 0, 0, 0, 0, 0, 0, 0, 0, 0, 0], device='cuda:0'), scores_logists: tensor([[ 4.2159, -4.2135],\n",
       "         [ 3.8501, -3.8273],\n",
       "         [ 3.8795, -3.8321],\n",
       "         [ 2.8464, -2.8259],\n",
       "         [ 0.0538, -0.0128],\n",
       "         [-0.1349,  0.0851],\n",
       "         [-0.4676,  0.5445],\n",
       "         [-1.1574,  1.1992],\n",
       "         [-0.9115,  0.9628],\n",
       "         [-0.8727,  0.8982],\n",
       "         [-1.4444,  1.4951],\n",
       "         [-1.3103,  1.3568]], device='cuda:0'), boxes_sigma: tensor([[-2.9555, -2.6001, -2.7240, -2.4878],\n",
       "         [-1.9711, -2.0347, -1.8924, -2.2026],\n",
       "         [-2.0347, -1.9242, -1.9983, -2.0842],\n",
       "         [-1.9733, -1.3914, -1.8474, -1.5283],\n",
       "         [ 0.0786,  0.1793, -0.1990, -0.3341],\n",
       "         [ 0.9639, -0.6291,  0.5466, -0.3124],\n",
       "         [ 0.0814,  0.3012, -0.4635, -0.3759],\n",
       "         [-0.3843, -0.0865, -0.3201, -0.0443],\n",
       "         [ 2.5395,  0.2346,  1.3390,  0.0750],\n",
       "         [ 1.0335,  2.5172,  1.2559,  2.2428],\n",
       "         [ 0.5933, -0.2117,  0.2419, -0.1811],\n",
       "         [ 0.9562,  0.5613,  0.6173,  0.2952]], device='cuda:0')])}"
      ]
     },
     "execution_count": 32,
     "metadata": {},
     "output_type": "execute_result"
    }
   ],
   "source": [
    "A[4]"
   ]
  },
  {
   "cell_type": "code",
   "execution_count": 33,
   "id": "81baa053",
   "metadata": {},
   "outputs": [
    {
     "ename": "AttributeError",
     "evalue": "'list' object has no attribute 'numel'",
     "output_type": "error",
     "traceback": [
      "\u001b[0;31m---------------------------------------------------------------------------\u001b[0m",
      "\u001b[0;31mAttributeError\u001b[0m                            Traceback (most recent call last)",
      "\u001b[0;32m<ipython-input-33-bc0bbd4e5229>\u001b[0m in \u001b[0;36m<module>\u001b[0;34m\u001b[0m\n\u001b[0;32m----> 1\u001b[0;31m \u001b[0mglobal_model\u001b[0m\u001b[0;34m.\u001b[0m\u001b[0mbackbone\u001b[0m\u001b[0;34m(\u001b[0m\u001b[0mlabel_data_q\u001b[0m\u001b[0;34m)\u001b[0m\u001b[0;34m\u001b[0m\u001b[0;34m\u001b[0m\u001b[0m\n\u001b[0m",
      "\u001b[0;32m~/.local/lib/python3.7/site-packages/torch/nn/modules/module.py\u001b[0m in \u001b[0;36m_call_impl\u001b[0;34m(self, *input, **kwargs)\u001b[0m\n\u001b[1;32m   1128\u001b[0m         if not (self._backward_hooks or self._forward_hooks or self._forward_pre_hooks or _global_backward_hooks\n\u001b[1;32m   1129\u001b[0m                 or _global_forward_hooks or _global_forward_pre_hooks):\n\u001b[0;32m-> 1130\u001b[0;31m             \u001b[0;32mreturn\u001b[0m \u001b[0mforward_call\u001b[0m\u001b[0;34m(\u001b[0m\u001b[0;34m*\u001b[0m\u001b[0minput\u001b[0m\u001b[0;34m,\u001b[0m \u001b[0;34m**\u001b[0m\u001b[0mkwargs\u001b[0m\u001b[0;34m)\u001b[0m\u001b[0;34m\u001b[0m\u001b[0;34m\u001b[0m\u001b[0m\n\u001b[0m\u001b[1;32m   1131\u001b[0m         \u001b[0;31m# Do not call functions when jit is used\u001b[0m\u001b[0;34m\u001b[0m\u001b[0;34m\u001b[0m\u001b[0;34m\u001b[0m\u001b[0m\n\u001b[1;32m   1132\u001b[0m         \u001b[0mfull_backward_hooks\u001b[0m\u001b[0;34m,\u001b[0m \u001b[0mnon_full_backward_hooks\u001b[0m \u001b[0;34m=\u001b[0m \u001b[0;34m[\u001b[0m\u001b[0;34m]\u001b[0m\u001b[0;34m,\u001b[0m \u001b[0;34m[\u001b[0m\u001b[0;34m]\u001b[0m\u001b[0;34m\u001b[0m\u001b[0;34m\u001b[0m\u001b[0m\n",
      "\u001b[0;32m~/Research/ProbabilisticTeacher/pt/modeling/backbone/vgg.py\u001b[0m in \u001b[0;36mforward\u001b[0;34m(self, x)\u001b[0m\n\u001b[1;32m    156\u001b[0m         \u001b[0moutputs\u001b[0m \u001b[0;34m=\u001b[0m \u001b[0;34m{\u001b[0m\u001b[0;34m}\u001b[0m\u001b[0;34m\u001b[0m\u001b[0;34m\u001b[0m\u001b[0m\n\u001b[1;32m    157\u001b[0m         \u001b[0;32mfor\u001b[0m \u001b[0mstage\u001b[0m\u001b[0;34m,\u001b[0m \u001b[0mname\u001b[0m \u001b[0;32min\u001b[0m \u001b[0mself\u001b[0m\u001b[0;34m.\u001b[0m\u001b[0mstages_and_names\u001b[0m\u001b[0;34m:\u001b[0m\u001b[0;34m\u001b[0m\u001b[0;34m\u001b[0m\u001b[0m\n\u001b[0;32m--> 158\u001b[0;31m             \u001b[0mx\u001b[0m \u001b[0;34m=\u001b[0m \u001b[0mstage\u001b[0m\u001b[0;34m(\u001b[0m\u001b[0mx\u001b[0m\u001b[0;34m)\u001b[0m\u001b[0;34m\u001b[0m\u001b[0;34m\u001b[0m\u001b[0m\n\u001b[0m\u001b[1;32m    159\u001b[0m             \u001b[0;32mif\u001b[0m \u001b[0mname\u001b[0m \u001b[0;32min\u001b[0m \u001b[0mself\u001b[0m\u001b[0;34m.\u001b[0m\u001b[0m_out_features\u001b[0m\u001b[0;34m:\u001b[0m\u001b[0;34m\u001b[0m\u001b[0;34m\u001b[0m\u001b[0m\n\u001b[1;32m    160\u001b[0m                 \u001b[0moutputs\u001b[0m\u001b[0;34m[\u001b[0m\u001b[0mname\u001b[0m\u001b[0;34m]\u001b[0m \u001b[0;34m=\u001b[0m \u001b[0mx\u001b[0m\u001b[0;34m\u001b[0m\u001b[0;34m\u001b[0m\u001b[0m\n",
      "\u001b[0;32m~/.local/lib/python3.7/site-packages/torch/nn/modules/module.py\u001b[0m in \u001b[0;36m_call_impl\u001b[0;34m(self, *input, **kwargs)\u001b[0m\n\u001b[1;32m   1128\u001b[0m         if not (self._backward_hooks or self._forward_hooks or self._forward_pre_hooks or _global_backward_hooks\n\u001b[1;32m   1129\u001b[0m                 or _global_forward_hooks or _global_forward_pre_hooks):\n\u001b[0;32m-> 1130\u001b[0;31m             \u001b[0;32mreturn\u001b[0m \u001b[0mforward_call\u001b[0m\u001b[0;34m(\u001b[0m\u001b[0;34m*\u001b[0m\u001b[0minput\u001b[0m\u001b[0;34m,\u001b[0m \u001b[0;34m**\u001b[0m\u001b[0mkwargs\u001b[0m\u001b[0;34m)\u001b[0m\u001b[0;34m\u001b[0m\u001b[0;34m\u001b[0m\u001b[0m\n\u001b[0m\u001b[1;32m   1131\u001b[0m         \u001b[0;31m# Do not call functions when jit is used\u001b[0m\u001b[0;34m\u001b[0m\u001b[0;34m\u001b[0m\u001b[0;34m\u001b[0m\u001b[0m\n\u001b[1;32m   1132\u001b[0m         \u001b[0mfull_backward_hooks\u001b[0m\u001b[0;34m,\u001b[0m \u001b[0mnon_full_backward_hooks\u001b[0m \u001b[0;34m=\u001b[0m \u001b[0;34m[\u001b[0m\u001b[0;34m]\u001b[0m\u001b[0;34m,\u001b[0m \u001b[0;34m[\u001b[0m\u001b[0;34m]\u001b[0m\u001b[0;34m\u001b[0m\u001b[0;34m\u001b[0m\u001b[0m\n",
      "\u001b[0;32m~/.local/lib/python3.7/site-packages/torch/nn/modules/container.py\u001b[0m in \u001b[0;36mforward\u001b[0;34m(self, input)\u001b[0m\n\u001b[1;32m    137\u001b[0m     \u001b[0;32mdef\u001b[0m \u001b[0mforward\u001b[0m\u001b[0;34m(\u001b[0m\u001b[0mself\u001b[0m\u001b[0;34m,\u001b[0m \u001b[0minput\u001b[0m\u001b[0;34m)\u001b[0m\u001b[0;34m:\u001b[0m\u001b[0;34m\u001b[0m\u001b[0;34m\u001b[0m\u001b[0m\n\u001b[1;32m    138\u001b[0m         \u001b[0;32mfor\u001b[0m \u001b[0mmodule\u001b[0m \u001b[0;32min\u001b[0m \u001b[0mself\u001b[0m\u001b[0;34m:\u001b[0m\u001b[0;34m\u001b[0m\u001b[0;34m\u001b[0m\u001b[0m\n\u001b[0;32m--> 139\u001b[0;31m             \u001b[0minput\u001b[0m \u001b[0;34m=\u001b[0m \u001b[0mmodule\u001b[0m\u001b[0;34m(\u001b[0m\u001b[0minput\u001b[0m\u001b[0;34m)\u001b[0m\u001b[0;34m\u001b[0m\u001b[0;34m\u001b[0m\u001b[0m\n\u001b[0m\u001b[1;32m    140\u001b[0m         \u001b[0;32mreturn\u001b[0m \u001b[0minput\u001b[0m\u001b[0;34m\u001b[0m\u001b[0;34m\u001b[0m\u001b[0m\n\u001b[1;32m    141\u001b[0m \u001b[0;34m\u001b[0m\u001b[0m\n",
      "\u001b[0;32m~/.local/lib/python3.7/site-packages/torch/nn/modules/module.py\u001b[0m in \u001b[0;36m_call_impl\u001b[0;34m(self, *input, **kwargs)\u001b[0m\n\u001b[1;32m   1128\u001b[0m         if not (self._backward_hooks or self._forward_hooks or self._forward_pre_hooks or _global_backward_hooks\n\u001b[1;32m   1129\u001b[0m                 or _global_forward_hooks or _global_forward_pre_hooks):\n\u001b[0;32m-> 1130\u001b[0;31m             \u001b[0;32mreturn\u001b[0m \u001b[0mforward_call\u001b[0m\u001b[0;34m(\u001b[0m\u001b[0;34m*\u001b[0m\u001b[0minput\u001b[0m\u001b[0;34m,\u001b[0m \u001b[0;34m**\u001b[0m\u001b[0mkwargs\u001b[0m\u001b[0;34m)\u001b[0m\u001b[0;34m\u001b[0m\u001b[0;34m\u001b[0m\u001b[0m\n\u001b[0m\u001b[1;32m   1131\u001b[0m         \u001b[0;31m# Do not call functions when jit is used\u001b[0m\u001b[0;34m\u001b[0m\u001b[0;34m\u001b[0m\u001b[0;34m\u001b[0m\u001b[0m\n\u001b[1;32m   1132\u001b[0m         \u001b[0mfull_backward_hooks\u001b[0m\u001b[0;34m,\u001b[0m \u001b[0mnon_full_backward_hooks\u001b[0m \u001b[0;34m=\u001b[0m \u001b[0;34m[\u001b[0m\u001b[0;34m]\u001b[0m\u001b[0;34m,\u001b[0m \u001b[0;34m[\u001b[0m\u001b[0;34m]\u001b[0m\u001b[0;34m\u001b[0m\u001b[0;34m\u001b[0m\u001b[0m\n",
      "\u001b[0;32m~/Research/ProbabilisticTeacher/pt/modeling/backbone/vgg.py\u001b[0m in \u001b[0;36mforward\u001b[0;34m(self, x)\u001b[0m\n\u001b[1;32m     66\u001b[0m     \u001b[0;32mdef\u001b[0m \u001b[0mforward\u001b[0m\u001b[0;34m(\u001b[0m\u001b[0mself\u001b[0m\u001b[0;34m,\u001b[0m \u001b[0mx\u001b[0m\u001b[0;34m)\u001b[0m\u001b[0;34m:\u001b[0m\u001b[0;34m\u001b[0m\u001b[0;34m\u001b[0m\u001b[0m\n\u001b[1;32m     67\u001b[0m         \u001b[0;32mfor\u001b[0m \u001b[0mconv\u001b[0m \u001b[0;32min\u001b[0m \u001b[0mself\u001b[0m\u001b[0;34m.\u001b[0m\u001b[0mconvs\u001b[0m\u001b[0;34m:\u001b[0m\u001b[0;34m\u001b[0m\u001b[0;34m\u001b[0m\u001b[0m\n\u001b[0;32m---> 68\u001b[0;31m             \u001b[0mout\u001b[0m \u001b[0;34m=\u001b[0m \u001b[0mconv\u001b[0m\u001b[0;34m(\u001b[0m\u001b[0mx\u001b[0m\u001b[0;34m)\u001b[0m\u001b[0;34m\u001b[0m\u001b[0;34m\u001b[0m\u001b[0m\n\u001b[0m\u001b[1;32m     69\u001b[0m             \u001b[0mout\u001b[0m \u001b[0;34m=\u001b[0m \u001b[0mF\u001b[0m\u001b[0;34m.\u001b[0m\u001b[0mrelu_\u001b[0m\u001b[0;34m(\u001b[0m\u001b[0mout\u001b[0m\u001b[0;34m)\u001b[0m\u001b[0;34m\u001b[0m\u001b[0;34m\u001b[0m\u001b[0m\n\u001b[1;32m     70\u001b[0m             \u001b[0mx\u001b[0m \u001b[0;34m=\u001b[0m \u001b[0mout\u001b[0m\u001b[0;34m\u001b[0m\u001b[0;34m\u001b[0m\u001b[0m\n",
      "\u001b[0;32m~/.local/lib/python3.7/site-packages/torch/nn/modules/module.py\u001b[0m in \u001b[0;36m_call_impl\u001b[0;34m(self, *input, **kwargs)\u001b[0m\n\u001b[1;32m   1128\u001b[0m         if not (self._backward_hooks or self._forward_hooks or self._forward_pre_hooks or _global_backward_hooks\n\u001b[1;32m   1129\u001b[0m                 or _global_forward_hooks or _global_forward_pre_hooks):\n\u001b[0;32m-> 1130\u001b[0;31m             \u001b[0;32mreturn\u001b[0m \u001b[0mforward_call\u001b[0m\u001b[0;34m(\u001b[0m\u001b[0;34m*\u001b[0m\u001b[0minput\u001b[0m\u001b[0;34m,\u001b[0m \u001b[0;34m**\u001b[0m\u001b[0mkwargs\u001b[0m\u001b[0;34m)\u001b[0m\u001b[0;34m\u001b[0m\u001b[0;34m\u001b[0m\u001b[0m\n\u001b[0m\u001b[1;32m   1131\u001b[0m         \u001b[0;31m# Do not call functions when jit is used\u001b[0m\u001b[0;34m\u001b[0m\u001b[0;34m\u001b[0m\u001b[0;34m\u001b[0m\u001b[0m\n\u001b[1;32m   1132\u001b[0m         \u001b[0mfull_backward_hooks\u001b[0m\u001b[0;34m,\u001b[0m \u001b[0mnon_full_backward_hooks\u001b[0m \u001b[0;34m=\u001b[0m \u001b[0;34m[\u001b[0m\u001b[0;34m]\u001b[0m\u001b[0;34m,\u001b[0m \u001b[0;34m[\u001b[0m\u001b[0;34m]\u001b[0m\u001b[0;34m\u001b[0m\u001b[0;34m\u001b[0m\u001b[0m\n",
      "\u001b[0;32m~/Research/ProbabilisticTeacher/detectron2/layers/wrappers.py\u001b[0m in \u001b[0;36mforward\u001b[0;34m(self, x)\u001b[0m\n\u001b[1;32m    105\u001b[0m         \u001b[0;32mif\u001b[0m \u001b[0;32mnot\u001b[0m \u001b[0mtorch\u001b[0m\u001b[0;34m.\u001b[0m\u001b[0mjit\u001b[0m\u001b[0;34m.\u001b[0m\u001b[0mis_scripting\u001b[0m\u001b[0;34m(\u001b[0m\u001b[0;34m)\u001b[0m\u001b[0;34m:\u001b[0m\u001b[0;34m\u001b[0m\u001b[0;34m\u001b[0m\u001b[0m\n\u001b[1;32m    106\u001b[0m             \u001b[0;32mwith\u001b[0m \u001b[0mwarnings\u001b[0m\u001b[0;34m.\u001b[0m\u001b[0mcatch_warnings\u001b[0m\u001b[0;34m(\u001b[0m\u001b[0mrecord\u001b[0m\u001b[0;34m=\u001b[0m\u001b[0;32mTrue\u001b[0m\u001b[0;34m)\u001b[0m\u001b[0;34m:\u001b[0m\u001b[0;34m\u001b[0m\u001b[0;34m\u001b[0m\u001b[0m\n\u001b[0;32m--> 107\u001b[0;31m                 \u001b[0;32mif\u001b[0m \u001b[0mx\u001b[0m\u001b[0;34m.\u001b[0m\u001b[0mnumel\u001b[0m\u001b[0;34m(\u001b[0m\u001b[0;34m)\u001b[0m \u001b[0;34m==\u001b[0m \u001b[0;36m0\u001b[0m \u001b[0;32mand\u001b[0m \u001b[0mself\u001b[0m\u001b[0;34m.\u001b[0m\u001b[0mtraining\u001b[0m\u001b[0;34m:\u001b[0m\u001b[0;34m\u001b[0m\u001b[0;34m\u001b[0m\u001b[0m\n\u001b[0m\u001b[1;32m    108\u001b[0m                     \u001b[0;31m# https://github.com/pytorch/pytorch/issues/12013\u001b[0m\u001b[0;34m\u001b[0m\u001b[0;34m\u001b[0m\u001b[0;34m\u001b[0m\u001b[0m\n\u001b[1;32m    109\u001b[0m                     assert not isinstance(\n",
      "\u001b[0;31mAttributeError\u001b[0m: 'list' object has no attribute 'numel'"
     ]
    }
   ],
   "source": [
    "global_model.backbone(label_data_q)\n"
   ]
  },
  {
   "cell_type": "markdown",
   "id": "d08a6160",
   "metadata": {},
   "source": [
    "* ### TODO!!! take feature to do similarity ###"
   ]
  },
  {
   "cell_type": "code",
   "execution_count": null,
   "id": "819a75f7",
   "metadata": {},
   "outputs": [],
   "source": []
  },
  {
   "cell_type": "code",
   "execution_count": 34,
   "id": "55f387bc",
   "metadata": {},
   "outputs": [],
   "source": [
    "cos=torch.nn.CosineSimilarity(dim=-1)\n"
   ]
  },
  {
   "cell_type": "markdown",
   "id": "72603c42",
   "metadata": {},
   "source": [
    "### loss1"
   ]
  },
  {
   "cell_type": "code",
   "execution_count": 36,
   "id": "a95bb947",
   "metadata": {},
   "outputs": [
    {
     "data": {
      "text/plain": [
       "{'loss_cls': tensor(0.0493, device='cuda:0', grad_fn=<MulBackward0>),\n",
       " 'loss_box_reg': tensor(0.4126, device='cuda:0', grad_fn=<MulBackward0>),\n",
       " 'loss_rpn_cls': tensor(0.0758, device='cuda:0', grad_fn=<MulBackward0>),\n",
       " 'loss_rpn_loc': tensor(0.3837, device='cuda:0', grad_fn=<MulBackward0>)}"
      ]
     },
     "execution_count": 36,
     "metadata": {},
     "output_type": "execute_result"
    }
   ],
   "source": [
    "record_dict_local_curr"
   ]
  },
  {
   "cell_type": "code",
   "execution_count": 35,
   "id": "211c9232",
   "metadata": {},
   "outputs": [],
   "source": [
    "loss_dict = {}\n",
    "for key in record_dict_local_curr.keys():\n",
    "    if key.split('_')[-1] == \"adv\":\n",
    "        loss_dict[key] = record_dict_local_curr[key] * 0.0\n",
    "    elif key[:4] == \"loss\":\n",
    "        loss_dict[key] = record_dict_local_curr[key] * 1.0\n",
    "losses = sum(loss_dict.values())"
   ]
  },
  {
   "cell_type": "code",
   "execution_count": 37,
   "id": "cf5b30e7",
   "metadata": {},
   "outputs": [
    {
     "data": {
      "text/plain": [
       "tensor(0.9214, device='cuda:0', grad_fn=<AddBackward0>)"
      ]
     },
     "execution_count": 37,
     "metadata": {},
     "output_type": "execute_result"
    }
   ],
   "source": [
    "losses"
   ]
  },
  {
   "cell_type": "code",
   "execution_count": 38,
   "id": "92785508",
   "metadata": {},
   "outputs": [],
   "source": [
    "\n",
    "optimizer = torch.optim.SGD(net.parameters(), lr = 0.01, momentum=0.9)\n",
    "optimizer.zero_grad()  \n",
    "losses.backward()\n",
    "optimizer.step()\n"
   ]
  },
  {
   "cell_type": "code",
   "execution_count": null,
   "id": "1fc5186c",
   "metadata": {},
   "outputs": [],
   "source": [
    "\n"
   ]
  },
  {
   "cell_type": "code",
   "execution_count": 39,
   "id": "56b419e2",
   "metadata": {},
   "outputs": [
    {
     "ename": "NameError",
     "evalue": "name 'record_dict_local_prev' is not defined",
     "output_type": "error",
     "traceback": [
      "\u001b[0;31m---------------------------------------------------------------------------\u001b[0m",
      "\u001b[0;31mNameError\u001b[0m                                 Traceback (most recent call last)",
      "\u001b[0;32m<ipython-input-39-1120598e7d4c>\u001b[0m in \u001b[0;36m<module>\u001b[0;34m\u001b[0m\n\u001b[0;32m----> 1\u001b[0;31m \u001b[0mrecord_dict_local_prev\u001b[0m\u001b[0;34m\u001b[0m\u001b[0;34m\u001b[0m\u001b[0m\n\u001b[0m",
      "\u001b[0;31mNameError\u001b[0m: name 'record_dict_local_prev' is not defined"
     ]
    }
   ],
   "source": [
    "record_dict_local_prev"
   ]
  },
  {
   "cell_type": "markdown",
   "id": "e10b5e0f",
   "metadata": {},
   "source": [
    "## appendix"
   ]
  },
  {
   "cell_type": "markdown",
   "id": "d7221ca8",
   "metadata": {},
   "source": [
    "### moon code"
   ]
  },
  {
   "cell_type": "code",
   "execution_count": 40,
   "id": "c4f892e1",
   "metadata": {},
   "outputs": [
    {
     "ename": "NameError",
     "evalue": "name 'pro1' is not defined",
     "output_type": "error",
     "traceback": [
      "\u001b[0;31m---------------------------------------------------------------------------\u001b[0m",
      "\u001b[0;31mNameError\u001b[0m                                 Traceback (most recent call last)",
      "\u001b[0;32m<ipython-input-40-73bdafc4c20e>\u001b[0m in \u001b[0;36m<module>\u001b[0;34m\u001b[0m\n\u001b[0;32m----> 1\u001b[0;31m \u001b[0mposi\u001b[0m \u001b[0;34m=\u001b[0m \u001b[0mcos\u001b[0m\u001b[0;34m(\u001b[0m\u001b[0mpro1\u001b[0m\u001b[0;34m,\u001b[0m \u001b[0mpro2\u001b[0m\u001b[0;34m)\u001b[0m\u001b[0;34m\u001b[0m\u001b[0;34m\u001b[0m\u001b[0m\n\u001b[0m\u001b[1;32m      2\u001b[0m \u001b[0mlogits\u001b[0m \u001b[0;34m=\u001b[0m \u001b[0mposi\u001b[0m\u001b[0;34m.\u001b[0m\u001b[0mreshape\u001b[0m\u001b[0;34m(\u001b[0m\u001b[0;34m-\u001b[0m\u001b[0;36m1\u001b[0m\u001b[0;34m,\u001b[0m\u001b[0;36m1\u001b[0m\u001b[0;34m)\u001b[0m\u001b[0;34m\u001b[0m\u001b[0;34m\u001b[0m\u001b[0m\n\u001b[1;32m      3\u001b[0m \u001b[0;34m\u001b[0m\u001b[0m\n\u001b[1;32m      4\u001b[0m \u001b[0;32mfor\u001b[0m \u001b[0mprevious_net\u001b[0m \u001b[0;32min\u001b[0m \u001b[0mprevious_nets\u001b[0m\u001b[0;34m:\u001b[0m\u001b[0;34m\u001b[0m\u001b[0;34m\u001b[0m\u001b[0m\n\u001b[1;32m      5\u001b[0m     \u001b[0mprevious_net\u001b[0m\u001b[0;34m.\u001b[0m\u001b[0mcuda\u001b[0m\u001b[0;34m(\u001b[0m\u001b[0;34m)\u001b[0m\u001b[0;34m\u001b[0m\u001b[0;34m\u001b[0m\u001b[0m\n",
      "\u001b[0;31mNameError\u001b[0m: name 'pro1' is not defined"
     ]
    }
   ],
   "source": [
    "            posi = cos(pro1, pro2)\n",
    "            logits = posi.reshape(-1,1)\n",
    "\n",
    "            for previous_net in previous_nets:\n",
    "                previous_net.cuda()\n",
    "                _, pro3, _ = previous_net(x)\n",
    "                nega = cos(pro1, pro3)\n",
    "                logits = torch.cat((logits, nega.reshape(-1,1)), dim=1)\n",
    "\n",
    "                previous_net.to('cpu')\n",
    "\n",
    "            logits /= temperature\n",
    "            labels = torch.zeros(x.size(0)).cuda().long()\n",
    "\n",
    "            loss2 = mu * criterion(logits, labels)\n",
    "\n",
    "\n",
    "            loss1 = criterion(out, target)\n",
    "            loss = loss1 + loss2"
   ]
  },
  {
   "cell_type": "markdown",
   "id": "0bc61cd2",
   "metadata": {},
   "source": [
    "### iteration"
   ]
  },
  {
   "cell_type": "code",
   "execution_count": 41,
   "id": "be2132f1",
   "metadata": {},
   "outputs": [
    {
     "ename": "NameError",
     "evalue": "name 'build_train_loader' is not defined",
     "output_type": "error",
     "traceback": [
      "\u001b[0;31m---------------------------------------------------------------------------\u001b[0m",
      "\u001b[0;31mNameError\u001b[0m                                 Traceback (most recent call last)",
      "\u001b[0;32m<ipython-input-41-de3012a7f0ee>\u001b[0m in \u001b[0;36m<module>\u001b[0;34m\u001b[0m\n\u001b[1;32m      1\u001b[0m \u001b[0mdataset_name\u001b[0m \u001b[0;34m=\u001b[0m \u001b[0;34m'VOC2007_citytrain'\u001b[0m\u001b[0;34m\u001b[0m\u001b[0;34m\u001b[0m\u001b[0m\n\u001b[0;32m----> 2\u001b[0;31m \u001b[0mtrain_data_loader\u001b[0m \u001b[0;34m=\u001b[0m \u001b[0mbuild_train_loader\u001b[0m\u001b[0;34m(\u001b[0m\u001b[0mcfg\u001b[0m\u001b[0;34m,\u001b[0m \u001b[0mdataset_name\u001b[0m\u001b[0;34m)\u001b[0m\u001b[0;34m\u001b[0m\u001b[0;34m\u001b[0m\u001b[0m\n\u001b[0m\u001b[1;32m      3\u001b[0m \u001b[0;32mfor\u001b[0m \u001b[0midx\u001b[0m\u001b[0;34m,\u001b[0m \u001b[0minputs\u001b[0m \u001b[0;32min\u001b[0m \u001b[0menumerate\u001b[0m\u001b[0;34m(\u001b[0m\u001b[0mtrain_data_loader\u001b[0m\u001b[0;34m)\u001b[0m\u001b[0;34m:\u001b[0m\u001b[0;34m\u001b[0m\u001b[0;34m\u001b[0m\u001b[0m\n\u001b[1;32m      4\u001b[0m \u001b[0;34m\u001b[0m\u001b[0m\n\u001b[1;32m      5\u001b[0m     \u001b[0mrecord_dict\u001b[0m\u001b[0;34m,\u001b[0m \u001b[0m_\u001b[0m\u001b[0;34m,\u001b[0m \u001b[0m_\u001b[0m\u001b[0;34m,\u001b[0m \u001b[0m_\u001b[0m \u001b[0;34m=\u001b[0m \u001b[0mglobal_model\u001b[0m\u001b[0;34m(\u001b[0m\u001b[0minputs\u001b[0m\u001b[0;34m,\u001b[0m \u001b[0mbranch\u001b[0m\u001b[0;34m=\u001b[0m\u001b[0;34m\"supervised\"\u001b[0m\u001b[0;34m)\u001b[0m\u001b[0;34m\u001b[0m\u001b[0;34m\u001b[0m\u001b[0m\n",
      "\u001b[0;31mNameError\u001b[0m: name 'build_train_loader' is not defined"
     ]
    }
   ],
   "source": [
    "\n",
    "dataset_name = 'VOC2007_citytrain'\n",
    "train_data_loader = build_train_loader(cfg, dataset_name)\n",
    "for idx, inputs in enumerate(train_data_loader):    \n",
    "\n",
    "    record_dict, _, _, _ = global_model(inputs, branch=\"supervised\")"
   ]
  },
  {
   "cell_type": "markdown",
   "id": "64e0ef3f",
   "metadata": {},
   "source": [
    "###  call model and get loss"
   ]
  },
  {
   "cell_type": "code",
   "execution_count": 42,
   "id": "c5adc2d7",
   "metadata": {},
   "outputs": [
    {
     "ename": "NameError",
     "evalue": "name 'self' is not defined",
     "output_type": "error",
     "traceback": [
      "\u001b[0;31m---------------------------------------------------------------------------\u001b[0m",
      "\u001b[0;31mNameError\u001b[0m                                 Traceback (most recent call last)",
      "\u001b[0;32m<ipython-input-42-402081ab07af>\u001b[0m in \u001b[0;36m<module>\u001b[0;34m\u001b[0m\n\u001b[0;32m----> 1\u001b[0;31m \u001b[0mrecord_dict\u001b[0m\u001b[0;34m,\u001b[0m \u001b[0m_\u001b[0m\u001b[0;34m,\u001b[0m \u001b[0m_\u001b[0m\u001b[0;34m,\u001b[0m \u001b[0m_\u001b[0m \u001b[0;34m=\u001b[0m \u001b[0mself\u001b[0m\u001b[0;34m.\u001b[0m\u001b[0mmodel\u001b[0m\u001b[0;34m(\u001b[0m\u001b[0mlabel_data_q\u001b[0m\u001b[0;34m,\u001b[0m \u001b[0mbranch\u001b[0m\u001b[0;34m=\u001b[0m\u001b[0;34m\"supervised\"\u001b[0m\u001b[0;34m)\u001b[0m\u001b[0;34m\u001b[0m\u001b[0;34m\u001b[0m\u001b[0m\n\u001b[0m",
      "\u001b[0;31mNameError\u001b[0m: name 'self' is not defined"
     ]
    }
   ],
   "source": [
    "record_dict, _, _, _ = self.model(label_data_q, branch=\"supervised\")"
   ]
  }
 ],
 "metadata": {
  "kernelspec": {
   "display_name": "detectron2",
   "language": "python",
   "name": "detectron2"
  },
  "language_info": {
   "codemirror_mode": {
    "name": "ipython",
    "version": 3
   },
   "file_extension": ".py",
   "mimetype": "text/x-python",
   "name": "python",
   "nbconvert_exporter": "python",
   "pygments_lexer": "ipython3",
   "version": "3.7.12"
  }
 },
 "nbformat": 4,
 "nbformat_minor": 5
}
