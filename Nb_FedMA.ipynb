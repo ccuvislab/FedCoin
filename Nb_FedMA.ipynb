{
 "cells": [
  {
   "cell_type": "code",
   "execution_count": 1,
   "id": "df9615b5",
   "metadata": {},
   "outputs": [
    {
     "name": "stdout",
     "output_type": "stream",
     "text": [
      "NOTE! Installing ujson may make loading annotations faster.\n"
     ]
    },
    {
     "name": "stderr",
     "output_type": "stream",
     "text": [
      "/home/superorange5/.local/lib/python3.8/site-packages/torchvision/transforms/transforms.py:803: UserWarning: Argument interpolation should be of type InterpolationMode instead of int. Please, use InterpolationMode enum.\n",
      "  warnings.warn(\n"
     ]
    }
   ],
   "source": [
    "from FedMA.frcnn_helper import *\n",
    "from FedMA.helper_cyjui import * \n",
    "\n",
    "from Nb_utils import *\n"
   ]
  },
  {
   "cell_type": "code",
   "execution_count": 2,
   "id": "33dd7127",
   "metadata": {},
   "outputs": [],
   "source": [
    "from pt.engine.trainer import PTrainer\n"
   ]
  },
  {
   "cell_type": "code",
   "execution_count": 3,
   "id": "a9134342",
   "metadata": {},
   "outputs": [],
   "source": [
    "cfg_path = \"configs/FedMA/ck2b_FedMA.yaml\"\n",
    "\n",
    "cfg = setup_all(cfg_path)"
   ]
  },
  {
   "cell_type": "code",
   "execution_count": 4,
   "id": "0afc179d",
   "metadata": {},
   "outputs": [],
   "source": [
    "model_path_list = cfg.MODEL.TEACHER_PATH  \n",
    "teacher_trainer = cfg.MODEL.TEACHER_TRAINER\n"
   ]
  },
  {
   "cell_type": "code",
   "execution_count": 5,
   "id": "04f9b62e",
   "metadata": {},
   "outputs": [],
   "source": [
    "      \n",
    "def load_FRCNNmodel_cpu(cfg, model_path): \n",
    "    print(\"load FRCNN model\")\n",
    "    Trainer =DefaultTrainer\n",
    "    model = Trainer.build_model(cfg)    \n",
    "    DetectionCheckpointer(model).resume_or_load(model_path, resume=False)\n",
    "    return model.model.cpu()\n",
    "def load_TSmodel_cpu(cfg, model_path):\n",
    "    Trainer =PTrainer\n",
    "    model = Trainer.build_model(cfg)\n",
    "    model_teacher = Trainer.build_model(cfg)\n",
    "    ensem_ts_model = EnsembleTSModel(model_teacher, model)    \n",
    "    DetectionCheckpointer(ensem_ts_model).resume_or_load(model_path, resume=False)\n",
    "    return ensem_ts_model.modelStudent.cpu()\n",
    "\n",
    "\n",
    "def get_trainer(trainer_name, cfg, model_path):\n",
    "    if trainer_name == \"pt\":\n",
    "        return load_TSmodel_cpu(cfg, model_path)       \n",
    "    elif trainer_name == \"default\":\n",
    "        return load_FRCNNmodel_cpu(cfg, model_path)       \n",
    "    else:\n",
    "        raise ValueError(\"Trainer Name is not found.\")\n"
   ]
  },
  {
   "cell_type": "code",
   "execution_count": 6,
   "id": "ef73b3cc",
   "metadata": {},
   "outputs": [
    {
     "name": "stdout",
     "output_type": "stream",
     "text": [
      "-------- pretrained model loaded ---------\n",
      "-------- pretrained model loaded ---------\n",
      "-------- pretrained model loaded ---------\n",
      "-------- pretrained model loaded ---------\n"
     ]
    }
   ],
   "source": [
    "model_list=[ get_trainer(teacher_trainer, cfg, model_teacher_path) for model_teacher_path in model_path_list]"
   ]
  },
  {
   "cell_type": "code",
   "execution_count": 7,
   "id": "bb67db2b",
   "metadata": {},
   "outputs": [
    {
     "data": {
      "text/plain": [
       "tensor([[[-0.0070,  0.0113, -0.0005],\n",
       "         [ 0.0097, -0.0141,  0.0025],\n",
       "         [ 0.0073,  0.0043, -0.0015]],\n",
       "\n",
       "        [[ 0.0075, -0.0011, -0.0116],\n",
       "         [ 0.0009, -0.0015,  0.0118],\n",
       "         [ 0.0025, -0.0094, -0.0083]],\n",
       "\n",
       "        [[-0.0097,  0.0133,  0.0023],\n",
       "         [-0.0035,  0.0033, -0.0105],\n",
       "         [-0.0061, -0.0029, -0.0080]],\n",
       "\n",
       "        ...,\n",
       "\n",
       "        [[ 0.0035,  0.0007, -0.0001],\n",
       "         [ 0.0021, -0.0235,  0.0012],\n",
       "         [-0.0081,  0.0078,  0.0029]],\n",
       "\n",
       "        [[ 0.0036,  0.0059, -0.0054],\n",
       "         [ 0.0133, -0.0101, -0.0169],\n",
       "         [-0.0041,  0.0101, -0.0267]],\n",
       "\n",
       "        [[ 0.0061, -0.0048, -0.0020],\n",
       "         [-0.0033, -0.0059,  0.0034],\n",
       "         [-0.0009,  0.0052, -0.0022]]], grad_fn=<SelectBackward>)"
      ]
     },
     "execution_count": 7,
     "metadata": {},
     "output_type": "execute_result"
    }
   ],
   "source": [
    "model_list[1].proposal_generator.rpn_head.conv.weight[0]"
   ]
  },
  {
   "cell_type": "code",
   "execution_count": 8,
   "id": "8dafef81",
   "metadata": {},
   "outputs": [],
   "source": [
    "### single pass \n",
    "assignments_list = []\n",
    "matching_shapes  = []\n",
    "num_workers = len(model_list)\n",
    "nets, model_meta_data, layer_type = init_vgg16_rcnns(num_workers)\n",
    "\n",
    "vgg_weights = pdm_prepare_weights_vggs([m.backbone for m in model_list], 'cpu')\n"
   ]
  },
  {
   "cell_type": "code",
   "execution_count": 9,
   "id": "9c42e137",
   "metadata": {},
   "outputs": [],
   "source": [
    "NUM_VGG_LAYERS = 7\n",
    "VGG_CONV3_IDX = 6"
   ]
  },
  {
   "cell_type": "code",
   "execution_count": 10,
   "id": "b2bee95f",
   "metadata": {},
   "outputs": [
    {
     "name": "stdout",
     "output_type": "stream",
     "text": [
      "!!!!!!! L_next : 259, layer_index: 6\n",
      "===============assignment: 256, weights: (2304,)\n"
     ]
    }
   ],
   "source": [
    "for vgg_layer_idx in range(1, NUM_VGG_LAYERS):\n",
    "        \n",
    "    if vgg_layer_idx < VGG_CONV3_IDX: ### fix layers before conv3.\n",
    "        vgg_weights, assignments_list = BBP_MAP_trivial(vgg_weights,\n",
    "                                                        assignments_list,\n",
    "                                                        vgg_layer_idx)\n",
    "        continue\n",
    "        ### note that we don't retrain for freezed layers. \n",
    "    else:\n",
    "        vgg_weights, assignments_list = BBP_MAP_VGG(vgg_weights,\n",
    "                                                    assignments_list,\n",
    "                                                    matching_shapes,\n",
    "                                                    vgg_layer_idx,\n",
    "                                                    model_meta_data, \n",
    "                                                    layer_type,\n",
    "                                                    device='cpu')\n",
    "        \n",
    "        "
   ]
  },
  {
   "cell_type": "code",
   "execution_count": 11,
   "id": "ff611650",
   "metadata": {},
   "outputs": [],
   "source": [
    "### update model w/ matched VGG.\n",
    "\n",
    "### end of VGG matching.\n",
    "calc_matched_shape = lambda weights:[w.shape for w in weights]\n",
    "\n"
   ]
  },
  {
   "cell_type": "code",
   "execution_count": 12,
   "id": "3cfeca1f",
   "metadata": {},
   "outputs": [],
   "source": [
    "backbone_dim = [calc_matched_shape(vgg_weights[0])[index][0] for index in list(range(0,len(calc_matched_shape(vgg_weights[0])), 2))]"
   ]
  },
  {
   "cell_type": "code",
   "execution_count": 13,
   "id": "701adb69",
   "metadata": {},
   "outputs": [
    {
     "data": {
      "text/plain": [
       "[64, 64, 128, 128, 256, 259, 256, 512, 512, 512, 512, 512, 512]"
      ]
     },
     "execution_count": 13,
     "metadata": {},
     "output_type": "execute_result"
    }
   ],
   "source": [
    "backbone_dim"
   ]
  },
  {
   "cell_type": "code",
   "execution_count": 14,
   "id": "91538b1f",
   "metadata": {},
   "outputs": [],
   "source": [
    "### substitute matched vggs into fasterRCNN. (note that the shape of vgg might differ)\n",
    "matched_vggs    = [matched_vgg16_no_FC(calc_matched_shape(weights)) for weights in vgg_weights]\n",
    "vgg_state_dicts = [reconst_weights_to_state_dict(w, matched) \n",
    "                   for (w, matched) in zip(vgg_weights, matched_vggs)]\n",
    "\n",
    "for vgg, state_dict in zip(matched_vggs, vgg_state_dicts):\n",
    "    vgg.load_state_dict(state_dict)\n",
    "\n"
   ]
  },
  {
   "cell_type": "markdown",
   "id": "7ac5c409",
   "metadata": {},
   "source": [
    "* feed vgg weight to detectron2"
   ]
  },
  {
   "cell_type": "code",
   "execution_count": 15,
   "id": "db6c16e4",
   "metadata": {},
   "outputs": [],
   "source": [
    "conv_index = [0,2,5,7,10,12,14,17,19,21,24,26,28]"
   ]
  },
  {
   "cell_type": "code",
   "execution_count": 16,
   "id": "434a7f33",
   "metadata": {},
   "outputs": [],
   "source": [
    "fedma_vgg_key =[]\n",
    "for conv_i in conv_index:\n",
    "    fedma_vgg_key.append('features.{}.weight'.format(conv_i))\n",
    "    fedma_vgg_key.append('features.{}.bias'.format(conv_i))"
   ]
  },
  {
   "cell_type": "code",
   "execution_count": 17,
   "id": "88624c10",
   "metadata": {},
   "outputs": [],
   "source": [
    "from pt.engine.trainer_sourceonly import PTrainer_sourceonly\n",
    "\n",
    "Trainer= PTrainer_sourceonly\n",
    "initial_backbone = Trainer.build_model(cfg,backbone_dim,False) \n",
    "\n",
    "detectron_vgg_key_map = []\n",
    "\n",
    "for key,value in initial_backbone.backbone.state_dict().items():\n",
    "    detectron_vgg_key_map.append(key)"
   ]
  },
  {
   "cell_type": "code",
   "execution_count": 18,
   "id": "fa0c6ac3",
   "metadata": {},
   "outputs": [],
   "source": [
    "import copy\n",
    "\n",
    "initial_backbone_list = [copy.deepcopy(initial_backbone)for i in range(len(model_list))]"
   ]
  },
  {
   "cell_type": "code",
   "execution_count": 19,
   "id": "9391dd91",
   "metadata": {},
   "outputs": [],
   "source": [
    "from collections import OrderedDict\n",
    "for model_idx, model_initial in enumerate(model_list):\n",
    "    new_fedma_dict = OrderedDict()\n",
    "    #copy backbone part from fedma model\n",
    "    for key_idx,key in enumerate(fedma_vgg_key): \n",
    "        detectron_key = detectron_vgg_key_map[key_idx]\n",
    "        fedma_weight = vgg.state_dict()[key]\n",
    "        new_fedma_dict['backbone.'+detectron_key] = fedma_weight\n",
    "    #copy rpn part from original model\n",
    "    for key,value in model_initial.state_dict().items():  \n",
    "        if 'backbone' not in key:\n",
    "            new_fedma_dict[key] = value\n",
    "        \n",
    "    initial_backbone_list[model_idx].load_state_dict(new_fedma_dict)  "
   ]
  },
  {
   "cell_type": "code",
   "execution_count": 20,
   "id": "833c3bfd",
   "metadata": {},
   "outputs": [
    {
     "data": {
      "text/plain": [
       "tensor([[[-1.4771e-02, -1.5764e-02, -1.4989e-02],\n",
       "         [-1.8325e-02, -2.4207e-02, -2.0874e-02],\n",
       "         [-1.4645e-02, -1.8770e-02, -1.3101e-02]],\n",
       "\n",
       "        [[ 4.4393e-03,  2.0369e-03,  3.4120e-03],\n",
       "         [ 3.8087e-03,  1.1182e-03,  2.1083e-03],\n",
       "         [ 2.9618e-03,  8.5050e-04,  8.4720e-04]],\n",
       "\n",
       "        [[ 5.6242e-03,  3.5747e-03, -2.0005e-03],\n",
       "         [ 2.4485e-02,  1.6768e-02, -1.0118e-03],\n",
       "         [ 1.8295e-02,  1.5545e-02,  5.1186e-03]],\n",
       "\n",
       "        ...,\n",
       "\n",
       "        [[ 5.5129e-03,  2.5303e-03,  8.0368e-04],\n",
       "         [ 4.8418e-03,  4.0211e-03,  3.5152e-03],\n",
       "         [ 7.5664e-03,  5.0465e-03,  8.8466e-03]],\n",
       "\n",
       "        [[-3.7132e-04,  7.4335e-05, -4.9293e-03],\n",
       "         [-4.8853e-03, -3.3454e-03, -5.3191e-03],\n",
       "         [-5.4915e-04, -2.4545e-03, -4.2009e-03]],\n",
       "\n",
       "        [[-6.6348e-03, -6.9641e-03, -3.3403e-03],\n",
       "         [-4.2094e-03, -3.3828e-03, -1.2286e-03],\n",
       "         [-4.6744e-03, -3.5226e-03, -5.9668e-03]]], device='cuda:0')"
      ]
     },
     "execution_count": 20,
     "metadata": {},
     "output_type": "execute_result"
    }
   ],
   "source": [
    "initial_backbone_list[1].backbone.state_dict()['vgg_block4.0.conv1.weight'][0]\n"
   ]
  },
  {
   "cell_type": "code",
   "execution_count": 21,
   "id": "6e43a3f8",
   "metadata": {},
   "outputs": [],
   "source": [
    "from shutil import copyfile\n",
    "\n",
    "source_dataset_list = cfg.FEDSET.DATASET_LIST\n",
    "output_folder = cfg.OUTPUT_DIR\n",
    "copyfile(cfg_path, os.path.join(output_folder, 'cfg.yaml'))\n",
    "\n",
    "for model_idx, model_after_fedma in enumerate(initial_backbone_list):            \n",
    "    model_save_name  = os.path.join(output_folder,'FedMA_{}_{}.pth'.format(source_dataset_list[model_idx],vgg_layer_idx))\n",
    "    torch.save(model_after_fedma.state_dict(), model_save_name)     "
   ]
  },
  {
   "cell_type": "markdown",
   "id": "439f5954",
   "metadata": {},
   "source": [
    "* freeze layer"
   ]
  },
  {
   "cell_type": "code",
   "execution_count": 22,
   "id": "da84a8c1",
   "metadata": {},
   "outputs": [],
   "source": [
    "from detectron2.layers import ShapeSpec\n",
    "from pt.modeling.backbone.vgg import VGG, VGGBlock\n",
    "from pt.modeling.backbone.vgg import build_vgg_backbone_dynamic "
   ]
  },
  {
   "cell_type": "code",
   "execution_count": 23,
   "id": "7e30b794",
   "metadata": {},
   "outputs": [],
   "source": [
    "source_dataset = source_dataset_list[0]\n",
    "vgg_layer_idx=6"
   ]
  },
  {
   "cell_type": "code",
   "execution_count": 24,
   "id": "d091dd68",
   "metadata": {},
   "outputs": [],
   "source": [
    "initial_model_path  = os.path.join(output_folder,'FedMA_{}_{}.pth'.format(source_dataset,vgg_layer_idx))"
   ]
  },
  {
   "cell_type": "code",
   "execution_count": 25,
   "id": "d7f8ec42",
   "metadata": {},
   "outputs": [
    {
     "name": "stdout",
     "output_type": "stream",
     "text": [
      "output subdir=./output/FedMA_ck2b_source-only/VOC2007_kittismall_6\n",
      "current source=VOC2007_kittismall\n"
     ]
    }
   ],
   "source": [
    "cfg.defrost()\n",
    "cfg.MODEL.WEIGHTS = initial_model_path                \n",
    "cfg.OUTPUT_DIR = os.path.join(output_folder,source_dataset+\"_\"+str(vgg_layer_idx))\n",
    "print(\"output subdir={}\".format(cfg.OUTPUT_DIR))\n",
    "cfg.DATASETS.TRAIN_LABEL=source_dataset\n",
    "print(\"current source={}\".format(source_dataset))\n",
    "cfg.BACKBONE_DIM = backbone_dim\n",
    "cfg.freeze()\n",
    "                "
   ]
  },
  {
   "cell_type": "code",
   "execution_count": 26,
   "id": "3503b421",
   "metadata": {},
   "outputs": [
    {
     "data": {
      "text/plain": [
       "True"
      ]
     },
     "execution_count": 26,
     "metadata": {},
     "output_type": "execute_result"
    }
   ],
   "source": [
    "cfg.FEDSET.DYNAMIC \n"
   ]
  },
  {
   "cell_type": "code",
   "execution_count": 27,
   "id": "1334ea33",
   "metadata": {},
   "outputs": [
    {
     "data": {
      "text/plain": [
       "[64, 64, 128, 128, 256, 259, 256, 512, 512, 512, 512, 512, 512]"
      ]
     },
     "execution_count": 27,
     "metadata": {},
     "output_type": "execute_result"
    }
   ],
   "source": [
    "cfg.BACKBONE_DIM\n"
   ]
  },
  {
   "cell_type": "code",
   "execution_count": 30,
   "id": "85fffad5",
   "metadata": {},
   "outputs": [
    {
     "name": "stderr",
     "output_type": "stream",
     "text": [
      "WARNING:detectron2.solver.lr_scheduler:WarmupMultiStepLR is deprecated! Use LRMultipilier with fvcore ParamScheduler instead!\n"
     ]
    }
   ],
   "source": [
    "from pt.engine.trainer_sourceonly import PTrainer_sourceonly\n",
    "\n",
    "Trainer= PTrainer_sourceonly   \n",
    "trainer = Trainer(cfg)\n",
    "trainer.resume_or_load(resume=False)\n"
   ]
  },
  {
   "cell_type": "code",
   "execution_count": 48,
   "id": "a21123bf",
   "metadata": {},
   "outputs": [],
   "source": [
    "freeze_layer_fedma(trainer.model.backbone,vgg_layer_idx)"
   ]
  },
  {
   "cell_type": "code",
   "execution_count": 47,
   "id": "23245b08",
   "metadata": {},
   "outputs": [],
   "source": [
    "def freeze_layer_fedma(VGG,vgg_layer_idx):\n",
    "    conv_layer_list = [(1,0),(1,1),(2,0),(2,1),(3,0),(3,1),(3,2),(4,0),(4,1),(4,2),(5,0),(5,1)]\n",
    "    freeze_tuple = conv_layer_list[vgg_layer_idx-1]\n",
    "    freeze_block, freeze_layer = freeze_tuple\n",
    "    for idx, (stage, _) in enumerate(VGG.stages_and_names, start=1):    \n",
    "        if idx <freeze_block:\n",
    "            for block in stage.children():\n",
    "                    block.freeze()\n",
    "        elif idx == freeze_block:\n",
    "            for block in stage.children():        \n",
    "                for i_idx, layer in enumerate(block.children()):\n",
    "                    if i_idx <=freeze_layer:                \n",
    "                        for p in layer.parameters():\n",
    "                            p.requires_grad=False"
   ]
  },
  {
   "cell_type": "code",
   "execution_count": 9,
   "id": "b435d4f8",
   "metadata": {},
   "outputs": [
    {
     "name": "stdout",
     "output_type": "stream",
     "text": [
      "-------- pretrained model loaded ---------\n"
     ]
    }
   ],
   "source": [
    "input_shape = ShapeSpec(channels=len(cfg.MODEL.PIXEL_MEAN))\n",
    "\n",
    "VGG_backbone = build_vgg_backbone_dynamic(cfg, input_shape, None, True)\n",
    "VGG_backbone.freeze_by_layer((3,1))"
   ]
  },
  {
   "cell_type": "code",
   "execution_count": 41,
   "id": "34ffe7f0",
   "metadata": {},
   "outputs": [
    {
     "name": "stdout",
     "output_type": "stream",
     "text": [
      "-------- pretrained model loaded ---------\n"
     ]
    }
   ],
   "source": [
    "VGG = VGG(stages, out_features=out_features, pretrain=pretrain, load_pretrained=True).freeze(freeze_at)\n"
   ]
  },
  {
   "cell_type": "code",
   "execution_count": 35,
   "id": "352b96f6",
   "metadata": {},
   "outputs": [
    {
     "data": {
      "text/plain": [
       "(3, 1)"
      ]
     },
     "execution_count": 35,
     "metadata": {},
     "output_type": "execute_result"
    }
   ],
   "source": [
    "freeze_tuple"
   ]
  },
  {
   "cell_type": "code",
   "execution_count": 107,
   "id": "7fd9d2d1",
   "metadata": {},
   "outputs": [],
   "source": [
    "freeze_tuple = (3,1)\n",
    "freeze_block, freeze_layer = freeze_tuple"
   ]
  },
  {
   "cell_type": "code",
   "execution_count": 111,
   "id": "2f29b7ec",
   "metadata": {},
   "outputs": [],
   "source": [
    "\n",
    "for idx, (stage, _) in enumerate(VGG.stages_and_names, start=1):    \n",
    "    if idx <freeze_block:\n",
    "        for block in stage.children():\n",
    "                block.freeze()\n",
    "    elif idx == freeze_block:\n",
    "        for block in stage.children():        \n",
    "            for i_idx, layer in enumerate(block.children()):\n",
    "                if i_idx <=freeze_layer:                \n",
    "                    for p in layer.parameters():\n",
    "                        p.requires_grad=False\n",
    "            "
   ]
  },
  {
   "cell_type": "markdown",
   "id": "650ab979",
   "metadata": {},
   "source": [
    "* check freeze"
   ]
  },
  {
   "cell_type": "code",
   "execution_count": 55,
   "id": "a38988d8",
   "metadata": {},
   "outputs": [
    {
     "data": {
      "text/plain": [
       "False"
      ]
     },
     "execution_count": 55,
     "metadata": {},
     "output_type": "execute_result"
    }
   ],
   "source": [
    "trainer.model.backbone.vgg_block3[0].conv2.weight.requires_grad"
   ]
  },
  {
   "cell_type": "code",
   "execution_count": 56,
   "id": "e3e6057b",
   "metadata": {},
   "outputs": [
    {
     "name": "stdout",
     "output_type": "stream",
     "text": [
      "conv block 1\n",
      "layer: 0\n",
      "False\n",
      "False\n",
      "layer: 1\n",
      "False\n",
      "False\n",
      "layer: 2\n",
      "conv block 2\n",
      "layer: 0\n",
      "False\n",
      "False\n",
      "layer: 1\n",
      "False\n",
      "False\n",
      "layer: 2\n",
      "conv block 3\n",
      "layer: 0\n",
      "False\n",
      "False\n",
      "layer: 1\n",
      "False\n",
      "False\n",
      "layer: 2\n",
      "True\n",
      "True\n",
      "layer: 3\n",
      "conv block 4\n",
      "layer: 0\n",
      "True\n",
      "True\n",
      "layer: 1\n",
      "True\n",
      "True\n",
      "layer: 2\n",
      "True\n",
      "True\n",
      "layer: 3\n",
      "conv block 5\n",
      "layer: 0\n",
      "True\n",
      "True\n",
      "layer: 1\n",
      "True\n",
      "True\n",
      "layer: 2\n",
      "True\n",
      "True\n"
     ]
    }
   ],
   "source": [
    "for idx, (stage, _) in enumerate(trainer.model.backbone.stages_and_names, start=1):    \n",
    "    print(\"conv block {}\".format(idx))\n",
    "    for block in stage.children():        \n",
    "        for i_idx, layer in enumerate(block.children()):\n",
    "            print(\"layer: {}\".format(i_idx))\n",
    "            for p in layer.parameters():\n",
    "                print(p.requires_grad)\n",
    "            "
   ]
  },
  {
   "cell_type": "code",
   "execution_count": 18,
   "id": "ddbb93b3",
   "metadata": {},
   "outputs": [
    {
     "data": {
      "text/plain": [
       "2"
      ]
     },
     "execution_count": 18,
     "metadata": {},
     "output_type": "execute_result"
    }
   ],
   "source": [
    "cfg.MODEL.BACKBONE.FREEZE_AT"
   ]
  },
  {
   "cell_type": "code",
   "execution_count": 31,
   "id": "894fbedb",
   "metadata": {},
   "outputs": [],
   "source": [
    "### Freeze the layers\n",
    "for model, vgg in zip(model_list, matched_vggs):\n",
    "    vgg_freeze_to(vgg.features, vgg_layer_idx)\n",
    "    model.features = vgg.features\n",
    "    model.cuda()"
   ]
  },
  {
   "cell_type": "code",
   "execution_count": 34,
   "id": "fda9e352",
   "metadata": {},
   "outputs": [
    {
     "data": {
      "text/plain": [
       "VGG(\n",
       "  (vgg_block1): Sequential(\n",
       "    (0): VGGBlock(\n",
       "      (conv1): Conv2d(3, 64, kernel_size=(3, 3), stride=(1, 1), padding=(1, 1))\n",
       "      (conv2): Conv2d(64, 64, kernel_size=(3, 3), stride=(1, 1), padding=(1, 1))\n",
       "      (maxpool): MaxPool2d(kernel_size=2, stride=2, padding=0, dilation=1, ceil_mode=False)\n",
       "    )\n",
       "  )\n",
       "  (vgg_block2): Sequential(\n",
       "    (0): VGGBlock(\n",
       "      (conv1): Conv2d(64, 128, kernel_size=(3, 3), stride=(1, 1), padding=(1, 1))\n",
       "      (conv2): Conv2d(128, 128, kernel_size=(3, 3), stride=(1, 1), padding=(1, 1))\n",
       "      (maxpool): MaxPool2d(kernel_size=2, stride=2, padding=0, dilation=1, ceil_mode=False)\n",
       "    )\n",
       "  )\n",
       "  (vgg_block3): Sequential(\n",
       "    (0): VGGBlock(\n",
       "      (conv1): Conv2d(128, 256, kernel_size=(3, 3), stride=(1, 1), padding=(1, 1))\n",
       "      (conv2): Conv2d(256, 256, kernel_size=(3, 3), stride=(1, 1), padding=(1, 1))\n",
       "      (conv3): Conv2d(256, 256, kernel_size=(3, 3), stride=(1, 1), padding=(1, 1))\n",
       "      (maxpool): MaxPool2d(kernel_size=2, stride=2, padding=0, dilation=1, ceil_mode=False)\n",
       "    )\n",
       "  )\n",
       "  (vgg_block4): Sequential(\n",
       "    (0): VGGBlock(\n",
       "      (conv1): Conv2d(256, 512, kernel_size=(3, 3), stride=(1, 1), padding=(1, 1))\n",
       "      (conv2): Conv2d(512, 512, kernel_size=(3, 3), stride=(1, 1), padding=(1, 1))\n",
       "      (conv3): Conv2d(512, 512, kernel_size=(3, 3), stride=(1, 1), padding=(1, 1))\n",
       "      (maxpool): MaxPool2d(kernel_size=2, stride=2, padding=0, dilation=1, ceil_mode=False)\n",
       "    )\n",
       "  )\n",
       "  (vgg_block5): Sequential(\n",
       "    (0): VGGBlock(\n",
       "      (conv1): Conv2d(512, 512, kernel_size=(3, 3), stride=(1, 1), padding=(1, 1))\n",
       "      (conv2): Conv2d(512, 512, kernel_size=(3, 3), stride=(1, 1), padding=(1, 1))\n",
       "      (conv3): Conv2d(512, 512, kernel_size=(3, 3), stride=(1, 1), padding=(1, 1))\n",
       "    )\n",
       "  )\n",
       ")"
      ]
     },
     "execution_count": 34,
     "metadata": {},
     "output_type": "execute_result"
    }
   ],
   "source": [
    "model.backbone"
   ]
  }
 ],
 "metadata": {
  "kernelspec": {
   "display_name": "detectron2",
   "language": "python",
   "name": "detectron2"
  },
  "language_info": {
   "codemirror_mode": {
    "name": "ipython",
    "version": 3
   },
   "file_extension": ".py",
   "mimetype": "text/x-python",
   "name": "python",
   "nbconvert_exporter": "python",
   "pygments_lexer": "ipython3",
   "version": "3.8.10"
  }
 },
 "nbformat": 4,
 "nbformat_minor": 5
}
