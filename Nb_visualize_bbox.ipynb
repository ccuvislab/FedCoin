{
 "cells": [
  {
   "cell_type": "code",
   "execution_count": 1,
   "id": "a1012c28",
   "metadata": {},
   "outputs": [
    {
     "name": "stdout",
     "output_type": "stream",
     "text": [
      "NOTE! Installing ujson may make loading annotations faster.\n"
     ]
    },
    {
     "name": "stderr",
     "output_type": "stream",
     "text": [
      "/home/superorange5/.local/lib/python3.8/site-packages/torchvision/transforms/transforms.py:803: UserWarning: Argument interpolation should be of type InterpolationMode instead of int. Please, use InterpolationMode enum.\n",
      "  warnings.warn(\n"
     ]
    }
   ],
   "source": [
    "from Nb_utils import *"
   ]
  },
  {
   "cell_type": "markdown",
   "id": "64c02856",
   "metadata": {},
   "source": [
    "## set test data"
   ]
  },
  {
   "cell_type": "markdown",
   "id": "b631984f",
   "metadata": {},
   "source": [
    "### a. bdd"
   ]
  },
  {
   "cell_type": "code",
   "execution_count": 10,
   "id": "16f2d318",
   "metadata": {},
   "outputs": [],
   "source": [
    "dataset_name = 'VOC2007_bddvalsmall'\n",
    "#dataset_name = 'VOC2007_cityval1'\n",
    "cfg = setup(\"configs/pt/smallc2b.yaml\")\n"
   ]
  },
  {
   "cell_type": "markdown",
   "id": "129a003b",
   "metadata": {},
   "source": [
    "### b. cityscape"
   ]
  },
  {
   "cell_type": "code",
   "execution_count": 2,
   "id": "af12b733",
   "metadata": {},
   "outputs": [],
   "source": [
    "cfg = setup(\"configs/pt/final_k2c.yaml\")\n",
    "dataset_name = 'VOC2007_cityval1'"
   ]
  },
  {
   "cell_type": "code",
   "execution_count": 3,
   "id": "40ba8688",
   "metadata": {},
   "outputs": [],
   "source": [
    "\n",
    "data_annotation = DatasetCatalog.get(dataset_name)\n",
    "\n",
    "box_list=[]\n",
    "for ann in data_annotation[0]['annotations']:\n",
    "    box_list.append(ann['bbox'])\n",
    "bboxes_gt = structures.Boxes(torch.Tensor(box_list)).to(\"cuda\")\n"
   ]
  },
  {
   "cell_type": "code",
   "execution_count": 4,
   "id": "8c95c04f",
   "metadata": {},
   "outputs": [],
   "source": [
    "\n",
    "test_data_loader = build_detection_test_loader(cfg, dataset_name)\n",
    "data_loader_iter = iter(test_data_loader)\n",
    "test_data = data_loader_iter.next()\n",
    "target_metadata = MetadataCatalog.get(dataset_name)"
   ]
  },
  {
   "cell_type": "markdown",
   "id": "d6de2835",
   "metadata": {},
   "source": [
    "## pick GT"
   ]
  },
  {
   "cell_type": "code",
   "execution_count": 5,
   "id": "78890553",
   "metadata": {},
   "outputs": [
    {
     "data": {
      "text/plain": [
       "18"
      ]
     },
     "execution_count": 5,
     "metadata": {},
     "output_type": "execute_result"
    }
   ],
   "source": [
    "len(bboxes_gt)"
   ]
  },
  {
   "cell_type": "code",
   "execution_count": 10,
   "id": "5961d84b",
   "metadata": {},
   "outputs": [],
   "source": [
    "bboxes_to_draw = bboxes_gt[[9,13,14,15],:]"
   ]
  },
  {
   "cell_type": "code",
   "execution_count": 11,
   "id": "aa6bdfa2",
   "metadata": {},
   "outputs": [],
   "source": [
    "drawbb(test_data[0]['file_name'], target_metadata, bboxes_to_draw)"
   ]
  },
  {
   "cell_type": "markdown",
   "id": "42dbda2b",
   "metadata": {},
   "source": [
    "## prediction"
   ]
  },
  {
   "cell_type": "markdown",
   "id": "00dd120b",
   "metadata": {},
   "source": [
    "### a. ck2b"
   ]
  },
  {
   "cell_type": "code",
   "execution_count": 29,
   "id": "b75874af",
   "metadata": {},
   "outputs": [
    {
     "name": "stdout",
     "output_type": "stream",
     "text": [
      "keep_experiments/c2b/cfg.yaml\n",
      "keep_experiments/c2b/model_0011999.pth\n",
      "-------- pretrained model loaded ---------\n",
      "-------- pretrained model loaded ---------\n",
      "keep_experiments/k2b/cfg.yaml\n",
      "keep_experiments/k2b/model_final.pth\n",
      "-------- pretrained model loaded ---------\n",
      "-------- pretrained model loaded ---------\n"
     ]
    }
   ],
   "source": [
    "#--------ck2bdd-------\n",
    "model_c2b = get_model('c2b', 11999)\n",
    "model_k2b = get_model('k2b', 'final')\n",
    "model_list_ck2b=[model_c2b,model_k2b]"
   ]
  },
  {
   "cell_type": "code",
   "execution_count": 33,
   "id": "65765f1e",
   "metadata": {},
   "outputs": [],
   "source": [
    "\n",
    "proposals_roih_c2b = get_proposal_roih(test_data,model_c2b)\n",
    "proposals_roih_k2b = get_proposal_roih(test_data,model_k2b)\n",
    "\n",
    "c2b_prediction = scaling(proposals_roih_c2b)\n",
    "\n",
    "new_boxes = c2b_prediction[[9,20,24,25,26,29,30,36],:]\n",
    "\n"
   ]
  },
  {
   "cell_type": "markdown",
   "id": "94458733",
   "metadata": {},
   "source": [
    "### b.skf2c"
   ]
  },
  {
   "cell_type": "code",
   "execution_count": 5,
   "id": "ffbb1ddb",
   "metadata": {},
   "outputs": [
    {
     "name": "stdout",
     "output_type": "stream",
     "text": [
      "keep_experiments/s2c/cfg.yaml\n",
      "keep_experiments/s2c/model_0015999.pth\n",
      "-------- pretrained model loaded ---------\n",
      "-------- pretrained model loaded ---------\n",
      "keep_experiments/k2c/cfg.yaml\n",
      "keep_experiments/k2c/model_0019999.pth\n",
      "-------- pretrained model loaded ---------\n",
      "-------- pretrained model loaded ---------\n",
      "keep_experiments/f2c/cfg.yaml\n",
      "keep_experiments/f2c/model_final.pth\n",
      "-------- pretrained model loaded ---------\n",
      "-------- pretrained model loaded ---------\n"
     ]
    }
   ],
   "source": [
    "cfg = setup(\"configs/pt/final_k2c.yaml\")\n",
    "dataset_name = 'VOC2007_cityval1'\n",
    "test_data_loader = build_detection_test_loader(cfg, dataset_name)\n",
    "\n",
    "\n",
    "#---------skf2c-------\n",
    "model_s2c = get_model('s2c', 15999)\n",
    "model_k2c = get_model('k2c', 19999)\n",
    "model_f2c = get_model('f2c', 'final') #8class\n",
    "model_list_skf2c=[model_k2c,model_f2c]\n",
    "\n",
    "data_loader_iter = iter(test_data_loader)\n",
    "test_data = data_loader_iter.next()\n",
    "\n",
    "\n",
    "source_list =['sim10k','kitti','foggycityscape']"
   ]
  },
  {
   "cell_type": "code",
   "execution_count": 80,
   "id": "c0225da2",
   "metadata": {},
   "outputs": [],
   "source": [
    "\n",
    "proposals_roih_s2c = get_proposal_roih(test_data,model_s2c)\n",
    "\n"
   ]
  },
  {
   "cell_type": "code",
   "execution_count": 81,
   "id": "7834a76d",
   "metadata": {},
   "outputs": [],
   "source": [
    "s2c_prediction = scaling(proposals_roih_s2c,1.7066)\n"
   ]
  },
  {
   "cell_type": "code",
   "execution_count": 83,
   "id": "44d04a95",
   "metadata": {},
   "outputs": [
    {
     "data": {
      "text/plain": [
       "Boxes(tensor([[ 146.5384,  385.5361,  448.0758,  536.4097],\n",
       "        [1564.1022,  259.5203, 2047.9199,  777.3470],\n",
       "        [1327.8187,  367.4783, 1659.7887,  568.8662],\n",
       "        [1123.5488,  396.7930, 1204.7117,  453.3259],\n",
       "        [ 836.7457,  392.7574,  934.2112,  448.4383],\n",
       "        [   0.0000,  362.3014,   79.4530,  587.5843],\n",
       "        [ 696.5767,  368.8785,  784.0192,  442.3321],\n",
       "        [1329.2263,  380.3962, 1444.2534,  543.8480],\n",
       "        [1087.3143,  396.1635, 1141.2175,  445.6487],\n",
       "        [ 763.1011,  375.6505,  825.3354,  435.2645],\n",
       "        [ 120.4187,  343.5235,  211.7196,  433.3668],\n",
       "        [1048.0598,  367.9155, 1106.7322,  426.8443],\n",
       "        [1586.8326,  369.5982, 1912.3317,  733.5095]], device='cuda:0'))"
      ]
     },
     "execution_count": 83,
     "metadata": {},
     "output_type": "execute_result"
    }
   ],
   "source": [
    "s2c_prediction[0:13]"
   ]
  },
  {
   "cell_type": "code",
   "execution_count": 132,
   "id": "11f859c4",
   "metadata": {},
   "outputs": [],
   "source": [
    "def drawbb_byindex(image_filename, target_metadata, bboxes_to_draw, box_index,score):\n",
    "    im = cv2.imread(image_filename, cv2.IMREAD_COLOR)[:, :, ::-1]\n",
    "    v = Visualizer(\n",
    "            im[:, :, ::-1], \n",
    "            metadata=target_metadata, \n",
    "            scale=1,\n",
    "            )\n",
    "    for index_slice in box_index:\n",
    "        \n",
    "\n",
    "        for idx, box in enumerate(bboxes_to_draw[index_slice]):\n",
    "            box = box.to('cpu')\n",
    "            #print(index_slice[idx])\n",
    "            idx_exact = index_slice[idx]\n",
    "        #for idx_np in index_slice:\n",
    "        #    idx = int(idx_np)\n",
    "        #    box = bboxes_to_draw[idx].to('cpu')\n",
    "            #print(box)\n",
    "            v.draw_box(box,edge_color='r')\n",
    "            v.draw_text(\"{}: score={:.2f}\".format(idx_exact,score[idx_exact]), tuple(box[:2].numpy()),color='r')\n",
    "\n",
    "    v = v.get_output()\n",
    "    img =  v.get_image()[:, :, ::-1]\n",
    "    cv2.imwrite('showbb.jpg', img)"
   ]
  },
  {
   "cell_type": "code",
   "execution_count": 133,
   "id": "69b33f5f",
   "metadata": {},
   "outputs": [],
   "source": [
    "box_index = [np.arange(11,13),np.arange(15,25),[27,29,30,31,33,42]]\n"
   ]
  },
  {
   "cell_type": "code",
   "execution_count": 136,
   "id": "aca46405",
   "metadata": {},
   "outputs": [],
   "source": [
    "box_index = [[14,26,28,32]]#np.arange(34,41),np.arange(43,49),]\n"
   ]
  },
  {
   "cell_type": "code",
   "execution_count": 137,
   "id": "6f297be4",
   "metadata": {},
   "outputs": [],
   "source": [
    "scores = proposals_roih_s2c[0].get('scores')\n",
    "drawbb_byindex(test_data[0]['file_name'], target_metadata, s2c_prediction, box_index,scores)"
   ]
  },
  {
   "cell_type": "code",
   "execution_count": 29,
   "id": "16593b51",
   "metadata": {},
   "outputs": [
    {
     "data": {
      "text/plain": [
       "tensor([0.9896, 0.9788, 0.9741, 0.9658, 0.9640, 0.9374, 0.9211, 0.9134, 0.9056,\n",
       "        0.8670, 0.8262, 0.7647, 0.5630, 0.1342, 0.1194, 0.1167, 0.0587, 0.0585,\n",
       "        0.0536, 0.0536, 0.0522, 0.0448, 0.0442, 0.0348, 0.0340, 0.0339, 0.0326,\n",
       "        0.0323, 0.0317, 0.0304, 0.0275, 0.0264, 0.0256, 0.0249, 0.0196, 0.0190,\n",
       "        0.0184, 0.0180, 0.0177, 0.0174, 0.0167, 0.0156, 0.0147, 0.0129, 0.0123,\n",
       "        0.0106, 0.0096, 0.0094, 0.0084, 0.0052], device='cuda:0')"
      ]
     },
     "execution_count": 29,
     "metadata": {},
     "output_type": "execute_result"
    }
   ],
   "source": [
    "\n",
    "proposals_roih_s2c[0].get('scores')"
   ]
  }
 ],
 "metadata": {
  "kernelspec": {
   "display_name": "detectron2",
   "language": "python",
   "name": "detectron2"
  },
  "language_info": {
   "codemirror_mode": {
    "name": "ipython",
    "version": 3
   },
   "file_extension": ".py",
   "mimetype": "text/x-python",
   "name": "python",
   "nbconvert_exporter": "python",
   "pygments_lexer": "ipython3",
   "version": "3.8.10"
  }
 },
 "nbformat": 4,
 "nbformat_minor": 5
}
